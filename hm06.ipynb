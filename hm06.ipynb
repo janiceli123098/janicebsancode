{
 "cells": [
  {
   "cell_type": "markdown",
   "metadata": {},
   "source": [
    "## Homework 06 - Instructions\n",
    "\n",
    "\n",
    "### This is a 30 point assignment graded from answers to questions and automated tests that should be run at the bottom. Be sure to clearly label all of your answers and commit final tests at the end.  \n",
    "\n"
   ]
  },
  {
   "cell_type": "markdown",
   "metadata": {},
   "source": [
    "### For the exercise below you should import the Iris Dataset as a dataframe called iris.df.\n",
    "\n",
    "(1). Create a variable called sepal_width.mean that contains the mean of the sepal_width column of iris.df.\n"
   ]
  },
  {
   "cell_type": "code",
   "execution_count": 1,
   "metadata": {},
   "outputs": [
    {
     "data": {
      "text/html": [
       "3.054"
      ],
      "text/latex": [
       "3.054"
      ],
      "text/markdown": [
       "3.054"
      ],
      "text/plain": [
       "[1] 3.054"
      ]
     },
     "metadata": {},
     "output_type": "display_data"
    }
   ],
   "source": [
    "# import the Iris dataset as dataframe called iris.df\n",
    "iris.df = read.csv(file = 'iris.csv', header = TRUE, sep = ',')\n",
    "\n",
    "# create a variable sepal_width.mean\n",
    "sepal_width.mean <- mean(iris.df[, 'sepal_width'])\n",
    "\n",
    "sepal_width.mean"
   ]
  },
  {
   "cell_type": "markdown",
   "metadata": {},
   "source": [
    "(2). Create a new column of iris.df called `sepalArea` that is equal to the sepal_width times sepal_length.\n"
   ]
  },
  {
   "cell_type": "code",
   "execution_count": 2,
   "metadata": {},
   "outputs": [
    {
     "data": {
      "text/html": [
       "<table>\n",
       "<caption>A data.frame: 6 x 6</caption>\n",
       "<thead>\n",
       "\t<tr><th>sepal_length</th><th>sepal_width</th><th>petal_length</th><th>petal_width</th><th>species</th><th>sepalArea</th></tr>\n",
       "\t<tr><th>&lt;dbl&gt;</th><th>&lt;dbl&gt;</th><th>&lt;dbl&gt;</th><th>&lt;dbl&gt;</th><th>&lt;fct&gt;</th><th>&lt;dbl&gt;</th></tr>\n",
       "</thead>\n",
       "<tbody>\n",
       "\t<tr><td>5.1</td><td>3.5</td><td>1.4</td><td>0.2</td><td>setosa</td><td>17.85</td></tr>\n",
       "\t<tr><td>4.9</td><td>3.0</td><td>1.4</td><td>0.2</td><td>setosa</td><td>14.70</td></tr>\n",
       "\t<tr><td>4.7</td><td>3.2</td><td>1.3</td><td>0.2</td><td>setosa</td><td>15.04</td></tr>\n",
       "\t<tr><td>4.6</td><td>3.1</td><td>1.5</td><td>0.2</td><td>setosa</td><td>14.26</td></tr>\n",
       "\t<tr><td>5.0</td><td>3.6</td><td>1.4</td><td>0.2</td><td>setosa</td><td>18.00</td></tr>\n",
       "\t<tr><td>5.4</td><td>3.9</td><td>1.7</td><td>0.4</td><td>setosa</td><td>21.06</td></tr>\n",
       "</tbody>\n",
       "</table>\n"
      ],
      "text/latex": [
       "A data.frame: 6 x 6\n",
       "\\begin{tabular}{r|llllll}\n",
       " sepal\\_length & sepal\\_width & petal\\_length & petal\\_width & species & sepalArea\\\\\n",
       " <dbl> & <dbl> & <dbl> & <dbl> & <fct> & <dbl>\\\\\n",
       "\\hline\n",
       "\t 5.1 & 3.5 & 1.4 & 0.2 & setosa & 17.85\\\\\n",
       "\t 4.9 & 3.0 & 1.4 & 0.2 & setosa & 14.70\\\\\n",
       "\t 4.7 & 3.2 & 1.3 & 0.2 & setosa & 15.04\\\\\n",
       "\t 4.6 & 3.1 & 1.5 & 0.2 & setosa & 14.26\\\\\n",
       "\t 5.0 & 3.6 & 1.4 & 0.2 & setosa & 18.00\\\\\n",
       "\t 5.4 & 3.9 & 1.7 & 0.4 & setosa & 21.06\\\\\n",
       "\\end{tabular}\n"
      ],
      "text/markdown": [
       "\n",
       "A data.frame: 6 x 6\n",
       "\n",
       "| sepal_length &lt;dbl&gt; | sepal_width &lt;dbl&gt; | petal_length &lt;dbl&gt; | petal_width &lt;dbl&gt; | species &lt;fct&gt; | sepalArea &lt;dbl&gt; |\n",
       "|---|---|---|---|---|---|\n",
       "| 5.1 | 3.5 | 1.4 | 0.2 | setosa | 17.85 |\n",
       "| 4.9 | 3.0 | 1.4 | 0.2 | setosa | 14.70 |\n",
       "| 4.7 | 3.2 | 1.3 | 0.2 | setosa | 15.04 |\n",
       "| 4.6 | 3.1 | 1.5 | 0.2 | setosa | 14.26 |\n",
       "| 5.0 | 3.6 | 1.4 | 0.2 | setosa | 18.00 |\n",
       "| 5.4 | 3.9 | 1.7 | 0.4 | setosa | 21.06 |\n",
       "\n"
      ],
      "text/plain": [
       "  sepal_length sepal_width petal_length petal_width species sepalArea\n",
       "1 5.1          3.5         1.4          0.2         setosa  17.85    \n",
       "2 4.9          3.0         1.4          0.2         setosa  14.70    \n",
       "3 4.7          3.2         1.3          0.2         setosa  15.04    \n",
       "4 4.6          3.1         1.5          0.2         setosa  14.26    \n",
       "5 5.0          3.6         1.4          0.2         setosa  18.00    \n",
       "6 5.4          3.9         1.7          0.4         setosa  21.06    "
      ]
     },
     "metadata": {},
     "output_type": "display_data"
    }
   ],
   "source": [
    "iris.df['sepalArea'] <- iris.df$sepal_width * iris.df$sepal_length\n",
    "\n",
    "head(iris.df)"
   ]
  },
  {
   "cell_type": "markdown",
   "metadata": {},
   "source": [
    "(3). Create a new dataframe `iristrain.df` that includes the first 75 rows of the iris dataframe.\n"
   ]
  },
  {
   "cell_type": "code",
   "execution_count": 3,
   "metadata": {},
   "outputs": [
    {
     "data": {
      "text/html": [
       "<ol class=\"list-inline\">\n",
       "\t<li>75</li>\n",
       "\t<li>6</li>\n",
       "</ol>\n"
      ],
      "text/latex": [
       "\\begin{enumerate*}\n",
       "\\item 75\n",
       "\\item 6\n",
       "\\end{enumerate*}\n"
      ],
      "text/markdown": [
       "1. 75\n",
       "2. 6\n",
       "\n",
       "\n"
      ],
      "text/plain": [
       "[1] 75  6"
      ]
     },
     "metadata": {},
     "output_type": "display_data"
    }
   ],
   "source": [
    "iristrain.df <- iris.df[1:75, ]\n",
    "\n",
    "dim(iristrain.df)"
   ]
  },
  {
   "cell_type": "markdown",
   "metadata": {},
   "source": [
    "(4). Create a new dataframe iristest.df that includes the last 75 rows of the iris dataframe.\n"
   ]
  },
  {
   "cell_type": "code",
   "execution_count": 4,
   "metadata": {},
   "outputs": [
    {
     "data": {
      "text/html": [
       "<ol class=\"list-inline\">\n",
       "\t<li>75</li>\n",
       "\t<li>6</li>\n",
       "</ol>\n"
      ],
      "text/latex": [
       "\\begin{enumerate*}\n",
       "\\item 75\n",
       "\\item 6\n",
       "\\end{enumerate*}\n"
      ],
      "text/markdown": [
       "1. 75\n",
       "2. 6\n",
       "\n",
       "\n"
      ],
      "text/plain": [
       "[1] 75  6"
      ]
     },
     "metadata": {},
     "output_type": "display_data"
    }
   ],
   "source": [
    "iristest.df <- iris.df[76:nrow(iris.df), ]\n",
    "\n",
    "dim(iristest.df)"
   ]
  },
  {
   "cell_type": "markdown",
   "metadata": {},
   "source": [
    "(5). Create a new vector `sepal_length` from the `sepal_length` column of the iris dataframe.\n"
   ]
  },
  {
   "cell_type": "code",
   "execution_count": 5,
   "metadata": {},
   "outputs": [
    {
     "data": {
      "text/html": [
       "<ol class=\"list-inline\">\n",
       "\t<li>5.1</li>\n",
       "\t<li>4.9</li>\n",
       "\t<li>4.7</li>\n",
       "\t<li>4.6</li>\n",
       "\t<li>5</li>\n",
       "\t<li>5.4</li>\n",
       "\t<li>4.6</li>\n",
       "\t<li>5</li>\n",
       "\t<li>4.4</li>\n",
       "\t<li>4.9</li>\n",
       "</ol>\n"
      ],
      "text/latex": [
       "\\begin{enumerate*}\n",
       "\\item 5.1\n",
       "\\item 4.9\n",
       "\\item 4.7\n",
       "\\item 4.6\n",
       "\\item 5\n",
       "\\item 5.4\n",
       "\\item 4.6\n",
       "\\item 5\n",
       "\\item 4.4\n",
       "\\item 4.9\n",
       "\\end{enumerate*}\n"
      ],
      "text/markdown": [
       "1. 5.1\n",
       "2. 4.9\n",
       "3. 4.7\n",
       "4. 4.6\n",
       "5. 5\n",
       "6. 5.4\n",
       "7. 4.6\n",
       "8. 5\n",
       "9. 4.4\n",
       "10. 4.9\n",
       "\n",
       "\n"
      ],
      "text/plain": [
       " [1] 5.1 4.9 4.7 4.6 5.0 5.4 4.6 5.0 4.4 4.9"
      ]
     },
     "metadata": {},
     "output_type": "display_data"
    }
   ],
   "source": [
    "sepal_length <- iris.df$sepal_length\n",
    "\n",
    "sepal_length[1:10]"
   ]
  },
  {
   "cell_type": "markdown",
   "metadata": {},
   "source": [
    "(6). While we can submit our answer to Kaggle to see how it will perform, we can also utilize our test data to assess accuracy. Accuracy is the percentage of predictions made correctly-i.e., the percentage of people in which our prediction regarding their survival. a. Create columns in the training dataset PredEveryoneDies and PredGender with the same predictions from above. b. Create variables AccEveryoneDies and AccGender using a calculation of accuracy of predictions for the training dataset.\n"
   ]
  },
  {
   "cell_type": "code",
   "execution_count": 6,
   "metadata": {},
   "outputs": [
    {
     "data": {
      "text/html": [
       "61.6161616161616"
      ],
      "text/latex": [
       "61.6161616161616"
      ],
      "text/markdown": [
       "61.6161616161616"
      ],
      "text/plain": [
       "[1] 61.61616"
      ]
     },
     "metadata": {},
     "output_type": "display_data"
    },
    {
     "data": {
      "text/html": [
       "78.675645342312"
      ],
      "text/latex": [
       "78.675645342312"
      ],
      "text/markdown": [
       "78.675645342312"
      ],
      "text/plain": [
       "[1] 78.67565"
      ]
     },
     "metadata": {},
     "output_type": "display_data"
    }
   ],
   "source": [
    "# create dataframe in R from test.csv and train.csv\n",
    "train = read.csv(file = 'train.csv', header = TRUE, sep = ',')\n",
    "test = read.csv(file = 'test.csv', header = TRUE, sep = ',')\n",
    "\n",
    "# explore these two dataframe\n",
    "#dim(train)\n",
    "#names(train)\n",
    "\n",
    "#dim(test)\n",
    "#names(test)\n",
    "\n",
    "# a. Create columns in the training dataset PredEveryoneDies and PredGender with the same predictions from above\n",
    "train['PredEveryoneDies'] <- 0\n",
    "\n",
    "train['PredGender'] <- 0\n",
    "train[train$Sex == 'female', 'PredGender'] <- 1\n",
    "\n",
    "# b. Create variables AccEveryoneDies and AccGender using a calculation of accuracy of predictions for the training dataset.\n",
    "Calculate_Accuracy <- function(prediction, actual) {\n",
    "    accuracy <- 0\n",
    "    correct_predictions <- 0\n",
    "    num_predictions <- length(prediction)\n",
    "    \n",
    "    for (i in 1:num_predictions) {\n",
    "        if (prediction[i] == actual[i]) {\n",
    "            correct_predictions <- correct_predictions + 1\n",
    "        }\n",
    "    }\n",
    "    accuracy <- correct_predictions/num_predictions*100   \n",
    "}\n",
    "\n",
    "AccEveryoneDies <- Calculate_Accuracy(train$PredEveryoneDies, train$Survived)\n",
    "AccGender <- Calculate_Accuracy(train$PredGender, train$Survived)\n",
    "\n",
    "AccEveryoneDies\n",
    "AccGender\n"
   ]
  },
  {
   "cell_type": "markdown",
   "metadata": {},
   "source": [
    "(7). Notice how we are utilizing the code to select out the passengerID and the Survived column and generating a submission file over and over? This is in need of a function. Create a generate_submission function that accepts a DataFrame, a target column, and a filename and writes out the submission file with just the passengerID and the Survived columns, where the survived column is equal to the target column. It should then return a DataFrame with the passengerID and the Survived columns.\n",
    "\n",
    "Executeing the following should return a dataframe with just passengerID and the Survived column:\n",
    "```\n",
    "submitdie &lt;- generate_submission(train, \"PredEveryoneDies\", \"submiteveryonedies.csv\")\n",
    "```\n"
   ]
  },
  {
   "cell_type": "code",
   "execution_count": 7,
   "metadata": {},
   "outputs": [],
   "source": [
    "generate_submission <- function(df, target_col, filename) {\n",
    "    submission <- df[, c('PassengerId', 'Survived')]\n",
    "    submission$Survived <- target_col\n",
    "    write.csv(submission, file = filename)\n",
    "}\n",
    "\n",
    "submitdie <- generate_submission(train, \"PredEveryoneDies\", \"submiteveryonedies.csv\")\n"
   ]
  },
  {
   "cell_type": "markdown",
   "metadata": {},
   "source": [
    "(8). In according to the women and children first protocol we hypothesize that our model could be improved by including whether the individual was a child in addition to gender. After coding survival based on gender, update your recommendation to prediction in the training dataset survival based on age. `train['PredGenderAge13']` should be the prediction incorporating both Gender and whether `Age` &lt; 13. train['PredGenderAge18'] should be the prediction incorporating both Gender and whether `Age` &lt; 18. `AccGenderAge13` should be the accuracy of the age prediction, based on `train['PredGenderAge13']`.  `AccGenderAge18` should be the accuracy of the age prediction, based on `train['PredGenderAge18']`.\n"
   ]
  },
  {
   "cell_type": "code",
   "execution_count": 8,
   "metadata": {},
   "outputs": [
    {
     "data": {
      "text/html": [
       "79.2368125701459"
      ],
      "text/latex": [
       "79.2368125701459"
      ],
      "text/markdown": [
       "79.2368125701459"
      ],
      "text/plain": [
       "[1] 79.23681"
      ]
     },
     "metadata": {},
     "output_type": "display_data"
    },
    {
     "data": {
      "text/html": [
       "77.3288439955107"
      ],
      "text/latex": [
       "77.3288439955107"
      ],
      "text/markdown": [
       "77.3288439955107"
      ],
      "text/plain": [
       "[1] 77.32884"
      ]
     },
     "metadata": {},
     "output_type": "display_data"
    }
   ],
   "source": [
    "# deal with missing values in Age, since \"missing values are not allowed in subscripted assignments of data frames\"\n",
    "average_age <- mean(train$Age, na.rm = TRUE)\n",
    "train[is.na(train$Age), 'Age'] <- average_age\n",
    "\n",
    "average_age_test <- mean(test$Age, na.rm = TRUE)\n",
    "test[is.na(test$Age), 'Age'] <- average_age\n",
    "\n",
    "# Make new predictions\n",
    "train['PredGenderAge13'] <- 0\n",
    "train[(train$Sex == 'female')|(train$Age <13), 'PredGenderAge13'] <- 1\n",
    "\n",
    "train['PredGenderAge18'] <- 0\n",
    "train[(train$Sex == 'female')|(train$Age <18), 'PredGenderAge18'] <- 1\n",
    "\n",
    "# Calculate Accuracy\n",
    "AccGenderAge13 <- Calculate_Accuracy(train$PredGenderAge13, train$Survived)\n",
    "AccGenderAge18 <- Calculate_Accuracy(train$PredGenderAge18, train$Survived)\n",
    "\n",
    "AccGenderAge13\n",
    "AccGenderAge18\n"
   ]
  },
  {
   "cell_type": "markdown",
   "metadata": {},
   "source": [
    "(9). You should find that the AccGenderAge13 is better than AccGenderAge18. Create a new column child in the test and train DataFrames that is 1 if Age &lt; 13 and 0 otherwise. This is a feature.\n"
   ]
  },
  {
   "cell_type": "code",
   "execution_count": 9,
   "metadata": {},
   "outputs": [],
   "source": [
    "#head(train)\n",
    "\n",
    "train['child'] <- 0\n",
    "train[train$Age < 13, 'child'] <- 1\n",
    "\n",
    "test['child'] <- 0\n",
    "test[test$Age < 13, 'child'] <- 1\n",
    "\n",
    "#head(train[train$child==1,])"
   ]
  },
  {
   "cell_type": "markdown",
   "metadata": {},
   "source": [
    "### Run Tests\n",
    "This is a bit different but it will run each of the associated tests for this assignment. "
   ]
  },
  {
   "cell_type": "code",
   "execution_count": 10,
   "metadata": {},
   "outputs": [],
   "source": [
    "install.packages('testthat', lib='/home/nbuser/R')"
   ]
  },
  {
   "cell_type": "code",
   "execution_count": 11,
   "metadata": {},
   "outputs": [
    {
     "name": "stdout",
     "output_type": "stream",
     "text": [
      "1..20\n",
      "# Context Homework 5\n",
      "ok 1 Q1 Create a variable called sepal_width.mean\n",
      "ok 2 Q2Create a new column of iris.df called sepalArea\n",
      "ok 3 Q3 Create a new dataframe iristrain.df that includes the first 75 rows\n",
      "ok 4 Q3 Create a new dataframe iristrain.df that includes the first 75 rows\n",
      "ok 5 Q4 Create a new dataframe iristest.df that includes the last 75 rows of the iris dataframe.\n",
      "ok 6 Q4 Create a new dataframe iristest.df that includes the last 75 rows of the iris dataframe.\n",
      "ok 7 (5). Create a new vector sepal_length from the sepal_length column of the iris dataframe.\n",
      "ok 8 (5). Create a new vector sepal_length from the sepal_length column of the iris dataframe.\n",
      "ok 9 (5). Create a new vector sepal_length from the sepal_length column of the iris dataframe.\n",
      "ok 10 (5). Create a new vector sepal_length from the sepal_length column of the iris dataframe.\n",
      "ok 11 (6). AccEveryoneDies and AccGender\n",
      "ok 12 (6). AccEveryoneDies and AccGender\n",
      "ok 13 (6). AccEveryoneDies and AccGender\n",
      "ok 14 (6). AccEveryoneDies and AccGender\n",
      "ok 15 (8). PredGenderAge13 and PredGenderAge18\n",
      "ok 16 (8). PredGenderAge13 and PredGenderAge18\n",
      "ok 17 (8). PredGenderAge13 and PredGenderAge18\n",
      "ok 18 (8). PredGenderAge13 and PredGenderAge18\n",
      "ok 19 (9). Child\n",
      "ok 20 (9). Child\n"
     ]
    }
   ],
   "source": [
    "sink(\"test.md\")\n",
    "library('testthat')\n",
    "test_file(\"test.intro-r-exercises.R\", reporter = \"tap\")\n",
    "sink()"
   ]
  },
  {
   "cell_type": "code",
   "execution_count": null,
   "metadata": {},
   "outputs": [],
   "source": []
  }
 ],
 "metadata": {
  "kernelspec": {
   "display_name": "R",
   "language": "R",
   "name": "r"
  },
  "language_info": {
   "codemirror_mode": "r",
   "file_extension": ".r",
   "mimetype": "text/x-r-source",
   "name": "R",
   "pygments_lexer": "r",
   "version": "3.5.3"
  },
  "nteract": {
   "version": "0.12.3"
  }
 },
 "nbformat": 4,
 "nbformat_minor": 4
}
