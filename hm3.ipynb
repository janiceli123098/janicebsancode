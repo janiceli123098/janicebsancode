{
  "nbformat": 4,
  "nbformat_minor": 0,
  "metadata": {
    "anaconda-cloud": {},
    "celltoolbar": "Slideshow",
    "colab": {
      "name": "Copy of Copy of hm3_starter.ipynb",
      "version": "0.3.2",
      "provenance": [],
      "collapsed_sections": [],
      "include_colab_link": true
    },
    "kernelspec": {
      "display_name": "Python 3",
      "language": "python",
      "name": "python3"
    },
    "language_info": {
      "codemirror_mode": {
        "name": "ipython",
        "version": 3
      },
      "file_extension": ".py",
      "mimetype": "text/x-python",
      "name": "python",
      "nbconvert_exporter": "python",
      "pygments_lexer": "ipython3",
      "version": "3.7.4"
    }
  },
  "cells": [
    {
      "cell_type": "markdown",
      "metadata": {
        "id": "view-in-github",
        "colab_type": "text"
      },
      "source": [
        "<a href=\"https://colab.research.google.com/github/janiceli123098/janicebsancode/blob/janiceli123098-MGMT6560_IntroML/hm3.ipynb\" target=\"_parent\"><img src=\"https://colab.research.google.com/assets/colab-badge.svg\" alt=\"Open In Colab\"/></a>"
      ]
    },
    {
      "cell_type": "markdown",
      "metadata": {
        "colab_type": "text",
        "id": "hSXsCkclbiAj"
      },
      "source": [
        "## Introduction to Python Exercises\n",
        "\n",
        "![](https://github.com/rpi-techfundamentals/hm-01-starter/blob/master/notsaved.png?raw=1)\n",
        "\n",
        "**WARNING!!!  If you see this icon on the top of your COLAB sesssion, your work is not saved automatically.**\n",
        "\n",
        "**Save your working file in Google drive so that all changes will be saved as you work. MAKE SURE that your final version is saved to GitHub.** \n",
        "\n",
        "Before you turn this in, make sure everything runs as expected. First, restart the kernel (in the menu, select Kernel → Restart) and then run all cells (in the menubar, select Cell → Run All).  You can speak with others regarding the assignment but all work must be your own. \n",
        "\n",
        "\n",
        "### This is a 30 point assignment.\n",
        "\n",
        "**You may find it useful to go through the notebooks from the course materials when doing these exercises.**\n",
        "\n",
        "**If you attempt to fake passing the tests you will receive a 0 on the assignment and it will be considered an ethical violation.**\n"
      ]
    },
    {
      "cell_type": "code",
      "metadata": {
        "colab_type": "code",
        "id": "8TCzCgMRbiAk",
        "outputId": "96403413-0a60-47ae-c0ff-8be1fb0b4d01",
        "colab": {
          "base_uri": "https://localhost:8080/",
          "height": 1000
        }
      },
      "source": [
        "files = \"https://github.com/rpi-techfundamentals/hm-03-starter/raw/master/files.zip\"\n",
        "!pip install git+https://github.com/data-8/Gofer-Grader && wget $files && unzip -o files.zip"
      ],
      "execution_count": 1,
      "outputs": [
        {
          "output_type": "stream",
          "text": [
            "Collecting git+https://github.com/data-8/Gofer-Grader\n",
            "  Cloning https://github.com/data-8/Gofer-Grader to /tmp/pip-req-build-a7vshxk_\n",
            "  Running command git clone -q https://github.com/data-8/Gofer-Grader /tmp/pip-req-build-a7vshxk_\n",
            "Requirement already satisfied: jinja2 in /usr/local/lib/python3.6/dist-packages (from gofer-grader==1.0.9) (2.10.1)\n",
            "Requirement already satisfied: pygments in /usr/local/lib/python3.6/dist-packages (from gofer-grader==1.0.9) (2.1.3)\n",
            "Requirement already satisfied: tornado in /usr/local/lib/python3.6/dist-packages (from gofer-grader==1.0.9) (4.5.3)\n",
            "Requirement already satisfied: MarkupSafe>=0.23 in /usr/local/lib/python3.6/dist-packages (from jinja2->gofer-grader==1.0.9) (1.1.1)\n",
            "Building wheels for collected packages: gofer-grader\n",
            "  Building wheel for gofer-grader (setup.py) ... \u001b[?25l\u001b[?25hdone\n",
            "  Created wheel for gofer-grader: filename=gofer_grader-1.0.9-cp36-none-any.whl size=10115 sha256=db6b7f67eba986ded8a4c538dfe475fea55e450b6061cfc8baeb8dec6f95200f\n",
            "  Stored in directory: /tmp/pip-ephem-wheel-cache-zu_85fop/wheels/9e/62/24/8563ae039051d6ba979557d1766bfebbda5dd08f8572e3e35d\n",
            "Successfully built gofer-grader\n",
            "Installing collected packages: gofer-grader\n",
            "Successfully installed gofer-grader-1.0.9\n",
            "--2019-09-14 19:34:11--  https://github.com/rpi-techfundamentals/hm-03-starter/raw/master/files.zip\n",
            "Resolving github.com (github.com)... 192.30.253.113\n",
            "Connecting to github.com (github.com)|192.30.253.113|:443... connected.\n",
            "HTTP request sent, awaiting response... 302 Found\n",
            "Location: https://raw.githubusercontent.com/rpi-techfundamentals/hm-03-starter/master/files.zip [following]\n",
            "--2019-09-14 19:34:11--  https://raw.githubusercontent.com/rpi-techfundamentals/hm-03-starter/master/files.zip\n",
            "Resolving raw.githubusercontent.com (raw.githubusercontent.com)... 151.101.0.133, 151.101.64.133, 151.101.128.133, ...\n",
            "Connecting to raw.githubusercontent.com (raw.githubusercontent.com)|151.101.0.133|:443... connected.\n",
            "HTTP request sent, awaiting response... 200 OK\n",
            "Length: 45955 (45K) [application/zip]\n",
            "Saving to: ‘files.zip’\n",
            "\n",
            "files.zip           100%[===================>]  44.88K  --.-KB/s    in 0.02s   \n",
            "\n",
            "2019-09-14 19:34:11 (1.78 MB/s) - ‘files.zip’ saved [45955/45955]\n",
            "\n",
            "Archive:  files.zip\n",
            "   creating: input/\n",
            "  inflating: input/test.csv          \n",
            "  inflating: input/iris.csv          \n",
            "  inflating: input/train.csv         \n",
            "   creating: tests/\n",
            "  inflating: tests/q01.py            \n",
            "  inflating: tests/q11.py            \n",
            "  inflating: tests/q05.py            \n",
            " extracting: tests/__init__.py       \n",
            "  inflating: tests/q14.py            \n",
            "  inflating: tests/q10.py            \n",
            "  inflating: tests/qname.py          \n",
            "  inflating: tests/q07.py            \n",
            "  inflating: tests/q03.py            \n",
            "  inflating: tests/q13.py            \n",
            "  inflating: tests/q02.py            \n",
            "  inflating: tests/q12.py            \n",
            "  inflating: tests/q06.py            \n",
            "   creating: tests/.ipynb_checkpoints/\n",
            "  inflating: tests/.ipynb_checkpoints/q09-checkpoint.py  \n",
            "  inflating: tests/.ipynb_checkpoints/q13-checkpoint.py  \n",
            "  inflating: tests/.ipynb_checkpoints/q14-checkpoint.py  \n",
            "  inflating: tests/.ipynb_checkpoints/q03-checkpoint.py  \n",
            "  inflating: tests/.ipynb_checkpoints/q07-checkpoint.py  \n",
            "  inflating: tests/.ipynb_checkpoints/q10-checkpoint.py  \n",
            "  inflating: tests/.ipynb_checkpoints/q11-checkpoint.py  \n",
            "  inflating: tests/.ipynb_checkpoints/q06-checkpoint.py  \n",
            "  inflating: tests/.ipynb_checkpoints/q02-checkpoint.py  \n",
            "  inflating: tests/.ipynb_checkpoints/q05-checkpoint.py  \n",
            "  inflating: tests/.ipynb_checkpoints/q12-checkpoint.py  \n",
            "  inflating: tests/.ipynb_checkpoints/q01-checkpoint.py  \n",
            "  inflating: tests/.ipynb_checkpoints/q08-checkpoint.py  \n",
            "  inflating: tests/q09.py            \n",
            "  inflating: tests/q08.py            \n",
            "  inflating: hm.ok                   \n"
          ],
          "name": "stdout"
        }
      ]
    },
    {
      "cell_type": "code",
      "metadata": {
        "colab_type": "code",
        "id": "moTUYN9VbiAm",
        "colab": {}
      },
      "source": [
        "#This loads the grading software.  If you later get a \"failed to import OK.py\" you need to rerun.\n",
        "from client.api.notebook import Notebook\n",
        "ok = Notebook('hm.ok')\n",
        "_ = ok.auth(inline=True)"
      ],
      "execution_count": 0,
      "outputs": []
    },
    {
      "cell_type": "markdown",
      "metadata": {
        "colab_type": "text",
        "id": "mAC6v0SQbiAp"
      },
      "source": [
        "## Exercises - For and If and Functions\n",
        "\n",
        "(1). Create a function `list_step` that accepts 3 variables (`start`, `stop`, `step`).  The function returns a list starting at `start`, ending at `stop`, and with a step of `step`.\n",
        "\n",
        "For example:\n",
        "\n",
        "`list_step(5, 19, 2)`\n",
        "\n",
        "Should return: \n",
        "\n",
        "`[5, 7, 9, 11, 13, 15, 17]`\n"
      ]
    },
    {
      "cell_type": "code",
      "metadata": {
        "colab_type": "code",
        "id": "QM-6RxE3biAp",
        "colab": {}
      },
      "source": [
        "#Answer question 1 here.\n",
        "\n",
        "def list_step(start, stop, step):\n",
        "  current_list = [start]\n",
        "  if step >= 0:\n",
        "    while (current_list[-1] < stop):\n",
        "         current_list += [current_list[-1]+step]\n",
        "    if current_list[-1] >= stop:\n",
        "         current_list.pop()\n",
        "  else:\n",
        "    while (current_list[-1] > stop):\n",
        "      current_list += [current_list[-1]+step]\n",
        "    if current_list[-1] <= stop:\n",
        "         current_list.pop()    \n",
        "  return current_list\n",
        "\n",
        "#list_step(5,19,2)"
      ],
      "execution_count": 0,
      "outputs": []
    },
    {
      "cell_type": "code",
      "metadata": {
        "colab_type": "code",
        "id": "ZyGkeyIabiAs",
        "outputId": "ba805906-46ee-4039-e47f-590f74e80646",
        "colab": {
          "base_uri": "https://localhost:8080/",
          "height": 46
        }
      },
      "source": [
        "list1= list_step(5, 19, 2) #include this code\n",
        "_ = ok.grade('q01')"
      ],
      "execution_count": 4,
      "outputs": [
        {
          "output_type": "display_data",
          "data": {
            "text/html": [
              "\n",
              "    \n",
              "    \n",
              "        <p>All tests passed!</p>\n",
              "    \n",
              "    "
            ],
            "text/plain": [
              "<gofer.ok.OKTestsResult at 0x7f4e0c877780>"
            ]
          },
          "metadata": {
            "tags": []
          }
        }
      ]
    },
    {
      "cell_type": "markdown",
      "metadata": {
        "colab_type": "text",
        "id": "2MlJHdBIbiAv"
      },
      "source": [
        "(2). Create a function `list_divisible` that accepts 3 variables (`start`, `stop`, `divisible`).  Use a for loop to create a list of all numbers from `start` to `stop` which are divisible by `divisible`.\n",
        "\n",
        "For example:\n",
        "\n",
        "`list_divisible(1, 50, 7)`\n",
        "\n",
        "Should return: \n",
        "\n",
        "`[7, 14, 21, 28, 35, 42, 49]`"
      ]
    },
    {
      "cell_type": "code",
      "metadata": {
        "colab_type": "code",
        "id": "5_MwSa5lbiAv",
        "colab": {}
      },
      "source": [
        "#Answer question 2 here.\n",
        "def list_divisible(start, stop, divisible):\n",
        "  current_list = []\n",
        "  delta = start\n",
        "  for i in range(stop-start):\n",
        "    delta = start + i\n",
        "    if delta%divisible == 0:\n",
        "      current_list.append(delta)\n",
        "  return current_list\n",
        "\n",
        "#list_divisible(1,50,7)\n"
      ],
      "execution_count": 0,
      "outputs": []
    },
    {
      "cell_type": "code",
      "metadata": {
        "colab_type": "code",
        "id": "8jttsZuUbiAy",
        "outputId": "e1930a34-2998-4453-9535-5be70aace05a",
        "colab": {
          "base_uri": "https://localhost:8080/",
          "height": 46
        }
      },
      "source": [
        "list2= list_divisible(1, 50, 7) #include this code\n",
        "_ = ok.grade('q02')"
      ],
      "execution_count": 6,
      "outputs": [
        {
          "output_type": "display_data",
          "data": {
            "text/html": [
              "\n",
              "    \n",
              "    \n",
              "        <p>All tests passed!</p>\n",
              "    \n",
              "    "
            ],
            "text/plain": [
              "<gofer.ok.OKTestsResult at 0x7f4e0db50b00>"
            ]
          },
          "metadata": {
            "tags": []
          }
        }
      ]
    },
    {
      "cell_type": "markdown",
      "metadata": {
        "colab_type": "text",
        "id": "Uq-Ez73bbiA0"
      },
      "source": [
        "(3). Create a function `list_divisible_not` that accepts 4 variables (`start`, `stop`, `divisible`, `not_divisible`).  Use a for loop to create a list of all numbers from `start` to `stop` which are divisible by `divisible` but not divisible by `not_divisible`.\n",
        "\n",
        "For example:\n",
        "\n",
        "`list_divisible_not(1, 100, 4, 3)`\n",
        "\n",
        "Should return: \n",
        "\n",
        "`[4, 8, 16, 20, 28, 32, 40, 44, 52, 56, 64, 68, 76, 80, 88, 92]`\n"
      ]
    },
    {
      "cell_type": "code",
      "metadata": {
        "colab_type": "code",
        "id": "v3gDy1YrbiA1",
        "colab": {}
      },
      "source": [
        "#Answer question 3 here.\n",
        "\n",
        "def list_divisible_not(start, stop, divisible, not_divisible):\n",
        "  current_list = []\n",
        "  delta = start\n",
        "  for i in range(stop-start):\n",
        "    delta = start + i\n",
        "    if delta%divisible == 0:\n",
        "      if delta%not_divisible != 0:\n",
        "        current_list.append(delta)\n",
        "  return current_list\n",
        "\n",
        "#list_divisible_not(1, 100, 4, 3)\n"
      ],
      "execution_count": 0,
      "outputs": []
    },
    {
      "cell_type": "code",
      "metadata": {
        "colab_type": "code",
        "id": "8SbK9vjgbiA3",
        "outputId": "c0de3258-06e8-4cfd-8041-2fd8f976936a",
        "colab": {
          "base_uri": "https://localhost:8080/",
          "height": 46
        }
      },
      "source": [
        "list3= list_divisible_not(1, 100, 4, 3) #include this code\n",
        "_ = ok.grade('q03')"
      ],
      "execution_count": 8,
      "outputs": [
        {
          "output_type": "display_data",
          "data": {
            "text/html": [
              "\n",
              "    \n",
              "    \n",
              "        <p>All tests passed!</p>\n",
              "    \n",
              "    "
            ],
            "text/plain": [
              "<gofer.ok.OKTestsResult at 0x7f4e0c877f60>"
            ]
          },
          "metadata": {
            "tags": []
          }
        }
      ]
    },
    {
      "cell_type": "markdown",
      "metadata": {
        "colab_type": "text",
        "id": "NxikYaAUbiA5"
      },
      "source": [
        "## Exercises-Titanic\n",
        "\n",
        "The following exercises will use the titanic data from Kaggle.  I've included it in the input folder just like Kaggle. "
      ]
    },
    {
      "cell_type": "code",
      "metadata": {
        "colab_type": "code",
        "id": "eXeFgxJ5biA7",
        "colab": {}
      },
      "source": [
        "import numpy as np \n",
        "import pandas as pd \n",
        "\n",
        "# Input data files are available in the \"../input/\" directory.\n",
        "# Let's input them into a Pandas DataFrame\n",
        "train = pd.read_csv(\"./input/train.csv\")\n",
        "test  = pd.read_csv(\"./input/test.csv\")"
      ],
      "execution_count": 0,
      "outputs": []
    },
    {
      "cell_type": "markdown",
      "metadata": {
        "colab_type": "text",
        "id": "djs2sUOWbiA-"
      },
      "source": [
        "(4) What is the key difference between the train and the test?"
      ]
    },
    {
      "cell_type": "code",
      "metadata": {
        "colab_type": "code",
        "id": "9kqVcP-7biA-",
        "colab": {}
      },
      "source": [
        "man4=\"\"\"\n",
        "\n",
        "The key difference between the 'train' and 'test' is that there is one specfic column labled as \"Survived\" to mark whether or not the passenger was survived from \n",
        "Titanic in the 'train' DataFrame.\n",
        "\n",
        "'train' dataframe\n",
        "[890 rows x 12 columns]\n",
        "Index(['PassengerId', 'Survived', 'Pclass', 'Name', 'Sex', 'Age', 'SibSp',\n",
        "       'Parch', 'Ticket', 'Fare', 'Cabin', 'Embarked'],\n",
        "      dtype='object')\n",
        "\n",
        "'test' dataframe\n",
        "[417 rows x 11 columns]\n",
        "Index(['PassengerId', 'Pclass', 'Name', 'Sex', 'Age', 'SibSp', 'Parch',\n",
        "       'Ticket', 'Fare', 'Cabin', 'Embarked'],\n",
        "      dtype='object')\n",
        "\n",
        "\"\"\""
      ],
      "execution_count": 0,
      "outputs": []
    },
    {
      "cell_type": "markdown",
      "metadata": {
        "colab_type": "text",
        "id": "anLIL5fTbiBA"
      },
      "source": [
        "(5) Create a new column `family` that is equal to the `SibSp` * `Parch` for both the train and the test dataframes.  DON'T use a `for` loop. \n"
      ]
    },
    {
      "cell_type": "code",
      "metadata": {
        "colab_type": "code",
        "id": "Q7j4F61AbiBB",
        "colab": {}
      },
      "source": [
        "#Answer \n",
        "\n",
        "train['family'] = train['SibSp'] * train['Parch']\n",
        "#print(train['family'].sum())\n",
        "#print(train.head())\n",
        "\n",
        "test['family'] = test['SibSp'] * test['Parch']\n",
        "#test.head()\n",
        "\n"
      ],
      "execution_count": 0,
      "outputs": []
    },
    {
      "cell_type": "code",
      "metadata": {
        "colab_type": "code",
        "id": "lrzDBkWUbiBD",
        "outputId": "4f231a48-72b5-4b28-f7c7-94da96f629b8",
        "colab": {
          "base_uri": "https://localhost:8080/",
          "height": 46
        }
      },
      "source": [
        "_ = ok.grade('q05')"
      ],
      "execution_count": 12,
      "outputs": [
        {
          "output_type": "display_data",
          "data": {
            "text/html": [
              "\n",
              "    \n",
              "    \n",
              "        <p>All tests passed!</p>\n",
              "    \n",
              "    "
            ],
            "text/plain": [
              "<gofer.ok.OKTestsResult at 0x7f4e0c877d30>"
            ]
          },
          "metadata": {
            "tags": []
          }
        }
      ]
    },
    {
      "cell_type": "markdown",
      "metadata": {
        "colab_type": "text",
        "id": "g5jaVVvybiBF"
      },
      "source": [
        "\n",
        "(6). While we can submit our answer to Kaggle to see how it will perform, we can also utilize our training data to assess accuracy. Accuracy is the percentage of predictions made correctly-i.e., the percentage of people in which our prediction regarding their survival is correct. In other words, accuracy = (#correct predictions)/(Total # of predictions). Create a function `generate_accuracy` which accepts two Pandas series objects (`predicted`, `actual`) and returns the accuracy.  \n",
        "\n",
        "For example, when a and b are two different Pandas Series: \n",
        "`generate_accuracy(predicted, actual)`\n",
        "\n",
        "For the sample data below, the data should retun `50.0` (i.e., a percentage).\n",
        "\n"
      ]
    },
    {
      "cell_type": "code",
      "metadata": {
        "colab_type": "code",
        "id": "FvXAq_TjbiBG",
        "outputId": "cd11af59-88b4-4bd9-f393-df8ec1ea45b5",
        "colab": {
          "base_uri": "https://localhost:8080/",
          "height": 173
        }
      },
      "source": [
        "#Example DATA\n",
        "import pandas as pd\n",
        "ex = [{'predicted': 1, 'actual': 1},\n",
        "         {'predicted': 1,  'actual': 0},\n",
        "         {'predicted': 0,  'actual': 1},\n",
        "         {'predicted': 0,  'actual': 0} ]\n",
        "\n",
        "df = pd.DataFrame(ex)\n",
        "df"
      ],
      "execution_count": 13,
      "outputs": [
        {
          "output_type": "execute_result",
          "data": {
            "text/html": [
              "<div>\n",
              "<style scoped>\n",
              "    .dataframe tbody tr th:only-of-type {\n",
              "        vertical-align: middle;\n",
              "    }\n",
              "\n",
              "    .dataframe tbody tr th {\n",
              "        vertical-align: top;\n",
              "    }\n",
              "\n",
              "    .dataframe thead th {\n",
              "        text-align: right;\n",
              "    }\n",
              "</style>\n",
              "<table border=\"1\" class=\"dataframe\">\n",
              "  <thead>\n",
              "    <tr style=\"text-align: right;\">\n",
              "      <th></th>\n",
              "      <th>actual</th>\n",
              "      <th>predicted</th>\n",
              "    </tr>\n",
              "  </thead>\n",
              "  <tbody>\n",
              "    <tr>\n",
              "      <th>0</th>\n",
              "      <td>1</td>\n",
              "      <td>1</td>\n",
              "    </tr>\n",
              "    <tr>\n",
              "      <th>1</th>\n",
              "      <td>0</td>\n",
              "      <td>1</td>\n",
              "    </tr>\n",
              "    <tr>\n",
              "      <th>2</th>\n",
              "      <td>1</td>\n",
              "      <td>0</td>\n",
              "    </tr>\n",
              "    <tr>\n",
              "      <th>3</th>\n",
              "      <td>0</td>\n",
              "      <td>0</td>\n",
              "    </tr>\n",
              "  </tbody>\n",
              "</table>\n",
              "</div>"
            ],
            "text/plain": [
              "   actual  predicted\n",
              "0       1          1\n",
              "1       0          1\n",
              "2       1          0\n",
              "3       0          0"
            ]
          },
          "metadata": {
            "tags": []
          },
          "execution_count": 13
        }
      ]
    },
    {
      "cell_type": "code",
      "metadata": {
        "colab_type": "code",
        "id": "ou4dAw_UbiBH",
        "colab": {}
      },
      "source": [
        "#Answer\n",
        "def generate_accuracy(predicted, actual):\n",
        "  accuracy = 0\n",
        "  correct_predictions = 0\n",
        "  total_predictions = actual.shape[0]\n",
        "  for i in range(total_predictions):\n",
        "    if actual[i] == predicted[i]:\n",
        "      correct_predictions += 1\n",
        "  accuracy = correct_predictions/total_predictions * 100\n",
        "  \n",
        "  return accuracy"
      ],
      "execution_count": 0,
      "outputs": []
    },
    {
      "cell_type": "code",
      "metadata": {
        "colab_type": "code",
        "id": "cD_ea-GcbiBK",
        "outputId": "735c1419-3bf0-43a8-e9fb-9baa8db9b269",
        "colab": {
          "base_uri": "https://localhost:8080/",
          "height": 46
        }
      },
      "source": [
        "_ = ok.grade('q06')"
      ],
      "execution_count": 15,
      "outputs": [
        {
          "output_type": "display_data",
          "data": {
            "text/html": [
              "\n",
              "    \n",
              "    \n",
              "        <p>All tests passed!</p>\n",
              "    \n",
              "    "
            ],
            "text/plain": [
              "<gofer.ok.OKTestsResult at 0x7f4e0b0b3d68>"
            ]
          },
          "metadata": {
            "tags": []
          }
        }
      ]
    },
    {
      "cell_type": "markdown",
      "metadata": {
        "colab_type": "text",
        "id": "L0GTY_EcbiBN"
      },
      "source": [
        "(7) Create a column `PredEveryoneDies` which is equal to 0 for everyone in both training and testing datasets. "
      ]
    },
    {
      "cell_type": "code",
      "metadata": {
        "colab_type": "code",
        "id": "dlWR17fEbiBN",
        "colab": {}
      },
      "source": [
        "#Answer\n",
        "\n",
        "train['PredEveryoneDies'] = 0\n",
        "test['PredEveryoneDies'] = 0\n",
        "\n"
      ],
      "execution_count": 0,
      "outputs": []
    },
    {
      "cell_type": "code",
      "metadata": {
        "colab_type": "code",
        "id": "v1FV-k1hbiBP",
        "outputId": "b0633c2f-4ad2-437d-83a1-7165fd5f50ba",
        "colab": {
          "base_uri": "https://localhost:8080/",
          "height": 46
        }
      },
      "source": [
        "_ = ok.grade('q07')"
      ],
      "execution_count": 17,
      "outputs": [
        {
          "output_type": "display_data",
          "data": {
            "text/html": [
              "\n",
              "    \n",
              "    \n",
              "        <p>All tests passed!</p>\n",
              "    \n",
              "    "
            ],
            "text/plain": [
              "<gofer.ok.OKTestsResult at 0x7f4e0c3a74e0>"
            ]
          },
          "metadata": {
            "tags": []
          }
        }
      ]
    },
    {
      "cell_type": "markdown",
      "metadata": {
        "colab_type": "text",
        "id": "51O0IxAbbiBS"
      },
      "source": [
        "(8) Find the accuracy of `PredEveryoneDies` in predicting `Survived` using the function `generate_accuracy` that you created earlier and assign it to the `AccEveryoneDies` variable. "
      ]
    },
    {
      "cell_type": "code",
      "metadata": {
        "colab_type": "code",
        "id": "sZ_S3mZ0biBS",
        "colab": {}
      },
      "source": [
        "# Answer\n",
        "\n",
        "AccEveryoneDies = generate_accuracy(train.PredEveryoneDies, train.Survived)\n"
      ],
      "execution_count": 0,
      "outputs": []
    },
    {
      "cell_type": "code",
      "metadata": {
        "colab_type": "code",
        "id": "rs1ZieiWbiBZ",
        "outputId": "82837700-6140-456e-c212-bd9068122839",
        "colab": {
          "base_uri": "https://localhost:8080/",
          "height": 46
        }
      },
      "source": [
        "_ = ok.grade('q08')"
      ],
      "execution_count": 19,
      "outputs": [
        {
          "output_type": "display_data",
          "data": {
            "text/html": [
              "\n",
              "    \n",
              "    \n",
              "        <p>All tests passed!</p>\n",
              "    \n",
              "    "
            ],
            "text/plain": [
              "<gofer.ok.OKTestsResult at 0x7f4e0b0b3c50>"
            ]
          },
          "metadata": {
            "tags": []
          }
        }
      ]
    },
    {
      "cell_type": "markdown",
      "metadata": {
        "colab_type": "text",
        "id": "2VJPRTrCbiBb"
      },
      "source": [
        "(9) In both the training and testing datasets, create the column `PredGender` that is 1 -- if the person is a woman and 0 -- if the person is a man. (This is based on the \"women and children first\" law of shipwrecks).  Then set `AccGender` to the accuracy of the `PredGender` in the Train dataset.\n"
      ]
    },
    {
      "cell_type": "code",
      "metadata": {
        "colab_type": "code",
        "id": "YQPXJQ8bbiBb",
        "colab": {}
      },
      "source": [
        "#Answer\n",
        "\n",
        "test.loc[test['Sex'] == 'female', 'PredGender'] = 1\n",
        "test.loc[test['Sex'] == 'male', 'PredGender'] = 0\n",
        "\n",
        "train.loc[train['Sex'] == 'female', 'PredGender'] = 1\n",
        "train.loc[train['Sex'] == 'male', 'PredGender'] = 0\n",
        "\n",
        "AccGender = generate_accuracy(train.PredGender, train.Survived)\n"
      ],
      "execution_count": 0,
      "outputs": []
    },
    {
      "cell_type": "code",
      "metadata": {
        "colab_type": "code",
        "id": "LYA7qFwEbiBe",
        "outputId": "7ff34b9e-229e-4494-e519-39a879353b92",
        "colab": {
          "base_uri": "https://localhost:8080/",
          "height": 46
        }
      },
      "source": [
        "_ = ok.grade('q09')"
      ],
      "execution_count": 21,
      "outputs": [
        {
          "output_type": "display_data",
          "data": {
            "text/html": [
              "\n",
              "    \n",
              "    \n",
              "        <p>All tests passed!</p>\n",
              "    \n",
              "    "
            ],
            "text/plain": [
              "<gofer.ok.OKTestsResult at 0x7f4e0b0c0908>"
            ]
          },
          "metadata": {
            "tags": []
          }
        }
      ]
    },
    {
      "cell_type": "markdown",
      "metadata": {
        "colab_type": "text",
        "id": "DJ_IGh2ubiBh"
      },
      "source": [
        "(10). Create a `generate_submission` function that accepts a DataFrame, a target column, and a filename (`df`, `target`, `filename`) and writes out the submission file with just the `passengerID` and the `Survived` columns, where the `Survived` column is equal to the target column.\n",
        "\n",
        "For example:\n",
        "`submitdie = generate_submission(train, 'PredEveryoneDies', 'submiteveryonedies.csv')`\n",
        "\n",
        "Should return a dataframe with just `passengerID` and the `Survived` column.  \n",
        "\n",
        "**Make sure your submission file prediction for Survived is an integer and not at float. If you submit a float it may not work.**\n"
      ]
    },
    {
      "cell_type": "code",
      "metadata": {
        "colab_type": "code",
        "id": "F4vp7SOwbiBi",
        "colab": {}
      },
      "source": [
        "#Answer\n",
        "\n",
        "def generate_submission(df, target, filename):\n",
        "  submission = df.loc[:,[\"PassengerId\", \"Survived\"]]\n",
        "  submission.Survived = df.loc[:, df.columns == target]\n",
        "  submission.Survived = submission.Survived.astype(int)\n",
        "  submission.to_csv(filename, index=False)\n",
        "  #print(submission)\n",
        "  \n",
        "  return submission\n",
        "\n"
      ],
      "execution_count": 0,
      "outputs": []
    },
    {
      "cell_type": "code",
      "metadata": {
        "colab_type": "code",
        "id": "fLk5RV8JbiBk",
        "outputId": "81179c6c-5f68-4ec9-fbf3-657443b0db6c",
        "colab": {
          "base_uri": "https://localhost:8080/",
          "height": 46
        }
      },
      "source": [
        "_ = ok.grade('q10')"
      ],
      "execution_count": 23,
      "outputs": [
        {
          "output_type": "display_data",
          "data": {
            "text/html": [
              "\n",
              "    \n",
              "    \n",
              "        <p>All tests passed!</p>\n",
              "    \n",
              "    "
            ],
            "text/plain": [
              "<gofer.ok.OKTestsResult at 0x7f4e0c3a7588>"
            ]
          },
          "metadata": {
            "tags": []
          }
        }
      ]
    },
    {
      "cell_type": "markdown",
      "metadata": {
        "colab_type": "text",
        "id": "hJd-vOiZbiBm"
      },
      "source": [
        "(11).  To use the [women and children first](https://en.wikipedia.org/wiki/Women_and_children_first) protocol, we will need to use the age field. This has some missing values. We are going to replace null values in the train and test set with the median value for each.  \n",
        "\n",
        "\n",
        "For this particular question: \n",
        "\n",
        "Set the variables `AgeMissingTrain` and `AgeMissingTest` using the count of the number of missing values in the train and test sets, respectively.\n",
        "\n",
        "Set the variable `AgeMedianTrain` and `AgeMedianTest` using the median age of the train and test sets, respectively. "
      ]
    },
    {
      "cell_type": "code",
      "metadata": {
        "colab_type": "code",
        "id": "aFyw0ZeSbiBm",
        "colab": {}
      },
      "source": [
        "#Answer\n",
        "\n",
        "AgeMissingTrain = train.Age.isnull().sum()\n",
        "\n",
        "AgeMissingTest = test.Age.isnull().sum()\n",
        "\n",
        "AgeMedianTrain = train.Age.median()\n",
        "\n",
        "AgeMedianTest = test.Age.median()\n"
      ],
      "execution_count": 0,
      "outputs": []
    },
    {
      "cell_type": "code",
      "metadata": {
        "colab_type": "code",
        "id": "bR36brWDbiBo",
        "outputId": "94b74cac-da51-40a9-a8aa-78c1f0fe29dc",
        "colab": {
          "base_uri": "https://localhost:8080/",
          "height": 46
        }
      },
      "source": [
        "_ = ok.grade('q11')"
      ],
      "execution_count": 25,
      "outputs": [
        {
          "output_type": "display_data",
          "data": {
            "text/html": [
              "\n",
              "    \n",
              "    \n",
              "        <p>All tests passed!</p>\n",
              "    \n",
              "    "
            ],
            "text/plain": [
              "<gofer.ok.OKTestsResult at 0x7f4e0c3a7278>"
            ]
          },
          "metadata": {
            "tags": []
          }
        }
      ]
    },
    {
      "cell_type": "markdown",
      "metadata": {
        "colab_type": "text",
        "id": "o8F0wyrEbiBq"
      },
      "source": [
        "(12) For rows in which the age value is  missing, set the age to the appropriate median value for the train/test set. "
      ]
    },
    {
      "cell_type": "code",
      "metadata": {
        "colab_type": "code",
        "id": "319cK3sNbiBq",
        "colab": {}
      },
      "source": [
        "#Answer\n",
        "\n",
        "train.loc[train.Age.isnull(), 'Age'] = AgeMedianTrain\n",
        "test.loc[test.Age.isnull(), 'Age'] = AgeMedianTest\n"
      ],
      "execution_count": 0,
      "outputs": []
    },
    {
      "cell_type": "code",
      "metadata": {
        "colab_type": "code",
        "id": "VIWAu76wbiBw",
        "outputId": "a45fc12c-e6a8-4c78-9c06-3105ecdfa3ef",
        "colab": {
          "base_uri": "https://localhost:8080/",
          "height": 46
        }
      },
      "source": [
        "_ = ok.grade('q12')"
      ],
      "execution_count": 27,
      "outputs": [
        {
          "output_type": "display_data",
          "data": {
            "text/html": [
              "\n",
              "    \n",
              "    \n",
              "        <p>All tests passed!</p>\n",
              "    \n",
              "    "
            ],
            "text/plain": [
              "<gofer.ok.OKTestsResult at 0x7f4e0ad49780>"
            ]
          },
          "metadata": {
            "tags": []
          }
        }
      ]
    },
    {
      "cell_type": "markdown",
      "metadata": {
        "colab_type": "text",
        "id": "4WYb1qQ6biBy"
      },
      "source": [
        "\n",
        "(13). In our initial calculation of the `PredGender` column, we made our prediction based on whether the individual was male or female.  In accordance to the [women and children first](https://en.wikipedia.org/wiki/Women_and_children_first) protocol, we hypothesize that our model could be improved by including whether the individual was a child in addition to gender. We also have a question, what age to use to determine \"child\"? (People weren't likely to check for IDs.)  We will check 2 ages...<13 and <18 (somewhat arbitrary but have to start somewhere) and see which yields a better accuracy. <br>\n",
        "\n",
        "<br> \n",
        "\n",
        "Specifically, create 2 predictions as follows:\n",
        "\n",
        "`train['PredGenderAge13']` should be the prediction incorporating both Gender (women survive) and Age (Children Age<13 survived while Age>=13 died)  <br>\n",
        "`train['PredGenderAge18']` should be the prediction incorporating both Gender (women survive) and Age (Children Age<18 survived while Age>=18 died)  <br>\n",
        "\n",
        "*The analysis assumes that you have addressed missing values in the earlier step and you should do it for both the train and test dataframes*"
      ]
    },
    {
      "cell_type": "code",
      "metadata": {
        "colab_type": "code",
        "id": "Z_RXLnoXbiBz",
        "colab": {}
      },
      "source": [
        "#Answer\n",
        "\n",
        "train['PredGenderAge13'] = 0\n",
        "train.loc[(train['Sex'] == 'female')|(train['Age'] < 13), 'PredGenderAge13'] = 1\n",
        "train.PredGenderAge13 = train.PredGenderAge13.astype(int)\n",
        "\n",
        "train['PredGenderAge18'] = 0\n",
        "train.loc[(train['Sex'] == 'female')|(train['Age'] < 18), 'PredGenderAge18'] = 1\n",
        "#train.loc[train.PredGenderAge18.isnull(), 'PredGenderAge18'] = 0\n",
        "train.PredGenderAge18 = train.PredGenderAge18.astype(int)\n",
        "\n",
        "test['PredGenderAge13'] = 0\n",
        "test.loc[(test['Sex'] == 'female')|(test['Age'] < 13), 'PredGenderAge13'] = 1\n",
        "test.PredGenderAge13 = test.PredGenderAge13.astype(int)\n",
        "\n",
        "test['PredGenderAge18'] = 0\n",
        "test.loc[(test['Sex'] == 'female')|(test['Age'] < 18), 'PredGenderAge18'] = 1\n",
        "#test.loc[test.PredGenderAge18.isnull(), 'PredGenderAge18'] = 0\n",
        "test.PredGenderAge18 = test.PredGenderAge18.astype(int)\n"
      ],
      "execution_count": 0,
      "outputs": []
    },
    {
      "cell_type": "code",
      "metadata": {
        "colab_type": "code",
        "id": "bg1Fep69biB1",
        "outputId": "fe10e758-8adf-4647-b8bf-a3122975fd80",
        "colab": {
          "base_uri": "https://localhost:8080/",
          "height": 46
        }
      },
      "source": [
        "_ = ok.grade('q13')"
      ],
      "execution_count": 29,
      "outputs": [
        {
          "output_type": "display_data",
          "data": {
            "text/html": [
              "\n",
              "    \n",
              "    \n",
              "        <p>All tests passed!</p>\n",
              "    \n",
              "    "
            ],
            "text/plain": [
              "<gofer.ok.OKTestsResult at 0x7f4e0acebcf8>"
            ]
          },
          "metadata": {
            "tags": []
          }
        }
      ]
    },
    {
      "cell_type": "markdown",
      "metadata": {
        "colab_type": "text",
        "id": "FYkYiEckbiB3"
      },
      "source": [
        "(14). Calculate the accuracy for your new predictions.  Use `PredGenderAge13` in the training set to calculate `AccGenderAge13` (you can use your function again!) and `PredGenderAge18` to calcuate `AccGenderAge18`. "
      ]
    },
    {
      "cell_type": "code",
      "metadata": {
        "colab_type": "code",
        "id": "udYOXsOxbiB3",
        "outputId": "e51b3ca5-3dd8-4757-b98f-654c018768bc",
        "colab": {
          "base_uri": "https://localhost:8080/",
          "height": 34
        }
      },
      "source": [
        "#Answer\n",
        "\n",
        "AccGenderAge13 = generate_accuracy(train.PredGenderAge13, train.Survived)\n",
        "\n",
        "AccGenderAge18 = generate_accuracy(train.PredGenderAge18, train.Survived)\n",
        "\n",
        "print(AccGenderAge13, AccGenderAge18)\n"
      ],
      "execution_count": 30,
      "outputs": [
        {
          "output_type": "stream",
          "text": [
            "79.2368125701459 77.32884399551067\n"
          ],
          "name": "stdout"
        }
      ]
    },
    {
      "cell_type": "code",
      "metadata": {
        "colab_type": "code",
        "id": "y5mSZcrTbiB5",
        "outputId": "ecf30304-d5b8-46fd-96da-3c92cd14db2c",
        "colab": {
          "base_uri": "https://localhost:8080/",
          "height": 46
        }
      },
      "source": [
        "_ = ok.grade('q14')"
      ],
      "execution_count": 31,
      "outputs": [
        {
          "output_type": "display_data",
          "data": {
            "text/html": [
              "\n",
              "    \n",
              "    \n",
              "        <p>All tests passed!</p>\n",
              "    \n",
              "    "
            ],
            "text/plain": [
              "<gofer.ok.OKTestsResult at 0x7f4e0acebbe0>"
            ]
          },
          "metadata": {
            "tags": []
          }
        }
      ]
    },
    {
      "cell_type": "markdown",
      "metadata": {
        "colab_type": "text",
        "id": "X_ZLsCx5biCA"
      },
      "source": [
        "(15). You should find that the accuracy is higher when using 13 as a designation for a child than 18. What does this tell you about the role of age in surviving a shipwreck? "
      ]
    },
    {
      "cell_type": "code",
      "metadata": {
        "colab_type": "code",
        "id": "8_GkUNYcbiCB",
        "colab": {}
      },
      "source": [
        "\n",
        "man15=\"\"\"\n",
        "Answer here.\n",
        "\n",
        "The accuracy is higher when we predict that child less than 13 years old can survive than 18 years old. That is to say, younger children had survived more. I think \n",
        "that may be partly due to children less than 13 could be accompanied by parents, so they were more likely to survive Titanic.\n",
        "\n",
        "\"\"\""
      ],
      "execution_count": 0,
      "outputs": []
    },
    {
      "cell_type": "markdown",
      "metadata": {
        "colab_type": "text",
        "id": "5QoaQ9hQbiCD"
      },
      "source": [
        "(16) Create a prediction file for the \"women and children first\" model in using the test dataset and upload it to Kaggle. Go through the process of uploading it to Kaggle. Put a link to the resulting entry. \n",
        "\n",
        "**Make sure your submission file prediction is an integer and not at float. If you submit a float it may not work.**"
      ]
    },
    {
      "cell_type": "code",
      "metadata": {
        "id": "7rLn4htQ1ggy",
        "colab_type": "code",
        "colab": {}
      },
      "source": [
        "# generate_submission(test, 'PredGenderAge13', \"women and children first.csv\" )\n",
        "\n",
        "# from google.colab import files\n",
        "# files.download(\"women and children first.csv\")"
      ],
      "execution_count": 0,
      "outputs": []
    },
    {
      "cell_type": "code",
      "metadata": {
        "colab_type": "code",
        "id": "KFSWJLZYbiCD",
        "outputId": "2d6c7d59-2e2c-48af-9ef6-a4a03f53897e",
        "colab": {
          "base_uri": "https://localhost:8080/",
          "height": 34
        }
      },
      "source": [
        "kaggle_username=\"janicelikaggleml\"\n",
        "man15=\"https://www.kaggle.com/janicelikaggleml/competitions\"\n",
        "#This gives a link to your competition page\n",
        "man15\n"
      ],
      "execution_count": 34,
      "outputs": [
        {
          "output_type": "execute_result",
          "data": {
            "text/plain": [
              "'https://www.kaggle.com/janicelikaggleml/competitions'"
            ]
          },
          "metadata": {
            "tags": []
          },
          "execution_count": 34
        }
      ]
    },
    {
      "cell_type": "markdown",
      "metadata": {
        "colab_type": "text",
        "id": "LSlwyk65biCG"
      },
      "source": [
        "## Fill in your Information"
      ]
    },
    {
      "cell_type": "code",
      "metadata": {
        "colab_type": "code",
        "id": "MMhVMT4xbiCG",
        "colab": {}
      },
      "source": [
        "course=\"mgmt6560\"   #course number\n",
        "section=\"01\"          #section \n",
        "first_name=\"Jiarun\"   #For example, \"jason\"\n",
        "last_name=\"Li\"    #For example, \"kuruzovich\"\n",
        "student_id=\"lij44\"       #for example \"kuruzj\"\n",
        "student_email=\"lij44@rpi.edu\"    #for example \"kuruzj@rpi.edu\"\n",
        "collaborators = \"\"  #You can speak with others regarding the assignment, but all typed work must be your own."
      ],
      "execution_count": 0,
      "outputs": []
    },
    {
      "cell_type": "code",
      "metadata": {
        "colab_type": "code",
        "id": "ngKtu-MzbiCI",
        "outputId": "b9a887ae-648d-4978-d85d-eb91209a9e8d",
        "colab": {
          "base_uri": "https://localhost:8080/",
          "height": 46
        }
      },
      "source": [
        "_ = ok.grade('qname')"
      ],
      "execution_count": 36,
      "outputs": [
        {
          "output_type": "display_data",
          "data": {
            "text/html": [
              "\n",
              "    \n",
              "    \n",
              "        <p>All tests passed!</p>\n",
              "    \n",
              "    "
            ],
            "text/plain": [
              "<gofer.ok.OKTestsResult at 0x7f4e0acebe48>"
            ]
          },
          "metadata": {
            "tags": []
          }
        }
      ]
    }
  ]
}