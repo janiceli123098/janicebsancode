{
  "nbformat": 4,
  "nbformat_minor": 0,
  "metadata": {
    "celltoolbar": "Slideshow",
    "colab": {
      "name": "Copy of Copy of hm4.ipynb",
      "provenance": [],
      "collapsed_sections": [],
      "include_colab_link": true
    },
    "kernelspec": {
      "display_name": "Python 3",
      "language": "python",
      "name": "python3"
    },
    "language_info": {
      "codemirror_mode": {
        "name": "ipython",
        "version": 3
      },
      "file_extension": ".py",
      "mimetype": "text/x-python",
      "name": "python",
      "nbconvert_exporter": "python",
      "pygments_lexer": "ipython3",
      "version": "3.6.9"
    }
  },
  "cells": [
    {
      "cell_type": "markdown",
      "metadata": {
        "id": "view-in-github",
        "colab_type": "text"
      },
      "source": [
        "<a href=\"https://colab.research.google.com/github/janiceli123098/janicebsancode/blob/janiceli123098-MGMT6560_IntroML/hm04.ipynb\" target=\"_parent\"><img src=\"https://colab.research.google.com/assets/colab-badge.svg\" alt=\"Open In Colab\"/></a>"
      ]
    },
    {
      "cell_type": "markdown",
      "metadata": {
        "colab_type": "text",
        "id": "YRxEdhsZhrkG"
      },
      "source": [
        "## Homework 04 - Instructions\n",
        "\n",
        "![](https://github.com/rpi-techfundamentals/hm-01-starter/blob/master/notsaved.png?raw=1)\n",
        "\n",
        "**WARNING!!!  If you see this icon on the top of your COLAB sesssion, your work is not saved automatically.**\n",
        "\n",
        "\n",
        "**When you are working on homeworks, make sure that you save often. You may find it easier to save intermident copies in Google drive. If you save your working file in Google drive all changes will be saved as you work. MAKE SURE that your final version is saved to GitHub.** \n",
        "\n",
        "Before you turn this problem in, make sure everything runs as expected. First, restart the kernel (in the menubar, select Kernel → Restart) and then run all cells (in the menubar, select Cell → Run All).  You can speak with others regarding the assignment but all work must be your own. \n",
        "\n",
        "\n",
        "### This is a 30 point assignment graded from answers to questions and automated tests that should be run at the bottom. Be sure to clearly label all of your answers and commit final tests at the end.  \n"
      ]
    },
    {
      "cell_type": "code",
      "metadata": {
        "colab_type": "code",
        "id": "kt0h7WvWhrkK",
        "outputId": "4b07b7aa-365c-4481-df7a-01c9c08115fa",
        "colab": {
          "base_uri": "https://localhost:8080/",
          "height": 1000
        }
      },
      "source": [
        "files = \"https://github.com/rpi-techfundamentals/hm-04-starter/raw/master/files.zip\" \n",
        "!rm -rf * && pip install git+https://github.com/data-8/Gofer-Grader && wget $files && unzip -o files.zip"
      ],
      "execution_count": 0,
      "outputs": [
        {
          "output_type": "stream",
          "text": [
            "Collecting git+https://github.com/data-8/Gofer-Grader\n",
            "  Cloning https://github.com/data-8/Gofer-Grader to /tmp/pip-req-build-7960lj2y\n",
            "  Running command git clone -q https://github.com/data-8/Gofer-Grader /tmp/pip-req-build-7960lj2y\n",
            "Requirement already satisfied (use --upgrade to upgrade): gofer-grader==1.0.9 from git+https://github.com/data-8/Gofer-Grader in /usr/local/lib/python3.6/dist-packages\n",
            "Requirement already satisfied: jinja2 in /usr/local/lib/python3.6/dist-packages (from gofer-grader==1.0.9) (2.10.1)\n",
            "Requirement already satisfied: pygments in /usr/local/lib/python3.6/dist-packages (from gofer-grader==1.0.9) (2.1.3)\n",
            "Requirement already satisfied: tornado in /usr/local/lib/python3.6/dist-packages (from gofer-grader==1.0.9) (4.5.3)\n",
            "Requirement already satisfied: MarkupSafe>=0.23 in /usr/local/lib/python3.6/dist-packages (from jinja2->gofer-grader==1.0.9) (1.1.1)\n",
            "Building wheels for collected packages: gofer-grader\n",
            "  Building wheel for gofer-grader (setup.py) ... \u001b[?25l\u001b[?25hdone\n",
            "  Created wheel for gofer-grader: filename=gofer_grader-1.0.9-cp36-none-any.whl size=10115 sha256=c8510e49f464114010c03218d17c0772fd20a09e49e2adafb0281cee1b27a660\n",
            "  Stored in directory: /tmp/pip-ephem-wheel-cache-fky0wjup/wheels/9e/62/24/8563ae039051d6ba979557d1766bfebbda5dd08f8572e3e35d\n",
            "Successfully built gofer-grader\n",
            "--2019-09-26 01:07:25--  https://github.com/rpi-techfundamentals/hm-04-starter/raw/master/files.zip\n",
            "Resolving github.com (github.com)... 192.30.255.113\n",
            "Connecting to github.com (github.com)|192.30.255.113|:443... connected.\n",
            "HTTP request sent, awaiting response... 302 Found\n",
            "Location: https://raw.githubusercontent.com/rpi-techfundamentals/hm-04-starter/master/files.zip [following]\n",
            "--2019-09-26 01:07:25--  https://raw.githubusercontent.com/rpi-techfundamentals/hm-04-starter/master/files.zip\n",
            "Resolving raw.githubusercontent.com (raw.githubusercontent.com)... 151.101.0.133, 151.101.64.133, 151.101.128.133, ...\n",
            "Connecting to raw.githubusercontent.com (raw.githubusercontent.com)|151.101.0.133|:443... connected.\n",
            "HTTP request sent, awaiting response... 200 OK\n",
            "Length: 343738 (336K) [application/zip]\n",
            "Saving to: ‘files.zip’\n",
            "\n",
            "files.zip           100%[===================>] 335.68K  --.-KB/s    in 0.03s   \n",
            "\n",
            "2019-09-26 01:07:25 (11.6 MB/s) - ‘files.zip’ saved [343738/343738]\n",
            "\n",
            "Archive:  files.zip\n",
            "  inflating: twitlab.py              \n",
            "   creating: __MACOSX/\n",
            "  inflating: __MACOSX/._twitlab.py   \n",
            "   creating: fig/\n",
            "  inflating: fig/crawler.png         \n",
            "   creating: __MACOSX/fig/\n",
            "  inflating: __MACOSX/fig/._crawler.png  \n",
            "  inflating: fig/hm4-2.png           \n",
            "  inflating: __MACOSX/fig/._hm4-2.png  \n",
            "  inflating: fig/hm4-3.png           \n",
            "  inflating: __MACOSX/fig/._hm4-3.png  \n",
            "  inflating: fig/hm4-1.png           \n",
            "  inflating: __MACOSX/fig/._hm4-1.png  \n",
            "  inflating: fig/hm4-5.png           \n",
            "  inflating: __MACOSX/fig/._hm4-5.png  \n",
            "  inflating: fig/links.png           \n",
            "  inflating: __MACOSX/fig/._links.png  \n",
            "   creating: tests/\n",
            "  inflating: tests/bs1.py            \n",
            "  inflating: tests/q01.py            \n",
            "  inflating: tests/q05.py            \n",
            " extracting: tests/__init__.py       \n",
            "  inflating: tests/qname.py          \n",
            "  inflating: tests/q03.py            \n",
            "  inflating: tests/re1.py            \n",
            "  inflating: tests/q02.py            \n",
            "   creating: tests/.ipynb_checkpoints/\n",
            "  inflating: tests/bs3.py            \n",
            "  inflating: tests/bs2.py            \n",
            "  inflating: screen_names.csv        \n",
            "  inflating: __MACOSX/._screen_names.csv  \n",
            "  inflating: grading_object_detection.py  \n",
            "  inflating: hm.ok                   \n"
          ],
          "name": "stdout"
        }
      ]
    },
    {
      "cell_type": "markdown",
      "metadata": {
        "id": "5rA72TdSCGpL",
        "colab_type": "text"
      },
      "source": [
        "## Twitter Exercises\n",
        "Here we have a simple exercise we are going to do that involves the Twitter API. "
      ]
    },
    {
      "cell_type": "code",
      "metadata": {
        "colab_type": "code",
        "id": "0Y8RlqeBhrki",
        "colab": {}
      },
      "source": [
        "#Run this. It initiates autograding. \n",
        "from client.api.notebook import Notebook\n",
        "ok = Notebook('lab.ok')\n",
        "_ = ok.auth(inline=True)"
      ],
      "execution_count": 0,
      "outputs": []
    },
    {
      "cell_type": "code",
      "metadata": {
        "id": "2luqEhq-CGpO",
        "colab_type": "code",
        "outputId": "bf6a22f0-2d6f-4912-a093-780aa4d4e61a",
        "colab": {
          "base_uri": "https://localhost:8080/",
          "height": 377
        }
      },
      "source": [
        "#Get config data\n",
        "!wget https://www.dropbox.com/s/ojjs2aj14gjuqjb/config.yaml "
      ],
      "execution_count": 0,
      "outputs": [
        {
          "output_type": "stream",
          "text": [
            "--2019-09-26 01:07:26--  https://www.dropbox.com/s/ojjs2aj14gjuqjb/config.yaml\n",
            "Resolving www.dropbox.com (www.dropbox.com)... 162.125.8.1, 2620:100:6016:1::a27d:101\n",
            "Connecting to www.dropbox.com (www.dropbox.com)|162.125.8.1|:443... connected.\n",
            "HTTP request sent, awaiting response... 301 Moved Permanently\n",
            "Location: /s/raw/ojjs2aj14gjuqjb/config.yaml [following]\n",
            "--2019-09-26 01:07:26--  https://www.dropbox.com/s/raw/ojjs2aj14gjuqjb/config.yaml\n",
            "Reusing existing connection to www.dropbox.com:443.\n",
            "HTTP request sent, awaiting response... 302 Found\n",
            "Location: https://uc1ed10d362d3e25b0f4c765886b.dl.dropboxusercontent.com/cd/0/inline/ApT9YArGFQ0Rp74BfuAJSKMx6lb0gSzmksY_AsbT8dMTAyMNuReBZY9jNtr1gEFHVvW5Dizj0yibGDL6aLmNG04P4wgxr9fz9sVAYH1nvcYQvw/file# [following]\n",
            "--2019-09-26 01:07:26--  https://uc1ed10d362d3e25b0f4c765886b.dl.dropboxusercontent.com/cd/0/inline/ApT9YArGFQ0Rp74BfuAJSKMx6lb0gSzmksY_AsbT8dMTAyMNuReBZY9jNtr1gEFHVvW5Dizj0yibGDL6aLmNG04P4wgxr9fz9sVAYH1nvcYQvw/file\n",
            "Resolving uc1ed10d362d3e25b0f4c765886b.dl.dropboxusercontent.com (uc1ed10d362d3e25b0f4c765886b.dl.dropboxusercontent.com)... 162.125.1.6, 2620:100:6016:6::a27d:106\n",
            "Connecting to uc1ed10d362d3e25b0f4c765886b.dl.dropboxusercontent.com (uc1ed10d362d3e25b0f4c765886b.dl.dropboxusercontent.com)|162.125.1.6|:443... connected.\n",
            "HTTP request sent, awaiting response... 200 OK\n",
            "Length: 553 [text/plain]\n",
            "Saving to: ‘config.yaml’\n",
            "\n",
            "config.yaml         100%[===================>]     553  --.-KB/s    in 0s      \n",
            "\n",
            "2019-09-26 01:07:26 (78.8 MB/s) - ‘config.yaml’ saved [553/553]\n",
            "\n"
          ],
          "name": "stdout"
        }
      ]
    },
    {
      "cell_type": "code",
      "metadata": {
        "colab_type": "code",
        "id": "RxzLDkc1cCcR",
        "outputId": "dfd61700-9928-459f-a88b-65d96b9e09ff",
        "colab": {
          "base_uri": "https://localhost:8080/",
          "height": 88
        }
      },
      "source": [
        " !pip install twitter ruamel.yaml"
      ],
      "execution_count": 0,
      "outputs": [
        {
          "output_type": "stream",
          "text": [
            "Requirement already satisfied: twitter in /usr/local/lib/python3.6/dist-packages (1.18.0)\n",
            "Requirement already satisfied: ruamel.yaml in /usr/local/lib/python3.6/dist-packages (0.16.5)\n",
            "Requirement already satisfied: ruamel.yaml.clib>=0.1.2; platform_python_implementation == \"CPython\" and python_version < \"3.8\" in /usr/local/lib/python3.6/dist-packages (from ruamel.yaml) (0.1.2)\n"
          ],
          "name": "stdout"
        }
      ]
    },
    {
      "cell_type": "code",
      "metadata": {
        "colab_type": "code",
        "id": "CLLJj2aWWUH5",
        "colab": {}
      },
      "source": [
        "#importing the twitter package & some other things we will use.  \n",
        "from  twitter import *\n",
        "import datetime, traceback \n",
        "import json\n",
        "import time\n",
        "import sys \n",
        "import ruamel.yaml #A .yaml file \n",
        "#This is your configuration file.\n"
      ],
      "execution_count": 0,
      "outputs": []
    },
    {
      "cell_type": "code",
      "metadata": {
        "colab_type": "code",
        "id": "BILCWzonWhI8",
        "colab": {}
      },
      "source": [
        "#Load the config file  \n",
        "twitter_yaml='config.yaml'\n",
        "with open(twitter_yaml, 'r') as yaml_t:\n",
        "    cf_t=ruamel.yaml.round_trip_load(yaml_t, preserve_quotes=True)\n",
        "\n",
        "#Create your twitter object. \n",
        "import twitlab\n",
        "#Create Twitter Object\n",
        "twitter= twitlab.create_twitter_auth(cf_t)\n"
      ],
      "execution_count": 0,
      "outputs": []
    },
    {
      "cell_type": "markdown",
      "metadata": {
        "colab_type": "text",
        "id": "NWC0YPjoXOW1"
      },
      "source": [
        "(t1) Access the twitter object to retrieve the 5 tweets that has a hashtag \"#mlanalyticsdojorocks\" attached to them. Save these tweets into a list called *statuses*.\n",
        "\n"
      ]
    },
    {
      "cell_type": "code",
      "metadata": {
        "colab_type": "code",
        "id": "MpZSW6TAZSs-",
        "colab": {}
      },
      "source": [
        "#Answer\n",
        "\n",
        "q = '#mlanalyticsdojorocks'\n",
        "\n",
        "count = 5\n",
        "\n",
        "search_results = twitter.search.tweets(q = q, count = count)\n",
        "#print(type(search_results))\n",
        "#<class 'twitter.api.TwitterDictResponse'>\n",
        "\n",
        "statuses = search_results['statuses']\n",
        "search_metadata = search_results['search_metadata']\n",
        "\n",
        "#print(type(statuses))\n",
        "#<class 'list'>\n",
        "#print(type(search_metadata))\n",
        "#<class 'dict'>\n",
        "\n",
        "#print(len(statuses))\n",
        "#print(statuses)\n",
        "\n",
        "#print(type(search_results['statuses'][0]['entities']['hashtags']))\n",
        "#<class 'list'>\n",
        "\n",
        "#print(search_results['statuses'][0]['entities']['hashtags'][0])\n",
        "#{'text': 'mlanalyticsdojorocks', 'indices': [22, 43]}\n",
        "#print(type(statuses[0]['entities']['hashtags'][0]))\n",
        "#<class 'dict'>"
      ],
      "execution_count": 0,
      "outputs": []
    },
    {
      "cell_type": "markdown",
      "metadata": {
        "colab_type": "text",
        "id": "T9OzSaQjZU06"
      },
      "source": [
        "(t2) Now create a function `get_hashtags(tweets, hashtag)` that accepts a list of tweets and a hashtag and returns a list of *other* hashtags included in the tweets *except* `hashtag`. This means, you should not include the origional hashtag used (i.e.,  mlanalyticsdojorocks) and the function should aggregate hashtags across all tweets passed.  \n",
        "\n",
        "For example, if there is a a single tweet passed that says \"Hello world! #mlanalyticsdojorocks #learningmachinelearning\"  it would return ['#learningmachinelearning']\n",
        "\n",
        "Use your function and the `statuses` list to create `other_hashtags` as shown below: \n",
        "\n",
        "```\n",
        "other_hashtags= get_hashtags(statuses, '#mlanalyticsdojorocks')\n",
        "print(other_hashtags)\n",
        "\n",
        "```\n"
      ]
    },
    {
      "cell_type": "code",
      "metadata": {
        "id": "3sHBgaEpCGpZ",
        "colab_type": "code",
        "outputId": "ecf2734b-c175-40b5-9859-b3ddb08426f8",
        "colab": {
          "base_uri": "https://localhost:8080/",
          "height": 34
        }
      },
      "source": [
        "#Answer\n",
        "\n",
        "def get_hashtags(tweets, hashtag):\n",
        "  num_tweets = len(tweets)\n",
        "  num_hashtags = []\n",
        "  other_hashtags = []\n",
        "  hashtag = hashtag.strip('#')\n",
        "  #print(hashtag)\n",
        "  for i in range(num_tweets):\n",
        "    num_hashtags.append(len(tweets[i]['entities']['hashtags']))\n",
        "    for j in range(num_hashtags[i]):\n",
        "      if tweets[i]['entities']['hashtags'][j]['text'] != hashtag:\n",
        "        other_hashtags.append(tweets[i]['entities']['hashtags'][j]['text'])\n",
        "  \n",
        "  return other_hashtags\n",
        "\n",
        "other_hashtags = get_hashtags(statuses, '#mlanalyticsdojorocks')\n",
        "print(other_hashtags)\n",
        "    \n",
        "  "
      ],
      "execution_count": 0,
      "outputs": [
        {
          "output_type": "stream",
          "text": [
            "['machinelearningrocksasalways']\n"
          ],
          "name": "stdout"
        }
      ]
    },
    {
      "cell_type": "markdown",
      "metadata": {
        "id": "WVaG7zbiCGpb",
        "colab_type": "text"
      },
      "source": [
        "## Exercise - Seaborn\n"
      ]
    },
    {
      "cell_type": "code",
      "metadata": {
        "colab_type": "code",
        "id": "dvKqATXthrkd",
        "colab": {}
      },
      "source": [
        "#Import and load some libraries\n",
        "import numpy as np\n",
        "import pandas as pd\n",
        "from scipy import stats, integrate\n",
        "import matplotlib.pyplot as plt\n",
        "import seaborn as sns\n",
        "titanic = sns.load_dataset(\"titanic\")\n",
        "import grading_object_detection as god"
      ],
      "execution_count": 0,
      "outputs": []
    },
    {
      "cell_type": "markdown",
      "metadata": {
        "colab_type": "text",
        "id": "sKw1DGi3hrkm"
      },
      "source": [
        "\n",
        "(S1) Create the following figure using the Titanic dataset (included with Seaborn). Output the file to hm4-1.png in the current directory.  \n",
        "![](https://github.com/rpi-techfundamentals/hm-04-starter/raw/master/fig/hm4-1.png)\n",
        "\n"
      ]
    },
    {
      "cell_type": "code",
      "metadata": {
        "colab_type": "code",
        "id": "yR9pQbiOhrko",
        "outputId": "81378fd7-b863-4216-c2a6-ec0ee1ecbfc3",
        "colab": {
          "base_uri": "https://localhost:8080/",
          "height": 283
        }
      },
      "source": [
        "#Answer\n",
        "\n",
        "#titanic.head()\n",
        "\n",
        "ax = sns.boxplot(x = titanic['age'])\n",
        "fig = ax.get_figure()\n",
        "fig.savefig('hm4-1.png')\n",
        "\n"
      ],
      "execution_count": 0,
      "outputs": [
        {
          "output_type": "display_data",
          "data": {
            "image/png": "[encoded data removed]",
            "text/plain": [
              "<Figure size 432x288 with 1 Axes>"
            ]
          },
          "metadata": {
            "tags": []
          }
        }
      ]
    },
    {
      "cell_type": "code",
      "metadata": {
        "colab_type": "code",
        "id": "qY3sKzN5hrkw",
        "outputId": "280404d3-cd05-4e7e-d35a-71f0146638c1",
        "colab": {
          "base_uri": "https://localhost:8080/",
          "height": 46
        }
      },
      "source": [
        "#Test\n",
        "_ = ok.grade('q01')"
      ],
      "execution_count": 0,
      "outputs": [
        {
          "output_type": "display_data",
          "data": {
            "text/html": [
              "\n",
              "    \n",
              "    \n",
              "        <p>All tests passed!</p>\n",
              "    \n",
              "    "
            ],
            "text/plain": [
              "<gofer.ok.OKTestsResult at 0x7f920f4b51d0>"
            ]
          },
          "metadata": {
            "tags": []
          }
        }
      ]
    },
    {
      "cell_type": "markdown",
      "metadata": {
        "colab_type": "text",
        "id": "sKSRVPObhrkz"
      },
      "source": [
        "(S2) Create the following figure using the Titanic dataset (included with Seaborn). Output the plot to hm4-2.png in the current directory.  \n",
        "![](https://github.com/rpi-techfundamentals/hm-04-starter/raw/master/fig/hm4-2.png)"
      ]
    },
    {
      "cell_type": "code",
      "metadata": {
        "colab_type": "code",
        "id": "uifBYKMyhrk3",
        "outputId": "ac5ba9f2-09fa-4d77-de75-01f9f827997c",
        "colab": {
          "base_uri": "https://localhost:8080/",
          "height": 284
        }
      },
      "source": [
        "#Answer\n",
        "\n",
        "#titanic.head(10)\n",
        "#embark_town Southampton Cherbourg Queenstown\n",
        "\n",
        "bx = sns.barplot(x = 'embark_town', y = 'survived', data = titanic)\n",
        "fig = bx.get_figure()\n",
        "fig.savefig('hm4-2.png')\n",
        "\n",
        "import matplotlib.pyplot as plt\n",
        "import matplotlib.image as mpimg\n",
        "\n",
        "#img = mpimg.imread('hm4-5.png')\n",
        "#plt.imshow(img)\n",
        "#plt.show()"
      ],
      "execution_count": 0,
      "outputs": [
        {
          "output_type": "display_data",
          "data": {
            "image/png": "[encoded data removed]",
            "text/plain": [
              "<Figure size 432x288 with 1 Axes>"
            ]
          },
          "metadata": {
            "tags": []
          }
        }
      ]
    },
    {
      "cell_type": "code",
      "metadata": {
        "colab_type": "code",
        "id": "vsaHa89Khrk-",
        "outputId": "67240ab6-acbc-42b0-ffb1-8a45e5415cba",
        "colab": {
          "base_uri": "https://localhost:8080/",
          "height": 46
        }
      },
      "source": [
        "#Test\n",
        "_ = ok.grade('q02')"
      ],
      "execution_count": 0,
      "outputs": [
        {
          "output_type": "display_data",
          "data": {
            "text/html": [
              "\n",
              "    \n",
              "    \n",
              "        <p>All tests passed!</p>\n",
              "    \n",
              "    "
            ],
            "text/plain": [
              "<gofer.ok.OKTestsResult at 0x7f920f47e898>"
            ]
          },
          "metadata": {
            "tags": []
          }
        }
      ]
    },
    {
      "cell_type": "markdown",
      "metadata": {
        "colab_type": "text",
        "id": "jUP8uWPahrlB"
      },
      "source": [
        "(S3) Create the following figure using the Titanic dataset (included with Seaborn). Output the plot to hm4-3.png in the current directory.  \n",
        "![](https://github.com/rpi-techfundamentals/hm-04-starter/raw/master/fig/hm4-3.png)"
      ]
    },
    {
      "cell_type": "code",
      "metadata": {
        "colab_type": "code",
        "id": "KwTkdQ3shrlC",
        "outputId": "6a5f4d66-214d-490a-b2ea-7ef3b11495dd",
        "colab": {
          "base_uri": "https://localhost:8080/",
          "height": 283
        }
      },
      "source": [
        "#Answer\n",
        "\n",
        "cx = sns.swarmplot(x=\"class\", y=\"age\", hue= \"survived\",data=titanic);\n",
        "fig = cx.get_figure()\n",
        "fig.savefig('hm4-3.png')\n",
        "\n",
        "\n"
      ],
      "execution_count": 0,
      "outputs": [
        {
          "output_type": "display_data",
          "data": {
            "image/png": "[encoded data removed]",
            "text/plain": [
              "<Figure size 432x288 with 1 Axes>"
            ]
          },
          "metadata": {
            "tags": []
          }
        }
      ]
    },
    {
      "cell_type": "code",
      "metadata": {
        "colab_type": "code",
        "id": "_HV7_SQQhrlG",
        "outputId": "b96de3ce-f630-482c-e689-5fa67128c16c",
        "colab": {
          "base_uri": "https://localhost:8080/",
          "height": 46
        }
      },
      "source": [
        "_ = ok.grade('q03')"
      ],
      "execution_count": 0,
      "outputs": [
        {
          "output_type": "display_data",
          "data": {
            "text/html": [
              "\n",
              "    \n",
              "    \n",
              "        <p>All tests passed!</p>\n",
              "    \n",
              "    "
            ],
            "text/plain": [
              "<gofer.ok.OKTestsResult at 0x7f920c68c160>"
            ]
          },
          "metadata": {
            "tags": []
          }
        }
      ]
    },
    {
      "cell_type": "code",
      "metadata": {
        "colab_type": "code",
        "id": "1FVi0j13hrlO",
        "colab": {}
      },
      "source": [
        "#Please provide an interpretation for the graph provided in question 3. \n",
        "\n",
        "man4=\"\"\"\n",
        "\n",
        "In question 3, we draw a swarmplot of the Titanic data. Horizontal axis stands \n",
        "for classes of passengers, and vetical axis stands for age of passengers. \n",
        "Points without overlap spread out to present view of survived passengers based \n",
        "on age and class.\n",
        "From figure generated in question 3, we could find\n",
        "1.Passengers in first class have much higher survival rate than second or third\n",
        "classes\n",
        "2.For all classes, the younger a passenger is, the more he is likely to survive.\n",
        "\n",
        "\n",
        "\"\"\""
      ],
      "execution_count": 0,
      "outputs": []
    },
    {
      "cell_type": "markdown",
      "metadata": {
        "colab_type": "text",
        "id": "l5msY87NhrlT"
      },
      "source": [
        "(S5) Create the following figure using the Titanic dataset (included with Seaborn). Output the plot to hm4-5.png in the current directory.  \n",
        "![](https://github.com/rpi-techfundamentals/hm-04-starter/raw/master/fig/hm4-5.png)"
      ]
    },
    {
      "cell_type": "code",
      "metadata": {
        "colab_type": "code",
        "id": "l9epWWpnhrlU",
        "outputId": "4b164954-88e5-4063-c72a-99206282d369",
        "colab": {
          "base_uri": "https://localhost:8080/",
          "height": 283
        }
      },
      "source": [
        "#Answer\n",
        "\n",
        "#from scipy.stats import norm\n",
        "dx = sns.distplot(titanic[\"fare\"], kde=True, rug=True)\n",
        "fig = dx.get_figure()\n",
        "fig.savefig('hm4-5.png')\n"
      ],
      "execution_count": 0,
      "outputs": [
        {
          "output_type": "display_data",
          "data": {
            "image/png": "[encoded data removed]",
            "text/plain": [
              "<Figure size 432x288 with 1 Axes>"
            ]
          },
          "metadata": {
            "tags": []
          }
        }
      ]
    },
    {
      "cell_type": "code",
      "metadata": {
        "colab_type": "code",
        "id": "r2IxIUJehrlW",
        "outputId": "6185ed41-0212-4851-b01a-51f4b9e21169",
        "colab": {
          "base_uri": "https://localhost:8080/",
          "height": 46
        }
      },
      "source": [
        "_ = ok.grade('q05')"
      ],
      "execution_count": 0,
      "outputs": [
        {
          "output_type": "display_data",
          "data": {
            "text/html": [
              "\n",
              "    \n",
              "    \n",
              "        <p>All tests passed!</p>\n",
              "    \n",
              "    "
            ],
            "text/plain": [
              "<gofer.ok.OKTestsResult at 0x7f920ae20eb8>"
            ]
          },
          "metadata": {
            "tags": []
          }
        }
      ]
    },
    {
      "cell_type": "markdown",
      "metadata": {
        "colab_type": "text",
        "id": "o4ZXQ7mLhrlY"
      },
      "source": [
        "## Exercise-Beautiful Soup\n",
        "Imagine you would like to write a simple python script that pulls in data from https://webrobots.io/kickstarter-datasets/.   \n",
        "\n",
        "First go to the above website.\n",
        "\n",
        "![](https://github.com/rpi-techfundamentals/hm-04-starter/raw/master/fig/crawler.png)\n",
        "\n",
        "\n",
        "To do that, we would have to get all the links.  Here is some starter code that will download the url into a soup object.\n",
        "\n",
        "```\n",
        "#This will pull the data\n",
        "from bs4 import BeautifulSoup\n",
        "import requests\n",
        "response = requests.get(\"https://webrobots.io/kickstarter-datasets/\")\n",
        "html_doc = response.text\n",
        "soup = BeautifulSoup(html_doc, 'html.parser')\n",
        "print(soup.prettify())\n",
        " \n",
        "```\n"
      ]
    },
    {
      "cell_type": "code",
      "metadata": {
        "colab_type": "code",
        "id": "ldhs0HrfhrlY",
        "outputId": "b22ad99b-73b6-488b-dec7-4998c630ac4b",
        "colab": {
          "base_uri": "https://localhost:8080/",
          "height": 1000
        }
      },
      "source": [
        "#This will pull the data\n",
        "from bs4 import BeautifulSoup\n",
        "import requests\n",
        "response = requests.get(\"https://webrobots.io/kickstarter-datasets/\")\n",
        "html_doc = response.text\n",
        "soup = BeautifulSoup(html_doc, 'html.parser')\n",
        "print(soup.prettify())\n",
        " "
      ],
      "execution_count": 0,
      "outputs": [
        {
          "output_type": "stream",
          "text": [
            "<!DOCTYPE html>\n",
            "<html class=\"avada-html-layout-wide avada-html-header-position-top avada-has-site-width-percent\" lang=\"en-US\" prefix=\"og: http://ogp.me/ns# fb: http://ogp.me/ns/fb#\" xmlns=\"http://www.w3.org/1999/xhtml\">\n",
            " <head>\n",
            "  <meta content=\"IE=edge\" http-equiv=\"X-UA-Compatible\"/>\n",
            "  <meta content=\"text/html; charset=utf-8\" http-equiv=\"Content-Type\"/>\n",
            "  <meta content=\"width=device-width, initial-scale=1\" name=\"viewport\"/>\n",
            "  <meta content=\"web scraping, data scraping, web crawling, data extractions, web data, web data feed\" name=\"keywords\"/>\n",
            "  <title>\n",
            "   Kickstarter Datasets – Web Scraping Service\n",
            "  </title>\n",
            "  <link href=\"//s.w.org\" rel=\"dns-prefetch\"/>\n",
            "  <link href=\"https://webrobots.io/feed/\" rel=\"alternate\" title=\"Web Scraping Service » Feed\" type=\"application/rss+xml\"/>\n",
            "  <link href=\"https://webrobots.io/comments/feed/\" rel=\"alternate\" title=\"Web Scraping Service » Comments Feed\" type=\"application/rss+xml\"/>\n",
            "  <link href=\"/wp-content/uploads/2015/03/favicon.ico\" rel=\"shortcut icon\" type=\"image/x-icon\"/>\n",
            "  <link href=\"/wp-content/uploads/2015/03/WebRobotsLogo57x57.png\" rel=\"apple-touch-icon\"/>\n",
            "  <link href=\"/wp-content/uploads/2015/03/iphone114x114v2.png\" rel=\"apple-touch-icon\" sizes=\"114x114\"/>\n",
            "  <link href=\"/wp-content/uploads/2015/03/WebRobotsLogo72x72.png\" rel=\"apple-touch-icon\" sizes=\"72x72\"/>\n",
            "  <link href=\"/uploads/2015/03/WebRobotsLogo144x144.png\" rel=\"apple-touch-icon\" sizes=\"144x144\"/>\n",
            "  <link href=\"https://webrobots.io/kickstarter-datasets/feed/\" rel=\"alternate\" title=\"Web Scraping Service » Kickstarter Datasets Comments Feed\" type=\"application/rss+xml\"/>\n",
            "  <meta content=\"Kickstarter Datasets\" property=\"og:title\"/>\n",
            "  <meta content=\"article\" property=\"og:type\"/>\n",
            "  <meta content=\"https://webrobots.io/kickstarter-datasets/\" property=\"og:url\"/>\n",
            "  <meta content=\"Web Scraping Service\" property=\"og:site_name\"/>\n",
            "  <meta content=\"We have a scraper robot which crawls all Kickstarter projects and collects data in CSV and JSON formats. From March 2016 we run this data crawl once a month. Datasets are available from the following scrape dates:\n",
            "20192019-08-15 [JSON] --- [CSV]\n",
            "2019-07-18 [JSON] --- [CSV]\n",
            "2019-06-13 [\" property=\"og:description\"/>\n",
            "  <meta content=\"/wp-content/uploads/2015/03/WebRobotsLogo300x82.png\" property=\"og:image\"/>\n",
            "  <link href=\"https://webrobots.io/wp-content/plugins/wooslider/assets/css/flexslider.css?ver=1.0.1\" id=\"wooslider-flexslider-css\" media=\"all\" rel=\"stylesheet\" type=\"text/css\"/>\n",
            "  <link href=\"https://webrobots.io/wp-content/plugins/wooslider/assets/css/style.css?ver=1.0.1\" id=\"wooslider-common-css\" media=\"all\" rel=\"stylesheet\" type=\"text/css\"/>\n",
            "  <link href=\"https://webrobots.io/wp-content/themes/Avada/style.css?ver=5.2.3\" id=\"avada-child-stylesheet-css\" media=\"all\" rel=\"stylesheet\" type=\"text/css\"/>\n",
            "  <link href=\"https://webrobots.io/wp-content/themes/Avada/assets/css/style.min.css?ver=6.0.3\" id=\"avada-stylesheet-css\" media=\"all\" rel=\"stylesheet\" type=\"text/css\"/>\n",
            "  <!--[if IE]><link\n",
            "rel=stylesheet id=avada-IE-css  href='https://webrobots.io/wp-content/themes/Avada/assets/css/ie.min.css?ver=6.0.3' type=text/css media=all><style id=avada-IE-inline-css>.avada-select-parent .select-arrow{background-color:#ffffff}\n",
            ".select-arrow{background-color:#ffffff}</style><![endif]-->\n",
            "  <link href=\"https://webrobots.io/wp-content/uploads/fusion-styles/40538e3f274492139547b994f3d7ed6d.min.css?ver=2.0.3\" id=\"fusion-dynamic-css-css\" media=\"all\" rel=\"stylesheet\" type=\"text/css\"/>\n",
            "  <link href=\"https://webrobots.io/wp-content/themes/Avada/assets/css/media/max-1c.min.css?ver=6.0.3\" id=\"avada-max-1c-css\" media=\"only screen and (max-width: 640px)\" rel=\"stylesheet\" type=\"text/css\"/>\n",
            "  <link href=\"https://webrobots.io/wp-content/themes/Avada/assets/css/media/max-2c.min.css?ver=6.0.3\" id=\"avada-max-2c-css\" media=\"only screen and (max-width: 712px)\" rel=\"stylesheet\" type=\"text/css\"/>\n",
            "  <link href=\"https://webrobots.io/wp-content/themes/Avada/assets/css/media/min-2c-max-3c.min.css?ver=6.0.3\" id=\"avada-min-2c-max-3c-css\" media=\"only screen and (min-width: 712px) and (max-width: 784px)\" rel=\"stylesheet\" type=\"text/css\"/>\n",
            "  <link href=\"https://webrobots.io/wp-content/themes/Avada/assets/css/media/min-3c-max-4c.min.css?ver=6.0.3\" id=\"avada-min-3c-max-4c-css\" media=\"only screen and (min-width: 784px) and (max-width: 856px)\" rel=\"stylesheet\" type=\"text/css\"/>\n",
            "  <link href=\"https://webrobots.io/wp-content/themes/Avada/assets/css/media/min-4c-max-5c.min.css?ver=6.0.3\" id=\"avada-min-4c-max-5c-css\" media=\"only screen and (min-width: 856px) and (max-width: 928px)\" rel=\"stylesheet\" type=\"text/css\"/>\n",
            "  <link href=\"https://webrobots.io/wp-content/themes/Avada/assets/css/media/min-5c-max-6c.min.css?ver=6.0.3\" id=\"avada-min-5c-max-6c-css\" media=\"only screen and (min-width: 928px) and (max-width: 1000px)\" rel=\"stylesheet\" type=\"text/css\"/>\n",
            "  <link href=\"https://webrobots.io/wp-content/themes/Avada/assets/css/media/min-shbp.min.css?ver=6.0.3\" id=\"avada-min-shbp-css\" media=\"only screen and (min-width: 801px)\" rel=\"stylesheet\" type=\"text/css\"/>\n",
            "  <link href=\"https://webrobots.io/wp-content/themes/Avada/assets/css/media/max-shbp.min.css?ver=6.0.3\" id=\"avada-max-shbp-css\" media=\"only screen and (max-width: 800px)\" rel=\"stylesheet\" type=\"text/css\"/>\n",
            "  <link href=\"https://webrobots.io/wp-content/themes/Avada/assets/css/media/max-sh-shbp.min.css?ver=6.0.3\" id=\"avada-max-sh-shbp-css\" media=\"only screen and (max-width: 800px)\" rel=\"stylesheet\" type=\"text/css\"/>\n",
            "  <link href=\"https://webrobots.io/wp-content/themes/Avada/assets/css/media/min-768-max-1024-p.min.css?ver=6.0.3\" id=\"avada-min-768-max-1024-p-css\" media=\"only screen and (min-device-width: 768px) and (max-device-width: 1024px) and (orientation: portrait)\" rel=\"stylesheet\" type=\"text/css\"/>\n",
            "  <link href=\"https://webrobots.io/wp-content/themes/Avada/assets/css/media/min-768-max-1024-l.min.css?ver=6.0.3\" id=\"avada-min-768-max-1024-l-css\" media=\"only screen and (min-device-width: 768px) and (max-device-width: 1024px) and (orientation: landscape)\" rel=\"stylesheet\" type=\"text/css\"/>\n",
            "  <link href=\"https://webrobots.io/wp-content/themes/Avada/assets/css/media/max-sh-cbp.min.css?ver=6.0.3\" id=\"avada-max-sh-cbp-css\" media=\"only screen and (max-width: 800px)\" rel=\"stylesheet\" type=\"text/css\"/>\n",
            "  <link href=\"https://webrobots.io/wp-content/themes/Avada/assets/css/media/max-sh-sbp.min.css?ver=6.0.3\" id=\"avada-max-sh-sbp-css\" media=\"only screen and (max-width: 800px)\" rel=\"stylesheet\" type=\"text/css\"/>\n",
            "  <link href=\"https://webrobots.io/wp-content/themes/Avada/assets/css/media/max-sh-640.min.css?ver=6.0.3\" id=\"avada-max-sh-640-css\" media=\"only screen and (max-width: 640px)\" rel=\"stylesheet\" type=\"text/css\"/>\n",
            "  <link href=\"https://webrobots.io/wp-content/themes/Avada/assets/css/media/max-shbp-18.min.css?ver=6.0.3\" id=\"avada-max-shbp-18-css\" media=\"only screen and (max-width: 782px)\" rel=\"stylesheet\" type=\"text/css\"/>\n",
            "  <link href=\"https://webrobots.io/wp-content/themes/Avada/assets/css/media/max-shbp-32.min.css?ver=6.0.3\" id=\"avada-max-shbp-32-css\" media=\"only screen and (max-width: 768px)\" rel=\"stylesheet\" type=\"text/css\"/>\n",
            "  <link href=\"https://webrobots.io/wp-content/themes/Avada/assets/css/media/min-sh-cbp.min.css?ver=6.0.3\" id=\"avada-min-sh-cbp-css\" media=\"only screen and (min-width: 800px)\" rel=\"stylesheet\" type=\"text/css\"/>\n",
            "  <link href=\"https://webrobots.io/wp-content/themes/Avada/assets/css/media/max-640.min.css?ver=6.0.3\" id=\"avada-max-640-css\" media=\"only screen and (max-device-width: 640px)\" rel=\"stylesheet\" type=\"text/css\"/>\n",
            "  <link href=\"https://webrobots.io/wp-content/themes/Avada/assets/css/media/max-sh-cbp-cf7.min.css?ver=6.0.3\" id=\"avada-max-sh-cbp-cf7-css\" media=\"only screen and (max-width: 800px)\" rel=\"stylesheet\" type=\"text/css\"/>\n",
            "  <link href=\"https://webrobots.io/wp-content/themes/Avada/assets/css/media/max-sh-cbp-eslider.min.css?ver=6.0.3\" id=\"avada-max-sh-cbp-eslider-css\" media=\"only screen and (max-width: 800px)\" rel=\"stylesheet\" type=\"text/css\"/>\n",
            "  <link href=\"https://webrobots.io/wp-content/plugins/fusion-builder/assets/css/media/max-sh-cbp.min.css?ver=2.0.3\" id=\"fb-max-sh-cbp-css\" media=\"only screen and (max-width: 800px)\" rel=\"stylesheet\" type=\"text/css\"/>\n",
            "  <link href=\"https://webrobots.io/wp-content/plugins/fusion-builder/assets/css/media/min-768-max-1024-p.min.css?ver=2.0.3\" id=\"fb-min-768-max-1024-p-css\" media=\"only screen and (min-device-width: 768px) and (max-device-width: 1024px) and (orientation: portrait)\" rel=\"stylesheet\" type=\"text/css\"/>\n",
            "  <link href=\"https://webrobots.io/wp-content/plugins/fusion-builder/assets/css/media/max-640.min.css?ver=2.0.3\" id=\"fb-max-640-css\" media=\"only screen and (max-device-width: 640px)\" rel=\"stylesheet\" type=\"text/css\"/>\n",
            "  <link href=\"https://webrobots.io/wp-content/plugins/fusion-builder/assets/css/media/max-1c.css?ver=2.0.3\" id=\"fb-max-1c-css\" media=\"only screen and (max-width: 640px)\" rel=\"stylesheet\" type=\"text/css\"/>\n",
            "  <link href=\"https://webrobots.io/wp-content/plugins/fusion-builder/assets/css/media/max-2c.css?ver=2.0.3\" id=\"fb-max-2c-css\" media=\"only screen and (max-width: 712px)\" rel=\"stylesheet\" type=\"text/css\"/>\n",
            "  <link href=\"https://webrobots.io/wp-content/plugins/fusion-builder/assets/css/media/min-2c-max-3c.css?ver=2.0.3\" id=\"fb-min-2c-max-3c-css\" media=\"only screen and (min-width: 712px) and (max-width: 784px)\" rel=\"stylesheet\" type=\"text/css\"/>\n",
            "  <link href=\"https://webrobots.io/wp-content/plugins/fusion-builder/assets/css/media/min-3c-max-4c.css?ver=2.0.3\" id=\"fb-min-3c-max-4c-css\" media=\"only screen and (min-width: 784px) and (max-width: 856px)\" rel=\"stylesheet\" type=\"text/css\"/>\n",
            "  <link href=\"https://webrobots.io/wp-content/plugins/fusion-builder/assets/css/media/min-4c-max-5c.css?ver=2.0.3\" id=\"fb-min-4c-max-5c-css\" media=\"only screen and (min-width: 856px) and (max-width: 928px)\" rel=\"stylesheet\" type=\"text/css\"/>\n",
            "  <link href=\"https://webrobots.io/wp-content/plugins/fusion-builder/assets/css/media/min-5c-max-6c.css?ver=2.0.3\" id=\"fb-min-5c-max-6c-css\" media=\"only screen and (min-width: 928px) and (max-width: 1000px)\" rel=\"stylesheet\" type=\"text/css\"/>\n",
            "  <script src=\"https://webrobots.io/wp-content/cache/minify/f1b25.js\">\n",
            "  </script>\n",
            "  <link href=\"https://webrobots.io/wp-json/\" rel=\"https://api.w.org/\"/>\n",
            "  <link href=\"https://webrobots.io/xmlrpc.php?rsd\" rel=\"EditURI\" title=\"RSD\" type=\"application/rsd+xml\"/>\n",
            "  <link href=\"https://webrobots.io/wp-includes/wlwmanifest.xml\" rel=\"wlwmanifest\" type=\"application/wlwmanifest+xml\"/>\n",
            "  <meta content=\"WordPress 5.2.3\" name=\"generator\"/>\n",
            "  <link href=\"https://webrobots.io/kickstarter-datasets/\" rel=\"canonical\"/>\n",
            "  <link href=\"https://webrobots.io/?p=4793\" rel=\"shortlink\"/>\n",
            "  <link href=\"https://webrobots.io/wp-json/oembed/1.0/embed?url=https%3A%2F%2Fwebrobots.io%2Fkickstarter-datasets%2F\" rel=\"alternate\" type=\"application/json+oembed\"/>\n",
            "  <link href=\"https://webrobots.io/wp-json/oembed/1.0/embed?url=https%3A%2F%2Fwebrobots.io%2Fkickstarter-datasets%2F&amp;format=xml\" rel=\"alternate\" type=\"text/xml+oembed\"/>\n",
            "  <style id=\"css-fb-visibility\">\n",
            "   @media screen and (max-width: 640px){body:not(.fusion-builder-ui-wireframe) .fusion-no-small-visibility{display:none !important;}}@media screen and (min-width: 641px) and (max-width: 1024px){body:not(.fusion-builder-ui-wireframe) .fusion-no-medium-visibility{display:none !important;}}@media screen and (min-width: 1025px){body:not(.fusion-builder-ui-wireframe) .fusion-no-large-visibility{display:none !important;}}\n",
            "  </style>\n",
            "  <style id=\"custom-background-css\">\n",
            "   body.custom-background { background-image: url(\"https://webrobots.io/wp-content/uploads/2015/03/BackgroundLogo111.png\"); background-position: center top; background-size: auto; background-repeat: no-repeat; background-attachment: fixed; }\n",
            "  </style>\n",
            "  <style id=\"syntaxhighlighteranchor\">\n",
            "  </style>\n",
            "  <style id=\"wp-custom-css\">\n",
            "   .wr-sticky{\n",
            "\tposition: sticky;\n",
            "\ttop: 40px;\n",
            "}\n",
            "\n",
            ".avada_vertical_menu .menu-item:not(:last-child){\n",
            "\tborder-bottom: 1px solid rgb(0, 116, 162,0.05);\n",
            "}\n",
            "\n",
            ".avada_vertical_menu .current-menu-item{\n",
            "\tbackground-color: rgba(0,0,0,0.04);\n",
            "\ttransition: 0.25s;\n",
            "}\n",
            "  </style>\n",
            "  <script>\n",
            "   var doc = document.documentElement;\n",
            "\t\t\tdoc.setAttribute( 'data-useragent', navigator.userAgent );\n",
            "  </script>\n",
            "  <script>\n",
            "   (function(i,s,o,g,r,a,m){i['GoogleAnalyticsObject']=r;i[r]=i[r]||function(){\n",
            "(i[r].q=i[r].q||[]).push(arguments)},i[r].l=1*new Date();a=s.createElement(o),\n",
            "m=s.getElementsByTagName(o)[0];a.async=1;a.src=g;m.parentNode.insertBefore(a,m)\n",
            "})(window,document,'script','//www.google-analytics.com/analytics.js','ga');\n",
            " \n",
            "ga('create', 'UA-45974197-1', 'webrobots.io');\n",
            "ga('require', 'displayfeatures');\n",
            "ga('send', 'pageview');\n",
            "  </script>\n",
            " </head>\n",
            " <body class=\"page-template-default page page-id-4793 custom-background fusion-image-hovers fusion-pagination-sizing fusion-button_size-large fusion-button_type-flat fusion-button_span-no fusion-button_shape-round avada-image-rollover-circle-no avada-image-rollover-yes avada-image-rollover-direction-left fusion-has-button-gradient fusion-body ltr no-tablet-sticky-header no-mobile-sticky-header avada-has-rev-slider-styles fusion-disable-outline fusion-sub-menu-fade mobile-logo-pos-left layout-wide-mode avada-has-boxed-modal-shadow-none layout-scroll-offset-full avada-has-zero-margin-offset-top fusion-top-header menu-text-align-center mobile-menu-design-modern fusion-show-pagination-text fusion-header-layout-v1 avada-responsive avada-footer-fx-none avada-menu-highlight-style-bar fusion-search-form-classic fusion-avatar-square avada-sticky-shrinkage avada-dropdown-styles avada-blog-layout-large alternate avada-blog-archive-layout-medium alternate avada-header-shadow-no avada-menu-icon-position-left avada-has-mainmenu-dropdown-divider avada-has-main-nav-search-icon avada-has-100-footer avada-has-breadcrumb-mobile-hidden avada-has-titlebar-bar_and_content avada-has-pagination-padding avada-flyout-menu-direction-fade\">\n",
            "  <a class=\"skip-link screen-reader-text\" href=\"#content\">\n",
            "   Skip to content\n",
            "  </a>\n",
            "  <div id=\"boxed-wrapper\">\n",
            "   <div class=\"fusion-sides-frame\">\n",
            "   </div>\n",
            "   <div class=\"fusion-wrapper\" id=\"wrapper\">\n",
            "    <div id=\"home\" style=\"position:relative;top:-1px;\">\n",
            "    </div>\n",
            "    <div id=\"sliders-container\">\n",
            "    </div>\n",
            "    <header class=\"fusion-header-wrapper\">\n",
            "     <div class=\"fusion-header-v1 fusion-logo-alignment fusion-logo-left fusion-sticky-menu- fusion-sticky-logo- fusion-mobile-logo- fusion-mobile-menu-design-modern\">\n",
            "      <div class=\"fusion-header-sticky-height\">\n",
            "      </div>\n",
            "      <div class=\"fusion-header\">\n",
            "       <div class=\"fusion-row\">\n",
            "        <div class=\"fusion-logo\" data-margin-bottom=\"0px\" data-margin-left=\"0px\" data-margin-right=\"0px\" data-margin-top=\"0px\">\n",
            "         <a class=\"fusion-logo-link\" href=\"https://webrobots.io/\">\n",
            "          <img alt=\"Web Scraping Service Logo\" class=\"fusion-standard-logo\" data-retina_logo_url=\"\" height=\"\" src=\"/wp-content/uploads/2015/03/WebRobotsLogo300x82.png\" srcset=\"/wp-content/uploads/2015/03/WebRobotsLogo300x82.png 1x\" width=\"\"/>\n",
            "         </a>\n",
            "        </div>\n",
            "        <nav aria-label=\"Main Menu\" class=\"fusion-main-menu\">\n",
            "         <ul class=\"fusion-menu\" id=\"menu-main\">\n",
            "          <li class=\"menu-item menu-item-type-post_type menu-item-object-page menu-item-4505\" data-item-id=\"4505\" id=\"menu-item-4505\">\n",
            "           <a class=\"fusion-bar-highlight\" href=\"https://webrobots.io/services/\">\n",
            "            <span class=\"menu-text\">\n",
            "             Services\n",
            "            </span>\n",
            "           </a>\n",
            "          </li>\n",
            "          <li class=\"menu-item menu-item-type-post_type menu-item-object-page menu-item-4504\" data-item-id=\"4504\" id=\"menu-item-4504\">\n",
            "           <a class=\"fusion-bar-highlight\" href=\"https://webrobots.io/projects/\">\n",
            "            <span class=\"menu-text\">\n",
            "             Projects\n",
            "            </span>\n",
            "           </a>\n",
            "          </li>\n",
            "          <li class=\"menu-item menu-item-type-post_type menu-item-object-page menu-item-4503\" data-item-id=\"4503\" id=\"menu-item-4503\">\n",
            "           <a class=\"fusion-bar-highlight\" href=\"https://webrobots.io/about-us/\">\n",
            "            <span class=\"menu-text\">\n",
            "             About us\n",
            "            </span>\n",
            "           </a>\n",
            "          </li>\n",
            "          <li class=\"menu-item menu-item-type-post_type menu-item-object-page menu-item-4761\" data-item-id=\"4761\" id=\"menu-item-4761\">\n",
            "           <a class=\"fusion-bar-highlight\" href=\"https://webrobots.io/blog/\">\n",
            "            <span class=\"menu-text\">\n",
            "             Blog\n",
            "            </span>\n",
            "           </a>\n",
            "          </li>\n",
            "          <li class=\"menu-item menu-item-type-post_type menu-item-object-page menu-item-5620\" data-item-id=\"5620\" id=\"menu-item-5620\">\n",
            "           <a class=\"fusion-bar-highlight\" href=\"https://webrobots.io/contact-us/\">\n",
            "            <span class=\"menu-text\">\n",
            "             Contact\n",
            "            </span>\n",
            "           </a>\n",
            "          </li>\n",
            "          <li class=\"menu-item menu-item-type-post_type menu-item-object-page menu-item-has-children menu-item-5074 fusion-dropdown-menu\" data-item-id=\"5074\" id=\"menu-item-5074\">\n",
            "           <a class=\"fusion-bar-highlight\" href=\"https://webrobots.io/support/\">\n",
            "            <span class=\"menu-text\">\n",
            "             Support\n",
            "            </span>\n",
            "           </a>\n",
            "           <ul class=\"sub-menu\" role=\"menu\">\n",
            "            <li class=\"menu-item menu-item-type-post_type menu-item-object-page menu-item-5077 fusion-dropdown-submenu\" id=\"menu-item-5077\">\n",
            "             <a class=\"fusion-bar-highlight\" href=\"https://webrobots.io/robot-writer-training/\">\n",
            "              <span>\n",
            "               Useful Technologies\n",
            "              </span>\n",
            "             </a>\n",
            "            </li>\n",
            "            <li class=\"menu-item menu-item-type-post_type menu-item-object-page menu-item-5076 fusion-dropdown-submenu\" id=\"menu-item-5076\">\n",
            "             <a class=\"fusion-bar-highlight\" href=\"https://webrobots.io/scraping-tutorial/\">\n",
            "              <span>\n",
            "               Scraping Tutorial\n",
            "              </span>\n",
            "             </a>\n",
            "            </li>\n",
            "            <li class=\"menu-item menu-item-type-post_type menu-item-object-page menu-item-5075 fusion-dropdown-submenu\" id=\"menu-item-5075\">\n",
            "             <a class=\"fusion-bar-highlight\" href=\"https://webrobots.io/werobots-documentation/\">\n",
            "              <span>\n",
            "               Documentation\n",
            "              </span>\n",
            "             </a>\n",
            "            </li>\n",
            "            <li class=\"menu-item menu-item-type-post_type menu-item-object-page menu-item-5998 fusion-dropdown-submenu\" id=\"menu-item-5998\">\n",
            "             <a class=\"fusion-bar-highlight\" href=\"https://webrobots.io/support/\">\n",
            "              <span>\n",
            "               All\n",
            "              </span>\n",
            "             </a>\n",
            "            </li>\n",
            "           </ul>\n",
            "          </li>\n",
            "          <li class=\"fusion-custom-menu-item fusion-main-menu-search\">\n",
            "           <a aria-label=\"Search\" class=\"fusion-main-menu-icon fusion-bar-highlight\" data-title=\"Search\" href=\"#\" title=\"Search\">\n",
            "           </a>\n",
            "           <div class=\"fusion-custom-menu-item-contents\">\n",
            "            <form action=\"https://webrobots.io/\" class=\"searchform fusion-search-form fusion-live-search\" method=\"get\" role=\"search\">\n",
            "             <div class=\"fusion-search-form-content\">\n",
            "              <div class=\"fusion-search-field search-field\">\n",
            "               <label>\n",
            "                <span class=\"screen-reader-text\">\n",
            "                 Search for:\n",
            "                </span>\n",
            "                <input aria-label=\"Search ...\" aria-required=\"true\" class=\"s\" name=\"s\" placeholder=\"Search ...\" required=\"\" type=\"search\" value=\"\"/>\n",
            "               </label>\n",
            "              </div>\n",
            "              <div class=\"fusion-search-button search-button\">\n",
            "               <input class=\"fusion-search-submit searchsubmit\" type=\"submit\" value=\"\"/>\n",
            "              </div>\n",
            "             </div>\n",
            "            </form>\n",
            "           </div>\n",
            "          </li>\n",
            "         </ul>\n",
            "        </nav>\n",
            "        <div class=\"fusion-mobile-menu-icons\">\n",
            "         <a aria-expanded=\"false\" aria-label=\"Toggle mobile menu\" class=\"fusion-icon fusion-icon-bars\" href=\"#\">\n",
            "         </a>\n",
            "        </div>\n",
            "        <nav aria-label=\"Main Menu Mobile\" class=\"fusion-mobile-nav-holder fusion-mobile-menu-text-align-left\">\n",
            "        </nav>\n",
            "       </div>\n",
            "      </div>\n",
            "     </div>\n",
            "     <div class=\"fusion-clearfix\">\n",
            "     </div>\n",
            "    </header>\n",
            "    <div class=\"avada-page-titlebar-wrapper\">\n",
            "     <div class=\"fusion-page-title-bar fusion-page-title-bar-breadcrumbs fusion-page-title-bar-left\">\n",
            "      <div class=\"fusion-page-title-row\">\n",
            "       <div class=\"fusion-page-title-wrapper\">\n",
            "        <div class=\"fusion-page-title-captions\">\n",
            "         <h1 class=\"entry-title\">\n",
            "          Kickstarter Datasets\n",
            "         </h1>\n",
            "        </div>\n",
            "       </div>\n",
            "      </div>\n",
            "     </div>\n",
            "    </div>\n",
            "    <main class=\"clearfix \" id=\"main\">\n",
            "     <div class=\"fusion-row\" style=\"\">\n",
            "      <section id=\"content\" style=\"width: 100%;\">\n",
            "       <div class=\"post-4793 page type-page status-publish hentry\" id=\"post-4793\">\n",
            "        <span class=\"entry-title rich-snippet-hidden\">\n",
            "         Kickstarter Datasets\n",
            "        </span>\n",
            "        <span class=\"vcard rich-snippet-hidden\">\n",
            "         <span class=\"fn\">\n",
            "          <a href=\"https://webrobots.io/author/nicerobot/\" rel=\"author\" title=\"Posts by nicerobot\">\n",
            "           nicerobot\n",
            "          </a>\n",
            "         </span>\n",
            "        </span>\n",
            "        <span class=\"updated rich-snippet-hidden\">\n",
            "         2019-08-19T14:35:02+02:00\n",
            "        </span>\n",
            "        <div class=\"post-content\">\n",
            "         <div class=\"fusion-fullwidth fullwidth-box nonhundred-percent-fullwidth non-hundred-percent-height-scrolling\" style=\"background-color: #ffffff;background-position: center center;background-repeat: no-repeat;padding-top:0px;padding-right:0px;padding-bottom:0px;padding-left:0px;border-top-width:0px;border-bottom-width:0px;border-color:#eae9e9;border-top-style:solid;border-bottom-style:solid;\">\n",
            "          <div class=\"fusion-builder-row fusion-row \">\n",
            "           <div class=\"fusion-layout-column fusion_builder_column fusion_builder_column_1_1 fusion-builder-column-1 fusion-one-full fusion-column-first fusion-column-last 1_1\" style=\"margin-top:0px;margin-bottom:0px;\">\n",
            "            <div class=\"fusion-column-wrapper\" data-bg-url=\"\" style=\"padding: 0px 0px 0px 0px;background-position:left top;background-repeat:no-repeat;-webkit-background-size:cover;-moz-background-size:cover;-o-background-size:cover;background-size:cover;\">\n",
            "             <div class=\"fusion-text\">\n",
            "              <h2>\n",
            "               We have a scraper robot which crawls all\n",
            "               <a href=\"http://kickstarter.com\" rel=\"noopener noreferrer\" target=\"_blank\">\n",
            "                Kickstarter\n",
            "               </a>\n",
            "               projects and collects data in CSV and JSON formats. From March 2016 we run this data crawl once a month. Datasets are available from the following scrape dates:\n",
            "              </h2>\n",
            "              <h3>\n",
            "               2019\n",
            "              </h3>\n",
            "              <ul>\n",
            "               <li>\n",
            "                2019-08-15 [\n",
            "                <a href=\"https://s3.amazonaws.com/weruns/forfun/Kickstarter/Kickstarter_2019-08-15T03_20_03_022Z.json.gz\">\n",
            "                 JSON\n",
            "                </a>\n",
            "                ] — [\n",
            "                <a href=\"https://s3.amazonaws.com/weruns/forfun/Kickstarter/Kickstarter_2019-08-15T03_20_03_022Z.zip\">\n",
            "                 CSV\n",
            "                </a>\n",
            "                ]\n",
            "               </li>\n",
            "               <li>\n",
            "                2019-07-18 [\n",
            "                <a href=\"https://s3.amazonaws.com/weruns/forfun/Kickstarter/Kickstarter_2019-07-18T03_20_05_009Z.json.gz\">\n",
            "                 JSON\n",
            "                </a>\n",
            "                ] — [\n",
            "                <a href=\"https://s3.amazonaws.com/weruns/forfun/Kickstarter/Kickstarter_2019-07-18T03_20_05_009Z.zip\">\n",
            "                 CSV\n",
            "                </a>\n",
            "                ]\n",
            "               </li>\n",
            "               <li>\n",
            "                2019-06-13 [\n",
            "                <a href=\"https://s3.amazonaws.com/weruns/forfun/Kickstarter/Kickstarter_2019-06-13T03_20_35_801Z.json.gz\">\n",
            "                 JSON\n",
            "                </a>\n",
            "                ] — [\n",
            "                <a href=\"https://s3.amazonaws.com/weruns/forfun/Kickstarter/Kickstarter_2019-06-13T03_20_35_801Z.zip\">\n",
            "                 CSV\n",
            "                </a>\n",
            "                ]\n",
            "               </li>\n",
            "               <li>\n",
            "                2019-05-16 [\n",
            "                <a href=\"https://s3.amazonaws.com/weruns/forfun/Kickstarter/Kickstarter_2019-05-16T03_20_20_822Z.json.gz\">\n",
            "                 JSON\n",
            "                </a>\n",
            "                ] — [\n",
            "                <a href=\"https://s3.amazonaws.com/weruns/forfun/Kickstarter/Kickstarter_2019-05-16T03_20_20_822Z.zip\">\n",
            "                 CSV\n",
            "                </a>\n",
            "                ]\n",
            "               </li>\n",
            "               <li>\n",
            "                2019-04-18 [\n",
            "                <a href=\"https://s3.amazonaws.com/weruns/forfun/Kickstarter/Kickstarter_2019-04-18T03_20_02_220Z.json.gz\">\n",
            "                 JSON\n",
            "                </a>\n",
            "                ] — [\n",
            "                <a href=\"https://s3.amazonaws.com/weruns/forfun/Kickstarter/Kickstarter_2019-04-18T03_20_02_220Z.zip\">\n",
            "                 CSV\n",
            "                </a>\n",
            "                ]\n",
            "               </li>\n",
            "               <li>\n",
            "                2019-03-14 [\n",
            "                <a href=\"https://s3.amazonaws.com/weruns/forfun/Kickstarter/Kickstarter_2019-03-14T03_20_12_200Z.json.gz\">\n",
            "                 JSON\n",
            "                </a>\n",
            "                ] — [\n",
            "                <a href=\"https://s3.amazonaws.com/weruns/forfun/Kickstarter/Kickstarter_2019-03-14T03_20_12_200Z.zip\">\n",
            "                 CSV\n",
            "                </a>\n",
            "                ]\n",
            "               </li>\n",
            "               <li>\n",
            "                2019-02-14 [\n",
            "                <a href=\"https://s3.amazonaws.com/weruns/forfun/Kickstarter/Kickstarter_2019-02-14T03_20_04_734Z.json.gz\">\n",
            "                 JSON\n",
            "                </a>\n",
            "                ] — [\n",
            "                <a href=\"https://s3.amazonaws.com/weruns/forfun/Kickstarter/Kickstarter_2019-02-14T03_20_04_734Z.zip\">\n",
            "                 CSV\n",
            "                </a>\n",
            "                ]\n",
            "               </li>\n",
            "               <li>\n",
            "                2019-01-17 [\n",
            "                <a href=\"https://s3.amazonaws.com/weruns/forfun/Kickstarter/Kickstarter_2019-01-17T03_20_02_630Z.json.gz\">\n",
            "                 JSON\n",
            "                </a>\n",
            "                ] — [\n",
            "                <a href=\"https://s3.amazonaws.com/weruns/forfun/Kickstarter/Kickstarter_2019-01-17T03_20_02_630Z.zip\">\n",
            "                 CSV\n",
            "                </a>\n",
            "                ]\n",
            "               </li>\n",
            "              </ul>\n",
            "              <h3>\n",
            "               2018\n",
            "              </h3>\n",
            "              <ul>\n",
            "               <li>\n",
            "                2018-12-13 [\n",
            "                <a href=\"https://s3.amazonaws.com/weruns/forfun/Kickstarter/Kickstarter_2018-12-13T03_20_05_701Z.json.gz\">\n",
            "                 JSON\n",
            "                </a>\n",
            "                ] — [\n",
            "                <a href=\"https://s3.amazonaws.com/weruns/forfun/Kickstarter/Kickstarter_2018-12-13T03_20_05_701Z.zip\">\n",
            "                 CSV\n",
            "                </a>\n",
            "                ]\n",
            "               </li>\n",
            "               <li>\n",
            "                2018-11-15 [\n",
            "                <a href=\"https://s3.amazonaws.com/weruns/forfun/Kickstarter/Kickstarter_2018-11-15T03_20_50_568Z.json.gz\">\n",
            "                 JSON\n",
            "                </a>\n",
            "                ] — [\n",
            "                <a href=\"https://s3.amazonaws.com/weruns/forfun/Kickstarter/Kickstarter_2018-11-15T03_20_50_568Z.zip\">\n",
            "                 CSV\n",
            "                </a>\n",
            "                ]\n",
            "               </li>\n",
            "               <li>\n",
            "                2018-10-18 [\n",
            "                <a href=\"https://s3.amazonaws.com/weruns/forfun/Kickstarter/Kickstarter_2018-10-18T03_20_48_880Z.json.gz\">\n",
            "                 JSON\n",
            "                </a>\n",
            "                ] — [\n",
            "                <a href=\"https://s3.amazonaws.com/weruns/forfun/Kickstarter/Kickstarter_2018-10-18T03_20_48_880Z.zip\">\n",
            "                 CSV\n",
            "                </a>\n",
            "                ]\n",
            "               </li>\n",
            "               <li>\n",
            "                2018-09-13 [\n",
            "                <a href=\"https://s3.amazonaws.com/weruns/forfun/Kickstarter/Kickstarter_2018-09-13T03_20_17_777Z.json.gz\">\n",
            "                 JSON\n",
            "                </a>\n",
            "                ] — [\n",
            "                <a href=\"https://s3.amazonaws.com/weruns/forfun/Kickstarter/Kickstarter_2018-09-13T03_20_17_777Z.zip\">\n",
            "                 CSV\n",
            "                </a>\n",
            "                ]\n",
            "               </li>\n",
            "               <li>\n",
            "                2018-08-16 [\n",
            "                <a href=\"https://s3.amazonaws.com/weruns/forfun/Kickstarter/Kickstarter_2018-08-16T03_20_13_856Z.json.gz\">\n",
            "                 JSON\n",
            "                </a>\n",
            "                ] — [\n",
            "                <a href=\"https://s3.amazonaws.com/weruns/forfun/Kickstarter/Kickstarter_2018-08-16T03_20_13_856Z.zip\">\n",
            "                 CSV\n",
            "                </a>\n",
            "                ]\n",
            "               </li>\n",
            "               <li>\n",
            "                2018-07-12 [\n",
            "                <a href=\"https://s3.amazonaws.com/weruns/forfun/Kickstarter/Kickstarter_2018-07-12T03_20_16_435Z.json.gz\">\n",
            "                 JSON\n",
            "                </a>\n",
            "                ] — [\n",
            "                <a href=\"https://s3.amazonaws.com/weruns/forfun/Kickstarter/Kickstarter_2018-07-12T03_20_16_435Z.zip\">\n",
            "                 CSV\n",
            "                </a>\n",
            "                ]\n",
            "               </li>\n",
            "               <li>\n",
            "                2018-06-14 [\n",
            "                <a href=\"https://s3.amazonaws.com/weruns/forfun/Kickstarter/Kickstarter_2018-06-14T03_20_15_782Z.json.gz\">\n",
            "                 JSON\n",
            "                </a>\n",
            "                ] — [\n",
            "                <a href=\"https://s3.amazonaws.com/weruns/forfun/Kickstarter/Kickstarter_2018-06-14T03_20_15_782Z.zip\">\n",
            "                 CSV\n",
            "                </a>\n",
            "                ]\n",
            "               </li>\n",
            "               <li>\n",
            "                2018-05-17 [\n",
            "                <a href=\"https://s3.amazonaws.com/weruns/forfun/Kickstarter/Kickstarter_2018-05-17T03_20_08_333Z.json.gz\">\n",
            "                 JSON\n",
            "                </a>\n",
            "                ] — [\n",
            "                <a href=\"https://s3.amazonaws.com/weruns/forfun/Kickstarter/Kickstarter_2018-05-17T03_20_08_333Z.zip\">\n",
            "                 CSV\n",
            "                </a>\n",
            "                ]\n",
            "               </li>\n",
            "               <li>\n",
            "                2018-04-12 [\n",
            "                <a href=\"https://s3.amazonaws.com/weruns/forfun/Kickstarter/Kickstarter_2018-04-12T03_20_13_192Z.json.gz\">\n",
            "                 JSON\n",
            "                </a>\n",
            "                ] — [\n",
            "                <a href=\"https://s3.amazonaws.com/weruns/forfun/Kickstarter/Kickstarter_2018-04-12T03_20_13_192Z.zip\">\n",
            "                 CSV\n",
            "                </a>\n",
            "                ]\n",
            "               </li>\n",
            "               <li>\n",
            "                2018-03-15 [\n",
            "                <a href=\"https://s3.amazonaws.com/weruns/forfun/Kickstarter/Kickstarter_2018-03-15T03_20_39_033Z.json.gz\">\n",
            "                 JSON\n",
            "                </a>\n",
            "                ] — [\n",
            "                <a href=\"https://s3.amazonaws.com/weruns/forfun/Kickstarter/Kickstarter_2018-03-15T03_20_39_033Z.zip\">\n",
            "                 CSV\n",
            "                </a>\n",
            "                ]\n",
            "               </li>\n",
            "               <li>\n",
            "                2018-02-15 [\n",
            "                <a href=\"https://s3.amazonaws.com/weruns/forfun/Kickstarter/Kickstarter_2018-02-15T03_20_44_743Z.json.gz\">\n",
            "                 JSON\n",
            "                </a>\n",
            "                ] — [\n",
            "                <a href=\"https://s3.amazonaws.com/weruns/forfun/Kickstarter/Kickstarter_2018-02-15T03_20_44_743Z.zip\">\n",
            "                 CSV\n",
            "                </a>\n",
            "                ]\n",
            "               </li>\n",
            "               <li>\n",
            "                2018-01-12 [\n",
            "                <a href=\"https://s3.amazonaws.com/weruns/forfun/Kickstarter/Kickstarter_2018-01-12T10_20_09_196Z.json.gz\">\n",
            "                 JSON\n",
            "                </a>\n",
            "                ] — [\n",
            "                <a href=\"https://s3.amazonaws.com/weruns/forfun/Kickstarter/Kickstarter_2018-01-12T10_20_09_196Z.zip\">\n",
            "                 CSV\n",
            "                </a>\n",
            "                ]\n",
            "               </li>\n",
            "              </ul>\n",
            "              <h3>\n",
            "               2017\n",
            "              </h3>\n",
            "              <ul>\n",
            "               <li>\n",
            "                2017-12-15 [\n",
            "                <a href=\"https://s3.amazonaws.com/weruns/forfun/Kickstarter/Kickstarter_2017-12-15T10_20_51_610Z.json.gz\">\n",
            "                 JSON\n",
            "                </a>\n",
            "                ] — [\n",
            "                <a href=\"https://s3.amazonaws.com/weruns/forfun/Kickstarter/Kickstarter_2017-12-15T10_20_51_610Z.zip\">\n",
            "                 CSV\n",
            "                </a>\n",
            "                ]\n",
            "               </li>\n",
            "               <li>\n",
            "                2017-11-15 [\n",
            "                <a href=\"https://s3.amazonaws.com/weruns/forfun/Kickstarter/Kickstarter_2017-11-15T10_21_04_919Z.json.gz\">\n",
            "                 JSON\n",
            "                </a>\n",
            "                ] — [\n",
            "                <a href=\"https://s3.amazonaws.com/weruns/forfun/Kickstarter/Kickstarter_2017-11-15T10_21_04_919Z.zip\">\n",
            "                 CSV\n",
            "                </a>\n",
            "                ]\n",
            "               </li>\n",
            "               <li>\n",
            "                2017-10-15 [\n",
            "                <a href=\"https://s3.amazonaws.com/weruns/forfun/Kickstarter/Kickstarter_2017-10-15T10_20_38_271Z.json.gz\">\n",
            "                 JSON\n",
            "                </a>\n",
            "                ] — [\n",
            "                <a href=\"https://s3.amazonaws.com/weruns/forfun/Kickstarter/Kickstarter_2017-10-15T10_20_38_271Z.zip\">\n",
            "                 CSV\n",
            "                </a>\n",
            "                ]\n",
            "               </li>\n",
            "               <li>\n",
            "                2017-09-15 [\n",
            "                <a href=\"https://s3.amazonaws.com/weruns/forfun/Kickstarter/Kickstarter_2017-09-15T22_20_48_432Z.json.gz\">\n",
            "                 JSON\n",
            "                </a>\n",
            "                ] — [\n",
            "                <a href=\"https://s3.amazonaws.com/weruns/forfun/Kickstarter/Kickstarter_2017-09-15T22_20_48_432Z.zip\">\n",
            "                 CSV\n",
            "                </a>\n",
            "                ]\n",
            "               </li>\n",
            "               <li>\n",
            "                2017-08-15 [\n",
            "                <a href=\"https://s3.amazonaws.com/weruns/forfun/Kickstarter/Kickstarter_2017-08-15T22_20_51_958Z.json.gz\">\n",
            "                 JSON\n",
            "                </a>\n",
            "                ] — [\n",
            "                <a href=\"https://s3.amazonaws.com/weruns/forfun/Kickstarter/Kickstarter_2017-08-15T22_20_51_958Z.zip\">\n",
            "                 CSV\n",
            "                </a>\n",
            "                ]\n",
            "               </li>\n",
            "               <li>\n",
            "                2017-07-15 [\n",
            "                <a href=\"https://s3.amazonaws.com/weruns/forfun/Kickstarter/Kickstarter_2017-07-15T22_20_48_951Z.json.gz\">\n",
            "                 JSON\n",
            "                </a>\n",
            "                ] — [\n",
            "                <a href=\"https://s3.amazonaws.com/weruns/forfun/Kickstarter/Kickstarter_2017-07-15T22_20_48_951Z.zip\">\n",
            "                 CSV\n",
            "                </a>\n",
            "                ]\n",
            "               </li>\n",
            "               <li>\n",
            "                2017-06-15 [\n",
            "                <a href=\"https://s3.amazonaws.com/weruns/forfun/Kickstarter/Kickstarter_2017-06-15T22_20_03_059Z.json.gz\">\n",
            "                 JSON\n",
            "                </a>\n",
            "                ] — [\n",
            "                <a href=\"https://s3.amazonaws.com/weruns/forfun/Kickstarter/Kickstarter_2017-06-15T22_20_03_059Z.zip\">\n",
            "                 CSV\n",
            "                </a>\n",
            "                ]\n",
            "               </li>\n",
            "               <li>\n",
            "                2017-05-15 [\n",
            "                <a href=\"https://s3.amazonaws.com/weruns/forfun/Kickstarter/Kickstarter_2017-05-15T22_21_11_300Z.json.gz\">\n",
            "                 JSON\n",
            "                </a>\n",
            "                ] — [\n",
            "                <a href=\"https://s3.amazonaws.com/weruns/forfun/Kickstarter/Kickstarter_2017-05-15T22_21_11_300Z.zip\">\n",
            "                 CSV\n",
            "                </a>\n",
            "                ]\n",
            "               </li>\n",
            "               <li>\n",
            "                2017-04-15 [\n",
            "                <a href=\"https://s3.amazonaws.com/weruns/forfun/Kickstarter/Kickstarter_2017-04-15T22_21_18_122Z.json.gz\">\n",
            "                 JSON\n",
            "                </a>\n",
            "                ] — [\n",
            "                <a href=\"https://s3.amazonaws.com/weruns/forfun/Kickstarter/Kickstarter_2017-04-15T22_21_18_122Z.zip\">\n",
            "                 CSV\n",
            "                </a>\n",
            "                ]\n",
            "               </li>\n",
            "               <li>\n",
            "                2017-03-15 [\n",
            "                <a href=\"https://s3.amazonaws.com/weruns/forfun/Kickstarter/Kickstarter_2017-03-15T22_20_55_874Z.json.gz\">\n",
            "                 JSON\n",
            "                </a>\n",
            "                ] — [\n",
            "                <a href=\"https://s3.amazonaws.com/weruns/forfun/Kickstarter/Kickstarter_2017-03-15T22_20_55_874Z.zip\">\n",
            "                 CSV\n",
            "                </a>\n",
            "                ]\n",
            "               </li>\n",
            "               <li>\n",
            "                2017-02-15 [\n",
            "                <a href=\"https://s3.amazonaws.com/weruns/forfun/Kickstarter/Kickstarter_2017-02-15T22_22_48_377Z.json.gz\">\n",
            "                 JSON\n",
            "                </a>\n",
            "                ] — [\n",
            "                <a href=\"https://s3.amazonaws.com/weruns/forfun/Kickstarter/Kickstarter_2017-02-15T22_22_48_377Z.zip\">\n",
            "                 CSV\n",
            "                </a>\n",
            "                ]\n",
            "               </li>\n",
            "               <li>\n",
            "                2017-01-15 [\n",
            "                <a href=\"https://s3.amazonaws.com/weruns/forfun/Kickstarter/Kickstarter_2017-01-15T22_21_04_985Z.json.gz\">\n",
            "                 JSON\n",
            "                </a>\n",
            "                ] — [\n",
            "                <a href=\"https://s3.amazonaws.com/weruns/forfun/Kickstarter/Kickstarter_2017-01-15T22_21_04_985Z.zip\">\n",
            "                 CSV\n",
            "                </a>\n",
            "                ]\n",
            "               </li>\n",
            "              </ul>\n",
            "              <h3>\n",
            "               2016\n",
            "              </h3>\n",
            "              <ul>\n",
            "               <li>\n",
            "                2016-12-15 [\n",
            "                <a href=\"https://s3.amazonaws.com/weruns/forfun/Kickstarter/Kickstarter_2016-12-15T22_20_52_411Z.json.gz\">\n",
            "                 JSON\n",
            "                </a>\n",
            "                ] — [\n",
            "                <a href=\"https://s3.amazonaws.com/weruns/forfun/Kickstarter/Kickstarter_2016-12-15T22_20_52_411Z.zip\">\n",
            "                 CSV\n",
            "                </a>\n",
            "                ]\n",
            "               </li>\n",
            "               <li>\n",
            "                2016-11-12 [\n",
            "                <a href=\"https://s3.amazonaws.com/weruns/forfun/Kickstarter/Kickstarter_2016-11-12T22_20_03_295Z.json.gz\">\n",
            "                 JSON\n",
            "                </a>\n",
            "                ] — [\n",
            "                <a href=\"https://s3.amazonaws.com/weruns/forfun/Kickstarter/Kickstarter_2016-11-12T22_20_03_295Z.zip\">\n",
            "                 CSV\n",
            "                </a>\n",
            "                ]\n",
            "               </li>\n",
            "               <li>\n",
            "                2016-10-15 [\n",
            "                <a href=\"https://s3.amazonaws.com/weruns/forfun/Kickstarter/Kickstarter_2016-10-15T02_04_11_689Z.json.gz\">\n",
            "                 JSON\n",
            "                </a>\n",
            "                ] — [\n",
            "                <a href=\"https://s3.amazonaws.com/weruns/forfun/Kickstarter/Kickstarter_2016-10-15T02_04_11_689Z.zip\">\n",
            "                 CSV\n",
            "                </a>\n",
            "                ]\n",
            "               </li>\n",
            "               <li>\n",
            "                2016-09-15 [\n",
            "                <a href=\"https://s3.amazonaws.com/weruns/forfun/Kickstarter/Kickstarter_2016-09-15T02_04_03_474Z.json.gz\">\n",
            "                 JSON\n",
            "                </a>\n",
            "                ] — [\n",
            "                <a href=\"https://s3.amazonaws.com/weruns/forfun/Kickstarter/Kickstarter_2016-09-15T02_04_03_474Z.zip\">\n",
            "                 CSV\n",
            "                </a>\n",
            "                ]\n",
            "               </li>\n",
            "               <li>\n",
            "                2016-08-15 [\n",
            "                <a href=\"https://s3.amazonaws.com/weruns/forfun/Kickstarter/Kickstarter_2016-08-15T02_04_03_829Z.json.gz\">\n",
            "                 JSON\n",
            "                </a>\n",
            "                ] — [\n",
            "                <a href=\"https://s3.amazonaws.com/weruns/forfun/Kickstarter/Kickstarter_2016-08-15T02_04_03_829Z.zip\">\n",
            "                 CSV\n",
            "                </a>\n",
            "                ]\n",
            "               </li>\n",
            "               <li>\n",
            "                2016-07-15 [\n",
            "                <a href=\"https://s3.amazonaws.com/weruns/forfun/Kickstarter/Kickstarter_2016-07-15T02_04_40_862Z.json.gz\">\n",
            "                 JSON\n",
            "                </a>\n",
            "                ] — [\n",
            "                <a href=\"https://s3.amazonaws.com/weruns/forfun/Kickstarter/Kickstarter_2016-07-15T02_04_40_862Z.zip\">\n",
            "                 CSV\n",
            "                </a>\n",
            "                ]\n",
            "               </li>\n",
            "               <li>\n",
            "                2016-06-15 [\n",
            "                <a href=\"https://s3.amazonaws.com/weruns/forfun/Kickstarter/Kickstarter_2016-06-15T02_04_49_697Z.json.gz\">\n",
            "                 JSON\n",
            "                </a>\n",
            "                ] — [\n",
            "                <a href=\"https://s3.amazonaws.com/weruns/forfun/Kickstarter/Kickstarter_2016-06-15T02_04_49_697Z.zip\">\n",
            "                 CSV\n",
            "                </a>\n",
            "                ]\n",
            "               </li>\n",
            "               <li>\n",
            "                2016-05-15 [\n",
            "                <a href=\"https://s3.amazonaws.com/weruns/forfun/Kickstarter/Kickstarter_2016-05-15T02_04_46_813Z.json.gz\">\n",
            "                 JSON\n",
            "                </a>\n",
            "                ] — [\n",
            "                <a href=\"https://s3.amazonaws.com/weruns/forfun/Kickstarter/Kickstarter_2016-05-15T02_04_46_813Z.zip\">\n",
            "                 CSV\n",
            "                </a>\n",
            "                ]\n",
            "               </li>\n",
            "               <li>\n",
            "                2016-04-15 [\n",
            "                <a href=\"https://s3.amazonaws.com/weruns/forfun/Kickstarter/Kickstarter_2016-04-15T02_09_04_328Z.json.gz\">\n",
            "                 JSON\n",
            "                </a>\n",
            "                ] — [\n",
            "                <a href=\"https://s3.amazonaws.com/weruns/forfun/Kickstarter/Kickstarter_2016-04-15T02_09_04_328Z.zip\">\n",
            "                 CSV\n",
            "                </a>\n",
            "                ]\n",
            "               </li>\n",
            "               <li>\n",
            "                2016-03-22 [\n",
            "                <a href=\"https://s3.amazonaws.com/weruns/forfun/Kickstarter/Kickstarter_2016-03-22T07_41_08_591Z.json.gz\">\n",
            "                 JSON\n",
            "                </a>\n",
            "                ] — [\n",
            "                <a href=\"https://s3.amazonaws.com/weruns/forfun/Kickstarter/Kickstarter_2016-03-22T07_41_08_591Z.zip\">\n",
            "                 CSV\n",
            "                </a>\n",
            "                ]\n",
            "               </li>\n",
            "               <li>\n",
            "                2016-01-28 [\n",
            "                <a href=\"https://s3.amazonaws.com/weruns/forfun/Kickstarter/Kickstarter_2016-01-28T09_15_08_781Z.json.gz\">\n",
            "                 JSON\n",
            "                </a>\n",
            "                ] — [\n",
            "                <a href=\"https://s3.amazonaws.com/weruns/forfun/Kickstarter/Kickstarter_2016-01-28T09_15_08_781Z.zip\">\n",
            "                 CSV\n",
            "                </a>\n",
            "                ]\n",
            "               </li>\n",
            "              </ul>\n",
            "              <h3>\n",
            "               2015 and older\n",
            "              </h3>\n",
            "              <ul>\n",
            "               <li>\n",
            "                2015-12-17 [\n",
            "                <a href=\"https://s3.amazonaws.com/weruns/forfun/Kickstarter/Kickstarter_2015-12-17T12_09_06_107Z.json.gz\">\n",
            "                 JSON\n",
            "                </a>\n",
            "                ] — [\n",
            "                <a href=\"https://s3.amazonaws.com/weruns/forfun/Kickstarter/Kickstarter_2015-12-17T12_09_06_107Z.zip\">\n",
            "                 CSV\n",
            "                </a>\n",
            "                ]\n",
            "               </li>\n",
            "               <li>\n",
            "                2015-11-01 [\n",
            "                <a href=\"https://s3.amazonaws.com/weruns/forfun/Kickstarter/Kickstarter_2015-11-01T14_09_04_557Z.json.gz\" rel=\"noopener noreferrer\" target=\"_blank\">\n",
            "                 JSON\n",
            "                </a>\n",
            "                ] — [\n",
            "                <a href=\"https://s3.amazonaws.com/weruns/forfun/Kickstarter/Kickstarter_2015-11-01T14_09_04_557Z.zip\" rel=\"noopener noreferrer\" target=\"_blank\">\n",
            "                 CSV\n",
            "                </a>\n",
            "                ]\n",
            "               </li>\n",
            "               <li>\n",
            "                2015-10-22 [\n",
            "                <a href=\"https://s3.amazonaws.com/weruns/forfun/Kickstarter/Kickstarter_2015-10-22T09_57_48_703Z.json.gz\" rel=\"noopener noreferrer\" target=\"_blank\">\n",
            "                 JSON\n",
            "                </a>\n",
            "                ] [\n",
            "                <a href=\"https://s3.amazonaws.com/weruns/forfun/Kickstarter/Kickstarter_2015-10-22T09_57_48_703Z.zip\" rel=\"noopener noreferrer\" target=\"_blank\">\n",
            "                 CSV\n",
            "                </a>\n",
            "                ]\n",
            "               </li>\n",
            "               <li>\n",
            "                2015-08-21 [\n",
            "                <a href=\"https://s3.amazonaws.com/weruns/kickstarter_old/Kickstarter_2015-08-21.json.zip\" rel=\"noopener noreferrer\" target=\"_blank\">\n",
            "                 JSON\n",
            "                </a>\n",
            "                ]\n",
            "               </li>\n",
            "               <li>\n",
            "                2015-06-12 [\n",
            "                <a href=\"https://s3.amazonaws.com/weruns/kickstarter_old/Kickstarter_2015-06-12.json.zip\" rel=\"noopener noreferrer\" target=\"_blank\">\n",
            "                 JSON\n",
            "                </a>\n",
            "                ]\n",
            "               </li>\n",
            "               <li>\n",
            "                2015-04-02 [\n",
            "                <a href=\"https://s3.amazonaws.com/weruns/kickstarter_old/Kickstarter_2015-04-02.json.zip\" rel=\"noopener noreferrer\" target=\"_blank\">\n",
            "                 JSON\n",
            "                </a>\n",
            "                ]\n",
            "               </li>\n",
            "               <li>\n",
            "                2014-12-02 [\n",
            "                <a href=\"https://s3.amazonaws.com/weruns/kickstarter_old/Kickstarter_2014-12-02.json.zip\">\n",
            "                 JSON\n",
            "                </a>\n",
            "                ]\n",
            "               </li>\n",
            "               <li>\n",
            "                2014-10-17 [\n",
            "                <a href=\"https://s3.amazonaws.com/weruns/kickstarter_old/Kickstarter_2014-10-17.json.zip\" rel=\"noopener noreferrer\" target=\"_blank\">\n",
            "                 JSON\n",
            "                </a>\n",
            "                ]\n",
            "               </li>\n",
            "               <li>\n",
            "                2014-08-13 [\n",
            "                <a href=\"https://s3.amazonaws.com/weruns/kickstarter_old/Kickstarter_2014-08-13.json.zip\" rel=\"noopener noreferrer\" target=\"_blank\">\n",
            "                 JSON\n",
            "                </a>\n",
            "                ]\n",
            "               </li>\n",
            "               <li>\n",
            "                2014-04-22 [\n",
            "                <a href=\"https://s3.amazonaws.com/weruns/kickstarter_old/Kickstarter_2014-04-22.json.zip\" rel=\"noopener noreferrer\" target=\"_blank\">\n",
            "                 JSON\n",
            "                </a>\n",
            "                ]\n",
            "               </li>\n",
            "              </ul>\n",
            "              <h2>\n",
            "               <strong>\n",
            "                We are also currently working on a web interface for crowdfunding dataset. You will be able to access it\n",
            "                <a href=\"http://crowdfunding.webrobots.io\">\n",
            "                 here\n",
            "                </a>\n",
            "                .\n",
            "               </strong>\n",
            "              </h2>\n",
            "              <p>\n",
            "               <span style=\"color: #ff0000;\">\n",
            "                Note:\n",
            "               </span>\n",
            "               from April 2015 we noticed that Kickstarter started limiting how many projects user can view in a single category. This limits the amount of historic projects we can get in a single scrape run. But recent and active projects are always included.\n",
            "              </p>\n",
            "              <p>\n",
            "               <span style=\"color: #ff0000;\">\n",
            "                Note:\n",
            "               </span>\n",
            "               from December 2015 we modified the collection approach to go through all sub-categories instead of only top level categories. This yields more results in the datasets, but possible duplication where projects are listed in multiple categories. Also from December 2015 JSON file is in JSON streaming format. Read more about it here:\n",
            "               <a href=\"https://en.wikipedia.org/wiki/JSON_Streaming\" rel=\"noopener noreferrer\" target=\"_blank\">\n",
            "                https://en.wikipedia.org/wiki/JSON_Streaming\n",
            "               </a>\n",
            "              </p>\n",
            "              <p>\n",
            "               We receive many question about timestamp format used in this dataset. It is unix time. Google has a lot of information about it.\n",
            "              </p>\n",
            "              <p>\n",
            "               Warning: files are compressed, size in area of 100mb. Uncompressed size around 600mb.\n",
            "              </p>\n",
            "              <p>\n",
            "               Also see: our\n",
            "               <a href=\"https://webrobots.io/indiegogo-dataset/\">\n",
            "                Indiegogo data\n",
            "               </a>\n",
            "              </p>\n",
            "             </div>\n",
            "             <div class=\"fusion-clearfix\">\n",
            "             </div>\n",
            "            </div>\n",
            "           </div>\n",
            "          </div>\n",
            "         </div>\n",
            "        </div>\n",
            "       </div>\n",
            "      </section>\n",
            "     </div>\n",
            "    </main>\n",
            "    <div class=\"fusion-footer\">\n",
            "     <footer class=\"fusion-footer-copyright-area\" id=\"footer\">\n",
            "      <div class=\"fusion-row\">\n",
            "       <div class=\"fusion-copyright-content\">\n",
            "        <div class=\"fusion-copyright-notice\">\n",
            "         <div>\n",
            "          Copyright 2013-2019 Web Robots |\n",
            "          <a href=\"/terms-and-conditions/\">\n",
            "           Terms and Conditions\n",
            "          </a>\n",
            "          |\n",
            "          <a href=\"/privacy-policy/\">\n",
            "           Privacy Policy\n",
            "          </a>\n",
            "          | All Rights Reserved\n",
            "         </div>\n",
            "        </div>\n",
            "        <div class=\"fusion-social-links-footer\">\n",
            "        </div>\n",
            "       </div>\n",
            "      </div>\n",
            "     </footer>\n",
            "    </div>\n",
            "    <div class=\"fusion-sliding-bar-wrapper\">\n",
            "    </div>\n",
            "   </div>\n",
            "  </div>\n",
            "  <div class=\"fusion-top-frame\">\n",
            "  </div>\n",
            "  <div class=\"fusion-bottom-frame\">\n",
            "  </div>\n",
            "  <div class=\"fusion-boxed-shadow\">\n",
            "  </div>\n",
            "  <a class=\"fusion-one-page-text-link fusion-page-load-link\">\n",
            "  </a>\n",
            "  <div class=\"avada-footer-scripts\">\n",
            "   <script>\n",
            "    var wpcf7 = {\"apiSettings\":{\"root\":\"https:\\/\\/webrobots.io\\/wp-json\\/contact-form-7\\/v1\",\"namespace\":\"contact-form-7\\/v1\"},\"cached\":\"1\"};\n",
            "   </script>\n",
            "   <script src=\"https://webrobots.io/wp-content/cache/minify/5c758.js\">\n",
            "   </script>\n",
            "   <script>\n",
            "    var fusionVideoGeneralVars = {\"status_vimeo\":\"1\",\"status_yt\":\"1\"};\n",
            "   </script>\n",
            "   <script src=\"https://webrobots.io/wp-content/cache/minify/6aaea.js\">\n",
            "   </script>\n",
            "   <script>\n",
            "    var fusionLightboxVideoVars = {\"lightbox_video_width\":\"1280\",\"lightbox_video_height\":\"720\"};\n",
            "   </script>\n",
            "   <script src=\"https://webrobots.io/wp-content/cache/minify/99006.js\">\n",
            "   </script>\n",
            "   <script>\n",
            "    var fusionLightboxVars = {\"status_lightbox\":\"1\",\"lightbox_gallery\":\"1\",\"lightbox_skin\":\"metro-white\",\"lightbox_title\":\"1\",\"lightbox_arrows\":\"1\",\"lightbox_slideshow_speed\":\"5000\",\"lightbox_autoplay\":\"\",\"lightbox_opacity\":\"0.80\",\"lightbox_desc\":\"1\",\"lightbox_social\":\"1\",\"lightbox_deeplinking\":\"1\",\"lightbox_path\":\"vertical\",\"lightbox_post_images\":\"\",\"lightbox_animation_speed\":\"fast\"};\n",
            "   </script>\n",
            "   <script src=\"https://webrobots.io/wp-content/cache/minify/06cdd.js\">\n",
            "   </script>\n",
            "   <script>\n",
            "    /*<![CDATA[*/var avadaPortfolioVars = {\"lightbox_behavior\":\"all\",\"infinite_finished_msg\":\"<em>All items displayed.<\\/em>\",\"infinite_blog_text\":\"<em>Loading the next set of posts...<\\/em>\",\"content_break_point\":\"800\"};/*]]>*/\n",
            "   </script>\n",
            "   <script src=\"https://webrobots.io/wp-content/cache/minify/3243d.js\">\n",
            "   </script>\n",
            "   <script>\n",
            "    var fusionBgImageVars = {\"content_break_point\":\"800\"};\n",
            "   </script>\n",
            "   <script src=\"https://webrobots.io/wp-content/cache/minify/93d60.js\">\n",
            "   </script>\n",
            "   <script>\n",
            "    var fusionAnimationsVars = {\"disable_mobile_animate_css\":\"1\",\"use_animate_css\":\"1\"};\n",
            "   </script>\n",
            "   <script src=\"https://webrobots.io/wp-content/cache/minify/b6256.js\">\n",
            "   </script>\n",
            "   <script>\n",
            "    var fusionEqualHeightVars = {\"content_break_point\":\"800\"};\n",
            "   </script>\n",
            "   <script src=\"https://webrobots.io/wp-content/cache/minify/a7542.js\">\n",
            "   </script>\n",
            "   <script>\n",
            "    var fusionVideoBgVars = {\"status_vimeo\":\"1\",\"status_yt\":\"1\"};\n",
            "   </script>\n",
            "   <script src=\"https://webrobots.io/wp-content/cache/minify/344a7.js\">\n",
            "   </script>\n",
            "   <script>\n",
            "    var fusionContainerVars = {\"content_break_point\":\"800\",\"container_hundred_percent_height_mobile\":\"0\",\"is_sticky_header_transparent\":\"1\"};\n",
            "   </script>\n",
            "   <script src=\"https://webrobots.io/wp-content/cache/minify/654eb.js\">\n",
            "   </script>\n",
            "   <script>\n",
            "    var fusionCountersBox = {\"counter_box_speed\":\"1000\"};\n",
            "   </script>\n",
            "   <script src=\"https://webrobots.io/wp-content/cache/minify/9bafc.js\">\n",
            "   </script>\n",
            "   <script>\n",
            "    var fusionMapsVars = {\"admin_ajax\":\"https:\\/\\/webrobots.io\\/wp-admin\\/admin-ajax.php\"};\n",
            "   </script>\n",
            "   <script src=\"https://webrobots.io/wp-content/cache/minify/52145.js\">\n",
            "   </script>\n",
            "   <script>\n",
            "    /*<![CDATA[*/var fusionRecentPostsVars = {\"infinite_loading_text\":\"<em>Loading the next set of posts...<\\/em>\",\"infinite_finished_msg\":\"<em>All items displayed.<\\/em>\"};/*]]>*/\n",
            "   </script>\n",
            "   <script src=\"https://webrobots.io/wp-content/cache/minify/7b0a4.js\">\n",
            "   </script>\n",
            "   <script>\n",
            "    var fusionTabVars = {\"content_break_point\":\"800\"};\n",
            "   </script>\n",
            "   <script src=\"https://webrobots.io/wp-content/cache/minify/ebc27.js\">\n",
            "   </script>\n",
            "   <script>\n",
            "    var fusionTestimonialVars = {\"testimonials_speed\":\"4000\"};\n",
            "   </script>\n",
            "   <script src=\"https://webrobots.io/wp-content/cache/minify/be5d7.js\">\n",
            "   </script>\n",
            "   <script>\n",
            "    var fusionVideoVars = {\"status_vimeo\":\"1\"};\n",
            "   </script>\n",
            "   <script src=\"https://webrobots.io/wp-content/cache/minify/eee5b.js\">\n",
            "   </script>\n",
            "   <script>\n",
            "    var fusionCarouselVars = {\"related_posts_speed\":\"2500\",\"carousel_speed\":\"2500\"};\n",
            "   </script>\n",
            "   <script src=\"https://webrobots.io/wp-content/cache/minify/5c1bc.js\">\n",
            "   </script>\n",
            "   <script>\n",
            "    var fusionFlexSliderVars = {\"status_vimeo\":\"1\",\"slideshow_autoplay\":\"1\",\"slideshow_speed\":\"7000\",\"pagination_video_slide\":\"\",\"status_yt\":\"1\",\"flex_smoothHeight\":\"false\"};\n",
            "   </script>\n",
            "   <script src=\"https://webrobots.io/wp-content/cache/minify/0351e.js\">\n",
            "   </script>\n",
            "   <script>\n",
            "    /*<![CDATA[*/var fusionBlogVars = {\"infinite_blog_text\":\"<em>Loading the next set of posts...<\\/em>\",\"infinite_finished_msg\":\"<em>All items displayed.<\\/em>\",\"slideshow_autoplay\":\"1\",\"lightbox_behavior\":\"all\",\"blog_pagination_type\":\"pagination\"};/*]]>*/\n",
            "   </script>\n",
            "   <script src=\"https://webrobots.io/wp-content/cache/minify/3c970.js\">\n",
            "   </script>\n",
            "   <script>\n",
            "    var avadaHeaderVars = {\"header_position\":\"top\",\"header_sticky\":\"\",\"header_sticky_type2_layout\":\"menu_only\",\"header_sticky_shadow\":\"1\",\"side_header_break_point\":\"800\",\"header_sticky_mobile\":\"\",\"header_sticky_tablet\":\"\",\"mobile_menu_design\":\"modern\",\"sticky_header_shrinkage\":\"1\",\"nav_height\":\"80\",\"nav_highlight_border\":\"2\",\"nav_highlight_style\":\"bar\",\"logo_margin_top\":\"0px\",\"logo_margin_bottom\":\"0px\",\"layout_mode\":\"wide\",\"header_padding_top\":\"32px\",\"header_padding_bottom\":\"32px\",\"scroll_offset\":\"full\"};\n",
            "   </script>\n",
            "   <script src=\"https://webrobots.io/wp-content/cache/minify/5f0d1.js\">\n",
            "   </script>\n",
            "   <script>\n",
            "    var avadaMenuVars = {\"site_layout\":\"wide\",\"header_position\":\"top\",\"logo_alignment\":\"left\",\"header_sticky\":\"\",\"header_sticky_mobile\":\"\",\"header_sticky_tablet\":\"\",\"side_header_break_point\":\"800\",\"megamenu_base_width\":\"custom_width\",\"mobile_menu_design\":\"modern\",\"dropdown_goto\":\"Go to...\",\"mobile_nav_cart\":\"Shopping Cart\",\"mobile_submenu_open\":\"Open submenu of %s\",\"mobile_submenu_close\":\"Close submenu of %s\",\"submenu_slideout\":\"1\"};\n",
            "   </script>\n",
            "   <script src=\"https://webrobots.io/wp-content/cache/minify/31e22.js\">\n",
            "   </script>\n",
            "   <script>\n",
            "    var fusionScrollToAnchorVars = {\"content_break_point\":\"800\",\"container_hundred_percent_height_mobile\":\"0\"};\n",
            "   </script>\n",
            "   <script src=\"https://webrobots.io/wp-content/cache/minify/59632.js\">\n",
            "   </script>\n",
            "   <script>\n",
            "    var fusionTypographyVars = {\"site_width\":\"85%\",\"typography_responsive\":\"\",\"typography_sensitivity\":\"0.60\",\"typography_factor\":\"1.50\",\"elements\":\"h1, h2, h3, h4, h5, h6\"};\n",
            "   </script>\n",
            "   <script src=\"https://webrobots.io/wp-content/cache/minify/10e29.js\">\n",
            "   </script>\n",
            "   <script>\n",
            "    var avadaCommentVars = {\"title_style_type\":\"double solid\",\"title_margin_top\":\"0px\",\"title_margin_bottom\":\"31px\"};\n",
            "   </script>\n",
            "   <script src=\"https://webrobots.io/wp-content/cache/minify/9a50d.js\">\n",
            "   </script>\n",
            "   <script>\n",
            "    var avadaSidebarsVars = {\"header_position\":\"top\",\"header_layout\":\"v1\",\"header_sticky\":\"\",\"header_sticky_type2_layout\":\"menu_only\",\"side_header_break_point\":\"800\",\"header_sticky_tablet\":\"\",\"sticky_header_shrinkage\":\"1\",\"nav_height\":\"80\",\"sidebar_break_point\":\"800\"};\n",
            "   </script>\n",
            "   <script src=\"https://webrobots.io/wp-content/cache/minify/b9b52.js\">\n",
            "   </script>\n",
            "   <script>\n",
            "    var toTopscreenReaderText = {\"label\":\"Go to Top\"};\n",
            "   </script>\n",
            "   <script src=\"https://webrobots.io/wp-content/cache/minify/275d1.js\">\n",
            "   </script>\n",
            "   <script>\n",
            "    var avadaToTopVars = {\"status_totop\":\"desktop_and_mobile\",\"totop_position\":\"right\",\"totop_scroll_down_only\":\"0\"};\n",
            "   </script>\n",
            "   <script src=\"https://webrobots.io/wp-content/cache/minify/67b50.js\">\n",
            "   </script>\n",
            "   <script>\n",
            "    var avadaSelectVars = {\"avada_drop_down\":\"1\"};\n",
            "   </script>\n",
            "   <script src=\"https://webrobots.io/wp-content/cache/minify/39c22.js\">\n",
            "   </script>\n",
            "   <script>\n",
            "    var avadaMobileImageVars = {\"side_header_break_point\":\"800\",\"disable_mobile_image_hovers\":\"0\"};\n",
            "   </script>\n",
            "   <script src=\"https://webrobots.io/wp-content/cache/minify/7db38.js\">\n",
            "   </script>\n",
            "   <script>\n",
            "    var avadaElasticSliderVars = {\"tfes_autoplay\":\"1\",\"tfes_animation\":\"sides\",\"tfes_interval\":\"3000\",\"tfes_speed\":\"800\",\"tfes_width\":\"150\"};\n",
            "   </script>\n",
            "   <script src=\"https://webrobots.io/wp-content/cache/minify/70ce7.js\">\n",
            "   </script>\n",
            "   <script>\n",
            "    var avadaFusionSliderVars = {\"side_header_break_point\":\"800\",\"slider_position\":\"above\",\"header_transparency\":\"0\",\"mobile_header_transparency\":\"0\",\"header_position\":\"top\",\"content_break_point\":\"800\",\"status_vimeo\":\"1\"};\n",
            "   </script>\n",
            "   <script src=\"https://webrobots.io/wp-content/cache/minify/bab73.js\">\n",
            "   </script>\n",
            "   <script src=\"https://webrobots.io/?wooslider-javascript=load&amp;t=1569456444&amp;ver=1.0.0\">\n",
            "   </script>\n",
            "   <script>\n",
            "    jQuery( document ).ready( function() {\n",
            "\t\t\t\t\tvar ajaxurl = 'https://webrobots.io/wp-admin/admin-ajax.php';\n",
            "\t\t\t\t\tif ( 0 < jQuery( '.fusion-login-nonce' ).length ) {\n",
            "\t\t\t\t\t\tjQuery.get( ajaxurl, { 'action': 'fusion_login_nonce' }, function( response ) {\n",
            "\t\t\t\t\t\t\tjQuery( '.fusion-login-nonce' ).html( response );\n",
            "\t\t\t\t\t\t});\n",
            "\t\t\t\t\t}\n",
            "\t\t\t\t});\n",
            "   </script>\n",
            "   <script>\n",
            "    jQuery(document).ready(function() {\n",
            "                    if(typeof scroll_events == 'undefined') {\n",
            "                        return;\n",
            "                    }\n",
            "                    scroll_events.bind_events( {\n",
            "                        universal: 1,\n",
            "                        gtm:0,\n",
            "                        gst:0,\n",
            "\n",
            "                        scroll_elements: [],\n",
            "                        click_elements: [{'select':'.animated','category':'Visitor','action':'Button Click','label':'Main Page Button','bounce':'','evalue':''},{'select':'#submit','category':'Visitor','action':'Contact For Submit','label':'Contact Form','bounce':'','evalue':''},{'select':'.request-a-demo','category':'Visitor','action':'Request Demo Form Submit','label':'Request Demo Form Submit','bounce':'','evalue':''},{'select':'.web-scraping-service','category':'Visitor','action':'Adwords Form Submit','label':'Adwords Form Submit','bounce':'','evalue':''},{'select':'.get-web-data-1','category':'Visitor','action':'Adwords Form Submit','label':'Adwords Form Submit','bounce':'','evalue':''},{'select':'.get-web-data-2','category':'Visitor','action':'Get Web Data Form Submit 2','label':'Get Web Data Form Submit 2','bounce':'','evalue':''}],\n",
            "                    });\n",
            "                });\n",
            "   </script>\n",
            "  </div>\n",
            " </body>\n",
            "</html>\n"
          ],
          "name": "stdout"
        }
      ]
    },
    {
      "cell_type": "markdown",
      "metadata": {
        "colab_type": "text",
        "id": "7VC0CnFVhrlc"
      },
      "source": [
        "(bs1) Look through the html and find the links to the files that we want.  Set the variable `file_url` to be equal to the url of the files that we want to get"
      ]
    },
    {
      "cell_type": "code",
      "metadata": {
        "colab_type": "code",
        "id": "Krc-H7rxhrld",
        "colab": {}
      },
      "source": [
        "#update base url up to but not including the first /\n",
        "file_url= \"https://s3.amazonaws.com\"\n"
      ],
      "execution_count": 0,
      "outputs": []
    },
    {
      "cell_type": "code",
      "metadata": {
        "colab_type": "code",
        "id": "VDSEWiVohrlg",
        "outputId": "fc7bfbb8-8c56-4bee-dffb-616f359cbd20",
        "colab": {
          "base_uri": "https://localhost:8080/",
          "height": 46
        }
      },
      "source": [
        "_ = ok.grade('bs1')"
      ],
      "execution_count": 0,
      "outputs": [
        {
          "output_type": "display_data",
          "data": {
            "text/html": [
              "\n",
              "    \n",
              "    \n",
              "        <p>All tests passed!</p>\n",
              "    \n",
              "    "
            ],
            "text/plain": [
              "<gofer.ok.OKTestsResult at 0x7f920c6974e0>"
            ]
          },
          "metadata": {
            "tags": []
          }
        }
      ]
    },
    {
      "cell_type": "markdown",
      "metadata": {
        "colab_type": "text",
        "id": "BcjfQ-07hrli"
      },
      "source": [
        "(bs2) Before we try to get the links, lets make sure we can parse the web page. Set the value of the variable `page_title` equal to the contents inside the page `<title>` tag. The variable `page_title` should not include the title tag (i.e., the `<title>`). "
      ]
    },
    {
      "cell_type": "code",
      "metadata": {
        "colab_type": "code",
        "id": "g_jdtn2_hrli",
        "colab": {}
      },
      "source": [
        "#answer\n",
        "\n",
        "page_title = soup.title.string\n"
      ],
      "execution_count": 0,
      "outputs": []
    },
    {
      "cell_type": "code",
      "metadata": {
        "colab_type": "code",
        "id": "g34V5kgChrlk",
        "outputId": "80b95477-cc16-4636-f628-a983269f3101",
        "colab": {
          "base_uri": "https://localhost:8080/",
          "height": 46
        }
      },
      "source": [
        "_ = ok.grade('bs2')"
      ],
      "execution_count": 0,
      "outputs": [
        {
          "output_type": "display_data",
          "data": {
            "text/html": [
              "\n",
              "    \n",
              "    \n",
              "        <p>All tests passed!</p>\n",
              "    \n",
              "    "
            ],
            "text/plain": [
              "<gofer.ok.OKTestsResult at 0x7f920ae4ad30>"
            ]
          },
          "metadata": {
            "tags": []
          }
        }
      ]
    },
    {
      "cell_type": "markdown",
      "metadata": {
        "colab_type": "text",
        "id": "7hr9a5_6hrln"
      },
      "source": [
        "(bs3) We talked about both regular expressions and beautiful soup.  Here is an example of how you could combine them to match a pattern. \n",
        "\n",
        "\n",
        "```\n",
        "import re\n",
        "soup.find(\"a\", href=re.compile(file_url), href=True)\n",
        "```\n",
        "\n",
        "Further process the data so that you get a list equal to all of the links to the json files `json_links` and a list equal to all the csv files `csv_links`.  \n",
        "\n",
        "![](https://github.com/rpi-techfundamentals/hm-04-starter/raw/master/fig/links.png)\n",
        "\n"
      ]
    },
    {
      "cell_type": "code",
      "metadata": {
        "colab_type": "code",
        "id": "L6og90cBhrlo",
        "colab": {}
      },
      "source": [
        "#Answer \n",
        "\n",
        "import re\n",
        "\n",
        "#print(type(soup.find_all(\"a\", href = re.compile(file_url))))\n",
        "#<class 'bs4.element.ResultSet'>\n",
        "\n",
        "result_set = soup.find_all(\"a\", href = re.compile(file_url))\n",
        "\n",
        "\n",
        "#print(type(result_set[0]))\n",
        "#<class 'bs4.element.Tag'>\n",
        "\n",
        "json_links = []\n",
        "csv_links = []\n",
        "num_of_a_tags = len(result_set)\n",
        "\n",
        "\n",
        "for i in range(num_of_a_tags):\n",
        "  if result_set[i].string == 'JSON':\n",
        "    json_links.append(result_set[i].get('href'))\n",
        "  if result_set[i].string == 'CSV' :\n",
        "    csv_links.append(result_set[i].get('href'))\n",
        "    \n",
        "#print(json_links)\n",
        "  \n",
        "\n",
        "#print(result_set.get('href'))\n",
        "\n",
        "\n",
        "#for link in soup.find_all('a'):\n",
        "#    print(link.get('href'))\n",
        " "
      ],
      "execution_count": 0,
      "outputs": []
    },
    {
      "cell_type": "code",
      "metadata": {
        "colab_type": "code",
        "id": "dNE5iUvthrlr",
        "outputId": "008a7592-693a-432f-e2e3-e0dcb887911f",
        "colab": {
          "base_uri": "https://localhost:8080/",
          "height": 46
        }
      },
      "source": [
        "_ = ok.grade('bs3')"
      ],
      "execution_count": 0,
      "outputs": [
        {
          "output_type": "display_data",
          "data": {
            "text/html": [
              "\n",
              "    \n",
              "    \n",
              "        <p>All tests passed!</p>\n",
              "    \n",
              "    "
            ],
            "text/plain": [
              "<gofer.ok.OKTestsResult at 0x7f920ad3e518>"
            ]
          },
          "metadata": {
            "tags": []
          }
        }
      ]
    },
    {
      "cell_type": "markdown",
      "metadata": {
        "colab_type": "text",
        "id": "vgLdbR9Zhrls"
      },
      "source": [
        "### Regular Expressions\n",
        "\n",
        "Regular expressions is a useful way of parsing through string data. \n",
        "\n",
        "(RE1) Please complete a function `blind_text` that accepts a text string and does the the following transformations. \n",
        "\n",
        "- Change `text` to lower case.\n",
        "- Remove all emails and substitute them with '--'\n",
        "- Remove all digits and replace with *. \n",
        "- Split the lines and put them into a list called `textlines`.\n",
        "\n",
        "Given the text string:\n",
        "\n",
        "```\n",
        "my_text=\"\"\"The test score is 85 with the email john@rpi.edu for MGMT33223.\n",
        "The test score is 83 with the email jim@rpi.edu for MGMT33223.\"\"\"\n",
        "```\n",
        "\n",
        "The resulting list should be:\n",
        "```\n",
        "['the test score is ** with the email -- for mgmt*****.',\n",
        " 'the test score is ** with the email -- for mgmt*****.']\n",
        "```\n",
        "\n",
        "\n"
      ]
    },
    {
      "cell_type": "markdown",
      "metadata": {
        "id": "htQyjmb-4Pg1",
        "colab_type": "text"
      },
      "source": [
        ""
      ]
    },
    {
      "cell_type": "code",
      "metadata": {
        "colab_type": "code",
        "id": "di4OPlZUhrlt",
        "outputId": "1503aa3d-8d68-4abc-f186-b2dcecfb3d38",
        "colab": {
          "base_uri": "https://localhost:8080/",
          "height": 34
        }
      },
      "source": [
        "my_text=\"\"\"The test score is 85 with the email john@rpi.edu for MGMT33223.\n",
        "The test score is 83 with the email jim@rpi.edu for MGMT33223.\"\"\"\n",
        "\n",
        "#Create your function here. \n",
        "\n",
        "# Approach 1: do with string feature and not use re package\n",
        "\"\"\"\n",
        "def blind_text(text):\n",
        "  # change text to lower case\n",
        "  text = text.lower()\n",
        "  \n",
        "  # Remove all emails and substitute them with '--'\n",
        "  # step 1: find indices of all @\n",
        "  at_index = []\n",
        "  last_at_index = -1\n",
        "  new_text = text\n",
        "  length_text = len(text)\n",
        "\n",
        "  while ((last_at_index < length_text) & (new_text.find('@')>=0)):\n",
        "    last_at_index = new_text.find('@') + last_at_index + 1\n",
        "    at_index.append(last_at_index)\n",
        "    new_text = text[(last_at_index + 1) : length_text]\n",
        "\n",
        "  #print(at_index)\n",
        "  \n",
        "  # step 2: replace email addresses with '--'\n",
        "  num_emails = len(at_index)\n",
        "  text_before_at = ''\n",
        "  text_after_at = ''\n",
        "  start_email = []\n",
        "  end_email = []\n",
        "  temp_text = text\n",
        "  for i in range(num_emails):\n",
        "    delta_length = length_text - len(temp_text)\n",
        "    \n",
        "    text_before_at = temp_text[0 : (at_index[i]-delta_length)]\n",
        "    text_after_at = temp_text[(at_index[i]-delta_length) : len(temp_text)]\n",
        "    \n",
        "    start_email.append(text_before_at.rfind(' '))\n",
        "    end_email.append(text_after_at.find(' '))\n",
        "    \n",
        "    text_before_at = text_before_at.replace(text_before_at[(start_email[i]+1):len(text_before_at)], '-')\n",
        "    text_after_at = text_after_at.replace(text_after_at[0:end_email[i]], '-', 1)\n",
        "    \n",
        "    temp_text = text_before_at + text_after_at\n",
        "\n",
        "  #print(temp_text)\n",
        "  \n",
        "  # Remove all digits and replace with *\n",
        "  digits = '0123456789'\n",
        "\n",
        "  length_temp_text = len(temp_text)\n",
        "  for i in range(length_temp_text):\n",
        "    if digits.find(temp_text[i]) >= 0:\n",
        "      temp_text = temp_text.replace(temp_text[i], '*')\n",
        "  \n",
        "  # Split the lines and put them into a list called textlines\n",
        "  textlines = temp_text.splitlines()\n",
        "  return textlines \n",
        "\"\"\"\n",
        "\n",
        "\n",
        "# Approach 2: Use re package\n",
        "\n",
        "import re\n",
        "\n",
        "def blind_text(text):\n",
        "  # Change text to lower case\n",
        "  text = text.lower()\n",
        "  \n",
        "  # Remove all emails and substitute them with '--'\n",
        "  email = re.compile('\\w+@\\w+\\.[a-z]{3}')\n",
        "  #email.findall(text)\n",
        "  text = email.sub('--', text)\n",
        "  \n",
        "  # Remove all digits and replace with *.\n",
        "  digits = re.compile('\\d')\n",
        "  text = digits.sub('*', text)\n",
        "  \n",
        "  # Split the lines and put them into a list called textlines\n",
        "  textlines = text.splitlines()\n",
        "  \n",
        "  return textlines\n",
        "  \n",
        "\n",
        "#Call the function\n",
        "result = blind_text(my_text)\n",
        "print(result)\n"
      ],
      "execution_count": 0,
      "outputs": [
        {
          "output_type": "stream",
          "text": [
            "['the test score is ** with the email -- for mgmt*****.', 'the test score is ** with the email -- for mgmt*****.']\n"
          ],
          "name": "stdout"
        }
      ]
    },
    {
      "cell_type": "code",
      "metadata": {
        "colab_type": "code",
        "id": "neSzaGBuhrlx",
        "outputId": "76b2be13-9407-4253-96ac-1df4757ed87a",
        "colab": {
          "base_uri": "https://localhost:8080/",
          "height": 46
        }
      },
      "source": [
        "#Tests\n",
        "_ = ok.grade('re1')"
      ],
      "execution_count": 0,
      "outputs": [
        {
          "output_type": "display_data",
          "data": {
            "text/html": [
              "\n",
              "    \n",
              "    \n",
              "        <p>All tests passed!</p>\n",
              "    \n",
              "    "
            ],
            "text/plain": [
              "<gofer.ok.OKTestsResult at 0x7f920a0d79e8>"
            ]
          },
          "metadata": {
            "tags": []
          }
        }
      ]
    },
    {
      "cell_type": "markdown",
      "metadata": {
        "id": "TAMoC3OECGqG",
        "colab_type": "text"
      },
      "source": [
        "## Enter your Information\n",
        "Enter your information.  This will run all tests to make sure that the assignment is complete. "
      ]
    },
    {
      "cell_type": "code",
      "metadata": {
        "id": "ysqcbiOuCGqH",
        "colab_type": "code",
        "colab": {}
      },
      "source": [
        "course=\"mgmt6560\"   #course number\n",
        "section=\"01\"          #section \n",
        "first_name=\"Jiarun\"   #For example, \"jason\"\n",
        "last_name=\"Li\"    #For example, \"kuruzovich\"\n",
        "student_id=\"lij44\"       #for example \"kuruzj\"\n",
        "student_email=\"lij44@rpi.edu\"    #for example \"kuruzj@rpi.edu\"\n",
        "collaborators = \"\"  #You can speak with others regarding the assignment, but all typed work must be your own."
      ],
      "execution_count": 0,
      "outputs": []
    }
  ]
}