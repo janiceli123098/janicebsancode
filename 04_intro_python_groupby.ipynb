{
  "nbformat": 4,
  "nbformat_minor": 0,
  "metadata": {
    "colab": {
      "name": "04-intro-python-groupby.ipynb",
      "provenance": []
    },
    "kernelspec": {
      "display_name": "Python 3",
      "language": "python",
      "name": "python3"
    },
    "language_info": {
      "codemirror_mode": {
        "name": "ipython",
        "version": 3
      },
      "file_extension": ".py",
      "mimetype": "text/x-python",
      "name": "python",
      "nbconvert_exporter": "python",
      "pygments_lexer": "ipython3",
      "version": "3.6.9"
    }
  },
  "cells": [
    {
      "cell_type": "markdown",
      "metadata": {
        "colab_type": "text",
        "id": "oymwaD_KjPdq"
      },
      "source": [
        "[![AnalyticsDojo](https://github.com/rpi-techfundamentals/spring2019-materials/blob/master/fig/final-logo.png?raw=1)](http://rpi.analyticsdojo.com)\n",
        "<center><h1>Introduction to Python - Groupby and Pivot Tables</h1></center>\n",
        "<center><h3><a href = 'http://rpi.analyticsdojo.com'>rpi.analyticsdojo.com</a></h3></center>\n",
        "\n",
        "\n"
      ]
    },
    {
      "cell_type": "code",
      "metadata": {
        "colab_type": "code",
        "id": "GYjmsxq-jgSE",
        "colab": {}
      },
      "source": [
        "!wget https://raw.githubusercontent.com/rpi-techfundamentals/spring2019-materials/master/input/train.csv\n",
        "!wget https://raw.githubusercontent.com/rpi-techfundamentals/spring2019-materials/master/input/test.csv"
      ],
      "execution_count": 0,
      "outputs": []
    },
    {
      "cell_type": "code",
      "metadata": {
        "colab_type": "code",
        "id": "gniYcP9MjPdz",
        "colab": {}
      },
      "source": [
        "import numpy as np \n",
        "import pandas as pd \n",
        "\n",
        "# Input data files are available in the \"../input/\" directory.\n",
        "# Let's input them into a Pandas DataFrame\n",
        "train = pd.read_csv(\"train.csv\")\n",
        "test  = pd.read_csv(\"test.csv\")"
      ],
      "execution_count": 0,
      "outputs": []
    },
    {
      "cell_type": "markdown",
      "metadata": {
        "colab_type": "text",
        "id": "leJfxOrWjPee"
      },
      "source": [
        "### Groupby\n",
        "- Often it is useful to see statistics by different classes.\n",
        "- Can be used to examine different subpopulations"
      ]
    },
    {
      "cell_type": "code",
      "metadata": {
        "colab_type": "code",
        "id": "ifUD68MzjPeg",
        "colab": {}
      },
      "source": [
        "train.head()"
      ],
      "execution_count": 0,
      "outputs": []
    },
    {
      "cell_type": "code",
      "metadata": {
        "colab_type": "code",
        "id": "mL0rjgbgjPey",
        "colab": {}
      },
      "source": [
        "print(train.dtypes)"
      ],
      "execution_count": 0,
      "outputs": []
    },
    {
      "cell_type": "code",
      "metadata": {
        "colab_type": "code",
        "id": "fgKWHO4ZjPe4",
        "colab": {}
      },
      "source": [
        "#What does this tell us?  \n",
        "train.groupby(['Sex']).Survived.mean()"
      ],
      "execution_count": 0,
      "outputs": []
    },
    {
      "cell_type": "code",
      "metadata": {
        "colab_type": "code",
        "id": "8eBCKaqbjPe9",
        "colab": {}
      },
      "source": [
        "#What does this tell us?  \n",
        "train.groupby(['Sex','Pclass']).Survived.mean()"
      ],
      "execution_count": 0,
      "outputs": []
    },
    {
      "cell_type": "code",
      "metadata": {
        "colab_type": "code",
        "id": "nhA-9djqjPfB",
        "colab": {}
      },
      "source": [
        "#What does this tell us?  Here it doesn't look so clear. We could separate by set age ranges.\n",
        "train.groupby(['Sex','Age']).Survived.mean()"
      ],
      "execution_count": 0,
      "outputs": []
    },
    {
      "cell_type": "markdown",
      "metadata": {
        "colab_type": "text",
        "id": "XbLK22eHjPfH"
      },
      "source": [
        "### Combining Multiple Operations\n",
        "- *Splitting* the data into groups based on some criteria\n",
        "- *Applying* a function to each group independently\n",
        "- *Combining* the results into a data structure"
      ]
    },
    {
      "cell_type": "code",
      "metadata": {
        "colab_type": "code",
        "id": "rwDPc2iHjPfI",
        "colab": {}
      },
      "source": [
        "s = train.groupby(['Sex','Pclass'], as_index=False).Survived.sum()\n",
        "s['PerSurv'] = train.groupby(['Sex','Pclass'], as_index=False).Survived.mean().Survived\n",
        "s['PerSurv']=s['PerSurv']*100\n",
        "s['Count'] = train.groupby(['Sex','Pclass'], as_index=False).Survived.count().Survived\n",
        "survived =s.Survived\n",
        "s"
      ],
      "execution_count": 0,
      "outputs": []
    },
    {
      "cell_type": "code",
      "metadata": {
        "colab_type": "code",
        "id": "7GNupOCgjPfS",
        "colab": {}
      },
      "source": [
        "#What does this tell us?  \n",
        "spmean=train.groupby(['Sex','Pclass']).Survived.mean()\n",
        "spcount=train.groupby(['Sex','Pclass']).Survived.sum()\n",
        "spsum=train.groupby(['Sex','Pclass']).Survived.count()\n",
        "spsum"
      ],
      "execution_count": 0,
      "outputs": []
    },
    {
      "cell_type": "code",
      "metadata": {
        "colab_type": "code",
        "id": "JxXzcP37jPfW",
        "colab": {}
      },
      "source": [
        "### Pivot Tables\n",
        "- A pivot table is a data summarization tool, much easier than the syntax of groupBy. \n",
        "- It can be used to that sum, sort, averge, count, over a pandas dataframe. \n",
        "- Download and open data in excel to appreciate the ways that you can use Pivot Tables. "
      ],
      "execution_count": 0,
      "outputs": []
    },
    {
      "cell_type": "code",
      "metadata": {
        "id": "E_O5w2MN0Hnv",
        "colab_type": "code",
        "colab": {}
      },
      "source": [
        "#Load it and create a pivot table.\n",
        "from google.colab import files\n",
        "files.download('train.csv')"
      ],
      "execution_count": 0,
      "outputs": []
    },
    {
      "cell_type": "code",
      "metadata": {
        "colab_type": "code",
        "id": "AsqV4wmTjPfa",
        "colab": {}
      },
      "source": [
        "#List the index and the functions you want to aggregage by. \n",
        "pd.pivot_table(train,index=[\"Sex\",\"Pclass\"],values=[\"Survived\"],aggfunc=['count','sum','mean',])"
      ],
      "execution_count": 0,
      "outputs": []
    },
    {
      "cell_type": "code",
      "metadata": {
        "id": "NEr0xf9E0Hnz",
        "colab_type": "code",
        "colab": {}
      },
      "source": [
        ""
      ],
      "execution_count": 0,
      "outputs": []
    }
  ]
}