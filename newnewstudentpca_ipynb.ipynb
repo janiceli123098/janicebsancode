{
  "nbformat": 4,
  "nbformat_minor": 0,
  "metadata": {
    "colab": {
      "name": "“studentpca.ipynb”的副本",
      "provenance": [],
      "collapsed_sections": []
    },
    "kernelspec": {
      "display_name": "Python 3",
      "language": "python",
      "name": "python3"
    },
    "language_info": {
      "codemirror_mode": {
        "name": "ipython",
        "version": 3
      },
      "file_extension": ".py",
      "mimetype": "text/x-python",
      "name": "python",
      "nbconvert_exporter": "python",
      "pygments_lexer": "ipython3",
      "version": "3.6.8"
    }
  },
  "cells": [
    {
      "cell_type": "markdown",
      "metadata": {
        "colab_type": "text",
        "id": "0sVgU84dbDxJ"
      },
      "source": [
        "## Homework - Instructions\n",
        "\n",
        "![](https://github.com/rpi-techfundamentals/hm-01-starter/blob/master/notsaved.png?raw=1)\n",
        "\n",
        "**WARNING!!!  If you see this icon on the top of your COLAB sesssion, your work is not saved automatically.**\n",
        "\n",
        "\n",
        "**When you are working on homeworks, make sure that you save often. You may find it easier to save intermident copies in Google drive. If you save your working file in Google drive all changes will be saved as you work. MAKE SURE that your final version is saved to GitHub.** \n",
        "\n",
        "Before you turn this problem in, make sure everything runs as expected. First, restart the kernel (in the menubar, select Kernel → Restart) and then run all cells (in the menubar, select Cell → Run All).  You can speak with others regarding the assignment but all work must be your own. \n",
        "\n",
        "\n",
        "### This is a 30 point assignment graded from answers to questions and automated tests that should be run at the bottom. Be sure to clearly label all of your answers and commit final tests at the end.  "
      ]
    },
    {
      "cell_type": "code",
      "metadata": {
        "colab_type": "code",
        "id": "xsoyqoUWbDxN",
        "outputId": "c6f90bd3-03e1-4351-bde4-cf8924de0af4",
        "colab": {
          "base_uri": "https://localhost:8080/",
          "height": 781
        }
      },
      "source": [
        "files = \"https://github.com/rpi-techfundamentals/hm-pca-cluster-starter/raw/master/starter.zip\" \n",
        "!rm -rf * && pip install git+https://github.com/data-8/Gofer-Grader && wget $files && unzip -o starter.zip"
      ],
      "execution_count": 33,
      "outputs": [
        {
          "output_type": "stream",
          "text": [
            "Collecting git+https://github.com/data-8/Gofer-Grader\n",
            "  Cloning https://github.com/data-8/Gofer-Grader to /tmp/pip-req-build-cmxc0etk\n",
            "  Running command git clone -q https://github.com/data-8/Gofer-Grader /tmp/pip-req-build-cmxc0etk\n",
            "Requirement already satisfied (use --upgrade to upgrade): gofer-grader==1.0.9 from git+https://github.com/data-8/Gofer-Grader in /usr/local/lib/python3.6/dist-packages\n",
            "Requirement already satisfied: jinja2 in /usr/local/lib/python3.6/dist-packages (from gofer-grader==1.0.9) (2.10.3)\n",
            "Requirement already satisfied: pygments in /usr/local/lib/python3.6/dist-packages (from gofer-grader==1.0.9) (2.1.3)\n",
            "Requirement already satisfied: tornado in /usr/local/lib/python3.6/dist-packages (from gofer-grader==1.0.9) (4.5.3)\n",
            "Requirement already satisfied: MarkupSafe>=0.23 in /usr/local/lib/python3.6/dist-packages (from jinja2->gofer-grader==1.0.9) (1.1.1)\n",
            "Building wheels for collected packages: gofer-grader\n",
            "  Building wheel for gofer-grader (setup.py) ... \u001b[?25l\u001b[?25hdone\n",
            "  Created wheel for gofer-grader: filename=gofer_grader-1.0.9-cp36-none-any.whl size=10115 sha256=b8a586ab609605822ae0dd96f99616f9b7cf27109a80af36859b6b9ce3e009cc\n",
            "  Stored in directory: /tmp/pip-ephem-wheel-cache-vsn455ww/wheels/9e/62/24/8563ae039051d6ba979557d1766bfebbda5dd08f8572e3e35d\n",
            "Successfully built gofer-grader\n",
            "--2019-10-30 00:27:28--  https://github.com/rpi-techfundamentals/hm-pca-cluster-starter/raw/master/starter.zip\n",
            "Resolving github.com (github.com)... 140.82.114.3\n",
            "Connecting to github.com (github.com)|140.82.114.3|:443... connected.\n",
            "HTTP request sent, awaiting response... 302 Found\n",
            "Location: https://raw.githubusercontent.com/rpi-techfundamentals/hm-pca-cluster-starter/master/starter.zip [following]\n",
            "--2019-10-30 00:27:28--  https://raw.githubusercontent.com/rpi-techfundamentals/hm-pca-cluster-starter/master/starter.zip\n",
            "Resolving raw.githubusercontent.com (raw.githubusercontent.com)... 151.101.0.133, 151.101.64.133, 151.101.128.133, ...\n",
            "Connecting to raw.githubusercontent.com (raw.githubusercontent.com)|151.101.0.133|:443... connected.\n",
            "HTTP request sent, awaiting response... 200 OK\n",
            "Length: 481596 (470K) [application/zip]\n",
            "Saving to: ‘starter.zip’\n",
            "\n",
            "starter.zip         100%[===================>] 470.31K  --.-KB/s    in 0.06s   \n",
            "\n",
            "2019-10-30 00:27:29 (7.39 MB/s) - ‘starter.zip’ saved [481596/481596]\n",
            "\n",
            "Archive:  starter.zip\n",
            "  inflating: pca.csv                 \n",
            "  inflating: __MACOSX/._pca.csv      \n",
            "  inflating: cluster.csv             \n",
            "  inflating: __MACOSX/._cluster.csv  \n",
            "  inflating: hm.ok                   \n",
            "   creating: tests/\n",
            "  inflating: tests/q01.py            \n",
            "  inflating: tests/q05.py            \n",
            "  inflating: tests/__init__.py       \n",
            "  inflating: tests/q03.py            \n",
            "  inflating: tests/q02.py            \n",
            "  inflating: tests/q06.py            \n",
            "   creating: tests/.ipynb_checkpoints/\n"
          ],
          "name": "stdout"
        }
      ]
    },
    {
      "cell_type": "code",
      "metadata": {
        "colab_type": "code",
        "id": "0W1-ZeqRbDxX",
        "colab": {}
      },
      "source": [
        "#Run this. It initiates autograding. \n",
        "from client.api.notebook import Notebook\n",
        "ok = Notebook('lab.ok')\n",
        "_ = ok.auth(inline=True)"
      ],
      "execution_count": 0,
      "outputs": []
    },
    {
      "cell_type": "markdown",
      "metadata": {
        "colab_type": "text",
        "id": "3Y19n7hxbDxf"
      },
      "source": [
        "### Load Data\n",
        "Here we have 2 files. One we will use for PCA and the other for cluster analysis. \n"
      ]
    },
    {
      "cell_type": "code",
      "metadata": {
        "colab_type": "code",
        "id": "cQAhByH7bDxh",
        "colab": {}
      },
      "source": [
        "# Load the data here\n",
        "import pandas as pd\n",
        "df_cluster  = pd.read_csv(\"cluster.csv\")\n",
        "df_pca  = pd.read_csv(\"pca.csv\")"
      ],
      "execution_count": 0,
      "outputs": []
    },
    {
      "cell_type": "markdown",
      "metadata": {
        "id": "oDJKUE3z3htG",
        "colab_type": "text"
      },
      "source": [
        "## EDA\n",
        "\n",
        "Do some simple exploritory analysis on the data so that you understand the structure of the data. "
      ]
    },
    {
      "cell_type": "code",
      "metadata": {
        "id": "IQgvTaJY3gR_",
        "colab_type": "code",
        "outputId": "9573c3d6-2bbd-4b4e-f478-170214dea806",
        "colab": {
          "base_uri": "https://localhost:8080/",
          "height": 197
        }
      },
      "source": [
        "df_cluster.head()"
      ],
      "execution_count": 36,
      "outputs": [
        {
          "output_type": "execute_result",
          "data": {
            "text/html": [
              "<div>\n",
              "<style scoped>\n",
              "    .dataframe tbody tr th:only-of-type {\n",
              "        vertical-align: middle;\n",
              "    }\n",
              "\n",
              "    .dataframe tbody tr th {\n",
              "        vertical-align: top;\n",
              "    }\n",
              "\n",
              "    .dataframe thead th {\n",
              "        text-align: right;\n",
              "    }\n",
              "</style>\n",
              "<table border=\"1\" class=\"dataframe\">\n",
              "  <thead>\n",
              "    <tr style=\"text-align: right;\">\n",
              "      <th></th>\n",
              "      <th>cad0</th>\n",
              "      <th>cad1</th>\n",
              "      <th>cad2</th>\n",
              "      <th>cad3</th>\n",
              "      <th>cad4</th>\n",
              "      <th>cad5</th>\n",
              "      <th>cad6</th>\n",
              "      <th>cad7</th>\n",
              "      <th>cad8</th>\n",
              "      <th>cad9</th>\n",
              "      <th>dv0</th>\n",
              "      <th>dv1</th>\n",
              "      <th>dv2</th>\n",
              "      <th>dv3</th>\n",
              "      <th>dv4</th>\n",
              "      <th>dv5</th>\n",
              "      <th>dv6</th>\n",
              "      <th>dv7</th>\n",
              "      <th>dv8</th>\n",
              "      <th>dv9</th>\n",
              "      <th>y</th>\n",
              "    </tr>\n",
              "  </thead>\n",
              "  <tbody>\n",
              "    <tr>\n",
              "      <th>0</th>\n",
              "      <td>1</td>\n",
              "      <td>1</td>\n",
              "      <td>0</td>\n",
              "      <td>0</td>\n",
              "      <td>1</td>\n",
              "      <td>0</td>\n",
              "      <td>1</td>\n",
              "      <td>1</td>\n",
              "      <td>0</td>\n",
              "      <td>1</td>\n",
              "      <td>1</td>\n",
              "      <td>1</td>\n",
              "      <td>1</td>\n",
              "      <td>1</td>\n",
              "      <td>1</td>\n",
              "      <td>0</td>\n",
              "      <td>1</td>\n",
              "      <td>0</td>\n",
              "      <td>0</td>\n",
              "      <td>1</td>\n",
              "      <td>454</td>\n",
              "    </tr>\n",
              "    <tr>\n",
              "      <th>1</th>\n",
              "      <td>1</td>\n",
              "      <td>1</td>\n",
              "      <td>0</td>\n",
              "      <td>1</td>\n",
              "      <td>1</td>\n",
              "      <td>0</td>\n",
              "      <td>0</td>\n",
              "      <td>1</td>\n",
              "      <td>0</td>\n",
              "      <td>1</td>\n",
              "      <td>1</td>\n",
              "      <td>1</td>\n",
              "      <td>1</td>\n",
              "      <td>1</td>\n",
              "      <td>1</td>\n",
              "      <td>0</td>\n",
              "      <td>1</td>\n",
              "      <td>0</td>\n",
              "      <td>0</td>\n",
              "      <td>1</td>\n",
              "      <td>454</td>\n",
              "    </tr>\n",
              "    <tr>\n",
              "      <th>2</th>\n",
              "      <td>1</td>\n",
              "      <td>1</td>\n",
              "      <td>0</td>\n",
              "      <td>0</td>\n",
              "      <td>1</td>\n",
              "      <td>0</td>\n",
              "      <td>0</td>\n",
              "      <td>1</td>\n",
              "      <td>0</td>\n",
              "      <td>1</td>\n",
              "      <td>1</td>\n",
              "      <td>1</td>\n",
              "      <td>1</td>\n",
              "      <td>1</td>\n",
              "      <td>1</td>\n",
              "      <td>1</td>\n",
              "      <td>1</td>\n",
              "      <td>0</td>\n",
              "      <td>1</td>\n",
              "      <td>0</td>\n",
              "      <td>152</td>\n",
              "    </tr>\n",
              "    <tr>\n",
              "      <th>3</th>\n",
              "      <td>1</td>\n",
              "      <td>1</td>\n",
              "      <td>0</td>\n",
              "      <td>1</td>\n",
              "      <td>1</td>\n",
              "      <td>0</td>\n",
              "      <td>1</td>\n",
              "      <td>1</td>\n",
              "      <td>0</td>\n",
              "      <td>1</td>\n",
              "      <td>0</td>\n",
              "      <td>1</td>\n",
              "      <td>1</td>\n",
              "      <td>0</td>\n",
              "      <td>1</td>\n",
              "      <td>0</td>\n",
              "      <td>1</td>\n",
              "      <td>0</td>\n",
              "      <td>1</td>\n",
              "      <td>1</td>\n",
              "      <td>-142</td>\n",
              "    </tr>\n",
              "    <tr>\n",
              "      <th>4</th>\n",
              "      <td>1</td>\n",
              "      <td>1</td>\n",
              "      <td>0</td>\n",
              "      <td>0</td>\n",
              "      <td>1</td>\n",
              "      <td>0</td>\n",
              "      <td>0</td>\n",
              "      <td>1</td>\n",
              "      <td>0</td>\n",
              "      <td>0</td>\n",
              "      <td>1</td>\n",
              "      <td>1</td>\n",
              "      <td>0</td>\n",
              "      <td>0</td>\n",
              "      <td>0</td>\n",
              "      <td>1</td>\n",
              "      <td>1</td>\n",
              "      <td>1</td>\n",
              "      <td>0</td>\n",
              "      <td>0</td>\n",
              "      <td>-227</td>\n",
              "    </tr>\n",
              "  </tbody>\n",
              "</table>\n",
              "</div>"
            ],
            "text/plain": [
              "   cad0  cad1  cad2  cad3  cad4  cad5  cad6  ...  dv4  dv5  dv6  dv7  dv8  dv9    y\n",
              "0     1     1     0     0     1     0     1  ...    1    0    1    0    0    1  454\n",
              "1     1     1     0     1     1     0     0  ...    1    0    1    0    0    1  454\n",
              "2     1     1     0     0     1     0     0  ...    1    1    1    0    1    0  152\n",
              "3     1     1     0     1     1     0     1  ...    1    0    1    0    1    1 -142\n",
              "4     1     1     0     0     1     0     0  ...    0    1    1    1    0    0 -227\n",
              "\n",
              "[5 rows x 21 columns]"
            ]
          },
          "metadata": {
            "tags": []
          },
          "execution_count": 36
        }
      ]
    },
    {
      "cell_type": "code",
      "metadata": {
        "id": "-I64MrZgB3PG",
        "colab_type": "code",
        "outputId": "ae5a0200-7b02-41cd-d986-a5f1d6daa3ec",
        "colab": {
          "base_uri": "https://localhost:8080/",
          "height": 246
        }
      },
      "source": [
        "df_pca.head()"
      ],
      "execution_count": 37,
      "outputs": [
        {
          "output_type": "execute_result",
          "data": {
            "text/html": [
              "<div>\n",
              "<style scoped>\n",
              "    .dataframe tbody tr th:only-of-type {\n",
              "        vertical-align: middle;\n",
              "    }\n",
              "\n",
              "    .dataframe tbody tr th {\n",
              "        vertical-align: top;\n",
              "    }\n",
              "\n",
              "    .dataframe thead th {\n",
              "        text-align: right;\n",
              "    }\n",
              "</style>\n",
              "<table border=\"1\" class=\"dataframe\">\n",
              "  <thead>\n",
              "    <tr style=\"text-align: right;\">\n",
              "      <th></th>\n",
              "      <th>col0</th>\n",
              "      <th>col1</th>\n",
              "      <th>col2</th>\n",
              "      <th>col3</th>\n",
              "      <th>col4</th>\n",
              "      <th>col5</th>\n",
              "      <th>col6</th>\n",
              "      <th>col7</th>\n",
              "      <th>col8</th>\n",
              "      <th>col9</th>\n",
              "      <th>col10</th>\n",
              "      <th>col11</th>\n",
              "      <th>col12</th>\n",
              "      <th>col13</th>\n",
              "      <th>col14</th>\n",
              "      <th>col15</th>\n",
              "      <th>col16</th>\n",
              "      <th>col17</th>\n",
              "      <th>col18</th>\n",
              "      <th>col19</th>\n",
              "      <th>col20</th>\n",
              "      <th>col21</th>\n",
              "      <th>col22</th>\n",
              "      <th>col23</th>\n",
              "      <th>col24</th>\n",
              "      <th>col25</th>\n",
              "      <th>col26</th>\n",
              "      <th>col27</th>\n",
              "      <th>col28</th>\n",
              "      <th>col29</th>\n",
              "      <th>eng0</th>\n",
              "      <th>eng1</th>\n",
              "      <th>eng2</th>\n",
              "      <th>eng3</th>\n",
              "      <th>eng4</th>\n",
              "      <th>eng5</th>\n",
              "      <th>eng6</th>\n",
              "      <th>eng7</th>\n",
              "      <th>eng8</th>\n",
              "      <th>eng9</th>\n",
              "      <th>...</th>\n",
              "      <th>fak21</th>\n",
              "      <th>fak22</th>\n",
              "      <th>fak23</th>\n",
              "      <th>fak24</th>\n",
              "      <th>fak25</th>\n",
              "      <th>fak26</th>\n",
              "      <th>fak27</th>\n",
              "      <th>fak28</th>\n",
              "      <th>fak29</th>\n",
              "      <th>gen0</th>\n",
              "      <th>gen1</th>\n",
              "      <th>gen2</th>\n",
              "      <th>gen3</th>\n",
              "      <th>gen4</th>\n",
              "      <th>gen5</th>\n",
              "      <th>gen6</th>\n",
              "      <th>gen7</th>\n",
              "      <th>gen8</th>\n",
              "      <th>gen9</th>\n",
              "      <th>gen10</th>\n",
              "      <th>gen11</th>\n",
              "      <th>gen12</th>\n",
              "      <th>gen13</th>\n",
              "      <th>gen14</th>\n",
              "      <th>gen15</th>\n",
              "      <th>gen16</th>\n",
              "      <th>gen17</th>\n",
              "      <th>gen18</th>\n",
              "      <th>gen19</th>\n",
              "      <th>gen20</th>\n",
              "      <th>gen21</th>\n",
              "      <th>gen22</th>\n",
              "      <th>gen23</th>\n",
              "      <th>gen24</th>\n",
              "      <th>gen25</th>\n",
              "      <th>gen26</th>\n",
              "      <th>gen27</th>\n",
              "      <th>gen28</th>\n",
              "      <th>gen29</th>\n",
              "      <th>y</th>\n",
              "    </tr>\n",
              "  </thead>\n",
              "  <tbody>\n",
              "    <tr>\n",
              "      <th>0</th>\n",
              "      <td>1</td>\n",
              "      <td>1</td>\n",
              "      <td>1</td>\n",
              "      <td>1</td>\n",
              "      <td>1</td>\n",
              "      <td>1</td>\n",
              "      <td>1</td>\n",
              "      <td>1</td>\n",
              "      <td>1</td>\n",
              "      <td>1</td>\n",
              "      <td>3</td>\n",
              "      <td>1</td>\n",
              "      <td>1</td>\n",
              "      <td>1</td>\n",
              "      <td>1</td>\n",
              "      <td>1</td>\n",
              "      <td>3</td>\n",
              "      <td>2</td>\n",
              "      <td>1</td>\n",
              "      <td>1</td>\n",
              "      <td>1</td>\n",
              "      <td>1</td>\n",
              "      <td>1</td>\n",
              "      <td>1</td>\n",
              "      <td>2</td>\n",
              "      <td>1</td>\n",
              "      <td>1</td>\n",
              "      <td>1</td>\n",
              "      <td>1</td>\n",
              "      <td>1</td>\n",
              "      <td>1</td>\n",
              "      <td>1</td>\n",
              "      <td>1</td>\n",
              "      <td>1</td>\n",
              "      <td>1</td>\n",
              "      <td>1</td>\n",
              "      <td>1</td>\n",
              "      <td>1</td>\n",
              "      <td>1</td>\n",
              "      <td>1</td>\n",
              "      <td>...</td>\n",
              "      <td>1</td>\n",
              "      <td>1</td>\n",
              "      <td>1</td>\n",
              "      <td>1</td>\n",
              "      <td>1</td>\n",
              "      <td>1</td>\n",
              "      <td>1</td>\n",
              "      <td>1</td>\n",
              "      <td>1</td>\n",
              "      <td>1</td>\n",
              "      <td>1</td>\n",
              "      <td>1</td>\n",
              "      <td>1</td>\n",
              "      <td>1</td>\n",
              "      <td>1</td>\n",
              "      <td>1</td>\n",
              "      <td>1</td>\n",
              "      <td>1</td>\n",
              "      <td>1</td>\n",
              "      <td>1</td>\n",
              "      <td>1</td>\n",
              "      <td>1</td>\n",
              "      <td>1</td>\n",
              "      <td>1</td>\n",
              "      <td>1</td>\n",
              "      <td>1</td>\n",
              "      <td>2</td>\n",
              "      <td>1</td>\n",
              "      <td>1</td>\n",
              "      <td>1</td>\n",
              "      <td>1</td>\n",
              "      <td>1</td>\n",
              "      <td>1</td>\n",
              "      <td>1</td>\n",
              "      <td>1</td>\n",
              "      <td>1</td>\n",
              "      <td>1</td>\n",
              "      <td>1</td>\n",
              "      <td>1</td>\n",
              "      <td>17</td>\n",
              "    </tr>\n",
              "    <tr>\n",
              "      <th>1</th>\n",
              "      <td>2</td>\n",
              "      <td>4</td>\n",
              "      <td>4</td>\n",
              "      <td>4</td>\n",
              "      <td>4</td>\n",
              "      <td>4</td>\n",
              "      <td>2</td>\n",
              "      <td>4</td>\n",
              "      <td>3</td>\n",
              "      <td>3</td>\n",
              "      <td>4</td>\n",
              "      <td>1</td>\n",
              "      <td>2</td>\n",
              "      <td>4</td>\n",
              "      <td>4</td>\n",
              "      <td>3</td>\n",
              "      <td>4</td>\n",
              "      <td>4</td>\n",
              "      <td>1</td>\n",
              "      <td>4</td>\n",
              "      <td>3</td>\n",
              "      <td>4</td>\n",
              "      <td>4</td>\n",
              "      <td>2</td>\n",
              "      <td>3</td>\n",
              "      <td>4</td>\n",
              "      <td>2</td>\n",
              "      <td>1</td>\n",
              "      <td>4</td>\n",
              "      <td>4</td>\n",
              "      <td>3</td>\n",
              "      <td>4</td>\n",
              "      <td>1</td>\n",
              "      <td>2</td>\n",
              "      <td>3</td>\n",
              "      <td>4</td>\n",
              "      <td>4</td>\n",
              "      <td>3</td>\n",
              "      <td>2</td>\n",
              "      <td>3</td>\n",
              "      <td>...</td>\n",
              "      <td>2</td>\n",
              "      <td>1</td>\n",
              "      <td>1</td>\n",
              "      <td>1</td>\n",
              "      <td>1</td>\n",
              "      <td>3</td>\n",
              "      <td>3</td>\n",
              "      <td>1</td>\n",
              "      <td>1</td>\n",
              "      <td>1</td>\n",
              "      <td>1</td>\n",
              "      <td>1</td>\n",
              "      <td>1</td>\n",
              "      <td>1</td>\n",
              "      <td>1</td>\n",
              "      <td>1</td>\n",
              "      <td>1</td>\n",
              "      <td>1</td>\n",
              "      <td>1</td>\n",
              "      <td>1</td>\n",
              "      <td>1</td>\n",
              "      <td>1</td>\n",
              "      <td>1</td>\n",
              "      <td>1</td>\n",
              "      <td>1</td>\n",
              "      <td>1</td>\n",
              "      <td>1</td>\n",
              "      <td>1</td>\n",
              "      <td>1</td>\n",
              "      <td>1</td>\n",
              "      <td>1</td>\n",
              "      <td>1</td>\n",
              "      <td>1</td>\n",
              "      <td>1</td>\n",
              "      <td>1</td>\n",
              "      <td>1</td>\n",
              "      <td>1</td>\n",
              "      <td>1</td>\n",
              "      <td>1</td>\n",
              "      <td>23</td>\n",
              "    </tr>\n",
              "    <tr>\n",
              "      <th>2</th>\n",
              "      <td>1</td>\n",
              "      <td>1</td>\n",
              "      <td>1</td>\n",
              "      <td>1</td>\n",
              "      <td>1</td>\n",
              "      <td>1</td>\n",
              "      <td>1</td>\n",
              "      <td>1</td>\n",
              "      <td>1</td>\n",
              "      <td>1</td>\n",
              "      <td>1</td>\n",
              "      <td>1</td>\n",
              "      <td>1</td>\n",
              "      <td>1</td>\n",
              "      <td>1</td>\n",
              "      <td>1</td>\n",
              "      <td>1</td>\n",
              "      <td>1</td>\n",
              "      <td>1</td>\n",
              "      <td>1</td>\n",
              "      <td>1</td>\n",
              "      <td>1</td>\n",
              "      <td>1</td>\n",
              "      <td>1</td>\n",
              "      <td>1</td>\n",
              "      <td>1</td>\n",
              "      <td>1</td>\n",
              "      <td>1</td>\n",
              "      <td>1</td>\n",
              "      <td>1</td>\n",
              "      <td>4</td>\n",
              "      <td>4</td>\n",
              "      <td>4</td>\n",
              "      <td>4</td>\n",
              "      <td>4</td>\n",
              "      <td>4</td>\n",
              "      <td>4</td>\n",
              "      <td>4</td>\n",
              "      <td>4</td>\n",
              "      <td>4</td>\n",
              "      <td>...</td>\n",
              "      <td>1</td>\n",
              "      <td>2</td>\n",
              "      <td>1</td>\n",
              "      <td>2</td>\n",
              "      <td>1</td>\n",
              "      <td>3</td>\n",
              "      <td>1</td>\n",
              "      <td>1</td>\n",
              "      <td>1</td>\n",
              "      <td>2</td>\n",
              "      <td>3</td>\n",
              "      <td>1</td>\n",
              "      <td>2</td>\n",
              "      <td>2</td>\n",
              "      <td>4</td>\n",
              "      <td>2</td>\n",
              "      <td>3</td>\n",
              "      <td>1</td>\n",
              "      <td>2</td>\n",
              "      <td>4</td>\n",
              "      <td>2</td>\n",
              "      <td>2</td>\n",
              "      <td>1</td>\n",
              "      <td>2</td>\n",
              "      <td>4</td>\n",
              "      <td>1</td>\n",
              "      <td>1</td>\n",
              "      <td>3</td>\n",
              "      <td>1</td>\n",
              "      <td>2</td>\n",
              "      <td>4</td>\n",
              "      <td>1</td>\n",
              "      <td>2</td>\n",
              "      <td>1</td>\n",
              "      <td>4</td>\n",
              "      <td>2</td>\n",
              "      <td>3</td>\n",
              "      <td>1</td>\n",
              "      <td>4</td>\n",
              "      <td>11</td>\n",
              "    </tr>\n",
              "    <tr>\n",
              "      <th>3</th>\n",
              "      <td>4</td>\n",
              "      <td>4</td>\n",
              "      <td>4</td>\n",
              "      <td>4</td>\n",
              "      <td>4</td>\n",
              "      <td>4</td>\n",
              "      <td>4</td>\n",
              "      <td>4</td>\n",
              "      <td>4</td>\n",
              "      <td>2</td>\n",
              "      <td>4</td>\n",
              "      <td>4</td>\n",
              "      <td>4</td>\n",
              "      <td>4</td>\n",
              "      <td>4</td>\n",
              "      <td>4</td>\n",
              "      <td>4</td>\n",
              "      <td>4</td>\n",
              "      <td>4</td>\n",
              "      <td>4</td>\n",
              "      <td>4</td>\n",
              "      <td>4</td>\n",
              "      <td>4</td>\n",
              "      <td>4</td>\n",
              "      <td>4</td>\n",
              "      <td>4</td>\n",
              "      <td>4</td>\n",
              "      <td>4</td>\n",
              "      <td>4</td>\n",
              "      <td>4</td>\n",
              "      <td>1</td>\n",
              "      <td>3</td>\n",
              "      <td>2</td>\n",
              "      <td>4</td>\n",
              "      <td>2</td>\n",
              "      <td>4</td>\n",
              "      <td>4</td>\n",
              "      <td>3</td>\n",
              "      <td>4</td>\n",
              "      <td>4</td>\n",
              "      <td>...</td>\n",
              "      <td>4</td>\n",
              "      <td>1</td>\n",
              "      <td>4</td>\n",
              "      <td>1</td>\n",
              "      <td>1</td>\n",
              "      <td>1</td>\n",
              "      <td>1</td>\n",
              "      <td>2</td>\n",
              "      <td>1</td>\n",
              "      <td>4</td>\n",
              "      <td>4</td>\n",
              "      <td>4</td>\n",
              "      <td>3</td>\n",
              "      <td>4</td>\n",
              "      <td>3</td>\n",
              "      <td>3</td>\n",
              "      <td>2</td>\n",
              "      <td>4</td>\n",
              "      <td>1</td>\n",
              "      <td>4</td>\n",
              "      <td>4</td>\n",
              "      <td>4</td>\n",
              "      <td>2</td>\n",
              "      <td>4</td>\n",
              "      <td>4</td>\n",
              "      <td>4</td>\n",
              "      <td>4</td>\n",
              "      <td>4</td>\n",
              "      <td>4</td>\n",
              "      <td>4</td>\n",
              "      <td>4</td>\n",
              "      <td>4</td>\n",
              "      <td>3</td>\n",
              "      <td>4</td>\n",
              "      <td>4</td>\n",
              "      <td>4</td>\n",
              "      <td>4</td>\n",
              "      <td>4</td>\n",
              "      <td>4</td>\n",
              "      <td>11</td>\n",
              "    </tr>\n",
              "    <tr>\n",
              "      <th>4</th>\n",
              "      <td>4</td>\n",
              "      <td>4</td>\n",
              "      <td>4</td>\n",
              "      <td>4</td>\n",
              "      <td>4</td>\n",
              "      <td>4</td>\n",
              "      <td>3</td>\n",
              "      <td>3</td>\n",
              "      <td>3</td>\n",
              "      <td>2</td>\n",
              "      <td>4</td>\n",
              "      <td>4</td>\n",
              "      <td>4</td>\n",
              "      <td>4</td>\n",
              "      <td>4</td>\n",
              "      <td>3</td>\n",
              "      <td>4</td>\n",
              "      <td>3</td>\n",
              "      <td>4</td>\n",
              "      <td>4</td>\n",
              "      <td>4</td>\n",
              "      <td>4</td>\n",
              "      <td>4</td>\n",
              "      <td>4</td>\n",
              "      <td>4</td>\n",
              "      <td>4</td>\n",
              "      <td>4</td>\n",
              "      <td>4</td>\n",
              "      <td>3</td>\n",
              "      <td>4</td>\n",
              "      <td>4</td>\n",
              "      <td>2</td>\n",
              "      <td>3</td>\n",
              "      <td>2</td>\n",
              "      <td>1</td>\n",
              "      <td>1</td>\n",
              "      <td>1</td>\n",
              "      <td>4</td>\n",
              "      <td>2</td>\n",
              "      <td>2</td>\n",
              "      <td>...</td>\n",
              "      <td>4</td>\n",
              "      <td>2</td>\n",
              "      <td>4</td>\n",
              "      <td>4</td>\n",
              "      <td>4</td>\n",
              "      <td>2</td>\n",
              "      <td>4</td>\n",
              "      <td>3</td>\n",
              "      <td>4</td>\n",
              "      <td>1</td>\n",
              "      <td>1</td>\n",
              "      <td>1</td>\n",
              "      <td>1</td>\n",
              "      <td>1</td>\n",
              "      <td>1</td>\n",
              "      <td>2</td>\n",
              "      <td>1</td>\n",
              "      <td>1</td>\n",
              "      <td>1</td>\n",
              "      <td>2</td>\n",
              "      <td>3</td>\n",
              "      <td>3</td>\n",
              "      <td>3</td>\n",
              "      <td>1</td>\n",
              "      <td>1</td>\n",
              "      <td>1</td>\n",
              "      <td>2</td>\n",
              "      <td>4</td>\n",
              "      <td>4</td>\n",
              "      <td>2</td>\n",
              "      <td>2</td>\n",
              "      <td>2</td>\n",
              "      <td>1</td>\n",
              "      <td>1</td>\n",
              "      <td>1</td>\n",
              "      <td>2</td>\n",
              "      <td>1</td>\n",
              "      <td>1</td>\n",
              "      <td>1</td>\n",
              "      <td>29</td>\n",
              "    </tr>\n",
              "  </tbody>\n",
              "</table>\n",
              "<p>5 rows × 151 columns</p>\n",
              "</div>"
            ],
            "text/plain": [
              "   col0  col1  col2  col3  col4  col5  ...  gen25  gen26  gen27  gen28  gen29   y\n",
              "0     1     1     1     1     1     1  ...      1      1      1      1      1  17\n",
              "1     2     4     4     4     4     4  ...      1      1      1      1      1  23\n",
              "2     1     1     1     1     1     1  ...      4      2      3      1      4  11\n",
              "3     4     4     4     4     4     4  ...      4      4      4      4      4  11\n",
              "4     4     4     4     4     4     4  ...      1      2      1      1      1  29\n",
              "\n",
              "[5 rows x 151 columns]"
            ]
          },
          "metadata": {
            "tags": []
          },
          "execution_count": 37
        }
      ]
    },
    {
      "cell_type": "code",
      "metadata": {
        "id": "OrGcdq9AIqrF",
        "colab_type": "code",
        "outputId": "1ae8d612-41a4-4e31-a9ec-6af3421769da",
        "colab": {
          "base_uri": "https://localhost:8080/",
          "height": 34
        }
      },
      "source": [
        "df_pca.shape"
      ],
      "execution_count": 38,
      "outputs": [
        {
          "output_type": "execute_result",
          "data": {
            "text/plain": [
              "(10000, 151)"
            ]
          },
          "metadata": {
            "tags": []
          },
          "execution_count": 38
        }
      ]
    },
    {
      "cell_type": "code",
      "metadata": {
        "id": "V_v4CxRVIrYk",
        "colab_type": "code",
        "outputId": "ab064482-338a-415d-e704-3e6d23772f32",
        "colab": {
          "base_uri": "https://localhost:8080/",
          "height": 34
        }
      },
      "source": [
        "df_cluster.shape"
      ],
      "execution_count": 39,
      "outputs": [
        {
          "output_type": "execute_result",
          "data": {
            "text/plain": [
              "(10000, 21)"
            ]
          },
          "metadata": {
            "tags": []
          },
          "execution_count": 39
        }
      ]
    },
    {
      "cell_type": "code",
      "metadata": {
        "id": "wuPagCX_Iqnp",
        "colab_type": "code",
        "colab": {}
      },
      "source": [
        "X_cluster = df_cluster.iloc[:,:20]\n",
        "y_cluster = df_cluster.y"
      ],
      "execution_count": 0,
      "outputs": []
    },
    {
      "cell_type": "markdown",
      "metadata": {
        "colab_type": "text",
        "id": "8tct7SvxbDxk"
      },
      "source": [
        "### PCA Data Baseline Regression.\n",
        "On the PCA data, perform a 50/50 train test split with `random state` equal to 99. Predict `y` with all variables using regression analysis. Calculate the r2 for train and assign to `pca1_r2_train` and calculate the r2 for test and assign to `pca1_r2_test`. \n"
      ]
    },
    {
      "cell_type": "code",
      "metadata": {
        "id": "DOFKMr2oJ6Hq",
        "colab_type": "code",
        "colab": {}
      },
      "source": [
        "X_pca = df_pca.iloc[:,:150]\n",
        "y = df_pca.y"
      ],
      "execution_count": 0,
      "outputs": []
    },
    {
      "cell_type": "code",
      "metadata": {
        "id": "nqGwMD9XOOh6",
        "colab_type": "code",
        "colab": {}
      },
      "source": [
        "from sklearn.model_selection import train_test_split\n",
        "train_X, test_X, train_y, test_y = train_test_split(X_pca, y, train_size=0.5,test_size=0.5,random_state=99)"
      ],
      "execution_count": 0,
      "outputs": []
    },
    {
      "cell_type": "code",
      "metadata": {
        "id": "foVyYvLVUljc",
        "colab_type": "code",
        "outputId": "c9333c1c-29bf-42da-bd21-e10387c26727",
        "colab": {
          "base_uri": "https://localhost:8080/",
          "height": 34
        }
      },
      "source": [
        "from sklearn.linear_model import LinearRegression\n",
        "lm = LinearRegression()\n",
        "lm.fit( train_X, train_y )"
      ],
      "execution_count": 43,
      "outputs": [
        {
          "output_type": "execute_result",
          "data": {
            "text/plain": [
              "LinearRegression(copy_X=True, fit_intercept=True, n_jobs=None, normalize=False)"
            ]
          },
          "metadata": {
            "tags": []
          },
          "execution_count": 43
        }
      ]
    },
    {
      "cell_type": "code",
      "metadata": {
        "id": "Oi3jTCyaLGRJ",
        "colab_type": "code",
        "outputId": "e7769a96-c96d-41c8-a4ab-7efc9b9d3d0b",
        "colab": {
          "base_uri": "https://localhost:8080/",
          "height": 34
        }
      },
      "source": [
        "pca1_r2_train = lm.score(train_X, train_y)\n",
        "pca1_r2_test = lm.score(test_X, test_y)\n",
        "print(pca1_r2_train,pca1_r2_test)"
      ],
      "execution_count": 44,
      "outputs": [
        {
          "output_type": "stream",
          "text": [
            "0.997313308708175 0.9972599623679496\n"
          ],
          "name": "stdout"
        }
      ]
    },
    {
      "cell_type": "markdown",
      "metadata": {
        "id": "e5KGKSWaFeQl",
        "colab_type": "text"
      },
      "source": [
        "### PCA Analysis\n",
        "\n",
        "So you should find that the overall r2 is quite high, but we have a really complex model with 150 predictors. Run PCA with 4, 5, and 6 components. For example, running with 4 components means setting `n_components=4`. \n",
        "\n",
        "* Check out the variance explained from each of the numbers of principal components. When you find taht increasing the number of components only increases the variance explained by a small amount.  * \n",
        "\n",
        "\n",
        "\n"
      ]
    },
    {
      "cell_type": "code",
      "metadata": {
        "id": "49Hth9V4J7vY",
        "colab_type": "code",
        "colab": {}
      },
      "source": [
        "from sklearn.decomposition import PCA\n",
        "import pandas as pd\n",
        "\n"
      ],
      "execution_count": 0,
      "outputs": []
    },
    {
      "cell_type": "code",
      "metadata": {
        "id": "Sgs9sRQpZ7sG",
        "colab_type": "code",
        "colab": {}
      },
      "source": [
        "pca1 = PCA(4)\n",
        "pca1_2 = pca1.fit_transform(X_pca)\n",
        "pca2 = PCA(5)\n",
        "pca2_2 = pca2.fit_transform(X_pca)\n",
        "pca3 = PCA(6)\n",
        "pca3_2 = pca3.fit_transform(X_pca)"
      ],
      "execution_count": 0,
      "outputs": []
    },
    {
      "cell_type": "code",
      "metadata": {
        "id": "Sy-w9uzQZ7yB",
        "colab_type": "code",
        "outputId": "de49a51b-2417-4df9-bd41-45d45dbb5ef6",
        "colab": {
          "base_uri": "https://localhost:8080/",
          "height": 1000
        }
      },
      "source": [
        "print('pca1',pca1.components_,'pca2',pca2.components_,'pca3',pca3.components_)"
      ],
      "execution_count": 72,
      "outputs": [
        {
          "output_type": "stream",
          "text": [
            "pca1 [[-0.07368373 -0.07180865 -0.07064561 -0.07224192 -0.06972917 -0.0703374\n",
            "  -0.06881086 -0.0699997  -0.07128553 -0.06999371 -0.07252831 -0.07270691\n",
            "  -0.07199953 -0.07157689 -0.07080287 -0.07335769 -0.06951501 -0.07056575\n",
            "  -0.06988486 -0.07198377 -0.06968688 -0.07046554 -0.07133334 -0.07061495\n",
            "  -0.07085529 -0.07178128 -0.07045699 -0.07140867 -0.07132756 -0.07024843\n",
            "   0.07213475  0.07301809  0.0732766   0.07416149  0.07206561  0.07206886\n",
            "   0.07311044  0.07087255  0.07466548  0.07331346  0.07263329  0.07347339\n",
            "   0.07200758  0.07109712  0.07203561  0.07358607  0.07373188  0.07320311\n",
            "   0.07328589  0.0729784   0.07039713  0.07097522  0.0748982   0.07448723\n",
            "   0.07405169  0.07242126  0.07410134  0.07206763  0.07233968  0.07454138\n",
            "  -0.1191001  -0.11766258 -0.11752241 -0.11833284 -0.11860741 -0.11853594\n",
            "  -0.11909255 -0.1183718  -0.11786487 -0.11724041 -0.11758591 -0.11858671\n",
            "  -0.11665851 -0.1181944  -0.11758137 -0.11729223 -0.11738356 -0.11859978\n",
            "  -0.11644712 -0.11946796 -0.11589407 -0.11869893 -0.11640668 -0.11860873\n",
            "  -0.11801984 -0.11748688 -0.11738906 -0.11975278 -0.11817407 -0.11947733\n",
            "   0.0961153   0.09555677  0.09479662  0.09450457  0.09525097  0.09568178\n",
            "   0.09259467  0.09599835  0.09471834  0.09454267  0.09548076  0.0932748\n",
            "   0.09499758  0.09546913  0.09400255  0.09476367  0.09498202  0.09568032\n",
            "   0.09498405  0.09611189  0.09490262  0.09391849  0.09489916  0.09578683\n",
            "   0.09324575  0.09332871  0.09551687  0.09674462  0.09648142  0.09669514\n",
            "   0.00198284  0.00304432  0.00232844  0.00312879  0.00425906  0.00274591\n",
            "   0.00226982  0.00153974  0.00276564  0.00372934  0.00279681  0.00218921\n",
            "   0.00456319  0.00365247  0.00321178  0.00347984  0.00273772  0.00443199\n",
            "   0.00178612  0.00326254  0.00334775  0.00221473  0.00171793  0.00302907\n",
            "   0.00201305  0.00333729  0.00445001  0.00336361  0.00090284  0.00495538]\n",
            " [-0.04893921 -0.05092828 -0.05055578 -0.04761001 -0.05179008 -0.05262516\n",
            "  -0.04794647 -0.05060801 -0.04908269 -0.05218266 -0.05082426 -0.04719424\n",
            "  -0.05034861 -0.04841003 -0.05059581 -0.04905298 -0.05121914 -0.04989619\n",
            "  -0.04969159 -0.05062753 -0.04987526 -0.05142303 -0.05087388 -0.05010439\n",
            "  -0.05234614 -0.05216208 -0.0520783  -0.05158466 -0.04932685 -0.04973089\n",
            "  -0.05293746 -0.0522112  -0.05266522 -0.05354351 -0.05139374 -0.05258172\n",
            "  -0.05383243 -0.05254482 -0.05295479 -0.05502097 -0.05203653 -0.05202125\n",
            "  -0.05299233 -0.05145923 -0.05266887 -0.05267649 -0.05379924 -0.05193121\n",
            "  -0.05312973 -0.05171753 -0.05448202 -0.05321784 -0.0540533  -0.05407296\n",
            "  -0.05375577 -0.05412967 -0.05262013 -0.0528275  -0.05125076 -0.05147224\n",
            "  -0.06490585 -0.06578637 -0.06389335 -0.06511111 -0.06526212 -0.0655534\n",
            "  -0.06376348 -0.06674601 -0.06598522 -0.06628671 -0.06529209 -0.06418854\n",
            "  -0.06458393 -0.06526661 -0.06487526 -0.06419906 -0.06647674 -0.06546289\n",
            "  -0.06536105 -0.0634775  -0.06632178 -0.06564915 -0.06451985 -0.06515794\n",
            "  -0.06534648 -0.0640501  -0.06456875 -0.06391475 -0.0642399  -0.06548848\n",
            "  -0.07924879 -0.08009807 -0.08265315 -0.08346308 -0.0814301  -0.08304912\n",
            "  -0.0834571  -0.08164164 -0.08256931 -0.08095607 -0.08110836 -0.08329273\n",
            "  -0.08111789 -0.08274031 -0.08133409 -0.0832245  -0.08058935 -0.08220714\n",
            "  -0.0843528  -0.08085608 -0.08485043 -0.08189225 -0.08080084 -0.08093138\n",
            "  -0.08151168 -0.08049923 -0.08383098 -0.08021134 -0.08213803 -0.08200002\n",
            "   0.13079274  0.12873402  0.12983338  0.12984052  0.13185071  0.13041226\n",
            "   0.13121359  0.13008948  0.1307015   0.1319543   0.13059017  0.13310125\n",
            "   0.13122715  0.13027052  0.13115535  0.13114984  0.12866694  0.1305413\n",
            "   0.12883182  0.13064925  0.12992735  0.13011288  0.13077045  0.12846815\n",
            "   0.13138929  0.13224813  0.13093408  0.12989832  0.13041116  0.13193767]\n",
            " [ 0.1405722   0.14156806  0.14242645  0.14194796  0.14278174  0.13991393\n",
            "   0.14195083  0.1416726   0.14156325  0.14202294  0.1442677   0.14249411\n",
            "   0.14201243  0.1426505   0.14234869  0.14245313  0.14204061  0.14340787\n",
            "   0.1427941   0.14219913  0.14240562  0.14361474  0.14165048  0.1412839\n",
            "   0.14185676  0.14268194  0.14116336  0.14289162  0.14188608  0.14258457\n",
            "   0.08184307  0.0801153   0.08210551  0.08203461  0.08076044  0.0810076\n",
            "   0.08314221  0.0809535   0.08077527  0.08076089  0.08195513  0.08113404\n",
            "   0.08276893  0.0794544   0.08182395  0.08169039  0.08224043  0.07875115\n",
            "   0.08084921  0.08151042  0.0790706   0.08171313  0.08138432  0.08084667\n",
            "   0.07971678  0.08161554  0.08006881  0.08202682  0.08385104  0.08241024\n",
            "  -0.03140884 -0.03231534 -0.02992881 -0.03020046 -0.02925364 -0.03351656\n",
            "  -0.0320856  -0.03214745 -0.03051361 -0.03209232 -0.03122832 -0.0303528\n",
            "  -0.0300441  -0.03116981 -0.03098853 -0.03213291 -0.03144337 -0.03127692\n",
            "  -0.02987871 -0.03146018 -0.02974441 -0.03118092 -0.03035    -0.03055032\n",
            "  -0.02998812 -0.03004235 -0.03147179 -0.02871929 -0.02886774 -0.02866038\n",
            "   0.00512083  0.0043219   0.00188361  0.00431675  0.0042083   0.00223521\n",
            "   0.00182318  0.00106867  0.0029207   0.00248366  0.00198117  0.00282102\n",
            "   0.00307086  0.00388136  0.00348957  0.00570146  0.00389968  0.00403833\n",
            "   0.00178062  0.00535747  0.00247284  0.00522971  0.00313252  0.00369545\n",
            "   0.00248679  0.00386201  0.00623742  0.00100981  0.00331987  0.00448508\n",
            "   0.07541141  0.07410277  0.07533493  0.07411467  0.07450496  0.07590235\n",
            "   0.07662243  0.07413419  0.07246058  0.07341903  0.07409347  0.07351421\n",
            "   0.07539309  0.07271053  0.07514497  0.07538543  0.07444167  0.07702102\n",
            "   0.07636827  0.07375632  0.07495454  0.07492217  0.07652273  0.072403\n",
            "   0.07295445  0.07301434  0.07439683  0.07376368  0.07344578  0.07468306]\n",
            " [ 0.05460527  0.05731661  0.05389133  0.05608614  0.05627798  0.05604146\n",
            "   0.05706596  0.05672867  0.05580442  0.05624923  0.05577962  0.05727115\n",
            "   0.05565984  0.05476646  0.05559835  0.05511114  0.0574602   0.05505836\n",
            "   0.05633934  0.0567705   0.05531148  0.05676944  0.05447043  0.0557541\n",
            "   0.05496237  0.05551086  0.05614026  0.05632676  0.0556143   0.058403\n",
            "  -0.13249321 -0.13254528 -0.13140565 -0.13081908 -0.13143581 -0.13218463\n",
            "  -0.13143578 -0.13230118 -0.13323248 -0.13314993 -0.13112708 -0.13087306\n",
            "  -0.13414908 -0.13100257 -0.13466297 -0.132306   -0.13239848 -0.13390755\n",
            "  -0.13248232 -0.13233189 -0.13115449 -0.13253094 -0.13317789 -0.13028869\n",
            "  -0.13422761 -0.13303151 -0.13227128 -0.13192281 -0.13173887 -0.13240098\n",
            "  -0.02723151 -0.0279036  -0.0269012  -0.03079563 -0.02969222 -0.02879795\n",
            "  -0.02848057 -0.02781458 -0.02925361 -0.03127791 -0.02822308 -0.02811558\n",
            "  -0.02807065 -0.02930788 -0.02904741 -0.02792309 -0.02843044 -0.02914627\n",
            "  -0.02699535 -0.03023619 -0.03031949 -0.02928069 -0.02797572 -0.02821573\n",
            "  -0.02775138 -0.03081382 -0.02827967 -0.02956063 -0.03004156 -0.02823053\n",
            "   0.10729111  0.10658977  0.1085556   0.10680991  0.10731356  0.10574153\n",
            "   0.10776483  0.10712746  0.10749433  0.10736437  0.10704906  0.10472107\n",
            "   0.10511098  0.10559199  0.10715128  0.10552237  0.1091204   0.10525023\n",
            "   0.10735972  0.10705384  0.10728056  0.10658663  0.10716801  0.10732979\n",
            "   0.10772979  0.10939642  0.10558155  0.10711249  0.10704394  0.10636397\n",
            "   0.02165758  0.02190185  0.02203028  0.02038435  0.01879464  0.02191628\n",
            "   0.01982001  0.01923696  0.02086884  0.01958953  0.01838655  0.01930621\n",
            "   0.02076876  0.01958645  0.02128313  0.01986211  0.01984909  0.0212837\n",
            "   0.02020108  0.02251705  0.02256321  0.02067135  0.02084232  0.02061854\n",
            "   0.02098258  0.02169753  0.02005025  0.02281679  0.02153135  0.02118358]] pca2 [[-0.07368373 -0.07180865 -0.07064561 -0.07224192 -0.06972917 -0.0703374\n",
            "  -0.06881086 -0.0699997  -0.07128553 -0.06999371 -0.07252831 -0.07270691\n",
            "  -0.07199953 -0.07157689 -0.07080287 -0.07335769 -0.06951501 -0.07056575\n",
            "  -0.06988486 -0.07198377 -0.06968688 -0.07046554 -0.07133334 -0.07061495\n",
            "  -0.07085529 -0.07178128 -0.07045699 -0.07140867 -0.07132756 -0.07024843\n",
            "   0.07213475  0.07301809  0.0732766   0.07416149  0.07206561  0.07206886\n",
            "   0.07311044  0.07087255  0.07466548  0.07331346  0.07263329  0.07347339\n",
            "   0.07200758  0.07109712  0.07203561  0.07358607  0.07373188  0.07320311\n",
            "   0.07328589  0.0729784   0.07039713  0.07097522  0.0748982   0.07448723\n",
            "   0.07405169  0.07242126  0.07410134  0.07206763  0.07233968  0.07454138\n",
            "  -0.1191001  -0.11766258 -0.11752241 -0.11833284 -0.11860741 -0.11853594\n",
            "  -0.11909255 -0.1183718  -0.11786487 -0.11724041 -0.11758591 -0.11858671\n",
            "  -0.11665851 -0.1181944  -0.11758137 -0.11729223 -0.11738356 -0.11859978\n",
            "  -0.11644712 -0.11946796 -0.11589407 -0.11869893 -0.11640668 -0.11860873\n",
            "  -0.11801984 -0.11748688 -0.11738906 -0.11975278 -0.11817407 -0.11947733\n",
            "   0.0961153   0.09555677  0.09479662  0.09450457  0.09525097  0.09568178\n",
            "   0.09259467  0.09599835  0.09471834  0.09454267  0.09548076  0.0932748\n",
            "   0.09499758  0.09546913  0.09400255  0.09476367  0.09498202  0.09568032\n",
            "   0.09498405  0.09611189  0.09490262  0.09391849  0.09489916  0.09578683\n",
            "   0.09324575  0.09332871  0.09551687  0.09674462  0.09648142  0.09669514\n",
            "   0.00198284  0.00304432  0.00232844  0.00312879  0.00425906  0.00274591\n",
            "   0.00226982  0.00153974  0.00276564  0.00372934  0.00279681  0.00218921\n",
            "   0.00456319  0.00365247  0.00321178  0.00347984  0.00273772  0.00443199\n",
            "   0.00178612  0.00326254  0.00334775  0.00221473  0.00171793  0.00302907\n",
            "   0.00201305  0.00333729  0.00445001  0.00336361  0.00090284  0.00495538]\n",
            " [-0.04893921 -0.05092828 -0.05055578 -0.04761001 -0.05179008 -0.05262516\n",
            "  -0.04794647 -0.05060801 -0.04908269 -0.05218266 -0.05082426 -0.04719424\n",
            "  -0.05034861 -0.04841003 -0.05059581 -0.04905298 -0.05121914 -0.04989619\n",
            "  -0.04969159 -0.05062753 -0.04987526 -0.05142303 -0.05087388 -0.05010439\n",
            "  -0.05234614 -0.05216208 -0.0520783  -0.05158466 -0.04932685 -0.04973089\n",
            "  -0.05293746 -0.0522112  -0.05266522 -0.05354351 -0.05139374 -0.05258172\n",
            "  -0.05383243 -0.05254482 -0.05295479 -0.05502097 -0.05203653 -0.05202125\n",
            "  -0.05299233 -0.05145923 -0.05266887 -0.05267649 -0.05379924 -0.05193121\n",
            "  -0.05312973 -0.05171753 -0.05448202 -0.05321784 -0.0540533  -0.05407296\n",
            "  -0.05375577 -0.05412967 -0.05262013 -0.0528275  -0.05125076 -0.05147224\n",
            "  -0.06490585 -0.06578637 -0.06389335 -0.06511111 -0.06526212 -0.0655534\n",
            "  -0.06376348 -0.06674601 -0.06598522 -0.06628671 -0.06529209 -0.06418854\n",
            "  -0.06458393 -0.06526661 -0.06487526 -0.06419906 -0.06647674 -0.06546289\n",
            "  -0.06536105 -0.0634775  -0.06632178 -0.06564915 -0.06451985 -0.06515794\n",
            "  -0.06534648 -0.0640501  -0.06456875 -0.06391475 -0.0642399  -0.06548848\n",
            "  -0.07924879 -0.08009807 -0.08265315 -0.08346308 -0.0814301  -0.08304912\n",
            "  -0.0834571  -0.08164164 -0.08256931 -0.08095607 -0.08110836 -0.08329273\n",
            "  -0.08111789 -0.08274031 -0.08133409 -0.0832245  -0.08058935 -0.08220714\n",
            "  -0.0843528  -0.08085608 -0.08485043 -0.08189225 -0.08080084 -0.08093138\n",
            "  -0.08151168 -0.08049923 -0.08383098 -0.08021134 -0.08213803 -0.08200002\n",
            "   0.13079274  0.12873402  0.12983338  0.12984052  0.13185071  0.13041226\n",
            "   0.13121359  0.13008948  0.1307015   0.1319543   0.13059017  0.13310125\n",
            "   0.13122715  0.13027052  0.13115535  0.13114984  0.12866694  0.1305413\n",
            "   0.12883182  0.13064925  0.12992735  0.13011288  0.13077045  0.12846815\n",
            "   0.13138929  0.13224813  0.13093408  0.12989832  0.13041116  0.13193767]\n",
            " [ 0.1405722   0.14156806  0.14242645  0.14194796  0.14278174  0.13991393\n",
            "   0.14195083  0.1416726   0.14156325  0.14202294  0.1442677   0.14249411\n",
            "   0.14201243  0.1426505   0.14234869  0.14245313  0.14204061  0.14340787\n",
            "   0.1427941   0.14219913  0.14240562  0.14361474  0.14165048  0.1412839\n",
            "   0.14185676  0.14268194  0.14116336  0.14289162  0.14188608  0.14258457\n",
            "   0.08184307  0.0801153   0.08210551  0.08203461  0.08076044  0.0810076\n",
            "   0.08314221  0.0809535   0.08077527  0.08076089  0.08195513  0.08113404\n",
            "   0.08276893  0.0794544   0.08182395  0.08169039  0.08224043  0.07875115\n",
            "   0.08084921  0.08151042  0.0790706   0.08171313  0.08138432  0.08084667\n",
            "   0.07971678  0.08161554  0.08006881  0.08202682  0.08385104  0.08241024\n",
            "  -0.03140884 -0.03231534 -0.02992881 -0.03020046 -0.02925364 -0.03351656\n",
            "  -0.0320856  -0.03214745 -0.03051361 -0.03209232 -0.03122832 -0.0303528\n",
            "  -0.0300441  -0.03116981 -0.03098853 -0.03213291 -0.03144337 -0.03127692\n",
            "  -0.02987871 -0.03146018 -0.02974441 -0.03118092 -0.03035    -0.03055032\n",
            "  -0.02998812 -0.03004235 -0.03147179 -0.02871929 -0.02886774 -0.02866038\n",
            "   0.00512083  0.0043219   0.00188361  0.00431675  0.0042083   0.00223521\n",
            "   0.00182318  0.00106867  0.0029207   0.00248366  0.00198117  0.00282102\n",
            "   0.00307086  0.00388136  0.00348957  0.00570146  0.00389968  0.00403833\n",
            "   0.00178062  0.00535747  0.00247284  0.00522971  0.00313252  0.00369545\n",
            "   0.00248679  0.00386201  0.00623742  0.00100981  0.00331987  0.00448508\n",
            "   0.07541141  0.07410277  0.07533493  0.07411467  0.07450496  0.07590235\n",
            "   0.07662243  0.07413419  0.07246058  0.07341903  0.07409347  0.07351421\n",
            "   0.07539309  0.07271053  0.07514497  0.07538543  0.07444167  0.07702102\n",
            "   0.07636827  0.07375632  0.07495454  0.07492217  0.07652273  0.072403\n",
            "   0.07295445  0.07301434  0.07439683  0.07376368  0.07344578  0.07468306]\n",
            " [ 0.05460527  0.05731661  0.05389133  0.05608614  0.05627798  0.05604146\n",
            "   0.05706596  0.05672867  0.05580442  0.05624923  0.05577962  0.05727115\n",
            "   0.05565984  0.05476646  0.05559835  0.05511114  0.0574602   0.05505836\n",
            "   0.05633934  0.0567705   0.05531148  0.05676944  0.05447043  0.0557541\n",
            "   0.05496237  0.05551086  0.05614026  0.05632676  0.0556143   0.058403\n",
            "  -0.13249321 -0.13254528 -0.13140565 -0.13081908 -0.13143581 -0.13218463\n",
            "  -0.13143578 -0.13230118 -0.13323248 -0.13314993 -0.13112708 -0.13087306\n",
            "  -0.13414908 -0.13100257 -0.13466297 -0.132306   -0.13239848 -0.13390755\n",
            "  -0.13248232 -0.13233189 -0.13115449 -0.13253094 -0.13317789 -0.13028869\n",
            "  -0.13422761 -0.13303151 -0.13227128 -0.13192281 -0.13173887 -0.13240098\n",
            "  -0.02723151 -0.0279036  -0.0269012  -0.03079563 -0.02969222 -0.02879795\n",
            "  -0.02848057 -0.02781458 -0.02925361 -0.03127791 -0.02822308 -0.02811558\n",
            "  -0.02807065 -0.02930788 -0.02904741 -0.02792309 -0.02843044 -0.02914627\n",
            "  -0.02699535 -0.03023619 -0.03031949 -0.02928069 -0.02797572 -0.02821573\n",
            "  -0.02775138 -0.03081382 -0.02827967 -0.02956063 -0.03004156 -0.02823053\n",
            "   0.10729111  0.10658977  0.1085556   0.10680991  0.10731356  0.10574153\n",
            "   0.10776483  0.10712746  0.10749433  0.10736437  0.10704906  0.10472107\n",
            "   0.10511098  0.10559199  0.10715128  0.10552237  0.1091204   0.10525023\n",
            "   0.10735972  0.10705384  0.10728056  0.10658663  0.10716801  0.10732979\n",
            "   0.10772979  0.10939642  0.10558155  0.10711249  0.10704394  0.10636397\n",
            "   0.02165758  0.02190185  0.02203028  0.02038435  0.01879464  0.02191628\n",
            "   0.01982001  0.01923696  0.02086884  0.01958953  0.01838655  0.01930621\n",
            "   0.02076876  0.01958645  0.02128313  0.01986211  0.01984909  0.0212837\n",
            "   0.02020108  0.02251705  0.02256321  0.02067135  0.02084232  0.02061854\n",
            "   0.02098258  0.02169753  0.02005025  0.02281679  0.02153135  0.02118358]\n",
            " [ 0.04854203  0.04981286  0.048138    0.05042795  0.04805505  0.05029444\n",
            "   0.04967141  0.04523212  0.04875742  0.04795709  0.04796248  0.04919559\n",
            "   0.05104941  0.05194541  0.04913481  0.04949806  0.04908855  0.04832518\n",
            "   0.0495079   0.04949496  0.04973809  0.04854301  0.0473318   0.04882421\n",
            "   0.04913394  0.04706318  0.04918293  0.05086624  0.04845508  0.04889264\n",
            "  -0.03346263 -0.03304104 -0.03203154 -0.03313725 -0.03237237 -0.03469848\n",
            "  -0.0334859  -0.03379576 -0.0304836  -0.03524138 -0.03119597 -0.03351909\n",
            "  -0.03398878 -0.03490017 -0.03429461 -0.03640466 -0.03205038 -0.03512378\n",
            "  -0.03136205 -0.03465087 -0.03275681 -0.03360272 -0.0335279  -0.03312799\n",
            "  -0.03268213 -0.03252609 -0.03192225 -0.0338557  -0.03178843 -0.03356388\n",
            "  -0.11546946 -0.11600394 -0.11695858 -0.11576722 -0.11510122 -0.1165516\n",
            "  -0.11518749 -0.11406967 -0.11596353 -0.11555188 -0.11580934 -0.1146247\n",
            "  -0.11639256 -0.11330902 -0.11691457 -0.11512993 -0.115933   -0.11753017\n",
            "  -0.11602794 -0.11448643 -0.1174081  -0.11576327 -0.11638122 -0.11515054\n",
            "  -0.116428   -0.11520048 -0.11570629 -0.11521164 -0.11570334 -0.11609451\n",
            "  -0.07571728 -0.07985323 -0.07781459 -0.07891714 -0.0781205  -0.07783058\n",
            "  -0.07795794 -0.07863829 -0.07681825 -0.08059274 -0.07757834 -0.08036031\n",
            "  -0.07823149 -0.07828246 -0.07941881 -0.07975466 -0.07705825 -0.07970841\n",
            "  -0.07890229 -0.07966625 -0.07679118 -0.07675328 -0.07657719 -0.07759021\n",
            "  -0.07977276 -0.0795157  -0.07887686 -0.07773447 -0.07729498 -0.078434\n",
            "  -0.10091969 -0.1034068  -0.10140392 -0.10243935 -0.10129433 -0.10017042\n",
            "  -0.10030843 -0.10161622 -0.10282515 -0.09931324 -0.10183746 -0.10185898\n",
            "  -0.09883426 -0.10391095 -0.10129898 -0.10198204 -0.10134206 -0.10132695\n",
            "  -0.10346878 -0.10076752 -0.10123172 -0.10098419 -0.09957514 -0.10114433\n",
            "  -0.1025504  -0.10028625 -0.10176506 -0.10148853 -0.10244186 -0.1006577 ]] pca3 [[-0.07368373 -0.07180865 -0.07064561 -0.07224192 -0.06972917 -0.0703374\n",
            "  -0.06881086 -0.0699997  -0.07128553 -0.06999371 -0.07252831 -0.07270691\n",
            "  -0.07199953 -0.07157689 -0.07080287 -0.07335769 -0.06951501 -0.07056575\n",
            "  -0.06988486 -0.07198377 -0.06968688 -0.07046554 -0.07133334 -0.07061495\n",
            "  -0.07085529 -0.07178128 -0.07045699 -0.07140867 -0.07132756 -0.07024843\n",
            "   0.07213475  0.07301809  0.0732766   0.07416149  0.07206561  0.07206886\n",
            "   0.07311044  0.07087255  0.07466548  0.07331346  0.07263329  0.07347339\n",
            "   0.07200758  0.07109712  0.07203561  0.07358607  0.07373188  0.07320311\n",
            "   0.07328589  0.0729784   0.07039713  0.07097522  0.0748982   0.07448723\n",
            "   0.07405169  0.07242126  0.07410134  0.07206763  0.07233968  0.07454138\n",
            "  -0.1191001  -0.11766258 -0.11752241 -0.11833284 -0.11860741 -0.11853594\n",
            "  -0.11909255 -0.1183718  -0.11786487 -0.11724041 -0.11758591 -0.11858671\n",
            "  -0.11665851 -0.1181944  -0.11758137 -0.11729223 -0.11738356 -0.11859978\n",
            "  -0.11644712 -0.11946796 -0.11589407 -0.11869893 -0.11640668 -0.11860873\n",
            "  -0.11801984 -0.11748688 -0.11738906 -0.11975278 -0.11817407 -0.11947733\n",
            "   0.0961153   0.09555677  0.09479662  0.09450457  0.09525097  0.09568178\n",
            "   0.09259467  0.09599835  0.09471834  0.09454267  0.09548076  0.0932748\n",
            "   0.09499758  0.09546913  0.09400255  0.09476367  0.09498202  0.09568032\n",
            "   0.09498405  0.09611189  0.09490262  0.09391849  0.09489916  0.09578683\n",
            "   0.09324575  0.09332871  0.09551687  0.09674462  0.09648142  0.09669514\n",
            "   0.00198284  0.00304432  0.00232844  0.00312879  0.00425906  0.00274591\n",
            "   0.00226982  0.00153974  0.00276564  0.00372934  0.00279681  0.00218921\n",
            "   0.00456319  0.00365247  0.00321178  0.00347984  0.00273772  0.00443199\n",
            "   0.00178612  0.00326254  0.00334775  0.00221473  0.00171793  0.00302907\n",
            "   0.00201305  0.00333729  0.00445001  0.00336361  0.00090284  0.00495538]\n",
            " [-0.04893921 -0.05092828 -0.05055578 -0.04761001 -0.05179008 -0.05262516\n",
            "  -0.04794647 -0.05060801 -0.04908269 -0.05218266 -0.05082426 -0.04719424\n",
            "  -0.05034861 -0.04841003 -0.05059581 -0.04905298 -0.05121914 -0.04989619\n",
            "  -0.04969159 -0.05062753 -0.04987526 -0.05142303 -0.05087388 -0.05010439\n",
            "  -0.05234614 -0.05216208 -0.0520783  -0.05158466 -0.04932685 -0.04973089\n",
            "  -0.05293746 -0.0522112  -0.05266522 -0.05354351 -0.05139374 -0.05258172\n",
            "  -0.05383243 -0.05254482 -0.05295479 -0.05502097 -0.05203653 -0.05202125\n",
            "  -0.05299233 -0.05145923 -0.05266887 -0.05267649 -0.05379924 -0.05193121\n",
            "  -0.05312973 -0.05171753 -0.05448202 -0.05321784 -0.0540533  -0.05407296\n",
            "  -0.05375577 -0.05412967 -0.05262013 -0.0528275  -0.05125076 -0.05147224\n",
            "  -0.06490585 -0.06578637 -0.06389335 -0.06511111 -0.06526212 -0.0655534\n",
            "  -0.06376348 -0.06674601 -0.06598522 -0.06628671 -0.06529209 -0.06418854\n",
            "  -0.06458393 -0.06526661 -0.06487526 -0.06419906 -0.06647674 -0.06546289\n",
            "  -0.06536105 -0.0634775  -0.06632178 -0.06564915 -0.06451985 -0.06515794\n",
            "  -0.06534648 -0.0640501  -0.06456875 -0.06391475 -0.0642399  -0.06548848\n",
            "  -0.07924879 -0.08009807 -0.08265315 -0.08346308 -0.0814301  -0.08304912\n",
            "  -0.0834571  -0.08164164 -0.08256931 -0.08095607 -0.08110836 -0.08329273\n",
            "  -0.08111789 -0.08274031 -0.08133409 -0.0832245  -0.08058935 -0.08220714\n",
            "  -0.0843528  -0.08085608 -0.08485043 -0.08189225 -0.08080084 -0.08093138\n",
            "  -0.08151168 -0.08049923 -0.08383098 -0.08021134 -0.08213803 -0.08200002\n",
            "   0.13079274  0.12873402  0.12983338  0.12984052  0.13185071  0.13041226\n",
            "   0.13121359  0.13008948  0.1307015   0.1319543   0.13059017  0.13310125\n",
            "   0.13122715  0.13027052  0.13115535  0.13114984  0.12866694  0.1305413\n",
            "   0.12883182  0.13064925  0.12992735  0.13011288  0.13077045  0.12846815\n",
            "   0.13138929  0.13224813  0.13093408  0.12989832  0.13041116  0.13193767]\n",
            " [ 0.1405722   0.14156806  0.14242645  0.14194796  0.14278174  0.13991393\n",
            "   0.14195083  0.1416726   0.14156325  0.14202294  0.1442677   0.14249411\n",
            "   0.14201243  0.1426505   0.14234869  0.14245313  0.14204061  0.14340787\n",
            "   0.1427941   0.14219913  0.14240562  0.14361474  0.14165048  0.1412839\n",
            "   0.14185676  0.14268194  0.14116336  0.14289162  0.14188608  0.14258457\n",
            "   0.08184307  0.0801153   0.08210551  0.08203461  0.08076044  0.0810076\n",
            "   0.08314221  0.0809535   0.08077527  0.08076089  0.08195513  0.08113404\n",
            "   0.08276893  0.0794544   0.08182395  0.08169039  0.08224043  0.07875115\n",
            "   0.08084921  0.08151042  0.0790706   0.08171313  0.08138432  0.08084667\n",
            "   0.07971678  0.08161554  0.08006881  0.08202682  0.08385104  0.08241024\n",
            "  -0.03140884 -0.03231534 -0.02992881 -0.03020046 -0.02925364 -0.03351656\n",
            "  -0.0320856  -0.03214745 -0.03051361 -0.03209232 -0.03122832 -0.0303528\n",
            "  -0.0300441  -0.03116981 -0.03098853 -0.03213291 -0.03144337 -0.03127692\n",
            "  -0.02987871 -0.03146018 -0.02974441 -0.03118092 -0.03035    -0.03055032\n",
            "  -0.02998812 -0.03004235 -0.03147179 -0.02871929 -0.02886774 -0.02866038\n",
            "   0.00512083  0.0043219   0.00188361  0.00431675  0.0042083   0.00223521\n",
            "   0.00182318  0.00106867  0.0029207   0.00248366  0.00198117  0.00282102\n",
            "   0.00307086  0.00388136  0.00348957  0.00570146  0.00389968  0.00403833\n",
            "   0.00178062  0.00535747  0.00247284  0.00522971  0.00313252  0.00369545\n",
            "   0.00248679  0.00386201  0.00623742  0.00100981  0.00331987  0.00448508\n",
            "   0.07541141  0.07410277  0.07533493  0.07411467  0.07450496  0.07590235\n",
            "   0.07662243  0.07413419  0.07246058  0.07341903  0.07409347  0.07351421\n",
            "   0.07539309  0.07271053  0.07514497  0.07538543  0.07444167  0.07702102\n",
            "   0.07636827  0.07375632  0.07495454  0.07492217  0.07652273  0.072403\n",
            "   0.07295445  0.07301434  0.07439683  0.07376368  0.07344578  0.07468306]\n",
            " [ 0.05460527  0.05731661  0.05389133  0.05608614  0.05627798  0.05604146\n",
            "   0.05706596  0.05672867  0.05580442  0.05624923  0.05577962  0.05727115\n",
            "   0.05565984  0.05476646  0.05559835  0.05511114  0.0574602   0.05505836\n",
            "   0.05633934  0.0567705   0.05531148  0.05676944  0.05447043  0.0557541\n",
            "   0.05496237  0.05551086  0.05614026  0.05632676  0.0556143   0.058403\n",
            "  -0.13249321 -0.13254528 -0.13140565 -0.13081908 -0.13143581 -0.13218463\n",
            "  -0.13143578 -0.13230118 -0.13323248 -0.13314993 -0.13112708 -0.13087306\n",
            "  -0.13414908 -0.13100257 -0.13466297 -0.132306   -0.13239848 -0.13390755\n",
            "  -0.13248232 -0.13233189 -0.13115449 -0.13253094 -0.13317789 -0.13028869\n",
            "  -0.13422761 -0.13303151 -0.13227128 -0.13192281 -0.13173887 -0.13240098\n",
            "  -0.02723151 -0.0279036  -0.0269012  -0.03079563 -0.02969222 -0.02879795\n",
            "  -0.02848057 -0.02781458 -0.02925361 -0.03127791 -0.02822308 -0.02811558\n",
            "  -0.02807065 -0.02930788 -0.02904741 -0.02792309 -0.02843044 -0.02914627\n",
            "  -0.02699535 -0.03023619 -0.03031949 -0.02928069 -0.02797572 -0.02821573\n",
            "  -0.02775138 -0.03081382 -0.02827967 -0.02956063 -0.03004156 -0.02823053\n",
            "   0.10729111  0.10658977  0.1085556   0.10680991  0.10731356  0.10574153\n",
            "   0.10776483  0.10712746  0.10749433  0.10736437  0.10704906  0.10472107\n",
            "   0.10511098  0.10559199  0.10715128  0.10552237  0.1091204   0.10525023\n",
            "   0.10735972  0.10705384  0.10728056  0.10658663  0.10716801  0.10732979\n",
            "   0.10772979  0.10939642  0.10558155  0.10711249  0.10704394  0.10636397\n",
            "   0.02165758  0.02190185  0.02203028  0.02038435  0.01879464  0.02191628\n",
            "   0.01982001  0.01923696  0.02086884  0.01958953  0.01838655  0.01930621\n",
            "   0.02076876  0.01958645  0.02128313  0.01986211  0.01984909  0.0212837\n",
            "   0.02020108  0.02251705  0.02256321  0.02067135  0.02084232  0.02061854\n",
            "   0.02098258  0.02169753  0.02005025  0.02281679  0.02153135  0.02118358]\n",
            " [ 0.04854203  0.04981286  0.048138    0.05042795  0.04805505  0.05029444\n",
            "   0.04967141  0.04523212  0.04875742  0.04795709  0.04796248  0.04919559\n",
            "   0.05104941  0.05194541  0.04913481  0.04949806  0.04908855  0.04832518\n",
            "   0.0495079   0.04949496  0.04973809  0.04854301  0.0473318   0.04882421\n",
            "   0.04913394  0.04706318  0.04918293  0.05086624  0.04845508  0.04889264\n",
            "  -0.03346263 -0.03304104 -0.03203154 -0.03313725 -0.03237237 -0.03469848\n",
            "  -0.0334859  -0.03379576 -0.0304836  -0.03524138 -0.03119597 -0.03351909\n",
            "  -0.03398878 -0.03490017 -0.03429461 -0.03640466 -0.03205038 -0.03512378\n",
            "  -0.03136205 -0.03465087 -0.03275681 -0.03360272 -0.0335279  -0.03312799\n",
            "  -0.03268213 -0.03252609 -0.03192225 -0.0338557  -0.03178843 -0.03356388\n",
            "  -0.11546946 -0.11600394 -0.11695858 -0.11576722 -0.11510122 -0.1165516\n",
            "  -0.11518749 -0.11406967 -0.11596353 -0.11555188 -0.11580934 -0.1146247\n",
            "  -0.11639256 -0.11330902 -0.11691457 -0.11512993 -0.115933   -0.11753017\n",
            "  -0.11602794 -0.11448643 -0.1174081  -0.11576327 -0.11638122 -0.11515054\n",
            "  -0.116428   -0.11520048 -0.11570629 -0.11521164 -0.11570334 -0.11609451\n",
            "  -0.07571728 -0.07985323 -0.07781459 -0.07891714 -0.0781205  -0.07783058\n",
            "  -0.07795794 -0.07863829 -0.07681825 -0.08059274 -0.07757834 -0.08036031\n",
            "  -0.07823149 -0.07828246 -0.07941881 -0.07975466 -0.07705825 -0.07970841\n",
            "  -0.07890229 -0.07966625 -0.07679118 -0.07675328 -0.07657719 -0.07759021\n",
            "  -0.07977276 -0.0795157  -0.07887686 -0.07773447 -0.07729498 -0.078434\n",
            "  -0.10091969 -0.1034068  -0.10140392 -0.10243935 -0.10129433 -0.10017042\n",
            "  -0.10030843 -0.10161622 -0.10282515 -0.09931324 -0.10183746 -0.10185898\n",
            "  -0.09883426 -0.10391095 -0.10129898 -0.10198204 -0.10134206 -0.10132695\n",
            "  -0.10346878 -0.10076752 -0.10123172 -0.10098419 -0.09957514 -0.10114433\n",
            "  -0.1025504  -0.10028625 -0.10176506 -0.10148853 -0.10244186 -0.1006577 ]\n",
            " [-0.1226273   0.01767575 -0.03504583 -0.04254075  0.06515898  0.09143337\n",
            "  -0.14440808  0.0423925  -0.10736276 -0.00246038  0.08640396 -0.00485357\n",
            "   0.03028813  0.07543678 -0.05660194 -0.05327454 -0.05247113  0.03288699\n",
            "   0.16050995 -0.10039423  0.04558771  0.09926932  0.14392725  0.15395292\n",
            "  -0.14319771  0.02622591 -0.12827063 -0.10540368  0.11777814 -0.09195818\n",
            "  -0.05438452  0.07839554  0.04482827  0.14564513 -0.00388604  0.02998505\n",
            "   0.02785647  0.04397618 -0.10039938  0.00622196 -0.01117854 -0.01248673\n",
            "   0.08659505 -0.02833639 -0.09677398 -0.0161795   0.05218838 -0.04244383\n",
            "  -0.04042528 -0.06522399  0.03321107  0.0089205  -0.01916905 -0.07107717\n",
            "  -0.10845147 -0.03987141  0.1306592  -0.06874617 -0.01051972  0.09538317\n",
            "   0.06555113 -0.02561164 -0.17782157 -0.02620302 -0.02059367  0.0259054\n",
            "  -0.0322847   0.12431035 -0.01669791  0.04673872  0.03025943 -0.03635861\n",
            "   0.07811995  0.13376141 -0.12777529 -0.16182738  0.13411982 -0.1569396\n",
            "  -0.10478797  0.06824652  0.01566001  0.02252551 -0.03452033  0.11271049\n",
            "  -0.01329318 -0.07430224 -0.00159073  0.07684344 -0.02703734  0.09886094\n",
            "  -0.06768319  0.03877419 -0.07808066 -0.03713435 -0.00181377  0.02851291\n",
            "  -0.01085348 -0.11325399 -0.03386156  0.1014078   0.01008502  0.08596687\n",
            "   0.03904881  0.04313253 -0.02347741 -0.01763519  0.0320189  -0.04868144\n",
            "  -0.07645982  0.11317712  0.04209715  0.05987272  0.011989   -0.01528764\n",
            "  -0.22489763  0.15103532  0.04175693 -0.02275705 -0.14661388  0.115752\n",
            "  -0.04364609  0.19275467 -0.14327113  0.09069214 -0.0407245   0.03558187\n",
            "  -0.06619169 -0.13534761  0.10759093 -0.04136963 -0.04816791  0.03966845\n",
            "  -0.07092362  0.01971084  0.02499303  0.04991845  0.09650623 -0.09533121\n",
            "  -0.10416978 -0.07356382 -0.01046341 -0.02657004 -0.00139715  0.07413303\n",
            "   0.08579968  0.0094133   0.14859932  0.06700526 -0.13354412 -0.00633704]]\n"
          ],
          "name": "stdout"
        }
      ]
    },
    {
      "cell_type": "code",
      "metadata": {
        "id": "QDh9XsV8fOsJ",
        "colab_type": "code",
        "outputId": "1ad60709-8d6e-402e-8dde-1debe626597f",
        "colab": {
          "base_uri": "https://localhost:8080/",
          "height": 87
        }
      },
      "source": [
        "print('pca1:{0}\\npca2:{1}\\npca3:{2}\\n'.format(pca1.explained_variance_,pca2.explained_variance_,pca3.explained_variance_))"
      ],
      "execution_count": 73,
      "outputs": [
        {
          "output_type": "stream",
          "text": [
            "pca1:[37.64654989 36.98362608 36.84994216 36.06009247]\n",
            "pca2:[37.64654989 36.98362608 36.84994216 36.06009247 35.46054229]\n",
            "pca3:[37.64654989 36.98362608 36.84994216 36.06009247 35.46054229  0.63676192]\n",
            "\n"
          ],
          "name": "stdout"
        }
      ]
    },
    {
      "cell_type": "code",
      "metadata": {
        "id": "RlWP0FakiM0W",
        "colab_type": "code",
        "outputId": "7176c795-0dec-491d-df2a-e7b35176aac7",
        "colab": {
          "base_uri": "https://localhost:8080/",
          "height": 54
        }
      },
      "source": [
        "'''import numpy as np\n",
        "import matplotlib.pyplot as plt\n",
        "#Fitting the PCA algorithm with our Data\n",
        "pca = PCA().fit(train_X)\n",
        "plt.plot(np.cumsum(pca.explained_variance_ratio_))\n",
        "plt.xlabel('number of components')\n",
        "plt.xlim(0,10)\n",
        "plt.ylabel('cumulative explained variance');'''"
      ],
      "execution_count": 52,
      "outputs": [
        {
          "output_type": "execute_result",
          "data": {
            "text/plain": [
              "\"import numpy as np\\nimport matplotlib.pyplot as plt\\n#Fitting the PCA algorithm with our Data\\npca = PCA().fit(train_X)\\nplt.plot(np.cumsum(pca.explained_variance_ratio_))\\nplt.xlabel('number of components')\\nplt.xlim(0,10)\\nplt.ylabel('cumulative explained variance');\""
            ]
          },
          "metadata": {
            "tags": []
          },
          "execution_count": 52
        }
      ]
    },
    {
      "cell_type": "markdown",
      "metadata": {
        "id": "3a7xYdhuFeQq",
        "colab_type": "text"
      },
      "source": [
        "After experimenting with 4, 5, and 6 components, explain why 5 is the correct number of components."
      ]
    },
    {
      "cell_type": "code",
      "metadata": {
        "id": "2c63bcZ3FeQq",
        "colab_type": "code",
        "colab": {}
      },
      "source": [
        "man1=\"\"\"\n",
        "According to the explained_variance\n",
        "pca1:[37.64654989 36.98362608 36.84994216 36.06009247]\n",
        "pca2:[37.64654989 36.98362608 36.84994216 36.06009247 35.46054229]\n",
        "pca3:[37.64654989 36.98362608 36.84994216 36.06009247 35.46054229  0.63676192]\n",
        "When number of components comes to 6, the explained_variance is only 0.6987. Therefore, the contribution made by the sixth component is not significant.\n",
        "\n",
        "\"\"\""
      ],
      "execution_count": 0,
      "outputs": []
    },
    {
      "cell_type": "markdown",
      "metadata": {
        "id": "XovzAC3fFeQt",
        "colab_type": "text"
      },
      "source": [
        "Using just the 5 PCA components as X, perform a 50/50 train test split with `random state` equal to 99. Predict `y` with all variables using regression analysis. Calculate the r2 for train and assign to `pca2_r2_train` and calculate the r2 for test and assign to `pca2_r2_test`. "
      ]
    },
    {
      "cell_type": "code",
      "metadata": {
        "id": "nfnMb6FTFeQt",
        "colab_type": "code",
        "colab": {}
      },
      "source": [
        ""
      ],
      "execution_count": 0,
      "outputs": []
    },
    {
      "cell_type": "code",
      "metadata": {
        "id": "QCmOVsuV0ed9",
        "colab_type": "code",
        "colab": {}
      },
      "source": [
        "train_X_, test_X_, train_y_, test_y_ = train_test_split(pca2_2, y, train_size=0.5,test_size=0.5,random_state=99)"
      ],
      "execution_count": 0,
      "outputs": []
    },
    {
      "cell_type": "code",
      "metadata": {
        "id": "jx3dSrfC5Url",
        "colab_type": "code",
        "outputId": "7a735c53-e039-4d94-9c87-b09ac6fc2ce6",
        "colab": {
          "base_uri": "https://localhost:8080/",
          "height": 34
        }
      },
      "source": [
        "lm1 = LinearRegression()\n",
        "lm1.fit( train_X_, train_y_ )"
      ],
      "execution_count": 76,
      "outputs": [
        {
          "output_type": "execute_result",
          "data": {
            "text/plain": [
              "LinearRegression(copy_X=True, fit_intercept=True, n_jobs=None, normalize=False)"
            ]
          },
          "metadata": {
            "tags": []
          },
          "execution_count": 76
        }
      ]
    },
    {
      "cell_type": "code",
      "metadata": {
        "id": "winKspaR5i9R",
        "colab_type": "code",
        "colab": {}
      },
      "source": [
        "pca2_r2_train = lm1.score(train_X_, train_y_)\n",
        "pca2_r2_test = lm1.score(test_X_, test_y_)"
      ],
      "execution_count": 0,
      "outputs": []
    },
    {
      "cell_type": "code",
      "metadata": {
        "id": "Fo_C-0TW9QLG",
        "colab_type": "code",
        "outputId": "98f0d746-a06e-4f3e-f077-b512262c6719",
        "colab": {
          "base_uri": "https://localhost:8080/",
          "height": 34
        }
      },
      "source": [
        "print(pca2_r2_train,pca2_r2_test)"
      ],
      "execution_count": 78,
      "outputs": [
        {
          "output_type": "stream",
          "text": [
            "0.7048836826606455 0.7006963138514846\n"
          ],
          "name": "stdout"
        }
      ]
    },
    {
      "cell_type": "markdown",
      "metadata": {
        "id": "CDofK8rqJ7DD",
        "colab_type": "text"
      },
      "source": [
        "## Challenge Problem: Feature Selection.  \n",
        "While we obtained a decent R2 with PCA, it wasn't as good as had with the origional data.  Rather than dimensionality reduction using principal components, try to use feature selection to get 4 components that explain >99% of the variance. \n",
        "\n",
        "List those features here. "
      ]
    },
    {
      "cell_type": "code",
      "metadata": {
        "id": "RwaNWvlTJ6QI",
        "colab_type": "code",
        "outputId": "3d8417eb-1da7-48d5-8deb-22a8ee1b7eda",
        "colab": {
          "base_uri": "https://localhost:8080/",
          "height": 52
        }
      },
      "source": [
        "from sklearn.ensemble import RandomForestRegressor\n",
        "forest = RandomForestRegressor(random_state=99)\n",
        "forest.fit(train_X, train_y) \n",
        "importances = forest.feature_importances_"
      ],
      "execution_count": 58,
      "outputs": [
        {
          "output_type": "stream",
          "text": [
            "/usr/local/lib/python3.6/dist-packages/sklearn/ensemble/forest.py:245: FutureWarning: The default value of n_estimators will change from 10 in version 0.20 to 100 in 0.22.\n",
            "  \"10 in version 0.20 to 100 in 0.22.\", FutureWarning)\n"
          ],
          "name": "stderr"
        }
      ]
    },
    {
      "cell_type": "code",
      "metadata": {
        "id": "QXK6zEKlEPLq",
        "colab_type": "code",
        "outputId": "dc60622f-f7a2-4019-f282-b41fbf62b739",
        "colab": {
          "base_uri": "https://localhost:8080/",
          "height": 406
        }
      },
      "source": [
        "from sklearn.feature_selection import SelectFromModel\n",
        "model = SelectFromModel(forest, prefit=True, max_features=4)\n",
        "feature_idx = model.get_support()\n",
        "feature_names = X_pca.columns[feature_idx]\n",
        "X_NEW = model.transform(X_pca)\n",
        "pd.DataFrame(X_NEW, columns= feature_names)"
      ],
      "execution_count": 59,
      "outputs": [
        {
          "output_type": "execute_result",
          "data": {
            "text/html": [
              "<div>\n",
              "<style scoped>\n",
              "    .dataframe tbody tr th:only-of-type {\n",
              "        vertical-align: middle;\n",
              "    }\n",
              "\n",
              "    .dataframe tbody tr th {\n",
              "        vertical-align: top;\n",
              "    }\n",
              "\n",
              "    .dataframe thead th {\n",
              "        text-align: right;\n",
              "    }\n",
              "</style>\n",
              "<table border=\"1\" class=\"dataframe\">\n",
              "  <thead>\n",
              "    <tr style=\"text-align: right;\">\n",
              "      <th></th>\n",
              "      <th>col10</th>\n",
              "      <th>cog17</th>\n",
              "      <th>fak27</th>\n",
              "      <th>gen27</th>\n",
              "    </tr>\n",
              "  </thead>\n",
              "  <tbody>\n",
              "    <tr>\n",
              "      <th>0</th>\n",
              "      <td>3</td>\n",
              "      <td>1</td>\n",
              "      <td>1</td>\n",
              "      <td>1</td>\n",
              "    </tr>\n",
              "    <tr>\n",
              "      <th>1</th>\n",
              "      <td>4</td>\n",
              "      <td>1</td>\n",
              "      <td>3</td>\n",
              "      <td>1</td>\n",
              "    </tr>\n",
              "    <tr>\n",
              "      <th>2</th>\n",
              "      <td>1</td>\n",
              "      <td>2</td>\n",
              "      <td>1</td>\n",
              "      <td>3</td>\n",
              "    </tr>\n",
              "    <tr>\n",
              "      <th>3</th>\n",
              "      <td>4</td>\n",
              "      <td>2</td>\n",
              "      <td>1</td>\n",
              "      <td>4</td>\n",
              "    </tr>\n",
              "    <tr>\n",
              "      <th>4</th>\n",
              "      <td>4</td>\n",
              "      <td>4</td>\n",
              "      <td>4</td>\n",
              "      <td>1</td>\n",
              "    </tr>\n",
              "    <tr>\n",
              "      <th>...</th>\n",
              "      <td>...</td>\n",
              "      <td>...</td>\n",
              "      <td>...</td>\n",
              "      <td>...</td>\n",
              "    </tr>\n",
              "    <tr>\n",
              "      <th>9995</th>\n",
              "      <td>4</td>\n",
              "      <td>4</td>\n",
              "      <td>1</td>\n",
              "      <td>3</td>\n",
              "    </tr>\n",
              "    <tr>\n",
              "      <th>9996</th>\n",
              "      <td>1</td>\n",
              "      <td>4</td>\n",
              "      <td>1</td>\n",
              "      <td>1</td>\n",
              "    </tr>\n",
              "    <tr>\n",
              "      <th>9997</th>\n",
              "      <td>1</td>\n",
              "      <td>4</td>\n",
              "      <td>3</td>\n",
              "      <td>2</td>\n",
              "    </tr>\n",
              "    <tr>\n",
              "      <th>9998</th>\n",
              "      <td>2</td>\n",
              "      <td>4</td>\n",
              "      <td>1</td>\n",
              "      <td>4</td>\n",
              "    </tr>\n",
              "    <tr>\n",
              "      <th>9999</th>\n",
              "      <td>1</td>\n",
              "      <td>3</td>\n",
              "      <td>1</td>\n",
              "      <td>1</td>\n",
              "    </tr>\n",
              "  </tbody>\n",
              "</table>\n",
              "<p>10000 rows × 4 columns</p>\n",
              "</div>"
            ],
            "text/plain": [
              "      col10  cog17  fak27  gen27\n",
              "0         3      1      1      1\n",
              "1         4      1      3      1\n",
              "2         1      2      1      3\n",
              "3         4      2      1      4\n",
              "4         4      4      4      1\n",
              "...     ...    ...    ...    ...\n",
              "9995      4      4      1      3\n",
              "9996      1      4      1      1\n",
              "9997      1      4      3      2\n",
              "9998      2      4      1      4\n",
              "9999      1      3      1      1\n",
              "\n",
              "[10000 rows x 4 columns]"
            ]
          },
          "metadata": {
            "tags": []
          },
          "execution_count": 59
        }
      ]
    },
    {
      "cell_type": "code",
      "metadata": {
        "id": "GrzsQSfsFDQn",
        "colab_type": "code",
        "outputId": "79a9a5e7-6c93-4605-d7ed-62c65ef585f3",
        "colab": {
          "base_uri": "https://localhost:8080/",
          "height": 52
        }
      },
      "source": [
        "X_train_new, X_test_new, y_train_new, y_test_new = train_test_split(X_NEW, y, test_size=0.3, random_state=0)\n",
        "lm = LinearRegression()\n",
        "lm.fit( X_train_new, y_train_new )\n",
        "print('R2 for Train)', lm.score( X_train_new, y_train_new ))\n",
        "print('R2 for Test (cross validation)', lm.score(X_test_new, y_test_new))"
      ],
      "execution_count": 60,
      "outputs": [
        {
          "output_type": "stream",
          "text": [
            "R2 for Train) 0.997245176071812\n",
            "R2 for Test (cross validation) 0.9973595745281335\n"
          ],
          "name": "stdout"
        }
      ]
    },
    {
      "cell_type": "markdown",
      "metadata": {
        "id": "BK5KOYt6FeQx",
        "colab_type": "text"
      },
      "source": [
        "### Cluster Data Baseline Regression\n",
        " On the Cluster data, perform a 50/50 train test split with `random state` equal to 99. Predict `y` with all variables using regression analysis. Calculate the r2 for train and assign to `cluster1_r2_train` and calculate the r2 for test and assign to `cluster1_r2_test`. "
      ]
    },
    {
      "cell_type": "code",
      "metadata": {
        "id": "7MAnnwonKQVc",
        "colab_type": "code",
        "colab": {}
      },
      "source": [
        "train_X_cluster, test_X_cluster, train_y_cluster, test_y_cluster = train_test_split(X_cluster, y_cluster, train_size=0.5,test_size=0.5,random_state=99)"
      ],
      "execution_count": 0,
      "outputs": []
    },
    {
      "cell_type": "code",
      "metadata": {
        "id": "zG93ZJW4KHUg",
        "colab_type": "code",
        "outputId": "82015d45-773d-42ca-ce4d-37d9fb484a51",
        "colab": {
          "base_uri": "https://localhost:8080/",
          "height": 52
        }
      },
      "source": [
        "lm2 = LinearRegression()\n",
        "lm2.fit( train_X_cluster, train_y_cluster )\n",
        "print('R2 for Train)', lm2.score( train_X_cluster, train_y_cluster ))\n",
        "print('R2 for Test (cross validation)', lm2.score(test_X_cluster, test_y_cluster))"
      ],
      "execution_count": 62,
      "outputs": [
        {
          "output_type": "stream",
          "text": [
            "R2 for Train) 0.4562355384721382\n",
            "R2 for Test (cross validation) 0.47293356734863634\n"
          ],
          "name": "stdout"
        }
      ]
    },
    {
      "cell_type": "markdown",
      "metadata": {
        "id": "Qf5WFv75FeQ4",
        "colab_type": "text"
      },
      "source": [
        "### KMeans Cluster Analysis\n",
        "\n",
        "Next perform a cluster analysis using ONLY variables that start with `cad0`-`cad9` and specify 6 clusters.  Set random_state to `99` for KMEANS algorithm. Add the variable `df_cluster['cluster']` to the origional dataframe to indicate the cluster membership. \n"
      ]
    },
    {
      "cell_type": "code",
      "metadata": {
        "id": "2a87N4LaFeQ7",
        "colab_type": "code",
        "colab": {
          "base_uri": "https://localhost:8080/",
          "height": 265
        },
        "outputId": "4b15be1c-5873-4456-91bb-2629d5567b3e"
      },
      "source": [
        "X_ = X_cluster.iloc[:,:10]\n",
        "from sklearn.cluster import KMeans\n",
        "kmeans = KMeans(n_clusters=6,random_state=99)\n",
        "kmeans.fit(X_)\n",
        "y_kmeans = kmeans.predict(X_)\n",
        "df_cluster['cluster'] = y_kmeans\n",
        "print(df_cluster)"
      ],
      "execution_count": 81,
      "outputs": [
        {
          "output_type": "stream",
          "text": [
            "      cad0  cad1  cad2  cad3  cad4  cad5  ...  dv6  dv7  dv8  dv9    y  cluster\n",
            "0        1     1     0     0     1     0  ...    1    0    0    1  454        0\n",
            "1        1     1     0     1     1     0  ...    1    0    0    1  454        0\n",
            "2        1     1     0     0     1     0  ...    1    0    1    0  152        0\n",
            "3        1     1     0     1     1     0  ...    1    0    1    1 -142        0\n",
            "4        1     1     0     0     1     0  ...    1    1    0    0 -227        0\n",
            "...    ...   ...   ...   ...   ...   ...  ...  ...  ...  ...  ...  ...      ...\n",
            "9995     0     1     0     1     0     1  ...    1    1    1    1  -73        5\n",
            "9996     0     0     0     1     1     0  ...    0    0    0    0  307        2\n",
            "9997     0     1     0     1     1     1  ...    1    1    0    1   22        5\n",
            "9998     0     1     0     0     0     1  ...    1    1    0    1   69        5\n",
            "9999     0     1     0     1     1     1  ...    1    0    0    0   48        5\n",
            "\n",
            "[10000 rows x 22 columns]\n"
          ],
          "name": "stdout"
        }
      ]
    },
    {
      "cell_type": "markdown",
      "metadata": {
        "id": "1CDVE_XyFeQ8",
        "colab_type": "text"
      },
      "source": [
        "### Clusters Continued\n",
        "\n",
        "Then select only rows from df_cluster which you have assigned to cluster 1.  For only cluster 1 predict `y` with all variables using regression analysis. Calculate the r2 for train and assign to `cluster2_r2_train` and calculate the r2 for test and assign to `cluster2_r2_test`. Like before set random_state to `99` for the train test split. "
      ]
    },
    {
      "cell_type": "code",
      "metadata": {
        "id": "1Bwi_kuFFeQ9",
        "colab_type": "code",
        "outputId": "f0ca575f-b385-4ac5-e4e2-ac03db3a5277",
        "colab": {
          "base_uri": "https://localhost:8080/",
          "height": 52
        }
      },
      "source": [
        "df_cluster_1 = df_cluster[df_cluster.cluster == 1]\n",
        "y_cluster_1 = df_cluster_1.y\n",
        "new_df_cluster_1 = df_cluster_1.iloc[:,:20]\n",
        "train_X_cluster_1, test_X_cluster_1, train_y_cluster_1, test_y_cluster_1 = train_test_split(new_df_cluster_1, y_cluster_1, train_size=0.5,test_size=0.5,random_state=99)\n",
        "lm3 = LinearRegression()\n",
        "lm3.fit( train_X_cluster_1, train_y_cluster_1 )\n",
        "cluster2_r2_train = lm3.score( train_X_cluster_1, train_y_cluster_1 )\n",
        "cluster2_r2_test = lm3.score(test_X_cluster_1, test_y_cluster_1)\n",
        "print('R2 for Train)', lm3.score( train_X_cluster_1, train_y_cluster_1 ))\n",
        "print('R2 for Test (cross validation)', lm3.score(test_X_cluster_1, test_y_cluster_1))"
      ],
      "execution_count": 87,
      "outputs": [
        {
          "output_type": "stream",
          "text": [
            "R2 for Train) 0.6459709875932009\n",
            "R2 for Test (cross validation) 0.6534232293097941\n"
          ],
          "name": "stdout"
        }
      ]
    }
  ]
}