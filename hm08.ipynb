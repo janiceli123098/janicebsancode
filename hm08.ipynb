{
  "nbformat": 4,
  "nbformat_minor": 0,
  "metadata": {
    "colab": {
      "name": "Copy of hm08.ipynb",
      "provenance": [],
      "collapsed_sections": []
    },
    "kernelspec": {
      "display_name": "Python 3",
      "language": "python",
      "name": "python3"
    },
    "language_info": {
      "codemirror_mode": {
        "name": "ipython",
        "version": 3
      },
      "file_extension": ".py",
      "mimetype": "text/x-python",
      "name": "python",
      "nbconvert_exporter": "python",
      "pygments_lexer": "ipython3",
      "version": "3.6.8"
    }
  },
  "cells": [
    {
      "cell_type": "markdown",
      "metadata": {
        "colab_type": "text",
        "id": "0sVgU84dbDxJ"
      },
      "source": [
        "## Homework - Instructions\n",
        "\n",
        "![](https://github.com/rpi-techfundamentals/hm-01-starter/blob/master/notsaved.png?raw=1)\n",
        "\n",
        "**WARNING!!!  If you see this icon on the top of your COLAB sesssion, your work is not saved automatically.**\n",
        "\n",
        "\n",
        "**When you are working on homeworks, make sure that you save often. You may find it easier to save intermident copies in Google drive. If you save your working file in Google drive all changes will be saved as you work. MAKE SURE that your final version is saved to GitHub.** \n",
        "\n",
        "Before you turn this problem in, make sure everything runs as expected. First, restart the kernel (in the menubar, select Kernel → Restart) and then run all cells (in the menubar, select Cell → Run All).  You can speak with others regarding the assignment but all work must be your own. \n",
        "\n",
        "\n",
        "### This is a 30 point assignment graded from answers to questions and automated tests that should be run at the bottom. Be sure to clearly label all of your answers and commit final tests at the end.  "
      ]
    },
    {
      "cell_type": "code",
      "metadata": {
        "colab_type": "code",
        "id": "xsoyqoUWbDxN",
        "outputId": "57949a33-725a-4dfc-ad1e-fdb2da060fc8",
        "colab": {
          "base_uri": "https://localhost:8080/",
          "height": 785
        }
      },
      "source": [
        "files = \"https://github.com/rpi-techfundamentals/hm-pca-cluster-starter/raw/master/starter.zip\" \n",
        "!rm -rf * && pip install git+https://github.com/data-8/Gofer-Grader && wget $files && unzip -o starter.zip"
      ],
      "execution_count": 0,
      "outputs": [
        {
          "output_type": "stream",
          "text": [
            "Collecting git+https://github.com/data-8/Gofer-Grader\n",
            "  Cloning https://github.com/data-8/Gofer-Grader to /tmp/pip-req-build-lc2b97x8\n",
            "  Running command git clone -q https://github.com/data-8/Gofer-Grader /tmp/pip-req-build-lc2b97x8\n",
            "Requirement already satisfied: jinja2 in /usr/local/lib/python3.6/dist-packages (from gofer-grader==1.0.9) (2.10.3)\n",
            "Requirement already satisfied: pygments in /usr/local/lib/python3.6/dist-packages (from gofer-grader==1.0.9) (2.1.3)\n",
            "Requirement already satisfied: tornado in /usr/local/lib/python3.6/dist-packages (from gofer-grader==1.0.9) (4.5.3)\n",
            "Requirement already satisfied: MarkupSafe>=0.23 in /usr/local/lib/python3.6/dist-packages (from jinja2->gofer-grader==1.0.9) (1.1.1)\n",
            "Building wheels for collected packages: gofer-grader\n",
            "  Building wheel for gofer-grader (setup.py) ... \u001b[?25l\u001b[?25hdone\n",
            "  Created wheel for gofer-grader: filename=gofer_grader-1.0.9-cp36-none-any.whl size=10115 sha256=fa38ee1736b4f1c92863e05477549bea9136cb3000c2982bc4096c34226bc653\n",
            "  Stored in directory: /tmp/pip-ephem-wheel-cache-t6l_xhdu/wheels/9e/62/24/8563ae039051d6ba979557d1766bfebbda5dd08f8572e3e35d\n",
            "Successfully built gofer-grader\n",
            "Installing collected packages: gofer-grader\n",
            "Successfully installed gofer-grader-1.0.9\n",
            "--2019-11-02 02:19:36--  https://github.com/rpi-techfundamentals/hm-pca-cluster-starter/raw/master/starter.zip\n",
            "Resolving github.com (github.com)... 192.30.255.113\n",
            "Connecting to github.com (github.com)|192.30.255.113|:443... connected.\n",
            "HTTP request sent, awaiting response... 302 Found\n",
            "Location: https://raw.githubusercontent.com/rpi-techfundamentals/hm-pca-cluster-starter/master/starter.zip [following]\n",
            "--2019-11-02 02:19:37--  https://raw.githubusercontent.com/rpi-techfundamentals/hm-pca-cluster-starter/master/starter.zip\n",
            "Resolving raw.githubusercontent.com (raw.githubusercontent.com)... 151.101.0.133, 151.101.64.133, 151.101.128.133, ...\n",
            "Connecting to raw.githubusercontent.com (raw.githubusercontent.com)|151.101.0.133|:443... connected.\n",
            "HTTP request sent, awaiting response... 200 OK\n",
            "Length: 481596 (470K) [application/zip]\n",
            "Saving to: ‘starter.zip’\n",
            "\n",
            "starter.zip         100%[===================>] 470.31K  --.-KB/s    in 0.04s   \n",
            "\n",
            "2019-11-02 02:19:37 (12.6 MB/s) - ‘starter.zip’ saved [481596/481596]\n",
            "\n",
            "Archive:  starter.zip\n",
            "  inflating: pca.csv                 \n",
            "  inflating: __MACOSX/._pca.csv      \n",
            "  inflating: cluster.csv             \n",
            "  inflating: __MACOSX/._cluster.csv  \n",
            "  inflating: hm.ok                   \n",
            "   creating: tests/\n",
            "  inflating: tests/q01.py            \n",
            "  inflating: tests/q05.py            \n",
            "  inflating: tests/__init__.py       \n",
            "  inflating: tests/q03.py            \n",
            "  inflating: tests/q02.py            \n",
            "  inflating: tests/q06.py            \n",
            "   creating: tests/.ipynb_checkpoints/\n"
          ],
          "name": "stdout"
        }
      ]
    },
    {
      "cell_type": "code",
      "metadata": {
        "colab_type": "code",
        "id": "0W1-ZeqRbDxX",
        "colab": {}
      },
      "source": [
        "#Run this. It initiates autograding. \n",
        "from client.api.notebook import Notebook\n",
        "ok = Notebook('lab.ok')\n",
        "_ = ok.auth(inline=True)"
      ],
      "execution_count": 0,
      "outputs": []
    },
    {
      "cell_type": "markdown",
      "metadata": {
        "colab_type": "text",
        "id": "3Y19n7hxbDxf"
      },
      "source": [
        "### Load Data\n",
        "Here we have 2 files. One we will use for PCA and the other for cluster analysis. \n"
      ]
    },
    {
      "cell_type": "code",
      "metadata": {
        "colab_type": "code",
        "id": "cQAhByH7bDxh",
        "colab": {}
      },
      "source": [
        "# Load the data here\n",
        "import pandas as pd\n",
        "df_cluster  = pd.read_csv(\"cluster.csv\")\n",
        "df_pca  = pd.read_csv(\"pca.csv\")"
      ],
      "execution_count": 0,
      "outputs": []
    },
    {
      "cell_type": "markdown",
      "metadata": {
        "id": "oDJKUE3z3htG",
        "colab_type": "text"
      },
      "source": [
        "## EDA\n",
        "\n",
        "Do some simple exploritory analysis on the data so that you understand the structure of the data. "
      ]
    },
    {
      "cell_type": "code",
      "metadata": {
        "id": "IQgvTaJY3gR_",
        "colab_type": "code",
        "outputId": "85ce3d83-f174-43f7-f55c-6c535f40f3ae",
        "colab": {
          "base_uri": "https://localhost:8080/",
          "height": 850
        }
      },
      "source": [
        "# Understand the data shape of each data frame\n",
        "print('Shape of the data', '\\ndf_cluster',df_cluster.shape, '\\ndf_pca', df_pca.shape)\n",
        "\n",
        "# Get a brief understanding of these two dataframes, what is inside\n",
        "print('\\nLook at head of data', '\\ndf_cluster\\n',df_cluster.head(), '\\ndf_pca\\n', df_pca.head())\n",
        "print('\\nLook at statistic features of data', '\\ndf_cluster\\n',df_cluster.describe(), '\\ndf_pca\\n', df_pca.describe())"
      ],
      "execution_count": 0,
      "outputs": [
        {
          "output_type": "stream",
          "text": [
            "Shape of the data \n",
            "df_cluster (10000, 21) \n",
            "df_pca (10000, 151)\n",
            "\n",
            "Look at head of data \n",
            "df_cluster\n",
            "    cad0  cad1  cad2  cad3  cad4  cad5  cad6  ...  dv4  dv5  dv6  dv7  dv8  dv9    y\n",
            "0     1     1     0     0     1     0     1  ...    1    0    1    0    0    1  454\n",
            "1     1     1     0     1     1     0     0  ...    1    0    1    0    0    1  454\n",
            "2     1     1     0     0     1     0     0  ...    1    1    1    0    1    0  152\n",
            "3     1     1     0     1     1     0     1  ...    1    0    1    0    1    1 -142\n",
            "4     1     1     0     0     1     0     0  ...    0    1    1    1    0    0 -227\n",
            "\n",
            "[5 rows x 21 columns] \n",
            "df_pca\n",
            "    col0  col1  col2  col3  col4  col5  ...  gen25  gen26  gen27  gen28  gen29   y\n",
            "0     1     1     1     1     1     1  ...      1      1      1      1      1  17\n",
            "1     2     4     4     4     4     4  ...      1      1      1      1      1  23\n",
            "2     1     1     1     1     1     1  ...      4      2      3      1      4  11\n",
            "3     4     4     4     4     4     4  ...      4      4      4      4      4  11\n",
            "4     4     4     4     4     4     4  ...      1      2      1      1      1  29\n",
            "\n",
            "[5 rows x 151 columns]\n",
            "\n",
            "Look at statistic features of data \n",
            "df_cluster\n",
            "                cad0          cad1  ...           dv9            y\n",
            "count  10000.000000  10000.000000  ...  10000.000000  10000.00000\n",
            "mean       0.400200      0.500400  ...      0.499600     -0.43820\n",
            "std        0.489963      0.500025  ...      0.500025    124.49323\n",
            "min        0.000000      0.000000  ...      0.000000   -501.00000\n",
            "25%        0.000000      0.000000  ...      0.000000    -81.00000\n",
            "50%        0.000000      1.000000  ...      0.000000      0.00000\n",
            "75%        1.000000      1.000000  ...      1.000000     81.00000\n",
            "max        1.000000      1.000000  ...      1.000000    487.00000\n",
            "\n",
            "[8 rows x 21 columns] \n",
            "df_pca\n",
            "                col0          col1  ...         gen29             y\n",
            "count  10000.000000  10000.000000  ...  10000.000000  10000.000000\n",
            "mean       2.494900      2.502800  ...      2.516600     17.971600\n",
            "std        1.310704      1.319002  ...      1.317231      5.057841\n",
            "min        1.000000      1.000000  ...      1.000000      7.000000\n",
            "25%        1.000000      1.000000  ...      1.000000     15.000000\n",
            "50%        2.000000      3.000000  ...      3.000000     18.000000\n",
            "75%        4.000000      4.000000  ...      4.000000     21.000000\n",
            "max        4.000000      4.000000  ...      4.000000     29.000000\n",
            "\n",
            "[8 rows x 151 columns]\n"
          ],
          "name": "stdout"
        }
      ]
    },
    {
      "cell_type": "markdown",
      "metadata": {
        "colab_type": "text",
        "id": "8tct7SvxbDxk"
      },
      "source": [
        "### PCA Data Baseline Regression.\n",
        "On the PCA data, perform a 50/50 train test split with `random state` equal to 99. Predict `y` with all variables using regression analysis. Calculate the r2 for train and assign to `pca1_r2_train` and calculate the r2 for test and assign to `pca1_r2_test`. \n"
      ]
    },
    {
      "cell_type": "code",
      "metadata": {
        "id": "DOFKMr2oJ6Hq",
        "colab_type": "code",
        "outputId": "1e7cdca1-e576-44d4-e3d0-652e619c279f",
        "colab": {
          "base_uri": "https://localhost:8080/",
          "height": 51
        }
      },
      "source": [
        "# Perform a 50/50 train test split with random state equal to 99 on the PCA data\n",
        "\n",
        "# import modules\n",
        "from sklearn.model_selection import train_test_split\n",
        "import pandas as pd\n",
        "from sklearn.linear_model import LinearRegression\n",
        "from sklearn.metrics import r2_score\n",
        "\n",
        "X_pca = df_pca.iloc[:, 0:150]\n",
        "y = df_pca['y']\n",
        "\n",
        "train_X_pca, test_X_pca, train_y_pca, test_y_pca = train_test_split(X_pca, y, train_size=0.5, test_size=0.5, random_state=99)\n",
        "\n",
        "# Predict using Linear Regression on train data\n",
        "\n",
        "lin_reg = LinearRegression()\n",
        "lin_reg.fit(train_X_pca, train_y_pca)\n",
        "y_pred_train_pca = lin_reg.predict(train_X_pca)\n",
        "\n",
        "# Calculate R2 for train\n",
        "pca1_r2_train = r2_score(train_y_pca, y_pred_train_pca)\n",
        "print('pca1_r2_train', pca1_r2_train)\n",
        "\n",
        "# predict y for test\n",
        "y_pred_test_pca = lin_reg.predict(test_X_pca)\n",
        "\n",
        "# Calculate R2 for test\n",
        "pca1_r2_test = r2_score(test_y_pca, y_pred_test_pca)\n",
        "print('pca1_r2_test', pca1_r2_test)"
      ],
      "execution_count": 0,
      "outputs": [
        {
          "output_type": "stream",
          "text": [
            "pca1_r2_train 0.997313308708175\n",
            "pca1_r2_test 0.9972599623679496\n"
          ],
          "name": "stdout"
        }
      ]
    },
    {
      "cell_type": "markdown",
      "metadata": {
        "id": "e5KGKSWaFeQl",
        "colab_type": "text"
      },
      "source": [
        "### PCA Analysis\n",
        "\n",
        "So you should find that the overall r2 is quite high, but we have a really complex model with 150 predictors. Run PCA with 4, 5, and 6 components. For example, running with 4 components means setting `n_components=4`. \n",
        "\n",
        "* Check out the variance explained from each of the numbers of principal components. When you find taht increasing the number of components only increases the variance explained by a small amount.  * \n",
        "\n",
        "\n",
        "\n"
      ]
    },
    {
      "cell_type": "code",
      "metadata": {
        "id": "49Hth9V4J7vY",
        "colab_type": "code",
        "outputId": "baf41731-2ef2-4cab-fcbd-543ba8f5fca3",
        "colab": {
          "base_uri": "https://localhost:8080/",
          "height": 68
        }
      },
      "source": [
        "def Calculate_Explain_Variance_PCA_Components(n):\n",
        "  from sklearn.decomposition import PCA\n",
        "  import numpy as np\n",
        "  \n",
        "  pca = PCA(n_components=n)\n",
        "  X_temp = pca.fit_transform(X_pca)\n",
        "  \n",
        "  print(pca.explained_variance_)\n",
        "  \n",
        "  return pca.explained_variance_\n",
        "\n",
        "explained_variance_pc4 = Calculate_Explain_Variance_PCA_Components(4)\n",
        "explained_variance_pc5 = Calculate_Explain_Variance_PCA_Components(5)\n",
        "explained_variance_pc6 = Calculate_Explain_Variance_PCA_Components(6)"
      ],
      "execution_count": 0,
      "outputs": [
        {
          "output_type": "stream",
          "text": [
            "[37.64654989 36.98362608 36.84994216 36.06009247]\n",
            "[37.64654989 36.98362608 36.84994216 36.06009247 35.46054229]\n",
            "[37.64654989 36.98362608 36.84994216 36.06009247 35.46054229  0.64201505]\n"
          ],
          "name": "stdout"
        }
      ]
    },
    {
      "cell_type": "code",
      "metadata": {
        "id": "bX80cQEDFKX4",
        "colab_type": "code",
        "outputId": "8710f580-e164-4e4d-82d3-f11611819f2d",
        "colab": {
          "base_uri": "https://localhost:8080/",
          "height": 313
        }
      },
      "source": [
        "import matplotlib.pyplot as plt\n",
        "import numpy as np\n",
        "%matplotlib inline\n",
        "\n",
        "sum_all_variance = sum(explained_variance_pc6)\n",
        "print(sum_all_variance)\n",
        "\n",
        "x = [1,2,3,4,5,6]\n",
        "plt.plot(x, np.cumsum(explained_variance_pc6)/sum_all_variance)\n",
        "plt.xlabel('number of components')\n",
        "plt.ylabel('cumulative explained variance')"
      ],
      "execution_count": 0,
      "outputs": [
        {
          "output_type": "stream",
          "text": [
            "183.64276795688664\n"
          ],
          "name": "stdout"
        },
        {
          "output_type": "execute_result",
          "data": {
            "text/plain": [
              "Text(0, 0.5, 'cumulative explained variance')"
            ]
          },
          "metadata": {
            "tags": []
          },
          "execution_count": 7
        },
        {
          "output_type": "display_data",
          "data": {
            "image/png": "[encoded data removed]",
            "text/plain": [
              "<Figure size 432x288 with 1 Axes>"
            ]
          },
          "metadata": {
            "tags": []
          }
        }
      ]
    },
    {
      "cell_type": "markdown",
      "metadata": {
        "id": "3a7xYdhuFeQq",
        "colab_type": "text"
      },
      "source": [
        "After experimenting with 4, 5, and 6 components, explain why 5 is the correct number of components."
      ]
    },
    {
      "cell_type": "code",
      "metadata": {
        "id": "2c63bcZ3FeQq",
        "colab_type": "code",
        "colab": {}
      },
      "source": [
        "man1=\"\"\"\n",
        "\n",
        "I draw a plot above for the cumulative variances ratio by 6 principle components. As for how many components we should choose for PCA, it is a the trade off \n",
        "between the number of features and explained variance.\n",
        "Based on this plot, we can see variance of component 6 drop quickly to near 0.6, which is far more lower than the variances of the former PCs. And the cumulative \n",
        "variance ratio increase much slower than former. Therefore, 5 PCs will be best for this problem.\n",
        "On the other hand, we should always check the accuracy of our prediction with the included PCs. Explained variance doesn't always guarantee a good prediction \n",
        "performance which is our ultimate goal. So to answer how much is good enough is also decided by the performance of the predictive modeling.\n",
        "\n",
        "\"\"\""
      ],
      "execution_count": 0,
      "outputs": []
    },
    {
      "cell_type": "markdown",
      "metadata": {
        "id": "XovzAC3fFeQt",
        "colab_type": "text"
      },
      "source": [
        "Using just the 5 PCA components as X, perform a 50/50 train test split with `random state` equal to 99. Predict `y` with all variables using regression analysis. Calculate the r2 for train and assign to `pca2_r2_train` and calculate the r2 for test and assign to `pca2_r2_test`. "
      ]
    },
    {
      "cell_type": "code",
      "metadata": {
        "id": "nfnMb6FTFeQt",
        "colab_type": "code",
        "outputId": "3d8642bf-9565-48af-92d8-0ebe1131dfb4",
        "colab": {
          "base_uri": "https://localhost:8080/",
          "height": 51
        }
      },
      "source": [
        "# import modules\n",
        "from sklearn.decomposition import PCA\n",
        "import numpy as np\n",
        "from sklearn.model_selection import train_test_split\n",
        "from sklearn.linear_model import LinearRegression\n",
        "from sklearn.metrics import r2_score\n",
        "\n",
        "# Use just the 5 PCA components as X\n",
        "pca = PCA(n_components=5)\n",
        "X_pca2 = pca.fit_transform(X_pca)\n",
        "y = df_pca['y']\n",
        "\n",
        "# Perform a 50/50 train test split with random state equal to 99\n",
        "train_X_pca2, test_X_pca2, train_y_pca2, test_y_pca2 = train_test_split(X_pca2, y, train_size=0.5, test_size=0.5, random_state=99)\n",
        "\n",
        "# Predict using Linear Regression on train data\n",
        "lin_reg = LinearRegression()\n",
        "lin_reg.fit(train_X_pca2, train_y_pca2)\n",
        "y_pred_train_pca2 = lin_reg.predict(train_X_pca2)\n",
        "\n",
        "# Calculate R2 for train\n",
        "pca2_r2_train = r2_score(train_y_pca2, y_pred_train_pca2)\n",
        "print('pca2_r2_train', pca2_r2_train)\n",
        "\n",
        "# predict y for test\n",
        "y_pred_test_pca2 = lin_reg.predict(test_X_pca2)\n",
        "\n",
        "# Calculate R2 for test\n",
        "pca2_r2_test = r2_score(test_y_pca2, y_pred_test_pca2)\n",
        "print('pca2_r2_test', pca2_r2_test)\n",
        "\n"
      ],
      "execution_count": 0,
      "outputs": [
        {
          "output_type": "stream",
          "text": [
            "pca2_r2_train 0.7048836826606626\n",
            "pca2_r2_test 0.7006963138515008\n"
          ],
          "name": "stdout"
        }
      ]
    },
    {
      "cell_type": "markdown",
      "metadata": {
        "id": "CDofK8rqJ7DD",
        "colab_type": "text"
      },
      "source": [
        "## Challenge Problem: Feature Selection.  \n",
        "While we obtained a decent R2 with PCA, it wasn't as good as had with the origional data.  Rather than dimensionality reduction using principal components, try to use feature selection to get 4 components that explain >99% of the variance. \n",
        "\n",
        "List those features here. "
      ]
    },
    {
      "cell_type": "code",
      "metadata": {
        "id": "RwaNWvlTJ6QI",
        "colab_type": "code",
        "outputId": "2bb64246-6a37-429a-fa64-1eef76503534",
        "colab": {
          "base_uri": "https://localhost:8080/",
          "height": 122
        }
      },
      "source": [
        "# import modules\n",
        "from sklearn.feature_selection import SelectFromModel\n",
        "from sklearn.ensemble import RandomForestRegressor\n",
        "import numpy as np\n",
        "from sklearn.model_selection import train_test_split\n",
        "from sklearn.linear_model import LinearRegression\n",
        "from sklearn.metrics import r2_score\n",
        "\n",
        "# Train A Random Forest Classifier\n",
        "forest = RandomForestRegressor(random_state=99)\n",
        "forest.fit(train_X_pca, train_y_pca) \n",
        "importances = forest.feature_importances_\n",
        "\n",
        "# create feature selection model\n",
        "model = SelectFromModel(forest, prefit=True, max_features=4)\n",
        "\n",
        "feature_idx = model.get_support()\n",
        "feature_names = X_pca.columns[feature_idx]\n",
        "#print('\\nSelected features: ', type(feature_names))\n",
        "\n",
        "selected_features = list(feature_names)\n",
        "print(selected_features)\n",
        "\n",
        "X_FS = model.transform(X_pca)\n",
        "y_FS = df_pca['y']\n",
        "\n",
        "# Perform a 50/50 train test split with random state equal to 99\n",
        "train_X_FS, test_X_FS, train_y_FS, test_y_FS = train_test_split(X_FS, y_FS, train_size=0.5, test_size=0.5, random_state=99)\n",
        "\n",
        "# Predict using Linear Regression on train data\n",
        "lin_reg = LinearRegression()\n",
        "lin_reg.fit(train_X_FS, train_y_FS)\n",
        "y_pred_train_FS = lin_reg.predict(train_X_FS)\n",
        "\n",
        "# Calculate R2 for train\n",
        "FeatureSelection_r2_train = r2_score(train_y_FS, y_pred_train_FS)\n",
        "print('FeatureSelection_r2_train', FeatureSelection_r2_train)\n",
        "\n",
        "# predict y for test\n",
        "y_pred_test_FS = lin_reg.predict(test_X_FS)\n",
        "\n",
        "# Calculate R2 for test\n",
        "FeatureSelection_r2_test = r2_score(test_y_FS, y_pred_test_FS)\n",
        "print('FeatureSelection_r2_test', FeatureSelection_r2_test)\n",
        "\n"
      ],
      "execution_count": 0,
      "outputs": [
        {
          "output_type": "stream",
          "text": [
            "/usr/local/lib/python3.6/dist-packages/sklearn/ensemble/forest.py:245: FutureWarning: The default value of n_estimators will change from 10 in version 0.20 to 100 in 0.22.\n",
            "  \"10 in version 0.20 to 100 in 0.22.\", FutureWarning)\n"
          ],
          "name": "stderr"
        },
        {
          "output_type": "stream",
          "text": [
            "['col10', 'cog17', 'fak27', 'gen27']\n",
            "FeatureSelection_r2_train 0.9972479617259539\n",
            "FeatureSelection_r2_test 0.9973120323516369\n"
          ],
          "name": "stdout"
        }
      ]
    },
    {
      "cell_type": "markdown",
      "metadata": {
        "id": "BK5KOYt6FeQx",
        "colab_type": "text"
      },
      "source": [
        "### Cluster Data Baseline Regression\n",
        " On the Cluster data, perform a 50/50 train test split with `random state` equal to 99. Predict `y` with all variables using regression analysis. Calculate the r2 for train and assign to `cluster1_r2_train` and calculate the r2 for test and assign to `cluster1_r2_test`. "
      ]
    },
    {
      "cell_type": "code",
      "metadata": {
        "id": "7MAnnwonKQVc",
        "colab_type": "code",
        "outputId": "5cca489f-5f83-4fc1-a050-60f2ed62802c",
        "colab": {
          "base_uri": "https://localhost:8080/",
          "height": 51
        }
      },
      "source": [
        "# import modules\n",
        "import numpy as np\n",
        "from sklearn.model_selection import train_test_split\n",
        "from sklearn.linear_model import LinearRegression\n",
        "from sklearn.metrics import r2_score\n",
        "\n",
        "# On the Cluster data, perform a 50/50 train test split with random state equal to 99\n",
        "X_cluster = df_cluster.iloc[:, 0:20]\n",
        "y = df_cluster['y']\n",
        "\n",
        "train_X_cluster, test_X_cluster, train_y_cluster, test_y_cluster = train_test_split(X_cluster, y, train_size=0.5, test_size=0.5, random_state=99)\n",
        "\n",
        "# Predict using Linear Regression on train data\n",
        "lin_reg = LinearRegression()\n",
        "lin_reg.fit(train_X_cluster, train_y_cluster)\n",
        "y_pred_train_cluster = lin_reg.predict(train_X_cluster)\n",
        "\n",
        "# Calculate R2 for train\n",
        "cluster1_r2_train = r2_score(train_y_cluster, y_pred_train_cluster)\n",
        "print('cluster1_r2_train', cluster1_r2_train)\n",
        "\n",
        "# predict y for test\n",
        "y_pred_test_cluster = lin_reg.predict(test_X_cluster)\n",
        "\n",
        "# Calculate R2 for test\n",
        "cluster1_r2_test = r2_score(test_y_cluster, y_pred_test_cluster)\n",
        "print('cluster1_r2_test', cluster1_r2_test)\n",
        "\n"
      ],
      "execution_count": 0,
      "outputs": [
        {
          "output_type": "stream",
          "text": [
            "cluster1_r2_train 0.45623553847213816\n",
            "cluster1_r2_test 0.47293356734863634\n"
          ],
          "name": "stdout"
        }
      ]
    },
    {
      "cell_type": "markdown",
      "metadata": {
        "id": "Qf5WFv75FeQ4",
        "colab_type": "text"
      },
      "source": [
        "### KMeans Cluster Analysis\n",
        "\n",
        "Next perform a cluster analysis using ONLY variables that start with `cad0`-`cad9` and specify 6 clusters.  Set random_state to `99` for KMEANS algorithm. Add the variable `df_cluster['cluster']` to the origional dataframe to indicate the cluster membership. \n"
      ]
    },
    {
      "cell_type": "code",
      "metadata": {
        "id": "2a87N4LaFeQ7",
        "colab_type": "code",
        "colab": {}
      },
      "source": [
        "# import modules\n",
        "from sklearn.cluster import KMeans\n",
        "\n",
        "# perform a cluster analysis using ONLY variables that start with cad0-cad9\n",
        "X_cluster_kmeans = df_cluster.iloc[:, 0:10]\n",
        "#X_cluster_kmeans.columns\n",
        "\n",
        "# specify 6 clusters and Set random_state to 99\n",
        "kmeans = KMeans(n_clusters=6, random_state=99)\n",
        "kmeans.fit(X_cluster_kmeans)\n",
        "\n",
        "# Add the variable df_cluster['cluster'] to the origional dataframe to indicate the cluster membership.\n",
        "df_cluster['cluster'] = kmeans.predict(X_cluster_kmeans)\n",
        "#df_cluster['cluster']"
      ],
      "execution_count": 0,
      "outputs": []
    },
    {
      "cell_type": "markdown",
      "metadata": {
        "id": "1CDVE_XyFeQ8",
        "colab_type": "text"
      },
      "source": [
        "### Clusters Continued\n",
        "\n",
        "Then select only rows from df_cluster which you have assigned to cluster 1.  For only cluster 1 predict `y` with all variables using regression analysis. Calculate the r2 for train and assign to `cluster2_r2_train` and calculate the r2 for test and assign to `cluster2_r2_test`. Like before set random_state to `99` for the train test split. "
      ]
    },
    {
      "cell_type": "code",
      "metadata": {
        "id": "1Bwi_kuFFeQ9",
        "colab_type": "code",
        "outputId": "c40822f4-4287-4368-9e61-74cedb2ca09e",
        "colab": {
          "base_uri": "https://localhost:8080/",
          "height": 51
        }
      },
      "source": [
        "# import modules\n",
        "import numpy as np\n",
        "from sklearn.model_selection import train_test_split\n",
        "from sklearn.linear_model import LinearRegression\n",
        "from sklearn.metrics import r2_score\n",
        "\n",
        "# select only rows from df_cluster which you have assigned to cluster 1\n",
        "df_cluster_1 = df_cluster[df_cluster.cluster == 1]\n",
        "X_cluster_1 = df_cluster_1.iloc[:,0:20]\n",
        "y_cluster_1 = df_cluster_1['y']\n",
        "\n",
        "train_X_cluster2, test_X_cluster2, train_y_cluster2, test_y_cluster2 = train_test_split(X_cluster_1, y_cluster_1, train_size=0.5, test_size=0.5, random_state=99)\n",
        "\n",
        "# Predict using Linear Regression on train data\n",
        "lin_reg = LinearRegression()\n",
        "lin_reg.fit(train_X_cluster2, train_y_cluster2)\n",
        "\n",
        "# Calculate R2 for train\n",
        "cluster2_r2_train = lin_reg.score(train_X_cluster2, train_y_cluster2)\n",
        "print('cluster2_r2_train', cluster2_r2_train)\n",
        "\n",
        "# Calculate R2 for test\n",
        "cluster2_r2_test = lin_reg.score(test_X_cluster2, test_y_cluster2)\n",
        "print('cluster2_r2_test', cluster2_r2_test)"
      ],
      "execution_count": 0,
      "outputs": [
        {
          "output_type": "stream",
          "text": [
            "cluster2_r2_train 0.6459709875932009\n",
            "cluster2_r2_test 0.6534232293097941\n"
          ],
          "name": "stdout"
        }
      ]
    },
    {
      "cell_type": "code",
      "metadata": {
        "id": "OTgsbKACZpbN",
        "colab_type": "code",
        "outputId": "6a8ee1f5-24a6-4851-a145-37d5a743b460",
        "colab": {
          "base_uri": "https://localhost:8080/",
          "height": 1000
        }
      },
      "source": [
        "import os\n",
        "files = \"https://www.dropbox.com/s/nnkxhjso04f5as7/pca.zip\"\n",
        "!rm -rf * && pip install git+https://github.com/data-8/Gofer-Grader && wget $files && unzip -o pca.zip\n",
        "from client.api.notebook import Notebook\n",
        "ok = Notebook('lab.ok')\n",
        "_ = ok.auth(inline=True)\n",
        "results= {q[:-3]:ok.grade(q[:-3]) for q in os.listdir(\"tests\") if q.startswith('q')}"
      ],
      "execution_count": 0,
      "outputs": [
        {
          "output_type": "stream",
          "text": [
            "Collecting git+https://github.com/data-8/Gofer-Grader\n",
            "  Cloning https://github.com/data-8/Gofer-Grader to /tmp/pip-req-build-t1adj8a0\n",
            "  Running command git clone -q https://github.com/data-8/Gofer-Grader /tmp/pip-req-build-t1adj8a0\n",
            "Requirement already satisfied (use --upgrade to upgrade): gofer-grader==1.0.9 from git+https://github.com/data-8/Gofer-Grader in /usr/local/lib/python3.6/dist-packages\n",
            "Requirement already satisfied: jinja2 in /usr/local/lib/python3.6/dist-packages (from gofer-grader==1.0.9) (2.10.3)\n",
            "Requirement already satisfied: pygments in /usr/local/lib/python3.6/dist-packages (from gofer-grader==1.0.9) (2.1.3)\n",
            "Requirement already satisfied: tornado in /usr/local/lib/python3.6/dist-packages (from gofer-grader==1.0.9) (4.5.3)\n",
            "Requirement already satisfied: MarkupSafe>=0.23 in /usr/local/lib/python3.6/dist-packages (from jinja2->gofer-grader==1.0.9) (1.1.1)\n",
            "Building wheels for collected packages: gofer-grader\n",
            "  Building wheel for gofer-grader (setup.py) ... \u001b[?25l\u001b[?25hdone\n",
            "  Created wheel for gofer-grader: filename=gofer_grader-1.0.9-cp36-none-any.whl size=10115 sha256=ea28458c6b8ea7430c2fc087d40d0acaad8d885614482bc6733445e1ae85e536\n",
            "  Stored in directory: /tmp/pip-ephem-wheel-cache-lu6rj9gl/wheels/9e/62/24/8563ae039051d6ba979557d1766bfebbda5dd08f8572e3e35d\n",
            "Successfully built gofer-grader\n",
            "--2019-11-02 02:19:47--  https://www.dropbox.com/s/nnkxhjso04f5as7/pca.zip\n",
            "Resolving www.dropbox.com (www.dropbox.com)... 162.125.8.1, 2620:100:6016:1::a27d:101\n",
            "Connecting to www.dropbox.com (www.dropbox.com)|162.125.8.1|:443... connected.\n",
            "HTTP request sent, awaiting response... 301 Moved Permanently\n",
            "Location: /s/raw/nnkxhjso04f5as7/pca.zip [following]\n",
            "--2019-11-02 02:19:47--  https://www.dropbox.com/s/raw/nnkxhjso04f5as7/pca.zip\n",
            "Reusing existing connection to www.dropbox.com:443.\n",
            "HTTP request sent, awaiting response... 302 Found\n",
            "Location: https://uc6612d90ca6bbf69708237c7028.dl.dropboxusercontent.com/cd/0/inline/Arkj6yyWdtSpm-tfeQRqcrPzi76IiRL_ahCTlUbkuvXltE4uYvGvnCtpKOzJ9CJJXCv5pVANjXtrEEChx3a5Y2QeBcMcDj7MzkBgt_S9T4WaaYYBYtdCT5rpzupoJO-3k3w/file# [following]\n",
            "--2019-11-02 02:19:47--  https://uc6612d90ca6bbf69708237c7028.dl.dropboxusercontent.com/cd/0/inline/Arkj6yyWdtSpm-tfeQRqcrPzi76IiRL_ahCTlUbkuvXltE4uYvGvnCtpKOzJ9CJJXCv5pVANjXtrEEChx3a5Y2QeBcMcDj7MzkBgt_S9T4WaaYYBYtdCT5rpzupoJO-3k3w/file\n",
            "Resolving uc6612d90ca6bbf69708237c7028.dl.dropboxusercontent.com (uc6612d90ca6bbf69708237c7028.dl.dropboxusercontent.com)... 162.125.1.6, 2620:100:6016:6::a27d:106\n",
            "Connecting to uc6612d90ca6bbf69708237c7028.dl.dropboxusercontent.com (uc6612d90ca6bbf69708237c7028.dl.dropboxusercontent.com)|162.125.1.6|:443... connected.\n",
            "HTTP request sent, awaiting response... 302 FOUND\n",
            "Location: /cd/0/inline2/ArncxnUTlzCDH4TgW1AlCaFmafjgc0AFNlY1aeC5ytc2z6fBflYmUpRrZlo8QVZsAcv7y0X6F41n6YTO9nnK0i_DyVGxCUFEh9p0H-AjlYf4ZWgrzSV8GJUn853wJUr2AxYYl431OtuzpBMZB7SorxIv6KIm3SVZJIiWwJkod9rExTHTllbW9DexuKWnE2qbEbHsPk-4WznYXEBaa6RHtqKnAWl_55dPcd1gevh3472hSlkk_Y3nJSNLTpZA_co26yEOKzFdznh0Bptgh0csJ6Cji4_QlgV24a4ot8YCoTwVmi-P3B6eqfF7fky-Mdh5sN90iHpDZyYnBElhyHpeJ-yMbn35ljeYj5zjge89W0fv_w/file [following]\n",
            "--2019-11-02 02:19:48--  https://uc6612d90ca6bbf69708237c7028.dl.dropboxusercontent.com/cd/0/inline2/ArncxnUTlzCDH4TgW1AlCaFmafjgc0AFNlY1aeC5ytc2z6fBflYmUpRrZlo8QVZsAcv7y0X6F41n6YTO9nnK0i_DyVGxCUFEh9p0H-AjlYf4ZWgrzSV8GJUn853wJUr2AxYYl431OtuzpBMZB7SorxIv6KIm3SVZJIiWwJkod9rExTHTllbW9DexuKWnE2qbEbHsPk-4WznYXEBaa6RHtqKnAWl_55dPcd1gevh3472hSlkk_Y3nJSNLTpZA_co26yEOKzFdznh0Bptgh0csJ6Cji4_QlgV24a4ot8YCoTwVmi-P3B6eqfF7fky-Mdh5sN90iHpDZyYnBElhyHpeJ-yMbn35ljeYj5zjge89W0fv_w/file\n",
            "Reusing existing connection to uc6612d90ca6bbf69708237c7028.dl.dropboxusercontent.com:443.\n",
            "HTTP request sent, awaiting response... 200 OK\n",
            "Length: 485284 (474K) [application/zip]\n",
            "Saving to: ‘pca.zip’\n",
            "\n",
            "pca.zip             100%[===================>] 473.91K  --.-KB/s    in 0.05s   \n",
            "\n",
            "2019-11-02 02:19:48 (9.89 MB/s) - ‘pca.zip’ saved [485284/485284]\n",
            "\n",
            "Archive:  pca.zip\n",
            "  inflating: cluster.csv             \n",
            "  inflating: pca.csv                 \n",
            "   creating: tests/\n",
            "  inflating: tests/.DS_Store         \n",
            "  inflating: __MACOSX/tests/._.DS_Store  \n",
            "  inflating: tests/q04a.py           \n",
            "  inflating: __MACOSX/tests/._q04a.py  \n",
            "  inflating: tests/__init__.py       \n",
            "  inflating: tests/q01a.py           \n",
            "  inflating: __MACOSX/tests/._q01a.py  \n",
            "  inflating: tests/q03a.py           \n",
            "  inflating: __MACOSX/tests/._q03a.py  \n",
            "  inflating: tests/q02a.py           \n",
            "  inflating: __MACOSX/tests/._q02a.py  \n",
            "  inflating: tests/q01b.py           \n",
            "  inflating: __MACOSX/tests/._q01b.py  \n",
            "  inflating: tests/q03b.py           \n",
            "  inflating: __MACOSX/tests/._q03b.py  \n",
            "  inflating: tests/q02b.py           \n",
            "  inflating: __MACOSX/tests/._q02b.py  \n",
            "  inflating: tests/q04b.py           \n",
            "  inflating: __MACOSX/tests/._q04b.py  \n",
            "   creating: tests/.ipynb_checkpoints/\n",
            "  inflating: tests/.ipynb_checkpoints/q01-checkpoint.py  \n",
            "  inflating: hm.ok                   \n"
          ],
          "name": "stdout"
        },
        {
          "output_type": "display_data",
          "data": {
            "text/html": [
              "\n",
              "    \n",
              "    \n",
              "        <p>All tests passed!</p>\n",
              "    \n",
              "    "
            ],
            "text/plain": [
              "<gofer.ok.OKTestsResult at 0x7fcd222a6860>"
            ]
          },
          "metadata": {
            "tags": []
          }
        },
        {
          "output_type": "display_data",
          "data": {
            "text/html": [
              "\n",
              "    \n",
              "    \n",
              "        <p>All tests passed!</p>\n",
              "    \n",
              "    "
            ],
            "text/plain": [
              "<gofer.ok.OKTestsResult at 0x7fcd3b4fee48>"
            ]
          },
          "metadata": {
            "tags": []
          }
        },
        {
          "output_type": "display_data",
          "data": {
            "text/html": [
              "\n",
              "    \n",
              "    \n",
              "        <p>All tests passed!</p>\n",
              "    \n",
              "    "
            ],
            "text/plain": [
              "<gofer.ok.OKTestsResult at 0x7fcd2487c240>"
            ]
          },
          "metadata": {
            "tags": []
          }
        },
        {
          "output_type": "display_data",
          "data": {
            "text/html": [
              "\n",
              "    \n",
              "    \n",
              "        <p>All tests passed!</p>\n",
              "    \n",
              "    "
            ],
            "text/plain": [
              "<gofer.ok.OKTestsResult at 0x7fcd222a6a58>"
            ]
          },
          "metadata": {
            "tags": []
          }
        },
        {
          "output_type": "display_data",
          "data": {
            "text/html": [
              "\n",
              "    \n",
              "    \n",
              "        <p>All tests passed!</p>\n",
              "    \n",
              "    "
            ],
            "text/plain": [
              "<gofer.ok.OKTestsResult at 0x7fcd222a6b70>"
            ]
          },
          "metadata": {
            "tags": []
          }
        },
        {
          "output_type": "display_data",
          "data": {
            "text/html": [
              "\n",
              "    \n",
              "    \n",
              "        <p>All tests passed!</p>\n",
              "    \n",
              "    "
            ],
            "text/plain": [
              "<gofer.ok.OKTestsResult at 0x7fcd222b93c8>"
            ]
          },
          "metadata": {
            "tags": []
          }
        },
        {
          "output_type": "display_data",
          "data": {
            "text/html": [
              "\n",
              "    \n",
              "    \n",
              "        <p>All tests passed!</p>\n",
              "    \n",
              "    "
            ],
            "text/plain": [
              "<gofer.ok.OKTestsResult at 0x7fcd222b9390>"
            ]
          },
          "metadata": {
            "tags": []
          }
        },
        {
          "output_type": "display_data",
          "data": {
            "text/html": [
              "\n",
              "    \n",
              "    \n",
              "        <p>All tests passed!</p>\n",
              "    \n",
              "    "
            ],
            "text/plain": [
              "<gofer.ok.OKTestsResult at 0x7fcd222b94a8>"
            ]
          },
          "metadata": {
            "tags": []
          }
        }
      ]
    }
  ]
}