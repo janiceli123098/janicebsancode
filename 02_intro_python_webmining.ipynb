{
  "nbformat": 4,
  "nbformat_minor": 0,
  "metadata": {
    "colab": {
      "name": "02_intro_python_webmining.ipynb",
      "provenance": [],
      "collapsed_sections": []
    },
    "kernelspec": {
      "display_name": "Python 3",
      "language": "python",
      "name": "python3"
    }
  },
  "cells": [
    {
      "cell_type": "markdown",
      "metadata": {
        "id": "u1_tXzxs1dqx",
        "colab_type": "text"
      },
      "source": [
        "[![AnalyticsDojo](https://github.com/rpi-techfundamentals/spring2019-materials/blob/master/fig/final-logo.png?raw=1)](http://rpi.analyticsdojo.com)\n",
        "<center><h1>Introduction to Python - Web Mining</h1></center>\n",
        "<center><h3><a href = 'http://rpi.analyticsdojo.com'>rpi.analyticsdojo.com</a></h3></center>"
      ]
    },
    {
      "cell_type": "markdown",
      "metadata": {
        "id": "4vknzA5K1dq2",
        "colab_type": "text"
      },
      "source": [
        "## This tutorial is directly from the the BeautifulSoup documentation.\n",
        "[https://www.crummy.com/software/BeautifulSoup/bs4/doc/]\n",
        "\n",
        "### Before you begin\n",
        "If running locally you need to make sure that you have beautifulsoup4 installed. \n",
        "`conda install beautifulsoup4` \n",
        "\n",
        "It should already be installed on colab. \n"
      ]
    },
    {
      "cell_type": "markdown",
      "metadata": {
        "colab_type": "text",
        "id": "2E_vSEPJ2nPf"
      },
      "source": [
        "# All html documents have structure.  Here, we can see a basic html page.  "
      ]
    },
    {
      "cell_type": "code",
      "metadata": {
        "id": "X9wgJCq91drI",
        "colab_type": "code",
        "colab": {}
      },
      "source": [
        "html_doc = \"\"\"\n",
        "<html><head><title>The Dormouse's story</title></head>\n",
        "<body>\n",
        "<p class=\"title\"><b>The Dormouse's story</b></p>\n",
        "\n",
        "<p class=\"story\">Once upon a time there were three little sisters; and their names were\n",
        "<a href=\"http://example.com/elsie\" class=\"sister\" id=\"link1\">Elsie</a>,\n",
        "<a href=\"http://example.com/lacie\" class=\"sister\" id=\"link2\">Lacie</a> and\n",
        "<a href=\"http://example.com/tillie\" class=\"sister\" id=\"link3\">Tillie</a>;\n",
        "and they lived at the bottom of a well.</p>\n",
        "\n",
        "<p class=\"story\">...</p>\n",
        "\"\"\""
      ],
      "execution_count": 0,
      "outputs": []
    },
    {
      "cell_type": "markdown",
      "metadata": {
        "id": "Tt20VJZp1drO",
        "colab_type": "text"
      },
      "source": [
        "<html><head><title>The Dormouse's story</title></head>\n",
        "<body>\n",
        "<p class=\"title\"><b>The Dormouse's story</b></p>\n",
        "<p class=\"story\">Once upon a time there were three little sisters; and their names were\n",
        "<a class=\"sister\" href=\"http://example.com/elsie\" id=\"link1\">Elsie</a>,\n",
        "<a class=\"sister\" href=\"http://example.com/lacie\" id=\"link2\">Lacie</a> and\n",
        "<a class=\"sister\" href=\"http://example.com/tillie\" id=\"link3\">Tillie</a>;\n",
        "and they lived at the bottom of a well.</p>\n",
        "<p class=\"story\">...</p>\n",
        "</body></html>"
      ]
    },
    {
      "cell_type": "code",
      "metadata": {
        "id": "j8GsdPrC1drP",
        "colab_type": "code",
        "colab": {}
      },
      "source": [
        "from bs4 import BeautifulSoup\n",
        "import requests\n",
        "soup = BeautifulSoup(html_doc, 'html.parser')\n",
        "\n",
        "print(soup.prettify())\n"
      ],
      "execution_count": 0,
      "outputs": []
    },
    {
      "cell_type": "markdown",
      "metadata": {
        "id": "WTbE3qYh1drZ",
        "colab_type": "text"
      },
      "source": [
        "### A Retreived Beautiful Soup Object \n",
        "- Can be parsed via dot notation to travers down the hierarchy by *class name*, *tag name*, *tag type*, etc.\n",
        "\n"
      ]
    },
    {
      "cell_type": "code",
      "metadata": {
        "scrolled": true,
        "id": "Z_fKqIc81drb",
        "colab_type": "code",
        "colab": {}
      },
      "source": [
        "soup"
      ],
      "execution_count": 0,
      "outputs": []
    },
    {
      "cell_type": "code",
      "metadata": {
        "id": "YivtiYOy1dri",
        "colab_type": "code",
        "colab": {}
      },
      "source": [
        "#Select the title class.\n",
        "soup.title\n",
        " \n"
      ],
      "execution_count": 0,
      "outputs": []
    },
    {
      "cell_type": "code",
      "metadata": {
        "id": "OHSL7iLZ1drn",
        "colab_type": "code",
        "colab": {}
      },
      "source": [
        "#Name of the tag.\n",
        "soup.title.name\n",
        "\n",
        "\n"
      ],
      "execution_count": 0,
      "outputs": []
    },
    {
      "cell_type": "code",
      "metadata": {
        "id": "pc4BUJ_21drt",
        "colab_type": "code",
        "colab": {}
      },
      "source": [
        "#String contence inside the tag\n",
        "soup.title.string\n",
        "\n",
        "\n"
      ],
      "execution_count": 0,
      "outputs": []
    },
    {
      "cell_type": "code",
      "metadata": {
        "id": "JJIaljuP1drw",
        "colab_type": "code",
        "colab": {}
      },
      "source": [
        "#Parent in hierarchy.\n",
        "soup.title.parent.name\n",
        "\n",
        "\n"
      ],
      "execution_count": 0,
      "outputs": []
    },
    {
      "cell_type": "code",
      "metadata": {
        "id": "9aHRkzDA1dr0",
        "colab_type": "code",
        "colab": {}
      },
      "source": [
        "#List the first p tag.\n",
        "soup.p\n",
        "\n",
        "\n"
      ],
      "execution_count": 0,
      "outputs": []
    },
    {
      "cell_type": "code",
      "metadata": {
        "id": "Q8cZlFCc1dr4",
        "colab_type": "code",
        "colab": {}
      },
      "source": [
        "#List the class of the first p tag.\n",
        "soup.p['class']\n",
        "\n",
        "\n"
      ],
      "execution_count": 0,
      "outputs": []
    },
    {
      "cell_type": "code",
      "metadata": {
        "id": "CJG0TbO-1dr9",
        "colab_type": "code",
        "colab": {}
      },
      "source": [
        "#List the class of the first a tag.\n",
        "soup.a\n",
        "\n",
        "\n"
      ],
      "execution_count": 0,
      "outputs": []
    },
    {
      "cell_type": "code",
      "metadata": {
        "id": "6vbhMqmr1dsB",
        "colab_type": "code",
        "colab": {}
      },
      "source": [
        "#List all a tags.\n",
        "soup.find_all('a')\n",
        "\n"
      ],
      "execution_count": 0,
      "outputs": []
    },
    {
      "cell_type": "code",
      "metadata": {
        "id": "PaERPV3s1dsL",
        "colab_type": "code",
        "colab": {}
      },
      "source": [
        "\n",
        "soup.find(id=\"link3\")\n"
      ],
      "execution_count": 0,
      "outputs": []
    },
    {
      "cell_type": "code",
      "metadata": {
        "id": "ZpAKma8p1dsO",
        "colab_type": "code",
        "colab": {}
      },
      "source": [
        "#The Robots.txt listing who is allowed.\n",
        "response = requests.get(\"https://en.wikipedia.org/robots.txt\")\n",
        "txt = response.text\n",
        "print(txt)"
      ],
      "execution_count": 0,
      "outputs": []
    },
    {
      "cell_type": "code",
      "metadata": {
        "id": "VfJ_AUlF1dsR",
        "colab_type": "code",
        "colab": {}
      },
      "source": [
        "response = requests.get(\"https://www.rpi.edu\")\n",
        "txt = response.text\n",
        "soup = BeautifulSoup(txt, 'html.parser')\n",
        "\n",
        "print(soup.prettify())"
      ],
      "execution_count": 0,
      "outputs": []
    },
    {
      "cell_type": "code",
      "metadata": {
        "id": "4nZAjkNZ1dsX",
        "colab_type": "code",
        "colab": {}
      },
      "source": [
        "soup.find_all('a')"
      ],
      "execution_count": 0,
      "outputs": []
    },
    {
      "cell_type": "code",
      "metadata": {
        "id": "AJmuDqLd1dsq",
        "colab_type": "code",
        "colab": {}
      },
      "source": [
        "# Experiment with selecting your own website.  Selecting out a url. \n",
        "\n",
        "response = requests.get(\"enter url here\")\n",
        "txt = response.text\n",
        "soup = BeautifulSoup(txt, 'html.parser')\n",
        "\n",
        "print(soup.prettify())"
      ],
      "execution_count": 0,
      "outputs": []
    },
    {
      "cell_type": "markdown",
      "metadata": {
        "id": "V2YHWMZv1dsr",
        "colab_type": "text"
      },
      "source": [
        "#For more info, see \n",
        "[https://github.com/stanfordjournalism/search-script-scrape](https://github.com/stanfordjournalism/search-script-scrape) "
      ]
    }
  ]
}