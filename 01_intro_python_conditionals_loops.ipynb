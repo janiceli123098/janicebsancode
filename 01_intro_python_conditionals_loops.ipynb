{
  "nbformat": 4,
  "nbformat_minor": 0,
  "metadata": {
    "celltoolbar": "Slideshow",
    "kernelspec": {
      "display_name": "Python 3",
      "language": "python",
      "name": "python3"
    },
    "language_info": {
      "codemirror_mode": {
        "name": "ipython",
        "version": 3
      },
      "file_extension": ".py",
      "mimetype": "text/x-python",
      "name": "python",
      "nbconvert_exporter": "python",
      "pygments_lexer": "ipython3",
      "version": "3.7.4"
    },
    "colab": {
      "name": "01-intro-python-conditionals-loops.ipynb",
      "provenance": []
    }
  },
  "cells": [
    {
      "cell_type": "markdown",
      "metadata": {
        "id": "pTjsspIH0GIz",
        "colab_type": "text"
      },
      "source": [
        "[![AnalyticsDojo](https://github.com/rpi-techfundamentals/spring2019-materials/blob/master/fig/final-logo.png?raw=1)](http://rpi.analyticsdojo.com)\n",
        "<center><h1>Introduction to Python - Conditional Statements and Loops</h1></center>\n",
        "<center><h3><a href = 'http://rpi.analyticsdojo.com'>rpi.analyticsdojo.com</a></h3></center>\n"
      ]
    },
    {
      "cell_type": "markdown",
      "metadata": {
        "id": "YODJpHdX0GI1",
        "colab_type": "text"
      },
      "source": [
        "## Overview\n",
        "- (Need to know) Indentation in Python\n",
        "- What are conditional statements? Why do we need them?\n",
        "- If statements in Python\n",
        "- Why, Why not Loops?\n",
        "- Loops in Python\n",
        "- Exercises"
      ]
    },
    {
      "cell_type": "markdown",
      "metadata": {
        "id": "84KekB_A0GI2",
        "colab_type": "text"
      },
      "source": [
        "# [Tabs vs Spaces](https://www.youtube.com/watch?v=SsoOG6ZeyUI)\n",
        "(Worth Watching)"
      ]
    },
    {
      "cell_type": "markdown",
      "metadata": {
        "id": "PH_HOi-h0GI3",
        "colab_type": "text"
      },
      "source": [
        "## Indentation in Python\n",
        "- Indentation has a very specific role in Python and is **important!**\n",
        "- It is used as alternative to parenthesis, and getting it wrong will cause errors. \n",
        "- Python 3 allows 4 spaces or tabs, but not both. [But in working in Jupyter seems to work fine.]\n",
        "- In Python, spaces are preferred according to the [PEP 8 style guide](https://www.python.org/dev/peps/pep-0008/).\n",
        "\n"
      ]
    },
    {
      "cell_type": "markdown",
      "metadata": {
        "id": "SjWzeHz60GI3",
        "colab_type": "text"
      },
      "source": [
        "# What are conditional statements? Why do we need them?"
      ]
    },
    {
      "cell_type": "markdown",
      "metadata": {
        "id": "Mrzizu__0GI4",
        "colab_type": "text"
      },
      "source": [
        "## `if` Statements\n",
        "- Enables logical branching and recoding of data.\n",
        "- BUT, `if statements` can result in long code branches, repeated code.\n",
        "- Best to keep if statements short.\n",
        "- Keep in mind the [Zen of Python](https://www.python.org/dev/peps/pep-0020/) when writing if statements.  "
      ]
    },
    {
      "cell_type": "markdown",
      "metadata": {
        "id": "xNmFW4e60GI5",
        "colab_type": "text"
      },
      "source": [
        "## Conditional Statements and Indentation\n",
        "- The syntax for control structures in Python use _colons_ and _indentation_.\n",
        "- Beware that indentation affects flow.\n",
        "- `if` statemenet enable logic. \n",
        "- `elif` give additional conditions.\n",
        "- `else` gives what to do if other conditions are not met."
      ]
    },
    {
      "cell_type": "code",
      "metadata": {
        "id": "WtkIoQ7N0GI5",
        "colab_type": "code",
        "colab": {},
        "outputId": "62c9d758-6b34-44c3-9cae-7a90c1dfb992"
      },
      "source": [
        "y = 5\n",
        "x = 3\n",
        "if x > 0:\n",
        "    print ('x is strictly positive')\n",
        "    print (x)    \n",
        "print ('Finished.', x, y)\n",
        "x"
      ],
      "execution_count": 0,
      "outputs": [
        {
          "output_type": "stream",
          "text": [
            "x is strictly positive\n",
            "3\n",
            "Finished. 3 5\n"
          ],
          "name": "stdout"
        },
        {
          "output_type": "execute_result",
          "data": {
            "text/plain": [
              "3"
            ]
          },
          "metadata": {
            "tags": []
          },
          "execution_count": 1
        }
      ]
    },
    {
      "cell_type": "code",
      "metadata": {
        "id": "y2_Qq_X70GI9",
        "colab_type": "code",
        "colab": {},
        "outputId": "04402bfd-079b-430c-c4a1-1c457abca1c3"
      },
      "source": [
        "x = 1\n",
        "y = 0\n",
        "if x > 0:\n",
        "    print ('x is greater than 0')\n",
        "    if y > 0:\n",
        "        print ('& y is also greater than 0')\n",
        "    elif y<0:\n",
        "        print ('& y is  0')\n",
        "    else:\n",
        "        print ('& y is equal 0')\n",
        "print (\"x: \",x)\n",
        "print ('Finished.')"
      ],
      "execution_count": 0,
      "outputs": [
        {
          "output_type": "stream",
          "text": [
            "x is greater than 0\n",
            "& y is equal 0\n",
            "x:  1\n",
            "Finished.\n"
          ],
          "name": "stdout"
        }
      ]
    },
    {
      "cell_type": "code",
      "metadata": {
        "id": "jqaO5feH0GJA",
        "colab_type": "code",
        "colab": {},
        "outputId": "68882589-8cb8-41d1-e29a-b9083dac550f"
      },
      "source": [
        "x > 0"
      ],
      "execution_count": 0,
      "outputs": [
        {
          "output_type": "execute_result",
          "data": {
            "text/plain": [
              "True"
            ]
          },
          "metadata": {
            "tags": []
          },
          "execution_count": 10
        }
      ]
    },
    {
      "cell_type": "code",
      "metadata": {
        "id": "HX67GNys0GJK",
        "colab_type": "code",
        "colab": {},
        "outputId": "368a95ae-4b48-49eb-d862-f5021f136ac9"
      },
      "source": [
        "x != 5 or "
      ],
      "execution_count": 0,
      "outputs": [
        {
          "output_type": "execute_result",
          "data": {
            "text/plain": [
              "True"
            ]
          },
          "metadata": {
            "tags": []
          },
          "execution_count": 11
        }
      ]
    },
    {
      "cell_type": "code",
      "metadata": {
        "id": "r8TQlvn_0GJM",
        "colab_type": "code",
        "colab": {},
        "outputId": "f3f3d921-13c5-4a3e-c4ea-4db71e262a94"
      },
      "source": [
        "x=5\n",
        "x"
      ],
      "execution_count": 0,
      "outputs": [
        {
          "output_type": "execute_result",
          "data": {
            "text/plain": [
              "5"
            ]
          },
          "metadata": {
            "tags": []
          },
          "execution_count": 15
        }
      ]
    },
    {
      "cell_type": "markdown",
      "metadata": {
        "id": "AqoiNR0E0GJO",
        "colab_type": "text"
      },
      "source": [
        "## Python Logit and Conditions\n",
        "- Less than\t<\n",
        "- Greater than\t\t>\n",
        "- Less than or equal\t≤\t<=\n",
        "- Greater than or equal >=\n",
        "- Equals\t==\n",
        "- Not equal\t!=\n",
        "- `and` can be used to put multiple logical expressions together.\n",
        "- `or` can be used to put multiple logical expressions together."
      ]
    },
    {
      "cell_type": "code",
      "metadata": {
        "id": "8HyeFmPv0GJP",
        "colab_type": "code",
        "colab": {},
        "outputId": "081ff7ca-9bea-445f-d503-63f04d1566df"
      },
      "source": [
        "x = -1\n",
        "y = 1\n",
        "if x >= 0 and y >= 0:\n",
        "    print ('x and y are greater than 0 or 0')\n",
        "elif  x >= 0 or y >= 0:\n",
        "    if x > 0:\n",
        "        print ('x is greater than 0')\n",
        "    else:\n",
        "        print ('y is greater than 0')\n",
        "else:\n",
        "    print ('neither x nor y greater than 0')\n"
      ],
      "execution_count": 0,
      "outputs": [
        {
          "output_type": "stream",
          "text": [
            "y is greater than 0\n"
          ],
          "name": "stdout"
        }
      ]
    },
    {
      "cell_type": "markdown",
      "metadata": {
        "id": "eQ2I-GzT0GJR",
        "colab_type": "text"
      },
      "source": [
        "## Python Conditionals (Alt Syntax) \n",
        "- Clean syntax doesn't get complex branching \n",
        "- Python ternary conditional operator `(falseValue, trueValue)[<logicalTest>]`\n",
        "- Lambda Functions as if statement."
      ]
    },
    {
      "cell_type": "code",
      "metadata": {
        "id": "LOOyrM5p0GJR",
        "colab_type": "code",
        "colab": {},
        "outputId": "d29ae216-cd9c-4c05-b17d-7d0fa8d59d47"
      },
      "source": [
        "x=0\n",
        "z = 5 if x > 0 else 0\n",
        "print(z)"
      ],
      "execution_count": 0,
      "outputs": [
        {
          "output_type": "stream",
          "text": [
            "0\n"
          ],
          "name": "stdout"
        }
      ]
    },
    {
      "cell_type": "code",
      "metadata": {
        "id": "nrWeQSf00GJT",
        "colab_type": "code",
        "colab": {},
        "outputId": "9144d779-eb14-4071-8e8c-e3694b132b9e"
      },
      "source": [
        "# This is a form of if statement called ternary conditional operator \n",
        "x=1\n",
        "#The first value is the value if the conditional is false\n",
        "z=(0, 5)[x>0]\n",
        "print(z)"
      ],
      "execution_count": 0,
      "outputs": [
        {
          "output_type": "stream",
          "text": [
            "5\n"
          ],
          "name": "stdout"
        }
      ]
    },
    {
      "cell_type": "markdown",
      "metadata": {
        "id": "sfiebEEa0GJV",
        "colab_type": "text"
      },
      "source": [
        "# Why, Why Not Loops?"
      ]
    },
    {
      "cell_type": "markdown",
      "metadata": {
        "id": "1nn11nst0GJX",
        "colab_type": "text"
      },
      "source": [
        "## Why, Why Not Loops?\n",
        "- Iterate over arrays or lists easily. `for` or `while` loops can be nested.\n",
        "- BUT, in many cases for loops don't scale well and are slower than alternate methods involving functions. \n",
        "- BUT, don't worry about prematurely optimizing code.\n",
        "- Often if you are doing a loop, there is a function that is faster.  You might not care for small data applications.\n",
        "- Keep in mind the [Zen of Python](https://www.python.org/dev/peps/pep-0020/#id3) when writing `for` statements."
      ]
    },
    {
      "cell_type": "code",
      "metadata": {
        "id": "m2iymumI0GJX",
        "colab_type": "code",
        "colab": {},
        "outputId": "9eb2d9fa-63d3-4383-9d71-d708d4e3d17a"
      },
      "source": [
        "#Here we are iterating on lists.\n",
        "sum=0\n",
        "for ad in [1, 2, 3]: \n",
        "    sum+=ad    #This is short hand for sum = sum+ad\n",
        "    print(sum) \n",
        "    \n",
        "for country in ['England', 'Spain', 'India']:\n",
        "    print(country)"
      ],
      "execution_count": 0,
      "outputs": [
        {
          "output_type": "stream",
          "text": [
            "1\n",
            "3\n",
            "6\n",
            "England\n",
            "Spain\n",
            "India\n"
          ],
          "name": "stdout"
        }
      ]
    },
    {
      "cell_type": "code",
      "metadata": {
        "id": "SITfMRFv0GJZ",
        "colab_type": "code",
        "colab": {},
        "outputId": "53eb1ee9-e27d-4892-bc79-ec2f6d97e852"
      },
      "source": [
        "x=[0,1,2]\n",
        "y=['a','b','c']\n",
        "#Nested for loops\n",
        "for a in x:\n",
        "    for b in y:\n",
        "        print(a,b)\n"
      ],
      "execution_count": 0,
      "outputs": [
        {
          "output_type": "stream",
          "text": [
            "0 a\n",
            "0 b\n",
            "0 c\n",
            "1 a\n",
            "1 b\n",
            "1 c\n",
            "2 a\n",
            "2 b\n",
            "2 c\n"
          ],
          "name": "stdout"
        }
      ]
    },
    {
      "cell_type": "markdown",
      "metadata": {
        "id": "wP8TMv8s0GJc",
        "colab_type": "text"
      },
      "source": [
        "## The `for` Loop\n",
        "- Can accept a `range(start, stop, step)` or `range(stop)` object\n",
        "- Can break out of it with a `break` command"
      ]
    },
    {
      "cell_type": "code",
      "metadata": {
        "id": "UBzWwDFT0GJc",
        "colab_type": "code",
        "colab": {},
        "outputId": "a57fb940-630c-4a8f-d7b0-77fe67fafe17"
      },
      "source": [
        "z=range(5)\n",
        "z"
      ],
      "execution_count": 0,
      "outputs": [
        {
          "output_type": "execute_result",
          "data": {
            "text/plain": [
              "range(0, 5)"
            ]
          },
          "metadata": {
            "tags": []
          },
          "execution_count": 21
        }
      ]
    },
    {
      "cell_type": "code",
      "metadata": {
        "id": "qvq-Q5Zg0GJe",
        "colab_type": "code",
        "colab": {},
        "outputId": "c40644d9-fb36-46a9-d69c-4a3234407e59"
      },
      "source": [
        "#Range is a built in function that can be passed to a for loop\n",
        "#https://docs.python.org/3/library/functions.html#func-range\n",
        "#Range accepts a number and a (start/stop/step) like the arrange command.\n",
        "z=range(5)\n",
        "print(z, type(z))\n",
        "#Range\n",
        "for i in z:\n",
        "    print('Printing ten')\n",
        "for i in range(5):\n",
        "    print('Print five more')\n",
        "for i in range(5,20,2):\n",
        "    print('i: %d is the value' % (i)) \n",
        "    print(f'i:{i}  is the value' ) #This is an alternate way of embedding values in text."
      ],
      "execution_count": 0,
      "outputs": [
        {
          "output_type": "stream",
          "text": [
            "range(0, 5) <class 'range'>\n",
            "Printing ten\n",
            "Printing ten\n",
            "Printing ten\n",
            "Printing ten\n",
            "Printing ten\n",
            "Print five more\n",
            "Print five more\n",
            "Print five more\n",
            "Print five more\n",
            "Print five more\n",
            "i: 5 is the value\n",
            "i:5  is the value\n",
            "i: 7 is the value\n",
            "i:7  is the value\n",
            "i: 9 is the value\n",
            "i:9  is the value\n",
            "i: 11 is the value\n",
            "i:11  is the value\n",
            "i: 13 is the value\n",
            "i:13  is the value\n",
            "i: 15 is the value\n",
            "i:15  is the value\n",
            "i: 17 is the value\n",
            "i:17  is the value\n",
            "i: 19 is the value\n",
            "i:19  is the value\n"
          ],
          "name": "stdout"
        }
      ]
    },
    {
      "cell_type": "code",
      "metadata": {
        "id": "kPF8JWwL0GJg",
        "colab_type": "code",
        "colab": {},
        "outputId": "6a9cfab0-82d0-4c83-9853-610b86e92f4d"
      },
      "source": [
        "#Sometimes you need to break out of a loop\n",
        "for x in range(3):\n",
        "    print('x:',x)\n",
        "    if x == 2:\n",
        "        break\n"
      ],
      "execution_count": 0,
      "outputs": [
        {
          "output_type": "stream",
          "text": [
            "x: 0\n",
            "x: 1\n",
            "x: 2\n"
          ],
          "name": "stdout"
        }
      ]
    },
    {
      "cell_type": "markdown",
      "metadata": {
        "id": "zkKsJzq-0GJi",
        "colab_type": "text"
      },
      "source": [
        "### List, Set, and Dict Comprehension (Fancy for Loops)\n",
        "- Python has a special way of compressing list building to a single line. \n",
        "- Set Comprehension is very similar, but with the `{` bracket.\n",
        "- Can incorporate conditionals. \n",
        "- S\n"
      ]
    },
    {
      "cell_type": "code",
      "metadata": {
        "id": "U1p01ROx0GJi",
        "colab_type": "code",
        "colab": {},
        "outputId": "9b07b947-b685-4183-ccd4-00d30b59ad21"
      },
      "source": [
        "#This is the long way of building lists.\n",
        "L = []\n",
        "for n in range(10):\n",
        "    L.append(n ** 2)\n",
        "L"
      ],
      "execution_count": 0,
      "outputs": [
        {
          "output_type": "execute_result",
          "data": {
            "text/plain": [
              "[0, 1, 4, 9, 16, 25, 36, 49, 64, 81]"
            ]
          },
          "metadata": {
            "tags": []
          },
          "execution_count": 26
        }
      ]
    },
    {
      "cell_type": "code",
      "metadata": {
        "id": "rNbN_pJB0GJk",
        "colab_type": "code",
        "colab": {},
        "outputId": "fe240938-6b2b-4d8c-ecc8-768ecaf90bc4"
      },
      "source": [
        "#With list comprehension.  \n",
        "L=[n ** 2 for n in range(10)]\n",
        "L"
      ],
      "execution_count": 0,
      "outputs": [
        {
          "output_type": "execute_result",
          "data": {
            "text/plain": [
              "[0, 1, 4, 9, 16, 25, 36, 49, 64, 81]"
            ]
          },
          "metadata": {
            "tags": []
          },
          "execution_count": 22
        }
      ]
    },
    {
      "cell_type": "code",
      "metadata": {
        "id": "o3IvfgJ-0GJm",
        "colab_type": "code",
        "colab": {},
        "outputId": "b0b7f626-af71-4cce-89fc-50b994bfa2d4"
      },
      "source": [
        "#Any actions are on left side, any conditionals on right side \n",
        "[i for i in range(20) if i % 3 == 0]"
      ],
      "execution_count": 0,
      "outputs": [
        {
          "output_type": "execute_result",
          "data": {
            "text/plain": [
              "[0, 3, 6, 9, 12, 15, 18]"
            ]
          },
          "metadata": {
            "tags": []
          },
          "execution_count": 28
        }
      ]
    },
    {
      "cell_type": "markdown",
      "metadata": {
        "id": "OTI0zJjn0GJo",
        "colab_type": "text"
      },
      "source": [
        "### Multiple Interators\n",
        "- Iterating on multiple values"
      ]
    },
    {
      "cell_type": "code",
      "metadata": {
        "id": "6a_DhdXX0GJq",
        "colab_type": "code",
        "colab": {},
        "outputId": "593d51bd-9813-4d25-b72d-0c9b283563ac"
      },
      "source": [
        "[(i, j) for i in range(2) for j in range(3)]"
      ],
      "execution_count": 0,
      "outputs": [
        {
          "output_type": "execute_result",
          "data": {
            "text/plain": [
              "[(0, 0), (0, 1), (0, 2), (1, 0), (1, 1), (1, 2)]"
            ]
          },
          "metadata": {
            "tags": []
          },
          "execution_count": 29
        }
      ]
    },
    {
      "cell_type": "markdown",
      "metadata": {
        "id": "UHQ5qMtH0GJx",
        "colab_type": "text"
      },
      "source": [
        "### Set Comprehension\n",
        "- Remember sets must have unique values."
      ]
    },
    {
      "cell_type": "code",
      "metadata": {
        "id": "nD2voKt60GJy",
        "colab_type": "code",
        "colab": {},
        "outputId": "e053c941-ca86-44e6-cc17-eea4ad5bb3b0"
      },
      "source": [
        "#We can change it to a setby just changing the brackets.\n",
        "{n**2 for n in range(6)}"
      ],
      "execution_count": 0,
      "outputs": [
        {
          "output_type": "execute_result",
          "data": {
            "text/plain": [
              "{0, 1, 4, 9, 16, 25}"
            ]
          },
          "metadata": {
            "tags": []
          },
          "execution_count": 30
        }
      ]
    },
    {
      "cell_type": "markdown",
      "metadata": {
        "id": "kHFPTQvz0GJ1",
        "colab_type": "text"
      },
      "source": [
        "### Dict Comprehension\n",
        "- Remember sets must have unique values."
      ]
    },
    {
      "cell_type": "code",
      "metadata": {
        "id": "J4hDWYFq0GJ1",
        "colab_type": "code",
        "colab": {},
        "outputId": "b44b4a6b-6539-47a5-c8eb-a9732e08384f"
      },
      "source": [
        "#We can change it to a dictionary by just changing the brackets and adding a colon.\n",
        "{n:n**2 for n in range(6)}"
      ],
      "execution_count": 0,
      "outputs": [
        {
          "output_type": "execute_result",
          "data": {
            "text/plain": [
              "{0: 0, 1: 1, 2: 4, 3: 9, 4: 16, 5: 25}"
            ]
          },
          "metadata": {
            "tags": []
          },
          "execution_count": 30
        }
      ]
    },
    {
      "cell_type": "markdown",
      "metadata": {
        "id": "nJ31QCfm0GJ3",
        "colab_type": "text"
      },
      "source": [
        "## While Loops\n",
        "- Performs a loop while a conditional is True.\n",
        "- Doesn't auto-increment.\n"
      ]
    },
    {
      "cell_type": "code",
      "metadata": {
        "id": "ua24KGru0GJ3",
        "colab_type": "code",
        "colab": {},
        "outputId": "5a5eb1ab-e8ee-4a01-9b3d-5e4733c76f9c"
      },
      "source": [
        "# While loop is a very interesting \n",
        "x = 1\n",
        "sum=0\n",
        "while x<10:\n",
        "    print (\"Printing x= %d sum= %d\" % (x, sum)) #Note this alternate way of specufiy\n",
        "    x += 1\n",
        "    sum+=10"
      ],
      "execution_count": 0,
      "outputs": [
        {
          "output_type": "stream",
          "text": [
            "Printing x= 1 sum= 0\n",
            "Printing x= 2 sum= 10\n",
            "Printing x= 3 sum= 20\n",
            "Printing x= 4 sum= 30\n",
            "Printing x= 5 sum= 40\n",
            "Printing x= 6 sum= 50\n",
            "Printing x= 7 sum= 60\n",
            "Printing x= 8 sum= 70\n",
            "Printing x= 9 sum= 80\n"
          ],
          "name": "stdout"
        }
      ]
    },
    {
      "cell_type": "markdown",
      "metadata": {
        "id": "QXykdP0R0GJ6",
        "colab_type": "text"
      },
      "source": [
        "## Recoding Variables/Creating Features with `for/if`\n",
        "- Often we want to recode data applying some type of conditional statement to each value of a series, list, or column of a data frame.\n",
        "- [Regular Expressions](https://docs.python.org/3/howto/regex.html) can be useful in recoding "
      ]
    },
    {
      "cell_type": "code",
      "metadata": {
        "id": "M66RObie0GJ7",
        "colab_type": "code",
        "colab": {},
        "outputId": "02878b6c-6b0a-4acd-aa97-ffc3cc8c0277"
      },
      "source": [
        "#Titanic Preview Women and Children first\n",
        "\n",
        "gender=['Female', 'Female','Female', 'Male', 'Male', 'Male' ]\n",
        "age=[75, 45, 15, 1, 45, 4 ]\n",
        "name = ['Ms. Sally White', 'Mrs. Susan King', 'Amanda Russ', 'Rev. John Smith' ]\n",
        "survived=[]\n",
        "for i in range(len(gender)):\n",
        "#This is encoding a simple model that women survived.  \n",
        "    if gender[i]=='Female':\n",
        "        survived.append('Survived')\n",
        "    else:\n",
        "        survived.append('Died')      \n",
        "print(survived)\n",
        "        \n",
        "#BUT, we won't typically be using this type of recoding, so we aren't going to do a lot of exercises on it.     "
      ],
      "execution_count": 0,
      "outputs": [
        {
          "output_type": "stream",
          "text": [
            "['Survived', 'Survived', 'Survived', 'Died', 'Died', 'Died']\n"
          ],
          "name": "stdout"
        }
      ]
    },
    {
      "cell_type": "markdown",
      "metadata": {
        "id": "sBdi5IXe0GJ8",
        "colab_type": "text"
      },
      "source": [
        "Copyright [AnalyticsDojo](http://rpi.analyticsdojo.com) 2016.\n",
        "This work is licensed under the [Creative Commons Attribution 4.0 International](https://creativecommons.org/licenses/by/4.0/) license agreement.\n",
        "Adopted from [materials](https://github.com/phelps-sg/python-bigdata) Copyright [Steve Phelps](http://sphelps.net) 2014"
      ]
    }
  ]
}