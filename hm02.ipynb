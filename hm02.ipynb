{
  "nbformat": 4,
  "nbformat_minor": 0,
  "metadata": {
    "anaconda-cloud": {},
    "celltoolbar": "Slideshow",
    "colab": {
      "name": "Copy of hm.ipynb",
      "version": "0.3.2",
      "provenance": [],
      "collapsed_sections": [],
      "include_colab_link": true
    },
    "kernelspec": {
      "display_name": "Python 3",
      "language": "python",
      "name": "python3"
    },
    "language_info": {
      "codemirror_mode": {
        "name": "ipython",
        "version": 3
      },
      "file_extension": ".py",
      "mimetype": "text/x-python",
      "name": "python",
      "nbconvert_exporter": "python",
      "pygments_lexer": "ipython3",
      "version": "3.6.9"
    }
  },
  "cells": [
    {
      "cell_type": "markdown",
      "metadata": {
        "id": "view-in-github",
        "colab_type": "text"
      },
      "source": [
        "<a href=\"https://colab.research.google.com/github/janiceli123098/janicebsancode/blob/janiceli123098-MGMT6560_IntroML/hm02.ipynb\" target=\"_parent\"><img src=\"https://colab.research.google.com/assets/colab-badge.svg\" alt=\"Open In Colab\"/></a>"
      ]
    },
    {
      "cell_type": "markdown",
      "metadata": {
        "colab_type": "text",
        "id": "sAf3Gsm5velW"
      },
      "source": [
        "## Introduction to Python Exercises\n",
        "\n",
        "![](https://github.com/rpi-techfundamentals/hm-01-starter/blob/master/notsaved.png?raw=1)\n",
        "\n",
        "**WARNING!!!  If you see this icon on the top of your COLAB sesssion, your work is not saved automatically.**\n",
        "\n",
        "**Save your working file in Google drive so that all changes will be saved as you work. MAKE SURE that your final version is saved to GitHub.** \n",
        "\n",
        "Before you turn this in, make sure everything runs as expected. First, restart the kernel (in the menu, select Kernel → Restart) and then run all cells (in the menubar, select Cell → Run All).  You can speak with others regarding the assignment but all work must be your own. \n",
        "\n",
        "\n",
        "### This is a 30 point assignment.\n",
        "\n",
        "**You may find it useful to go through the notebooks from the course materials when doing these exercises.**\n",
        "\n",
        "**If you attempt to fake passing the tests you will receive a 0 on the assignment and it will be considered an ethical violation.**"
      ]
    },
    {
      "cell_type": "code",
      "metadata": {
        "colab_type": "code",
        "id": "ziN7lGGlvela",
        "outputId": "797603ac-81ac-40db-a9a2-dff6da85ea69",
        "colab": {
          "base_uri": "https://localhost:8080/",
          "height": 1000
        }
      },
      "source": [
        "files = \"https://github.com/rpi-techfundamentals/hm-02-starter/raw/master/files.zip\"\n",
        "!pip install git+https://github.com/data-8/Gofer-Grader && wget $files && unzip -o files.zip"
      ],
      "execution_count": 1,
      "outputs": [
        {
          "output_type": "stream",
          "text": [
            "Collecting git+https://github.com/data-8/Gofer-Grader\n",
            "  Cloning https://github.com/data-8/Gofer-Grader to /tmp/pip-req-build-woyo2vl8\n",
            "  Running command git clone -q https://github.com/data-8/Gofer-Grader /tmp/pip-req-build-woyo2vl8\n",
            "Requirement already satisfied (use --upgrade to upgrade): gofer-grader==1.0.9 from git+https://github.com/data-8/Gofer-Grader in /usr/local/lib/python3.6/dist-packages\n",
            "Requirement already satisfied: jinja2 in /usr/local/lib/python3.6/dist-packages (from gofer-grader==1.0.9) (2.10.1)\n",
            "Requirement already satisfied: pygments in /usr/local/lib/python3.6/dist-packages (from gofer-grader==1.0.9) (2.1.3)\n",
            "Requirement already satisfied: tornado in /usr/local/lib/python3.6/dist-packages (from gofer-grader==1.0.9) (4.5.3)\n",
            "Requirement already satisfied: MarkupSafe>=0.23 in /usr/local/lib/python3.6/dist-packages (from jinja2->gofer-grader==1.0.9) (1.1.1)\n",
            "Building wheels for collected packages: gofer-grader\n",
            "  Building wheel for gofer-grader (setup.py) ... \u001b[?25l\u001b[?25hdone\n",
            "  Created wheel for gofer-grader: filename=gofer_grader-1.0.9-cp36-none-any.whl size=10115 sha256=af6a4307488bbafbd4008be31f872270c576f7b2440e5f6285d7b313b0068046\n",
            "  Stored in directory: /tmp/pip-ephem-wheel-cache-5o5tnpvv/wheels/9e/62/24/8563ae039051d6ba979557d1766bfebbda5dd08f8572e3e35d\n",
            "Successfully built gofer-grader\n",
            "--2019-09-07 18:14:18--  https://github.com/rpi-techfundamentals/hm-02-starter/raw/master/files.zip\n",
            "Resolving github.com (github.com)... 140.82.114.3\n",
            "Connecting to github.com (github.com)|140.82.114.3|:443... connected.\n",
            "HTTP request sent, awaiting response... 302 Found\n",
            "Location: https://raw.githubusercontent.com/rpi-techfundamentals/hm-02-starter/master/files.zip [following]\n",
            "--2019-09-07 18:14:19--  https://raw.githubusercontent.com/rpi-techfundamentals/hm-02-starter/master/files.zip\n",
            "Resolving raw.githubusercontent.com (raw.githubusercontent.com)... 151.101.0.133, 151.101.64.133, 151.101.128.133, ...\n",
            "Connecting to raw.githubusercontent.com (raw.githubusercontent.com)|151.101.0.133|:443... connected.\n",
            "HTTP request sent, awaiting response... 200 OK\n",
            "Length: 10753 (11K) [application/zip]\n",
            "Saving to: ‘files.zip.1’\n",
            "\n",
            "files.zip.1         100%[===================>]  10.50K  --.-KB/s    in 0s      \n",
            "\n",
            "2019-09-07 18:14:19 (123 MB/s) - ‘files.zip.1’ saved [10753/10753]\n",
            "\n",
            "Archive:  files.zip\n",
            "  inflating: tests/q25.py            \n",
            "  inflating: tests/q11.py            \n",
            "  inflating: tests/q15.py            \n",
            "  inflating: tests/q21.py            \n",
            " extracting: tests/__init__.py       \n",
            "  inflating: tests/q14.py            \n",
            "  inflating: tests/q20.py            \n",
            "  inflating: tests/q24.py            \n",
            "  inflating: tests/q10.py            \n",
            "  inflating: tests/qname.py          \n",
            "  inflating: tests/q07.py            \n",
            "  inflating: tests/q17.py            \n",
            "  inflating: tests/q23.py            \n",
            "  inflating: tests/q03.py            \n",
            "  inflating: tests/q27.py            \n",
            "  inflating: tests/q13.py            \n",
            "  inflating: tests/q02.py            \n",
            "  inflating: tests/q26.py            \n",
            "  inflating: __MACOSX/tests/._q26.py  \n",
            "  inflating: tests/q12.py            \n",
            "  inflating: tests/q06.py            \n",
            "  inflating: tests/q16.py            \n",
            "  inflating: tests/q22.py            \n",
            "  inflating: tests/q09.py            \n",
            "  inflating: tests/q19.py            \n",
            "  inflating: tests/q08.py            \n",
            "  inflating: tests/q18.py            \n",
            "  inflating: hm02.ok                 \n",
            "  inflating: iris.csv                \n",
            "  inflating: __MACOSX/._iris.csv     \n"
          ],
          "name": "stdout"
        }
      ]
    },
    {
      "cell_type": "code",
      "metadata": {
        "colab_type": "code",
        "id": "AdVbmM-tveli",
        "colab": {}
      },
      "source": [
        "#This loads the grading software.  If you later get a \"failed to import OK.py\" you need to rerun.\n",
        "from client.api.notebook import Notebook\n",
        "ok = Notebook('hm02.ok')\n",
        "_ = ok.auth(inline=True)"
      ],
      "execution_count": 0,
      "outputs": []
    },
    {
      "cell_type": "markdown",
      "metadata": {
        "colab_type": "text",
        "id": "3mHHPuQOvemq"
      },
      "source": [
        "## Exercise-Packages\n",
        "\n",
        "This creates an Numpy array. Numpy is a common package that we will use to work with arrays. You can read more about Numpy [here](http://www.numpy.org/). \n",
        "\n",
        "```\n",
        "a = np.array([2,3,4])\n",
        "print(a)\n",
        "```\n",
        "\n",
        "To get this to work, you will have to make sure that the numpy(np) package is installed. \n",
        "\n",
        "(1) Verify that Numpy is installed. How did you know?  \n",
        "Describe how you would you install it if it wasn't installed?\n"
      ]
    },
    {
      "cell_type": "code",
      "metadata": {
        "colab_type": "code",
        "id": "9SRVAJkUvemt",
        "colab": {}
      },
      "source": [
        "man1=\"\"\"\n",
        "Enter your answer here.\n",
        "\n",
        "1. To verify that Numpy is installed, I will run the import statement as below.\n",
        "\n",
        "import numpy as np\n",
        "\n",
        "If the above import statement runs without errors, Numpy package has been installed successfully.\n",
        "\n",
        "2. If Numpy wasn't installed, I will run below command via command line to get it installed.\n",
        "\n",
        "python -m pip install --user numpy\n",
        "\n",
        "This command is found from [https://www.scipy.org/install.html].\n",
        "\n",
        "Here i attach the command outputs from my Mac.\n",
        "\n",
        "Janices-MBP:~ janiceli$ python -m pip install --user numpy   #install the numpy package\n",
        "Collecting numpy\n",
        "  Downloading https://files.pythonhosted.org/packages/51/67/8907005262f493e356195bcbd61b41988eecf63cb1d97ea2f6e55fe24205/numpy-1.16.5-cp27-cp27m-macosx_10_9_x86_64.whl (13.9MB)\n",
        "    100% |████████████████████████████████| 13.9MB 1.3MB/s \n",
        "Installing collected packages: numpy\n",
        "  The scripts f2py, f2py2 and f2py2.7 are installed in '/Users/janiceli/Library/Python/2.7/bin' which is not on PATH.\n",
        "  Consider adding this directory to PATH or, if you prefer to suppress this warning, use --no-warn-script-location.\n",
        "Successfully installed numpy-1.16.5\n",
        "You are using pip version 18.1, however version 19.2.3 is available.\n",
        "You should consider upgrading via the 'pip install --upgrade pip' command.\n",
        "Janices-MBP:~ janiceli$ pip freeze    # Verify that numpy package was installed\n",
        "numpy==1.16.5\n",
        "\n",
        "\"\"\""
      ],
      "execution_count": 0,
      "outputs": []
    },
    {
      "cell_type": "markdown",
      "metadata": {
        "colab_type": "text",
        "id": "zeDVp2Sivemw"
      },
      "source": [
        "(2) Fix the cell below so that `a` is a `numpy` array."
      ]
    },
    {
      "cell_type": "code",
      "metadata": {
        "colab_type": "code",
        "id": "Sei-Ye83vemx",
        "colab": {
          "base_uri": "https://localhost:8080/",
          "height": 34
        },
        "outputId": "4ef4f674-f751-4fec-edfc-405df44885d9"
      },
      "source": [
        "#Fix this code of q2. \n",
        "import numpy as np\n",
        "a = np.array([5,6,7,8])\n",
        "print(a, type(a))\n"
      ],
      "execution_count": 4,
      "outputs": [
        {
          "output_type": "stream",
          "text": [
            "[5 6 7 8] <class 'numpy.ndarray'>\n"
          ],
          "name": "stdout"
        }
      ]
    },
    {
      "cell_type": "code",
      "metadata": {
        "colab_type": "code",
        "id": "U8SBYHzCvenG",
        "colab": {
          "base_uri": "https://localhost:8080/",
          "height": 46
        },
        "outputId": "8e80eda5-73c4-440f-c296-9d134fe8192e"
      },
      "source": [
        "_ = ok.grade('q02')"
      ],
      "execution_count": 5,
      "outputs": [
        {
          "output_type": "display_data",
          "data": {
            "text/html": [
              "\n",
              "    \n",
              "    \n",
              "        <p>All tests passed!</p>\n",
              "    \n",
              "    "
            ],
            "text/plain": [
              "<gofer.ok.OKTestsResult at 0x7f8c60ffa2b0>"
            ]
          },
          "metadata": {
            "tags": []
          }
        }
      ]
    },
    {
      "cell_type": "markdown",
      "metadata": {
        "colab_type": "text",
        "id": "JPQJGf-4venI"
      },
      "source": [
        "(3) Create a numpy array `b` with the values `12, 13, 14, 15`.\n",
        "\n"
      ]
    },
    {
      "cell_type": "code",
      "metadata": {
        "colab_type": "code",
        "id": "ZCnMrkR7venI",
        "colab": {}
      },
      "source": [
        "#<insert q3 code here>\n",
        "b = np.array([12,13,14,15])\n",
        "\n"
      ],
      "execution_count": 0,
      "outputs": []
    },
    {
      "cell_type": "code",
      "metadata": {
        "colab_type": "code",
        "id": "zR8TxGqIvenQ",
        "colab": {
          "base_uri": "https://localhost:8080/",
          "height": 46
        },
        "outputId": "283f19bb-a72f-4fd6-cd46-5bd59df2c0f8"
      },
      "source": [
        "_ = ok.grade('q03')"
      ],
      "execution_count": 7,
      "outputs": [
        {
          "output_type": "display_data",
          "data": {
            "text/html": [
              "\n",
              "    \n",
              "    \n",
              "        <p>All tests passed!</p>\n",
              "    \n",
              "    "
            ],
            "text/plain": [
              "<gofer.ok.OKTestsResult at 0x7f8c60ffa6a0>"
            ]
          },
          "metadata": {
            "tags": []
          }
        }
      ]
    },
    {
      "cell_type": "markdown",
      "metadata": {
        "colab_type": "text",
        "id": "mw3XWpwLvend"
      },
      "source": [
        "## Exercise - Operations on Variables\n",
        "\n",
        "(4) Describe what happens when you multiply an integer times a boolean? \n",
        "What is the resulting type? Provide examples.\n"
      ]
    },
    {
      "cell_type": "code",
      "metadata": {
        "colab_type": "code",
        "id": "tE8mUzMDvend",
        "colab": {
          "base_uri": "https://localhost:8080/",
          "height": 34
        },
        "outputId": "ffe3157c-cfbe-411e-c74a-d71acc9db7d6"
      },
      "source": [
        "#You must assign your answer to q4_answer. \n",
        "man4=\"\"\"\n",
        "Enter your answer here.\n",
        "\n",
        "If I multiply an integer times a boolean, the resulting type is int.\n",
        "\n",
        "Example:\n",
        "num = 10\n",
        "boolean = True\n",
        "print(num * boolean, type(num * boolean))\n",
        "\n",
        "Output of above statements is:\n",
        "10 <class 'int'>\n",
        "\n",
        "\"\"\"\n",
        "\n",
        "q4_answer = type(True * 10)\n",
        "#print(q4_answer)"
      ],
      "execution_count": 8,
      "outputs": [
        {
          "output_type": "stream",
          "text": [
            "<class 'int'>\n"
          ],
          "name": "stdout"
        }
      ]
    },
    {
      "cell_type": "markdown",
      "metadata": {
        "colab_type": "text",
        "id": "GYgxT58dvenf"
      },
      "source": [
        "(5) Describe happens when you try to multiply an integer value times a null?"
      ]
    },
    {
      "cell_type": "code",
      "metadata": {
        "colab_type": "code",
        "id": "q3-_3HZbveng",
        "colab": {}
      },
      "source": [
        "man5=\"\"\"\n",
        "Enter your answer here.\n",
        "\n",
        "If I try to multiply an integer value times a null, python will report errors.\n",
        "\n",
        "integer = 10\n",
        "null = None\n",
        "print(integer * null)\n",
        "\n",
        "---------------------------------------------------------------------------\n",
        "TypeError                                 Traceback (most recent call last)\n",
        "<ipython-input-4-30637e7539f4> in <module>()\n",
        "      1 integer = 10\n",
        "      2 null = None\n",
        "----> 3 print(integer * null)\n",
        "\n",
        "TypeError: unsupported operand type(s) for *: 'int' and 'NoneType'\n",
        "\n",
        "\"\"\"\n"
      ],
      "execution_count": 0,
      "outputs": []
    },
    {
      "cell_type": "markdown",
      "metadata": {
        "colab_type": "text",
        "id": "mmJfgNELvenh"
      },
      "source": [
        "(6) Take 5 to the power of 4 and assign it to a variable `c`. Then transform the variable `c` to a type `float`. "
      ]
    },
    {
      "cell_type": "code",
      "metadata": {
        "colab_type": "code",
        "id": "rCKk0Jleveni",
        "colab": {}
      },
      "source": [
        "#<insert q6 code here>\n",
        "c = 5**4\n",
        "c = float(c)"
      ],
      "execution_count": 0,
      "outputs": []
    },
    {
      "cell_type": "code",
      "metadata": {
        "colab_type": "code",
        "id": "KF0GNcPCvenk",
        "colab": {
          "base_uri": "https://localhost:8080/",
          "height": 46
        },
        "outputId": "694ce253-fb13-4bde-ae93-fe9f6f5c5ebf"
      },
      "source": [
        "_ = ok.grade('q06')"
      ],
      "execution_count": 11,
      "outputs": [
        {
          "output_type": "display_data",
          "data": {
            "text/html": [
              "\n",
              "    \n",
              "    \n",
              "        <p>All tests passed!</p>\n",
              "    \n",
              "    "
            ],
            "text/plain": [
              "<gofer.ok.OKTestsResult at 0x7f8c606355c0>"
            ]
          },
          "metadata": {
            "tags": []
          }
        }
      ]
    },
    {
      "cell_type": "markdown",
      "metadata": {
        "colab_type": "text",
        "id": "BUuwcdISvenl"
      },
      "source": [
        "## Exercise-Lists\n",
        "Hint: [This link is useful.](https://docs.python.org/3/tutorial/datastructures.html#more-on-lists) as is the process of tab completion (using tab to find available methods of an object).\n",
        "\n",
        "(7) Create a list `elist1` with the following values `1,2,3,4,5`.<br>\n"
      ]
    },
    {
      "cell_type": "code",
      "metadata": {
        "colab_type": "code",
        "id": "Ez-K3n65venl",
        "colab": {}
      },
      "source": [
        "#<insert q7 code here>\n",
        "\n",
        "elist1 = [1,2,3,4,5]\n"
      ],
      "execution_count": 0,
      "outputs": []
    },
    {
      "cell_type": "code",
      "metadata": {
        "colab_type": "code",
        "id": "IC0OKhjFvenn",
        "colab": {
          "base_uri": "https://localhost:8080/",
          "height": 46
        },
        "outputId": "762be0d8-b611-439c-8f00-be8b04dce4fd"
      },
      "source": [
        "_ = ok.grade('q07')"
      ],
      "execution_count": 13,
      "outputs": [
        {
          "output_type": "display_data",
          "data": {
            "text/html": [
              "\n",
              "    \n",
              "    \n",
              "        <p>All tests passed!</p>\n",
              "    \n",
              "    "
            ],
            "text/plain": [
              "<gofer.ok.OKTestsResult at 0x7f8c606352e8>"
            ]
          },
          "metadata": {
            "tags": []
          }
        }
      ]
    },
    {
      "cell_type": "markdown",
      "metadata": {
        "colab_type": "text",
        "id": "RlyO4sm0venp"
      },
      "source": [
        "(8) Create a new list `elist2` by first creating a copy of `elist1` and then reversing the order.\n",
        "\n",
        "*HINT, remember there is a specific function to copy a list.* \n"
      ]
    },
    {
      "cell_type": "code",
      "metadata": {
        "colab_type": "code",
        "id": "NH7kHN_xvenq",
        "colab": {}
      },
      "source": [
        "#<insert q8 code here>\n",
        "elist2 = elist1.copy()\n",
        "elist2.reverse()\n"
      ],
      "execution_count": 0,
      "outputs": []
    },
    {
      "cell_type": "code",
      "metadata": {
        "colab_type": "code",
        "id": "U_AjuZaSvenr",
        "colab": {
          "base_uri": "https://localhost:8080/",
          "height": 46
        },
        "outputId": "2b5d8caa-19ae-480e-ac0e-b80b638fbbea"
      },
      "source": [
        "_ = ok.grade('q08')"
      ],
      "execution_count": 15,
      "outputs": [
        {
          "output_type": "display_data",
          "data": {
            "text/html": [
              "\n",
              "    \n",
              "    \n",
              "        <p>All tests passed!</p>\n",
              "    \n",
              "    "
            ],
            "text/plain": [
              "<gofer.ok.OKTestsResult at 0x7f8c60635b38>"
            ]
          },
          "metadata": {
            "tags": []
          }
        }
      ]
    },
    {
      "cell_type": "markdown",
      "metadata": {
        "colab_type": "text",
        "id": "mZS4sc4Zvenu"
      },
      "source": [
        "(9) Create a new list `elist3` by first creating a copy of `elist1` and then adding `7, 8, 9` to the end. (Hint: Search for a different function if appending doesn't work.) "
      ]
    },
    {
      "cell_type": "code",
      "metadata": {
        "colab_type": "code",
        "id": "qOM-WIoEvenu",
        "colab": {}
      },
      "source": [
        "#<insert q9 code here>\n",
        "elist3 = elist1[:]\n",
        "# elist3 = elist1.copy()\n",
        "new_list = [7,8,9]\n",
        "elist3 = elist3 + new_list\n"
      ],
      "execution_count": 0,
      "outputs": []
    },
    {
      "cell_type": "code",
      "metadata": {
        "colab_type": "code",
        "id": "3oHqLKmsvenw",
        "colab": {
          "base_uri": "https://localhost:8080/",
          "height": 46
        },
        "outputId": "bd7d7a2b-3a4d-420d-ce8b-e5b4dc935f29"
      },
      "source": [
        "_ = ok.grade('q09')"
      ],
      "execution_count": 17,
      "outputs": [
        {
          "output_type": "display_data",
          "data": {
            "text/html": [
              "\n",
              "    \n",
              "    \n",
              "        <p>All tests passed!</p>\n",
              "    \n",
              "    "
            ],
            "text/plain": [
              "<gofer.ok.OKTestsResult at 0x7f8c60635588>"
            ]
          },
          "metadata": {
            "tags": []
          }
        }
      ]
    },
    {
      "cell_type": "markdown",
      "metadata": {
        "colab_type": "text",
        "id": "IyrzEdqTven2"
      },
      "source": [
        "(10) Create a new list `elist4` by first creating a copy of `elist3` and then insert `6` between `5` and `7`."
      ]
    },
    {
      "cell_type": "code",
      "metadata": {
        "colab_type": "code",
        "id": "gFgUlCpeven3",
        "colab": {}
      },
      "source": [
        "#<insert q10 code here>\n",
        "elist4 = elist3.copy()\n",
        "elist4.insert(5,6)\n"
      ],
      "execution_count": 0,
      "outputs": []
    },
    {
      "cell_type": "code",
      "metadata": {
        "colab_type": "code",
        "id": "8WLUG12Iven5",
        "colab": {
          "base_uri": "https://localhost:8080/",
          "height": 46
        },
        "outputId": "c064846e-57b9-423b-f81a-83bdf02e737d"
      },
      "source": [
        "_ = ok.grade('q10')"
      ],
      "execution_count": 59,
      "outputs": [
        {
          "output_type": "display_data",
          "data": {
            "text/html": [
              "\n",
              "    \n",
              "    \n",
              "        <p>All tests passed!</p>\n",
              "    \n",
              "    "
            ],
            "text/plain": [
              "<gofer.ok.OKTestsResult at 0x7f8c61c984a8>"
            ]
          },
          "metadata": {
            "tags": []
          }
        }
      ]
    },
    {
      "cell_type": "markdown",
      "metadata": {
        "colab_type": "text",
        "id": "rw6Sh0gWven7"
      },
      "source": [
        "## Exercise-Sets/Dictionary\n",
        "\n",
        "This [link to documentation on sets](https://docs.python.org/3/tutorial/datastructures.html#sets) may be useful.\n",
        "\n",
        "(11) Create a set `eset1` with the following values (1,2,3,4,5).\n"
      ]
    },
    {
      "cell_type": "code",
      "metadata": {
        "colab_type": "code",
        "id": "mte4CjMRven7",
        "colab": {}
      },
      "source": [
        "#<insert q11 code here>\n",
        "\n",
        "#eset1 = {1,2,3,4,5}\n",
        "eset1 = set([1,2,3,4,5])\n"
      ],
      "execution_count": 0,
      "outputs": []
    },
    {
      "cell_type": "code",
      "metadata": {
        "colab_type": "code",
        "id": "ATousioRven-",
        "colab": {
          "base_uri": "https://localhost:8080/",
          "height": 46
        },
        "outputId": "0ded1303-7bf2-4798-9c41-7a73e17f3509"
      },
      "source": [
        "_ = ok.grade('q11')"
      ],
      "execution_count": 21,
      "outputs": [
        {
          "output_type": "display_data",
          "data": {
            "text/html": [
              "\n",
              "    \n",
              "    \n",
              "        <p>All tests passed!</p>\n",
              "    \n",
              "    "
            ],
            "text/plain": [
              "<gofer.ok.OKTestsResult at 0x7f8c60635ef0>"
            ]
          },
          "metadata": {
            "tags": []
          }
        }
      ]
    },
    {
      "cell_type": "markdown",
      "metadata": {
        "colab_type": "text",
        "id": "jRJFjKF8veoB"
      },
      "source": [
        "\n",
        "(12) Create a new set `eset2` the following values (1,3,6).\n",
        "\n"
      ]
    },
    {
      "cell_type": "code",
      "metadata": {
        "colab_type": "code",
        "id": "gBMvn0lBveoC",
        "colab": {}
      },
      "source": [
        "#<insert q12 code here>\n",
        "eset2 = {1,3,6}\n"
      ],
      "execution_count": 0,
      "outputs": []
    },
    {
      "cell_type": "code",
      "metadata": {
        "colab_type": "code",
        "id": "gxis27MfveoI",
        "colab": {
          "base_uri": "https://localhost:8080/",
          "height": 46
        },
        "outputId": "8f1cadce-3d51-4b25-d50b-6a0e4c4a992c"
      },
      "source": [
        "_ = ok.grade('q12')"
      ],
      "execution_count": 23,
      "outputs": [
        {
          "output_type": "display_data",
          "data": {
            "text/html": [
              "\n",
              "    \n",
              "    \n",
              "        <p>All tests passed!</p>\n",
              "    \n",
              "    "
            ],
            "text/plain": [
              "<gofer.ok.OKTestsResult at 0x7f8c60635dd8>"
            ]
          },
          "metadata": {
            "tags": []
          }
        }
      ]
    },
    {
      "cell_type": "markdown",
      "metadata": {
        "colab_type": "text",
        "id": "PJo2iKx5veoP"
      },
      "source": [
        "(13) Create a new set `eset3` that is `eset1-eset2`.\n",
        "\n"
      ]
    },
    {
      "cell_type": "code",
      "metadata": {
        "colab_type": "code",
        "id": "-MWFYYgzveoQ",
        "colab": {}
      },
      "source": [
        "#<insert q13 code here>\n",
        "eset3 = eset1 - eset2"
      ],
      "execution_count": 0,
      "outputs": []
    },
    {
      "cell_type": "code",
      "metadata": {
        "colab_type": "code",
        "id": "NFEbonxWveoS",
        "colab": {
          "base_uri": "https://localhost:8080/",
          "height": 46
        },
        "outputId": "8b39099a-38fc-45f0-a3ed-b3ffa51a2740"
      },
      "source": [
        "_ = ok.grade('q13')"
      ],
      "execution_count": 25,
      "outputs": [
        {
          "output_type": "display_data",
          "data": {
            "text/html": [
              "\n",
              "    \n",
              "    \n",
              "        <p>All tests passed!</p>\n",
              "    \n",
              "    "
            ],
            "text/plain": [
              "<gofer.ok.OKTestsResult at 0x7f8c60635898>"
            ]
          },
          "metadata": {
            "tags": []
          }
        }
      ]
    },
    {
      "cell_type": "markdown",
      "metadata": {
        "colab_type": "text",
        "id": "WvXjhLl6veoW"
      },
      "source": [
        "(14) Create a new set `eset4` that is the union of `eset1+eset2`.\n"
      ]
    },
    {
      "cell_type": "code",
      "metadata": {
        "colab_type": "code",
        "id": "R3OgsaWmveoX",
        "colab": {}
      },
      "source": [
        "#<insert q14 code here>\n",
        "eset4 = eset1.union(eset2)"
      ],
      "execution_count": 0,
      "outputs": []
    },
    {
      "cell_type": "code",
      "metadata": {
        "colab_type": "code",
        "id": "Pu77neIrveoZ",
        "colab": {
          "base_uri": "https://localhost:8080/",
          "height": 46
        },
        "outputId": "b52cad09-de6b-4390-f905-4c0445386f70"
      },
      "source": [
        "_ = ok.grade('q14')"
      ],
      "execution_count": 27,
      "outputs": [
        {
          "output_type": "display_data",
          "data": {
            "text/html": [
              "\n",
              "    \n",
              "    \n",
              "        <p>All tests passed!</p>\n",
              "    \n",
              "    "
            ],
            "text/plain": [
              "<gofer.ok.OKTestsResult at 0x7f8c606356a0>"
            ]
          },
          "metadata": {
            "tags": []
          }
        }
      ]
    },
    {
      "cell_type": "markdown",
      "metadata": {
        "colab_type": "text",
        "id": "_gKiO2weveob"
      },
      "source": [
        "\n",
        "(15) Create a new set `eset5` that includes values that are in both `eset1` and `eset2` (intersection).\n",
        "\n"
      ]
    },
    {
      "cell_type": "code",
      "metadata": {
        "colab_type": "code",
        "id": "-vehzEgxveoc",
        "colab": {}
      },
      "source": [
        "#<insert q15 code here>\n",
        "eset5 = eset1.intersection(eset2)"
      ],
      "execution_count": 0,
      "outputs": []
    },
    {
      "cell_type": "code",
      "metadata": {
        "colab_type": "code",
        "id": "-oR1AM5Sveoe",
        "colab": {
          "base_uri": "https://localhost:8080/",
          "height": 46
        },
        "outputId": "d2d02581-eab3-48f4-e29c-ac19f9beee99"
      },
      "source": [
        "_ = ok.grade('q15')"
      ],
      "execution_count": 29,
      "outputs": [
        {
          "output_type": "display_data",
          "data": {
            "text/html": [
              "\n",
              "    \n",
              "    \n",
              "        <p>All tests passed!</p>\n",
              "    \n",
              "    "
            ],
            "text/plain": [
              "<gofer.ok.OKTestsResult at 0x7f8c606355f8>"
            ]
          },
          "metadata": {
            "tags": []
          }
        }
      ]
    },
    {
      "cell_type": "markdown",
      "metadata": {
        "colab_type": "text",
        "id": "O77S6aEvveof"
      },
      "source": [
        "(16) Create a new dict `edict1` with the following keys and associated values: st1=45; st2=32; st3=40; st4=31.\n",
        "\n",
        "*Hint: There is a good section on dictionaries [here](https://docs.python.org/3/tutorial/datastructures.html#dictionaries).\n"
      ]
    },
    {
      "cell_type": "code",
      "metadata": {
        "colab_type": "code",
        "id": "dALoqnlmveog",
        "colab": {}
      },
      "source": [
        "#<insert q16 code here>\n",
        "\n",
        "#edict1 = {'st1':45, 'st2':32, 'st3':40, 'st4':31}\n",
        "edict1 = dict([('st1', 45), ('st2', 32), ('st3', 40), ('st4', 31)])\n"
      ],
      "execution_count": 0,
      "outputs": []
    },
    {
      "cell_type": "code",
      "metadata": {
        "colab_type": "code",
        "id": "iTa-j24Cveok",
        "colab": {
          "base_uri": "https://localhost:8080/",
          "height": 46
        },
        "outputId": "3c99bcf2-58e0-4a71-aa47-b4bdd2aee89e"
      },
      "source": [
        "_ = ok.grade('q16')"
      ],
      "execution_count": 31,
      "outputs": [
        {
          "output_type": "display_data",
          "data": {
            "text/html": [
              "\n",
              "    \n",
              "    \n",
              "        <p>All tests passed!</p>\n",
              "    \n",
              "    "
            ],
            "text/plain": [
              "<gofer.ok.OKTestsResult at 0x7f8c605c9048>"
            ]
          },
          "metadata": {
            "tags": []
          }
        }
      ]
    },
    {
      "cell_type": "markdown",
      "metadata": {
        "colab_type": "text",
        "id": "DPUG_c91veol"
      },
      "source": [
        "\n",
        "(17) Create a new variable `key1` where the value is equal to the value of dictionary edict1 with key `st3`."
      ]
    },
    {
      "cell_type": "code",
      "metadata": {
        "colab_type": "code",
        "id": "57DB91zWveom",
        "colab": {}
      },
      "source": [
        "#<insert q17 code here>\n",
        "key1 = edict1['st3']"
      ],
      "execution_count": 0,
      "outputs": []
    },
    {
      "cell_type": "code",
      "metadata": {
        "colab_type": "code",
        "id": "SI0poMQbveoo",
        "colab": {
          "base_uri": "https://localhost:8080/",
          "height": 46
        },
        "outputId": "55b96dbb-4a10-4f45-a714-b6c13ac72a9c"
      },
      "source": [
        "_ = ok.grade('q17')"
      ],
      "execution_count": 33,
      "outputs": [
        {
          "output_type": "display_data",
          "data": {
            "text/html": [
              "\n",
              "    \n",
              "    \n",
              "        <p>All tests passed!</p>\n",
              "    \n",
              "    "
            ],
            "text/plain": [
              "<gofer.ok.OKTestsResult at 0x7f8c605c9208>"
            ]
          },
          "metadata": {
            "tags": []
          }
        }
      ]
    },
    {
      "cell_type": "markdown",
      "metadata": {
        "colab_type": "text",
        "id": "WCTH_R82veou"
      },
      "source": [
        "# Exercise-Numpy Array\n",
        "\n",
        "(18) Create a new numpy array `nparray1` that is 3x3 and all the number 3 (should be integer type).\n",
        "\n"
      ]
    },
    {
      "cell_type": "code",
      "metadata": {
        "colab_type": "code",
        "id": "qP9SkH5Dveou",
        "colab": {}
      },
      "source": [
        "#<insert q18 code here>\n",
        "import numpy as np\n",
        "\n",
        "# nparray1 = np.full((3, 3), 3, dtype=int)\n",
        "nparray1 = 3* np.ones(shape=(3,3), dtype = int)\n"
      ],
      "execution_count": 0,
      "outputs": []
    },
    {
      "cell_type": "code",
      "metadata": {
        "colab_type": "code",
        "id": "e5KhrEPPveoy",
        "colab": {
          "base_uri": "https://localhost:8080/",
          "height": 46
        },
        "outputId": "8e0c40ce-f789-4171-852d-800dc86ae430"
      },
      "source": [
        "_ = ok.grade('q18')"
      ],
      "execution_count": 35,
      "outputs": [
        {
          "output_type": "display_data",
          "data": {
            "text/html": [
              "\n",
              "    \n",
              "    \n",
              "        <p>All tests passed!</p>\n",
              "    \n",
              "    "
            ],
            "text/plain": [
              "<gofer.ok.OKTestsResult at 0x7f8c605c95f8>"
            ]
          },
          "metadata": {
            "tags": []
          }
        }
      ]
    },
    {
      "cell_type": "markdown",
      "metadata": {
        "colab_type": "text",
        "id": "WIGePWRzveo0"
      },
      "source": [
        "\n",
        "(19) Create a new variable `nparray1sum` that sums all of column 0.\n"
      ]
    },
    {
      "cell_type": "code",
      "metadata": {
        "colab_type": "code",
        "id": "YszPYNJXveo1",
        "colab": {}
      },
      "source": [
        "#<insert q19 code here>\n",
        "nparray1sum = nparray1.sum(axis=0)[0]"
      ],
      "execution_count": 0,
      "outputs": []
    },
    {
      "cell_type": "code",
      "metadata": {
        "colab_type": "code",
        "id": "PStOnlUqveo3",
        "colab": {
          "base_uri": "https://localhost:8080/",
          "height": 46
        },
        "outputId": "ded9ef32-cbfa-46c9-f992-7c27cacfa5f1"
      },
      "source": [
        "_ = ok.grade('q19')"
      ],
      "execution_count": 37,
      "outputs": [
        {
          "output_type": "display_data",
          "data": {
            "text/html": [
              "\n",
              "    \n",
              "    \n",
              "        <p>All tests passed!</p>\n",
              "    \n",
              "    "
            ],
            "text/plain": [
              "<gofer.ok.OKTestsResult at 0x7f8c60635f98>"
            ]
          },
          "metadata": {
            "tags": []
          }
        }
      ]
    },
    {
      "cell_type": "markdown",
      "metadata": {
        "colab_type": "text",
        "id": "ewCdbT57veo6"
      },
      "source": [
        "(20) Create a new variable `nparray1mean` that takes the average of column 0.\n"
      ]
    },
    {
      "cell_type": "code",
      "metadata": {
        "colab_type": "code",
        "id": "kWYaDvQcveo7",
        "colab": {}
      },
      "source": [
        "#<insert q20 code here>\n",
        "\n",
        "nparray1mean = nparray1.mean(axis=0)[0]\n",
        "# nparray1mean = nparray1.sum(axis=0)[0] / np.size(nparray1, axis = 0)\n",
        "\n"
      ],
      "execution_count": 0,
      "outputs": []
    },
    {
      "cell_type": "code",
      "metadata": {
        "colab_type": "code",
        "id": "oglCgM9Sveo8",
        "colab": {
          "base_uri": "https://localhost:8080/",
          "height": 46
        },
        "outputId": "83e0462e-fb53-482c-eaf2-88fe46efc828"
      },
      "source": [
        "_ = ok.grade('q20')"
      ],
      "execution_count": 39,
      "outputs": [
        {
          "output_type": "display_data",
          "data": {
            "text/html": [
              "\n",
              "    \n",
              "    \n",
              "        <p>All tests passed!</p>\n",
              "    \n",
              "    "
            ],
            "text/plain": [
              "<gofer.ok.OKTestsResult at 0x7f8c605c9908>"
            ]
          },
          "metadata": {
            "tags": []
          }
        }
      ]
    },
    {
      "cell_type": "markdown",
      "metadata": {
        "colab_type": "text",
        "id": "hPwkZIFjvepK"
      },
      "source": [
        "(21) Create a new numpy array `nparray2` that selects only column 1 of `nparray1` (all rows).\n"
      ]
    },
    {
      "cell_type": "code",
      "metadata": {
        "colab_type": "code",
        "id": "_u87TQAWvepM",
        "colab": {}
      },
      "source": [
        "#<insert q21 code here>\n",
        "\n",
        "nparray2 = nparray1[:, 0:1]\n"
      ],
      "execution_count": 0,
      "outputs": []
    },
    {
      "cell_type": "code",
      "metadata": {
        "colab_type": "code",
        "id": "AaITgUOdvepP",
        "colab": {
          "base_uri": "https://localhost:8080/",
          "height": 46
        },
        "outputId": "6935eeef-4a24-400d-cd2e-2441a714c618"
      },
      "source": [
        "_ = ok.grade('q21')"
      ],
      "execution_count": 41,
      "outputs": [
        {
          "output_type": "display_data",
          "data": {
            "text/html": [
              "\n",
              "    \n",
              "    \n",
              "        <p>All tests passed!</p>\n",
              "    \n",
              "    "
            ],
            "text/plain": [
              "<gofer.ok.OKTestsResult at 0x7f8c605c90f0>"
            ]
          },
          "metadata": {
            "tags": []
          }
        }
      ]
    },
    {
      "cell_type": "markdown",
      "metadata": {
        "colab_type": "text",
        "id": "DB3DOnfJvepR"
      },
      "source": [
        "(22) Create a new numpy array `nparray3` that is equal to `nparray1` times `2` (you should not alter `nparray1`).\n"
      ]
    },
    {
      "cell_type": "code",
      "metadata": {
        "colab_type": "code",
        "id": "nh46rOKIvepR",
        "colab": {}
      },
      "source": [
        "#<insert q22 code here>\n",
        "nparray3 = 2 * nparray1.copy()\n"
      ],
      "execution_count": 0,
      "outputs": []
    },
    {
      "cell_type": "code",
      "metadata": {
        "colab_type": "code",
        "id": "QqoCpcgGvepT",
        "colab": {
          "base_uri": "https://localhost:8080/",
          "height": 46
        },
        "outputId": "4aea1089-419b-4525-bd3a-22d153f1b6a3"
      },
      "source": [
        "_ = ok.grade('q22')"
      ],
      "execution_count": 43,
      "outputs": [
        {
          "output_type": "display_data",
          "data": {
            "text/html": [
              "\n",
              "    \n",
              "    \n",
              "        <p>All tests passed!</p>\n",
              "    \n",
              "    "
            ],
            "text/plain": [
              "<gofer.ok.OKTestsResult at 0x7f8c60635ef0>"
            ]
          },
          "metadata": {
            "tags": []
          }
        }
      ]
    },
    {
      "cell_type": "markdown",
      "metadata": {
        "colab_type": "text",
        "id": "AcHYqDoJvepW"
      },
      "source": [
        "(23) Create a new numpy array nparray4 that is a verticle stack of `nparray1` and `nparray3`."
      ]
    },
    {
      "cell_type": "code",
      "metadata": {
        "colab_type": "code",
        "id": "UIdFzHX2vepW",
        "colab": {}
      },
      "source": [
        "#<insert q23 code here>\n",
        "nparray4 = np.vstack([nparray1, nparray3])\n",
        "\n"
      ],
      "execution_count": 0,
      "outputs": []
    },
    {
      "cell_type": "code",
      "metadata": {
        "colab_type": "code",
        "id": "fRdhG2Qlvepg",
        "colab": {
          "base_uri": "https://localhost:8080/",
          "height": 46
        },
        "outputId": "5388e737-627a-4243-d81c-b6a765b4042d"
      },
      "source": [
        "_ = ok.grade('q23')"
      ],
      "execution_count": 45,
      "outputs": [
        {
          "output_type": "display_data",
          "data": {
            "text/html": [
              "\n",
              "    \n",
              "    \n",
              "        <p>All tests passed!</p>\n",
              "    \n",
              "    "
            ],
            "text/plain": [
              "<gofer.ok.OKTestsResult at 0x7f8c605c9550>"
            ]
          },
          "metadata": {
            "tags": []
          }
        }
      ]
    },
    {
      "cell_type": "markdown",
      "metadata": {
        "colab_type": "text",
        "id": "ezfqNhP7vepj"
      },
      "source": [
        "## Exercise-Pandas\n",
        "\n",
        "For these you will need to import the iris dataset. You should find the file `iris.csv` in the main directory.  \n",
        "\n",
        "While we showed 2 ways of importing a csv, you should use the `read_csv` method of Pandas to load the csv into a dataframe called `df`. \n"
      ]
    },
    {
      "cell_type": "code",
      "metadata": {
        "colab_type": "code",
        "id": "vV8phxSrvepm",
        "colab": {}
      },
      "source": [
        "#Load iris.csv into a Pandas dataframe df here.\n",
        "#Check out the first few rows with the head command. \n",
        "\n",
        "import pandas as pd\n",
        "\n",
        "df = pd.read_csv('iris.csv')\n",
        "\n"
      ],
      "execution_count": 0,
      "outputs": []
    },
    {
      "cell_type": "markdown",
      "metadata": {
        "colab_type": "text",
        "id": "9a38atU5vepo"
      },
      "source": [
        "(24) Create a variable `df_rows` that includes the number of rows in the `df` dataframe."
      ]
    },
    {
      "cell_type": "code",
      "metadata": {
        "colab_type": "code",
        "id": "aHJFJBLwvepo",
        "colab": {}
      },
      "source": [
        "#<insert q24 code here>\n",
        "\n",
        "# df_rows = df.count(axis=0)[0]\n",
        "df_rows = df.shape[0]"
      ],
      "execution_count": 0,
      "outputs": []
    },
    {
      "cell_type": "code",
      "metadata": {
        "colab_type": "code",
        "id": "ocyOMCMcvepr",
        "colab": {
          "base_uri": "https://localhost:8080/",
          "height": 46
        },
        "outputId": "fe7598b0-a273-4c99-9d77-7286a994cf33"
      },
      "source": [
        "_ = ok.grade('q24')"
      ],
      "execution_count": 48,
      "outputs": [
        {
          "output_type": "display_data",
          "data": {
            "text/html": [
              "\n",
              "    \n",
              "    \n",
              "        <p>All tests passed!</p>\n",
              "    \n",
              "    "
            ],
            "text/plain": [
              "<gofer.ok.OKTestsResult at 0x7f8c827efb00>"
            ]
          },
          "metadata": {
            "tags": []
          }
        }
      ]
    },
    {
      "cell_type": "markdown",
      "metadata": {
        "colab_type": "text",
        "id": "5HIEmJJ7vept"
      },
      "source": [
        "(25) Create a new dataframe `df_train` that includes the first half of the `df` dataframe. Create a new dataframe `df_test` that includes the second half. "
      ]
    },
    {
      "cell_type": "code",
      "metadata": {
        "colab_type": "code",
        "id": "m94FHotyvepu",
        "colab": {}
      },
      "source": [
        "#<insert q25 code here>\n",
        "\n",
        "df_train = df[0: (int(df_rows/2))]\n",
        "df_test = df[(int(df_rows/2)):]\n",
        "\n"
      ],
      "execution_count": 0,
      "outputs": []
    },
    {
      "cell_type": "code",
      "metadata": {
        "colab_type": "code",
        "id": "hxI3G7FZvepv",
        "colab": {
          "base_uri": "https://localhost:8080/",
          "height": 46
        },
        "outputId": "d707f3bf-7c79-48d2-d66e-8d5cc6d1750b"
      },
      "source": [
        "_ = ok.grade('q25')"
      ],
      "execution_count": 50,
      "outputs": [
        {
          "output_type": "display_data",
          "data": {
            "text/html": [
              "\n",
              "    \n",
              "    \n",
              "        <p>All tests passed!</p>\n",
              "    \n",
              "    "
            ],
            "text/plain": [
              "<gofer.ok.OKTestsResult at 0x7f8c7df87fd0>"
            ]
          },
          "metadata": {
            "tags": []
          }
        }
      ]
    },
    {
      "cell_type": "markdown",
      "metadata": {
        "colab_type": "text",
        "id": "zEAb8ANfvepw"
      },
      "source": [
        "(26) Create a new Pandas Series `sepal_length` from the `sepal_length` column of the df dataframe."
      ]
    },
    {
      "cell_type": "code",
      "metadata": {
        "colab_type": "code",
        "id": "esdxPPVRvepw",
        "colab": {}
      },
      "source": [
        "#<insert q26 code here>\n",
        "\n",
        "sepal_length = pd.Series(df['sepal_length'])\n",
        "\n"
      ],
      "execution_count": 0,
      "outputs": []
    },
    {
      "cell_type": "code",
      "metadata": {
        "colab_type": "code",
        "id": "QDepO9byvepx",
        "colab": {
          "base_uri": "https://localhost:8080/",
          "height": 46
        },
        "outputId": "64fa3ad8-b371-4c9a-c7fb-a23103c169a8"
      },
      "source": [
        "_ = ok.grade('q26')"
      ],
      "execution_count": 52,
      "outputs": [
        {
          "output_type": "display_data",
          "data": {
            "text/html": [
              "\n",
              "    \n",
              "    \n",
              "        <p>All tests passed!</p>\n",
              "    \n",
              "    "
            ],
            "text/plain": [
              "<gofer.ok.OKTestsResult at 0x7f8c605c9208>"
            ]
          },
          "metadata": {
            "tags": []
          }
        }
      ]
    },
    {
      "cell_type": "markdown",
      "metadata": {
        "colab_type": "text",
        "id": "o_werxT-veqZ"
      },
      "source": [
        "\n",
        "(27) Using, the Iris dataset, find the mean of the `sepal_length` series in our sample and assign it to the `sepal_length_mean` variable. You should round the result to 3 digits after the decimal. \n",
        "\n",
        "```\n",
        "#Round example\n",
        "a=99.9999999999999\n",
        "#For example, the following will round a to 2 digits.\n",
        "b = round(a,2)   \n",
        "\n",
        "```"
      ]
    },
    {
      "cell_type": "code",
      "metadata": {
        "colab_type": "code",
        "id": "saURdNtTveqZ",
        "colab": {}
      },
      "source": [
        "#<insert q27 code here>\n",
        "\n",
        "sepal_length_mean = round(sepal_length.mean(), 3)\n"
      ],
      "execution_count": 0,
      "outputs": []
    },
    {
      "cell_type": "code",
      "metadata": {
        "colab_type": "code",
        "id": "Iof0VHXhveqa",
        "colab": {
          "base_uri": "https://localhost:8080/",
          "height": 46
        },
        "outputId": "f7d94793-ce86-480f-c80b-90083360100a"
      },
      "source": [
        "_ = ok.grade('q27')"
      ],
      "execution_count": 54,
      "outputs": [
        {
          "output_type": "display_data",
          "data": {
            "text/html": [
              "\n",
              "    \n",
              "    \n",
              "        <p>All tests passed!</p>\n",
              "    \n",
              "    "
            ],
            "text/plain": [
              "<gofer.ok.OKTestsResult at 0x7f8c60151358>"
            ]
          },
          "metadata": {
            "tags": []
          }
        }
      ]
    },
    {
      "cell_type": "markdown",
      "metadata": {
        "colab_type": "text",
        "id": "olb4NJhXveqg"
      },
      "source": [
        "## Enter your Information\n",
        "Enter your information.  This will run all tests to make sure that the assignment is complete. "
      ]
    },
    {
      "cell_type": "code",
      "metadata": {
        "colab_type": "code",
        "id": "qEOFiseYveqh",
        "colab": {}
      },
      "source": [
        "course=\"mgmt6560\"   #course number\n",
        "section=\"01\"          #section \n",
        "first_name=\"Jiarun\"   #For example, \"jason\"\n",
        "last_name=\"Li\"    #For example, \"kuruzovich\"\n",
        "student_id=\"lij44\"       #for example \"kuruzj\"\n",
        "student_email=\"lij44@rpi.edu\"    #for example \"kuruzj@rpi.edu\"\n",
        "collaborators = \"\"  #You can speak with others regarding the assignment, but all typed work must be your own."
      ],
      "execution_count": 0,
      "outputs": []
    },
    {
      "cell_type": "code",
      "metadata": {
        "colab_type": "code",
        "id": "XAFY3Ibsveqi",
        "colab": {
          "base_uri": "https://localhost:8080/",
          "height": 598
        },
        "outputId": "5c016d41-91b9-4207-e4b8-495cbc244aa9"
      },
      "source": [
        "#This runs all tests. \n",
        "import os\n",
        "_ = [ok.grade(q[:-3]) for q in os.listdir(\"tests\") if q.startswith('q')]"
      ],
      "execution_count": 56,
      "outputs": [
        {
          "output_type": "display_data",
          "data": {
            "text/html": [
              "\n",
              "    \n",
              "    \n",
              "        <p>All tests passed!</p>\n",
              "    \n",
              "    "
            ],
            "text/plain": [
              "<gofer.ok.OKTestsResult at 0x7f8c6016e0f0>"
            ]
          },
          "metadata": {
            "tags": []
          }
        },
        {
          "output_type": "display_data",
          "data": {
            "text/html": [
              "\n",
              "    \n",
              "    \n",
              "        <p>All tests passed!</p>\n",
              "    \n",
              "    "
            ],
            "text/plain": [
              "<gofer.ok.OKTestsResult at 0x7f8c6016e278>"
            ]
          },
          "metadata": {
            "tags": []
          }
        },
        {
          "output_type": "display_data",
          "data": {
            "text/html": [
              "\n",
              "    \n",
              "    \n",
              "        <p>All tests passed!</p>\n",
              "    \n",
              "    "
            ],
            "text/plain": [
              "<gofer.ok.OKTestsResult at 0x7f8c6016e2e8>"
            ]
          },
          "metadata": {
            "tags": []
          }
        },
        {
          "output_type": "display_data",
          "data": {
            "text/html": [
              "\n",
              "    \n",
              "    \n",
              "        <p>All tests passed!</p>\n",
              "    \n",
              "    "
            ],
            "text/plain": [
              "<gofer.ok.OKTestsResult at 0x7f8c6016e1d0>"
            ]
          },
          "metadata": {
            "tags": []
          }
        },
        {
          "output_type": "display_data",
          "data": {
            "text/html": [
              "\n",
              "    \n",
              "    \n",
              "        <p>All tests passed!</p>\n",
              "    \n",
              "    "
            ],
            "text/plain": [
              "<gofer.ok.OKTestsResult at 0x7f8c6016e390>"
            ]
          },
          "metadata": {
            "tags": []
          }
        },
        {
          "output_type": "display_data",
          "data": {
            "text/html": [
              "\n",
              "    \n",
              "    \n",
              "        <p>All tests passed!</p>\n",
              "    \n",
              "    "
            ],
            "text/plain": [
              "<gofer.ok.OKTestsResult at 0x7f8c6016e4a8>"
            ]
          },
          "metadata": {
            "tags": []
          }
        },
        {
          "output_type": "display_data",
          "data": {
            "text/html": [
              "\n",
              "    \n",
              "    \n",
              "        <p>All tests passed!</p>\n",
              "    \n",
              "    "
            ],
            "text/plain": [
              "<gofer.ok.OKTestsResult at 0x7f8c6016e4e0>"
            ]
          },
          "metadata": {
            "tags": []
          }
        },
        {
          "output_type": "display_data",
          "data": {
            "text/html": [
              "\n",
              "    \n",
              "    \n",
              "        <p>All tests passed!</p>\n",
              "    \n",
              "    "
            ],
            "text/plain": [
              "<gofer.ok.OKTestsResult at 0x7f8c6016e6d8>"
            ]
          },
          "metadata": {
            "tags": []
          }
        },
        {
          "output_type": "display_data",
          "data": {
            "text/html": [
              "\n",
              "    \n",
              "    \n",
              "        <p>All tests passed!</p>\n",
              "    \n",
              "    "
            ],
            "text/plain": [
              "<gofer.ok.OKTestsResult at 0x7f8c6016e5c0>"
            ]
          },
          "metadata": {
            "tags": []
          }
        },
        {
          "output_type": "display_data",
          "data": {
            "text/html": [
              "\n",
              "    \n",
              "    \n",
              "        <p>All tests passed!</p>\n",
              "    \n",
              "    "
            ],
            "text/plain": [
              "<gofer.ok.OKTestsResult at 0x7f8c6016e198>"
            ]
          },
          "metadata": {
            "tags": []
          }
        },
        {
          "output_type": "display_data",
          "data": {
            "text/html": [
              "\n",
              "    \n",
              "    \n",
              "        <p>All tests passed!</p>\n",
              "    \n",
              "    "
            ],
            "text/plain": [
              "<gofer.ok.OKTestsResult at 0x7f8c6016e860>"
            ]
          },
          "metadata": {
            "tags": []
          }
        },
        {
          "output_type": "display_data",
          "data": {
            "text/html": [
              "\n",
              "    \n",
              "    \n",
              "        <p>All tests passed!</p>\n",
              "    \n",
              "    "
            ],
            "text/plain": [
              "<gofer.ok.OKTestsResult at 0x7f8c6016e828>"
            ]
          },
          "metadata": {
            "tags": []
          }
        },
        {
          "output_type": "display_data",
          "data": {
            "text/html": [
              "\n",
              "    \n",
              "    \n",
              "        <p>All tests passed!</p>\n",
              "    \n",
              "    "
            ],
            "text/plain": [
              "<gofer.ok.OKTestsResult at 0x7f8c6016e940>"
            ]
          },
          "metadata": {
            "tags": []
          }
        },
        {
          "output_type": "display_data",
          "data": {
            "text/html": [
              "\n",
              "    \n",
              "    \n",
              "        <p>All tests passed!</p>\n",
              "    \n",
              "    "
            ],
            "text/plain": [
              "<gofer.ok.OKTestsResult at 0x7f8c6016e5f8>"
            ]
          },
          "metadata": {
            "tags": []
          }
        },
        {
          "output_type": "display_data",
          "data": {
            "text/html": [
              "\n",
              "    \n",
              "    \n",
              "        <p>All tests passed!</p>\n",
              "    \n",
              "    "
            ],
            "text/plain": [
              "<gofer.ok.OKTestsResult at 0x7f8c6016e9e8>"
            ]
          },
          "metadata": {
            "tags": []
          }
        },
        {
          "output_type": "display_data",
          "data": {
            "text/html": [
              "\n",
              "    \n",
              "    \n",
              "        <p>All tests passed!</p>\n",
              "    \n",
              "    "
            ],
            "text/plain": [
              "<gofer.ok.OKTestsResult at 0x7f8c6016eb00>"
            ]
          },
          "metadata": {
            "tags": []
          }
        },
        {
          "output_type": "display_data",
          "data": {
            "text/html": [
              "\n",
              "    \n",
              "    \n",
              "        <p>All tests passed!</p>\n",
              "    \n",
              "    "
            ],
            "text/plain": [
              "<gofer.ok.OKTestsResult at 0x7f8c6016eb70>"
            ]
          },
          "metadata": {
            "tags": []
          }
        },
        {
          "output_type": "display_data",
          "data": {
            "text/html": [
              "\n",
              "    \n",
              "    \n",
              "        <p>All tests passed!</p>\n",
              "    \n",
              "    "
            ],
            "text/plain": [
              "<gofer.ok.OKTestsResult at 0x7f8c6016eb38>"
            ]
          },
          "metadata": {
            "tags": []
          }
        },
        {
          "output_type": "display_data",
          "data": {
            "text/html": [
              "\n",
              "    \n",
              "    \n",
              "        <p>All tests passed!</p>\n",
              "    \n",
              "    "
            ],
            "text/plain": [
              "<gofer.ok.OKTestsResult at 0x7f8c6016e668>"
            ]
          },
          "metadata": {
            "tags": []
          }
        },
        {
          "output_type": "display_data",
          "data": {
            "text/html": [
              "\n",
              "    \n",
              "    \n",
              "        <p>All tests passed!</p>\n",
              "    \n",
              "    "
            ],
            "text/plain": [
              "<gofer.ok.OKTestsResult at 0x7f8c6016e2b0>"
            ]
          },
          "metadata": {
            "tags": []
          }
        },
        {
          "output_type": "display_data",
          "data": {
            "text/html": [
              "\n",
              "    \n",
              "    \n",
              "        <p>All tests passed!</p>\n",
              "    \n",
              "    "
            ],
            "text/plain": [
              "<gofer.ok.OKTestsResult at 0x7f8c6016ec88>"
            ]
          },
          "metadata": {
            "tags": []
          }
        },
        {
          "output_type": "display_data",
          "data": {
            "text/html": [
              "\n",
              "    \n",
              "    \n",
              "        <p>All tests passed!</p>\n",
              "    \n",
              "    "
            ],
            "text/plain": [
              "<gofer.ok.OKTestsResult at 0x7f8c6016ecf8>"
            ]
          },
          "metadata": {
            "tags": []
          }
        },
        {
          "output_type": "display_data",
          "data": {
            "text/html": [
              "\n",
              "    \n",
              "    \n",
              "        <p>All tests passed!</p>\n",
              "    \n",
              "    "
            ],
            "text/plain": [
              "<gofer.ok.OKTestsResult at 0x7f8c6016e908>"
            ]
          },
          "metadata": {
            "tags": []
          }
        },
        {
          "output_type": "display_data",
          "data": {
            "text/html": [
              "\n",
              "    \n",
              "    \n",
              "        <p>All tests passed!</p>\n",
              "    \n",
              "    "
            ],
            "text/plain": [
              "<gofer.ok.OKTestsResult at 0x7f8c6016ecc0>"
            ]
          },
          "metadata": {
            "tags": []
          }
        },
        {
          "output_type": "display_data",
          "data": {
            "text/html": [
              "\n",
              "    \n",
              "    \n",
              "        <p>All tests passed!</p>\n",
              "    \n",
              "    "
            ],
            "text/plain": [
              "<gofer.ok.OKTestsResult at 0x7f8c6016ed68>"
            ]
          },
          "metadata": {
            "tags": []
          }
        }
      ]
    }
  ]
}