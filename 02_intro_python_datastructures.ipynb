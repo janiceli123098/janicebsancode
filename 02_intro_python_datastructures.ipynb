{
  "nbformat": 4,
  "nbformat_minor": 0,
  "metadata": {
    "anaconda-cloud": {},
    "celltoolbar": "Slideshow",
    "kernelspec": {
      "display_name": "Python 3",
      "language": "python",
      "name": "python3"
    },
    "language_info": {
      "codemirror_mode": {
        "name": "ipython",
        "version": 3
      },
      "file_extension": ".py",
      "mimetype": "text/x-python",
      "name": "python",
      "nbconvert_exporter": "python",
      "pygments_lexer": "ipython3",
      "version": "3.6.3"
    },
    "colab": {
      "name": "02-intro-python-datastructures.ipynb",
      "version": "0.3.2",
      "provenance": []
    }
  },
  "cells": [
    {
      "cell_type": "markdown",
      "metadata": {
        "id": "IZ7gPB5e3fCJ",
        "colab_type": "text"
      },
      "source": [
        "[![AnalyticsDojo](https://github.com/RPI-DATA/course-intro-ml-app/blob/master/content/notebooks/fig/final-logo.png?raw=1)](http://rpi.analyticsdojo.com)\n",
        "<center><h1>Introduction to Python - Datastructures</h1></center>\n",
        "<center><h3><a href = 'http://rpi.analyticsdojo.com'>rpi.analyticsdojo.com</a></h3></center>\n",
        "\n"
      ]
    },
    {
      "cell_type": "markdown",
      "metadata": {
        "id": "WvGgFVPX3fCL",
        "colab_type": "text"
      },
      "source": [
        "# Overview\n",
        "Common to R and Python\n",
        "- Variables\n",
        "- Opearations on Numeric and String Variables\n",
        "- Lists\n",
        "\n",
        "Python Only\n",
        "- Dictionaries\n",
        "- Sets\n",
        "\n"
      ]
    },
    {
      "cell_type": "markdown",
      "metadata": {
        "id": "C24CiYxt3fCM",
        "colab_type": "text"
      },
      "source": [
        "## Variables\n",
        "- Single value\n",
        "- Strings, Integer, Floats and boolean are the most common types of variables.\n",
        "- Remember, under the covers they are all objects.\n",
        "- Multiple variables can be output with the `print()` statement. \n",
        "- `\\t` can be used to add a tab while `\\n` can input a new line."
      ]
    },
    {
      "cell_type": "code",
      "metadata": {
        "id": "rgqnKjx43fCN",
        "colab_type": "code",
        "colab": {},
        "outputId": "f67c3723-4789-47e6-fc9c-782a43c8618e"
      },
      "source": [
        "a = '#pythonrules' # string\n",
        "b = 30              # integer\n",
        "c = True            # boolean\n",
        "\n",
        "#This prints (1) only the variables, (2) with labels, (3) including tabs, and (4) with new lines.\n",
        "print('1:', a,  b, c)\n",
        "print('2:','String:', a, 'Integer:', b, 'Boolean:', c)\n",
        "print('3:','String:', a, '\\tInteger:', b, '\\tBoolean:', c)\n",
        "print('4a:','String:', a, '\\n4b: Integer:', b, '\\n4c: Boolean:', c)\n",
        "print(a+str(b))"
      ],
      "execution_count": 0,
      "outputs": [
        {
          "output_type": "stream",
          "text": [
            "1: #pythonrules 30 True\n",
            "2: String: #pythonrules Integer: 30 Boolean: True\n",
            "3: String: #pythonrules \tInteger: 30 \tBoolean: True\n",
            "4a: String: #pythonrules \n",
            "4b: Integer: 30 \n",
            "4c: Boolean: True\n",
            "#pythonrules30\n"
          ],
          "name": "stdout"
        }
      ]
    },
    {
      "cell_type": "markdown",
      "metadata": {
        "id": "VcYVAabB3fCR",
        "colab_type": "text"
      },
      "source": [
        "## Variable Type (continued)\n",
        "- In Python when we write `b = 30` this means the value of `30` is assigned to the `b` object. \n",
        "- Python is a [dynamically typed](https://pythonconquerstheuniverse.wordpress.com/2009/10/03/static-vs-dynamic-typing-of-programming-languages/).\n",
        "- Unlike some languages, we don't have to declare the type of a variable before using it. \n",
        "- Variable type can also change with the reassignment of a variable. \n",
        "\n"
      ]
    },
    {
      "cell_type": "code",
      "metadata": {
        "id": "aHlEXEnO3fCR",
        "colab_type": "code",
        "colab": {},
        "outputId": "7dc0cd43-5382-435d-ab77-530a8d6e5c4d"
      },
      "source": [
        "a = 1\n",
        "print ('The value of a is ', a,  'and type ', type(a) )\n",
        "\n",
        "a = 2.5\n",
        "print ('Now the value of a is ', a,  'and type ', type(a) )\n",
        "\n",
        "a = 'hello there'\n",
        "print ('Now the value of a is ', a,  'and of type ', type(a) )"
      ],
      "execution_count": 0,
      "outputs": [
        {
          "output_type": "stream",
          "text": [
            "The value of a is  1 and type  <class 'int'>\n",
            "Now the value of a is  2.5 and type  <class 'float'>\n",
            "Now the value of a is  hello there and of type  <class 'str'>\n"
          ],
          "name": "stdout"
        }
      ]
    },
    {
      "cell_type": "markdown",
      "metadata": {
        "id": "bbEVtx1W3fCU",
        "colab_type": "text"
      },
      "source": [
        "## Variable Type (continued)\n",
        "\n",
        "- _Variables_ themselves do not have a fixed type.\n",
        "- It is only the values that they refer to that have an associated _type_.\n",
        "- This means that the type referred to by a variable can change as more statements are interpreted.\n",
        "- If we combine types incorrectly we get an error. "
      ]
    },
    {
      "cell_type": "code",
      "metadata": {
        "id": "jVzg-FAs3fCV",
        "colab_type": "code",
        "colab": {},
        "outputId": "aa8b94a1-3a83-41b6-a7f6-445097730bcc"
      },
      "source": [
        "#We can't add 5 to a \n",
        "b = 'string variable'\n",
        "c=b+5\n",
        "c"
      ],
      "execution_count": 0,
      "outputs": [
        {
          "output_type": "execute_result",
          "data": {
            "text/plain": [
              "'string variable5'"
            ]
          },
          "metadata": {
            "tags": []
          },
          "execution_count": 7
        }
      ]
    },
    {
      "cell_type": "markdown",
      "metadata": {
        "id": "TyNxRixk3fCY",
        "colab_type": "text"
      },
      "source": [
        "# The `type` Function\n",
        "\n",
        "- We can query the type of a value using the `type` function.\n",
        "- Variables can be reassigned to a different type. \n",
        "- There are integer, floating point, and complex number [numeric types](https://docs.python.org/3/library/stdtypes.html#numeric-types-int-float-complex).\n",
        "- Boolean is a special type of integer."
      ]
    },
    {
      "cell_type": "code",
      "metadata": {
        "id": "5fqUWzoN3fCY",
        "colab_type": "code",
        "colab": {},
        "outputId": "0962dce3-19f7-4685-ba86-2ba929b7844f"
      },
      "source": [
        "a = 1\n",
        "type(a)"
      ],
      "execution_count": 0,
      "outputs": [
        {
          "output_type": "execute_result",
          "data": {
            "text/plain": [
              "int"
            ]
          },
          "metadata": {
            "tags": []
          },
          "execution_count": 8
        }
      ]
    },
    {
      "cell_type": "code",
      "metadata": {
        "id": "a3uLvMYL3fCa",
        "colab_type": "code",
        "colab": {},
        "outputId": "a494082f-f50c-480d-e5f3-28485c6bfae2"
      },
      "source": [
        "a = 'hello'\n",
        "type(a)"
      ],
      "execution_count": 0,
      "outputs": [
        {
          "output_type": "execute_result",
          "data": {
            "text/plain": [
              "str"
            ]
          },
          "metadata": {
            "tags": []
          },
          "execution_count": 9
        }
      ]
    },
    {
      "cell_type": "code",
      "metadata": {
        "id": "rAbXuob83fCd",
        "colab_type": "code",
        "colab": {},
        "outputId": "8e00eaff-6d45-47bb-a288-31df1d323069"
      },
      "source": [
        "a=2.5\n",
        "type(a)"
      ],
      "execution_count": 0,
      "outputs": [
        {
          "output_type": "execute_result",
          "data": {
            "text/plain": [
              "float"
            ]
          },
          "metadata": {
            "tags": []
          },
          "execution_count": 10
        }
      ]
    },
    {
      "cell_type": "code",
      "metadata": {
        "id": "79kwdeRK3fCf",
        "colab_type": "code",
        "colab": {},
        "outputId": "ed27f60b-12a2-4211-d6f3-b800c22f7814"
      },
      "source": [
        "a=True\n",
        "type(a)"
      ],
      "execution_count": 0,
      "outputs": [
        {
          "output_type": "execute_result",
          "data": {
            "text/plain": [
              "bool"
            ]
          },
          "metadata": {
            "tags": []
          },
          "execution_count": 11
        }
      ]
    },
    {
      "cell_type": "markdown",
      "metadata": {
        "id": "umvOf3ss3fCh",
        "colab_type": "text"
      },
      "source": [
        "# Converting Values Between Types\n",
        "\n",
        "- We can convert values between different types.\n",
        "- To convert to string use the `str()` function.\n",
        "- To convert to floating-point use the `float()` function.\n",
        "- To convert to an integer use the `int()` function.\n",
        "- To convert to a boolean use the `bool()` function.\n"
      ]
    },
    {
      "cell_type": "code",
      "metadata": {
        "id": "PPRBXEms3fCj",
        "colab_type": "code",
        "colab": {},
        "outputId": "aca02b42-34e3-4198-d357-6d9db790508f"
      },
      "source": [
        "a = 1\n",
        "print(a, type(a))\n",
        "\n",
        "a = str(a)\n",
        "print (a, type(a))\n",
        "\n",
        "a = float(a)\n",
        "print (a, type(a))\n",
        "\n",
        "a = int(a)\n",
        "print (a, type(a))"
      ],
      "execution_count": 0,
      "outputs": [
        {
          "output_type": "stream",
          "text": [
            "1 <class 'int'>\n",
            "1 <class 'str'>\n",
            "1.0 <class 'float'>\n",
            "1 <class 'int'>\n"
          ],
          "name": "stdout"
        }
      ]
    },
    {
      "cell_type": "markdown",
      "metadata": {
        "id": "U7SvIe6w3fCo",
        "colab_type": "text"
      },
      "source": [
        "# Converting Values Between Types (Continued)\n",
        "- To convert to a boolean use the `bool()` function.\n",
        "- `bool` can work with a String type that is `True` or `False`\n",
        "- `bool` can work with an integer type that is `1` for `True` or `0` for `False`"
      ]
    },
    {
      "cell_type": "code",
      "metadata": {
        "id": "mg0nphmE3fCp",
        "colab_type": "code",
        "colab": {},
        "outputId": "6e0909ed-6580-4de5-8fb3-5a8bc5598f1a"
      },
      "source": [
        "b = 'True'\n",
        "print (b, type(b))\n",
        "\n",
        "b = bool(b)\n",
        "print (b, type(b))\n",
        "\n",
        "c = 1\n",
        "c= bool(c)\n",
        "print (c, type(c))\n",
        "\n",
        "d = 0\n",
        "d= bool(d)\n",
        "print (d, type(d))"
      ],
      "execution_count": 0,
      "outputs": [
        {
          "output_type": "stream",
          "text": [
            "True <class 'str'>\n",
            "True <class 'bool'>\n",
            "True <class 'bool'>\n",
            "False <class 'bool'>\n"
          ],
          "name": "stdout"
        }
      ]
    },
    {
      "cell_type": "markdown",
      "metadata": {
        "id": "7FnY6uCq3fCs",
        "colab_type": "text"
      },
      "source": [
        "# Null Values\n",
        "\n",
        "- Sometimes we represent \"no data\" or \"not applicable\".  \n",
        "- In Python we use the special value `None`.\n",
        "- This corresponds to `NA` in R of `Null` in Java/SQL.\n",
        "- When we print the value `None` is printed. \n",
        "- If we enter the variable, no result is printed out.\n"
      ]
    },
    {
      "cell_type": "code",
      "metadata": {
        "id": "q1wh61v_3fCs",
        "colab_type": "code",
        "colab": {},
        "outputId": "fca9e4b0-d174-46a8-bdf9-c5ef384e29f4"
      },
      "source": [
        "a = None\n",
        "print(a)\n"
      ],
      "execution_count": 0,
      "outputs": [
        {
          "output_type": "stream",
          "text": [
            "None\n"
          ],
          "name": "stdout"
        }
      ]
    },
    {
      "cell_type": "code",
      "metadata": {
        "id": "NKclZ9JF3fCv",
        "colab_type": "code",
        "colab": {}
      },
      "source": [
        "#Notice nothing is printed.\n",
        "a"
      ],
      "execution_count": 0,
      "outputs": []
    },
    {
      "cell_type": "markdown",
      "metadata": {
        "id": "R4knOUza3fCw",
        "colab_type": "text"
      },
      "source": [
        "## Operations on Numeric Variables\n",
        "- Python can be used as a basic calculator.\n",
        "- Check out this associated [tutorial](https://docs.python.org/3/tutorial/introduction.html#using-python-as-a-calculator)."
      ]
    },
    {
      "cell_type": "code",
      "metadata": {
        "id": "g0mkD-3V3fCw",
        "colab_type": "code",
        "colab": {},
        "outputId": "ce0bce07-9f11-4cb6-f00e-11c82c88ff9d"
      },
      "source": [
        "print('Addition:', 53 + 5)\n",
        "print('Multiplication:', 53 * 5)\n",
        "print('Subtraction:', 53 - 5)\n",
        "print('Division', 53 / 5 )\n",
        "print('Floor Division (discards the fractional part)', 53 // 5 )\n",
        "print('Floor Division (returns the remainder)', 53 % 5 )\n",
        "print('Exponents:', 5 ** 2 )"
      ],
      "execution_count": 0,
      "outputs": [
        {
          "output_type": "stream",
          "text": [
            "Addition: 58\n",
            "Multiplication: 265\n",
            "Subtraction: 48\n",
            "Division 10.6\n",
            "Floor Division (discards the fractional part) 10\n",
            "Floor Division (returns the remainder) 3\n",
            "Exponents: 25\n"
          ],
          "name": "stdout"
        }
      ]
    },
    {
      "cell_type": "markdown",
      "metadata": {
        "id": "fspdKU4H3fCy",
        "colab_type": "text"
      },
      "source": [
        "## Operations on String Variables\n",
        "- Just as we can do numeric operations, we can also do operations on strings.\n",
        "- Concatentate Strings \n",
        "- A *backslash* is used as an escape variable.\n",
        "- More info on this [tutorial](https://docs.python.org/3/tutorial/introduction.html#using-python-as-a-calculator)."
      ]
    },
    {
      "cell_type": "code",
      "metadata": {
        "id": "VwA5WRDq3fCz",
        "colab_type": "code",
        "colab": {},
        "outputId": "41bf44df-318c-43d8-ca30-54696a48d506"
      },
      "source": [
        "a='Start'\n",
        "b='End'\n",
        "tab='\\t'\n",
        "newline='\\n'\n",
        "c='can\\'t'  #Note that we have to use the Escape character '\\' to inclue a apostrophe '  in the key.\n",
        "cb=\"can't\"\n",
        "continueline = 'This is the first line. \\\n",
        "This is the second line, but we have included a line continuation character: \\\\'\n",
        "#Note that to print the continueline character we have to list 2 (\\\\)\n",
        "#Note that to print the continueline character we have to list 2 (\\\\)\n",
        "\n",
        "contin2= \"\"\"\n",
        "This is the second line, but we have included a line continuation character: \n",
        "#Note that to print the continueline character we have to list 2 \n",
        "#Note that to print the continueline character we have to list 2\n",
        "\n",
        "\n",
        "\"\"\"\n",
        "\n",
        "\n",
        "\n",
        "print('Concatenation:', a+b )\n",
        "print('Tab:', a+tab+b )\n",
        "print('Newline:', a+newline+b )\n",
        "print('Apostrophe:', c )\n",
        "print('Apostrophe:', cb )\n",
        "print('Continue line:', continueline )\n",
        "print(contin2)"
      ],
      "execution_count": 0,
      "outputs": [
        {
          "output_type": "stream",
          "text": [
            "Concatenation: StartEnd\n",
            "Tab: Start\tEnd\n",
            "Newline: Start\n",
            "End\n",
            "Apostrophe: can't\n",
            "Apostrophe: can't\n",
            "Continue line: This is the first line. This is the second line, but we have included a line continuation character: \\\n",
            "\n",
            "This is the second line, but we have included a line continuation character: \n",
            "#Note that to print the continueline character we have to list 2 \n",
            "#Note that to print the continueline character we have to list 2\n",
            "\n",
            "\n",
            "\n"
          ],
          "name": "stdout"
        }
      ]
    },
    {
      "cell_type": "markdown",
      "metadata": {
        "id": "2zzGhTih3fC1",
        "colab_type": "text"
      },
      "source": [
        "# Calling Functions on Variables\n",
        "\n",
        "- We can call functions in a conventional way using round brackets\n",
        "- Python has a wide variety of [built in functions](https://docs.python.org/3/library/functions.html),"
      ]
    },
    {
      "cell_type": "code",
      "metadata": {
        "id": "YkqHMUm03fC1",
        "colab_type": "code",
        "colab": {}
      },
      "source": [
        "a=abs(-98.45)\n",
        "print('abs() takes the absolute value:', a )\n",
        "a=round(a)\n",
        "print('round() rounds to nearest integer:', a )\n",
        "character=chr(a)\n",
        "print('chr(98) returns the string representing a character whose Unicode code point is associated with the integer:',character) "
      ],
      "execution_count": 0,
      "outputs": []
    },
    {
      "cell_type": "markdown",
      "metadata": {
        "id": "Vh52iRqm3fC3",
        "colab_type": "text"
      },
      "source": [
        "## Exercise - Operations on Variables\n",
        "\n",
        "1. What happens when you multiply a number times a boolean? What is the resulting type? \n",
        "2. What happens when you try to multiply an integer value times a null?\n",
        "3. Take 5 to the power of 4. \n",
        "\n"
      ]
    },
    {
      "cell_type": "code",
      "metadata": {
        "id": "aHKm9e7O7b8n",
        "colab_type": "code",
        "colab": {
          "base_uri": "https://localhost:8080/",
          "height": 34
        },
        "outputId": "f5eb0d05-bcd4-4740-c18b-c2722a2a7531"
      },
      "source": [
        "num = 10\n",
        "boolean = True\n",
        "num * boolean"
      ],
      "execution_count": 9,
      "outputs": [
        {
          "output_type": "execute_result",
          "data": {
            "text/plain": [
              "10"
            ]
          },
          "metadata": {
            "tags": []
          },
          "execution_count": 9
        }
      ]
    },
    {
      "cell_type": "code",
      "metadata": {
        "id": "1U7Rt64Z73EH",
        "colab_type": "code",
        "colab": {
          "base_uri": "https://localhost:8080/",
          "height": 198
        },
        "outputId": "e88d880d-d405-4bbf-de01-b90ef58503da"
      },
      "source": [
        "integer = 10\n",
        "null = None\n",
        "integer * null"
      ],
      "execution_count": 10,
      "outputs": [
        {
          "output_type": "error",
          "ename": "TypeError",
          "evalue": "ignored",
          "traceback": [
            "\u001b[0;31m---------------------------------------------------------------------------\u001b[0m",
            "\u001b[0;31mTypeError\u001b[0m                                 Traceback (most recent call last)",
            "\u001b[0;32m<ipython-input-10-8dd01186db3e>\u001b[0m in \u001b[0;36m<module>\u001b[0;34m()\u001b[0m\n\u001b[1;32m      1\u001b[0m \u001b[0minteger\u001b[0m \u001b[0;34m=\u001b[0m \u001b[0;36m10\u001b[0m\u001b[0;34m\u001b[0m\u001b[0;34m\u001b[0m\u001b[0m\n\u001b[1;32m      2\u001b[0m \u001b[0mnull\u001b[0m \u001b[0;34m=\u001b[0m \u001b[0;32mNone\u001b[0m\u001b[0;34m\u001b[0m\u001b[0;34m\u001b[0m\u001b[0m\n\u001b[0;32m----> 3\u001b[0;31m \u001b[0minteger\u001b[0m \u001b[0;34m*\u001b[0m \u001b[0mnull\u001b[0m\u001b[0;34m\u001b[0m\u001b[0;34m\u001b[0m\u001b[0m\n\u001b[0m",
            "\u001b[0;31mTypeError\u001b[0m: unsupported operand type(s) for *: 'int' and 'NoneType'"
          ]
        }
      ]
    },
    {
      "cell_type": "code",
      "metadata": {
        "id": "V1ghFxWq8JgR",
        "colab_type": "code",
        "colab": {
          "base_uri": "https://localhost:8080/",
          "height": 34
        },
        "outputId": "9ef77d7d-8899-4d16-9d3e-cabbbfaab18f"
      },
      "source": [
        "5**4"
      ],
      "execution_count": 11,
      "outputs": [
        {
          "output_type": "execute_result",
          "data": {
            "text/plain": [
              "625"
            ]
          },
          "metadata": {
            "tags": []
          },
          "execution_count": 11
        }
      ]
    },
    {
      "cell_type": "markdown",
      "metadata": {
        "id": "LGFV2zBX3fC4",
        "colab_type": "text"
      },
      "source": [
        "## Lists\n",
        "- Lists can be used to contain a sequence of values of any type. \n",
        "- You can do operations on lists.\n",
        "- The list values start at 0 and that the first value of a list can be printed using `a[0]`\n",
        "- Lists can be *sliced* or *indexed* using the start and end value `a[start:end]`\n",
        "- Lists are *mutable datastructures*, meaning that they can be changed (added to)."
      ]
    },
    {
      "cell_type": "code",
      "metadata": {
        "id": "UKU24y0f3fC4",
        "colab_type": "code",
        "colab": {},
        "outputId": "35bd37c1-edc5-48a0-cb96-ed05ed1bca78"
      },
      "source": [
        "#Set the value of the list\n",
        "a = [1, 2, 'three', 'four', 5.0]\n",
        "\n",
        "print('Print the entire array:', a)\n",
        "print('Print the first value:', a[0])\n",
        "print('Print the first three value:', a[0:3])\n",
        "print('Print from second value till end  of list:', a[2:])\n",
        "print('Print the last value of a list:', a[-1])\n",
        "print('Print up till the 2nd to last value:', a[:-2]) \n",
        "type(a)"
      ],
      "execution_count": 0,
      "outputs": [
        {
          "output_type": "stream",
          "text": [
            "Print the entire array: [1, 2, 'three', 'four', 5.0]\n",
            "Print the first value: 1\n",
            "Print the first three value: [1, 2, 'three']\n",
            "Print from second value till end  of list: ['three', 'four', 5.0]\n",
            "Print the last value of a list: 5.0\n",
            "Print up till the 2nd to last value: [1, 2, 'three']\n"
          ],
          "name": "stdout"
        },
        {
          "output_type": "execute_result",
          "data": {
            "text/plain": [
              "list"
            ]
          },
          "metadata": {
            "tags": []
          },
          "execution_count": 20
        }
      ]
    },
    {
      "cell_type": "markdown",
      "metadata": {
        "id": "_dOAlrGX3fC6",
        "colab_type": "text"
      },
      "source": [
        "## Lists\n",
        "- Lists can be nested, where there are lists of lists.\n",
        "- The elements of a nested list is specified after the first list when slicing `c[0][0]`"
      ]
    },
    {
      "cell_type": "code",
      "metadata": {
        "id": "uQpEa74H3fC6",
        "colab_type": "code",
        "colab": {},
        "outputId": "cd93d91b-3fdc-430e-a8de-2dc259437b22"
      },
      "source": [
        "a = [1, 2, 'three', 'four', 5.0]\n",
        "b = [6, 'seven', 8, 'nine']\n",
        "c = [a, b]\n",
        "\n",
        "print('This is a list with 2 lists in it:', c)\n",
        "print('This is the first list:', c[0])\n",
        "print('This is the first element of the second list:', c[1][0])"
      ],
      "execution_count": 0,
      "outputs": [
        {
          "output_type": "stream",
          "text": [
            "This is a list with 2 lists in it: [[1, 2, 'three', 'four', 5.0], [6, 'seven', 8, 'nine']]\n",
            "This is the first list: [1, 2, 'three', 'four', 5.0]\n",
            "This is the first element of the second list: 6\n"
          ],
          "name": "stdout"
        }
      ]
    },
    {
      "cell_type": "markdown",
      "metadata": {
        "id": "MhrA8lvW3fC9",
        "colab_type": "text"
      },
      "source": [
        "## Lists\n",
        "- Lists can added to with the `append` method or your can directly assign location in list.\n",
        "- You can identify the length of a list with `len(a)`\n",
        "- [More fuctions on lists](https://docs.python.org/3/tutorial/datastructures.html) include `pop()` `insert()` etc.\n",
        "- If you set a `lista = listb` this list will not be a copy but instead be the same list, where if you modify one it will modify both.\n",
        "- To create a copy of a list, you can use `lista=listb[:]`"
      ]
    },
    {
      "cell_type": "code",
      "metadata": {
        "id": "7el24mJ93fC-",
        "colab_type": "code",
        "colab": {},
        "outputId": "97cba68b-f3ca-45b2-e654-641f346339ed"
      },
      "source": [
        "b = [6, 'seven', 8, 'nine']\n",
        "b.append(10)\n",
        "print('We added 10 to b:', b)\n",
        "print('the length of b is now:', len(b))\n",
        "\n",
        "b[len(b):] = ['Eleven',12]\n",
        "print('We added 11 to b:', b)\n",
        "\n"
      ],
      "execution_count": 0,
      "outputs": [
        {
          "output_type": "stream",
          "text": [
            "We added 10 to b: [6, 'seven', 8, 'nine', 10]\n",
            "the length of b is now: 5\n",
            "We added 11 to b: [6, 'seven', 8, 'nine', 10, 'Eleven', 12]\n"
          ],
          "name": "stdout"
        }
      ]
    },
    {
      "cell_type": "markdown",
      "metadata": {
        "id": "bR72aX-d3fDB",
        "colab_type": "text"
      },
      "source": [
        "## List\n",
        "\n",
        "- If you set a lista = listb this list will not be a copy but instead be the same list, where if you modify one it will modify both.\n",
        "- To create a copy of a list, you can use `lista=listb[:]` or `lista=listb.copy()`"
      ]
    },
    {
      "cell_type": "code",
      "metadata": {
        "id": "iEc_qWTe3fDB",
        "colab_type": "code",
        "colab": {},
        "outputId": "932d6bd9-79f2-4ebc-853a-e0f489ecb955"
      },
      "source": [
        "listb=[1,2,3,4]\n",
        "listb1=[1,2,3,4]\n",
        "listb2=[1,2,3,4]\n",
        "#This assigns one variable to another, linking them\n",
        "lista=listb\n",
        "#This creates a copy\n",
        "lista1=listb1[:]\n",
        "lista2=listb2.copy() # This does the same thing.\n",
        "#This deletes the third item in the array.\n",
        "lista.pop(3)\n",
        "lista1.pop(3)\n",
        "lista2.pop(3)\n",
        "#Notice how when we pop lista, listb is also impacted.\n",
        "print(lista, listb)\n",
        "#Notice how when we use a copy, listb1 is not impacted. \n",
        "print(lista1, listb1)\n",
        "print(lista2, listb2)"
      ],
      "execution_count": 0,
      "outputs": [
        {
          "output_type": "stream",
          "text": [
            "[1, 2, 3] [1, 2, 3]\n",
            "[1, 2, 3] [1, 2, 3, 4]\n",
            "[1, 2, 3] [1, 2, 3, 4]\n"
          ],
          "name": "stdout"
        }
      ]
    },
    {
      "cell_type": "markdown",
      "metadata": {
        "id": "pBEmRS453fDD",
        "colab_type": "text"
      },
      "source": [
        "## Exercise-Lists\n",
        "Hint: [This list of functions on lists is useful.](https://docs.python.org/3/tutorial/datastructures.html)\n",
        "\n",
        "1. Create a list `elists1` with the following values (1,2,3,4,5).\n",
        "2. Create a new list `elists2` by first creating a copy of `elist1` and then reversing the order.\n",
        "3. Create a new list `elists3` by first creating a copy of `elist1` and then adding 7 8 9 to the end. *(Hint: Search for a different function if appending doesn't work.)*\n",
        "4. Create a new list `elists4` by first creating a copy of `elist3` and then insert 6 between 5 and 7. \n",
        "\n",
        "\n"
      ]
    },
    {
      "cell_type": "code",
      "metadata": {
        "id": "rzeCbx9J5Pnz",
        "colab_type": "code",
        "colab": {
          "base_uri": "https://localhost:8080/",
          "height": 85
        },
        "outputId": "c0a7d941-770b-453b-8074-c2ff8a83ef8d"
      },
      "source": [
        "elists1 = [1,2,3,4,5]\n",
        "print(elists1)\n",
        "\n",
        "elists2 = elists1.copy()\n",
        "elists2.reverse()\n",
        "print(elists2)\n",
        "\n",
        "elists3 = elists1[:]\n",
        "new_list = [7,8,9]\n",
        "elists3 = elists3 + new_list\n",
        "print(elists3)\n",
        "\n",
        "elists4 = elists3.copy()\n",
        "elists4.insert(5,6)\n",
        "print(elists4)\n",
        "\n"
      ],
      "execution_count": 5,
      "outputs": [
        {
          "output_type": "stream",
          "text": [
            "[1, 2, 3, 4, 5]\n",
            "[5, 4, 3, 2, 1]\n",
            "[1, 2, 3, 4, 5, 7, 8, 9]\n",
            "[1, 2, 3, 4, 5, 6, 7, 8, 9]\n"
          ],
          "name": "stdout"
        }
      ]
    },
    {
      "cell_type": "markdown",
      "metadata": {
        "id": "XJXjRsI_3fDD",
        "colab_type": "text"
      },
      "source": [
        "# Sets\n",
        "\n",
        "- Lists can contain duplicate values.\n",
        "- A set, in contrast, contains no duplicates.\n",
        "- Sets can be created from lists using the `set()` function.\n",
        "- Alternatively we can write a set literal using the `{` and `}` brackets.\n",
        "\n",
        "\n"
      ]
    },
    {
      "cell_type": "code",
      "metadata": {
        "id": "aw3_x3fK3fDE",
        "colab_type": "code",
        "colab": {},
        "outputId": "4fd6a790-baa7-4828-b719-f7fa5b811566"
      },
      "source": [
        "#This creates a set from a list. \n",
        "X = set([1, 2, 3, 3, 4])\n",
        "\n",
        "print(X, type(X))"
      ],
      "execution_count": 0,
      "outputs": [
        {
          "output_type": "stream",
          "text": [
            "{1, 2, 3, 4} <class 'set'>\n"
          ],
          "name": "stdout"
        }
      ]
    },
    {
      "cell_type": "code",
      "metadata": {
        "id": "aDBQFavO3fDI",
        "colab_type": "code",
        "colab": {},
        "outputId": "a97ddc19-3a53-4408-d375-84c6021c7609"
      },
      "source": [
        "X = {1, 2, 3, 4, 4}\n",
        "print(X, type(X))"
      ],
      "execution_count": 0,
      "outputs": [
        {
          "output_type": "stream",
          "text": [
            "{1, 2, 3, 4} <class 'set'>\n"
          ],
          "name": "stdout"
        }
      ]
    },
    {
      "cell_type": "markdown",
      "metadata": {
        "id": "G2KI2Fx33fDJ",
        "colab_type": "text"
      },
      "source": [
        "# Sets are Mutable\n",
        "\n",
        "- Sets are mutable like lists (meaning we can change them)\n",
        "- Duplicates are automatically removed"
      ]
    },
    {
      "cell_type": "code",
      "metadata": {
        "id": "WfmP87MY3fDK",
        "colab_type": "code",
        "colab": {},
        "outputId": "52c13696-16fd-4e27-ae9f-9bd63076cb4a"
      },
      "source": [
        "X = {1, 2, 3, 4}\n",
        "X.add(0)\n",
        "X.add(5)\n",
        "print(X)\n",
        "X.add(5)\n",
        "print(X)"
      ],
      "execution_count": 0,
      "outputs": [
        {
          "output_type": "stream",
          "text": [
            "{0, 1, 2, 3, 4, 5}\n",
            "{0, 1, 2, 3, 4, 5}\n"
          ],
          "name": "stdout"
        }
      ]
    },
    {
      "cell_type": "markdown",
      "metadata": {
        "id": "xGB3ee6o3fDL",
        "colab_type": "text"
      },
      "source": [
        "# Sets are Unordered\n",
        "\n",
        "- Sets do not have an order.\n",
        "- Therefore we cannot index or slice them.\n",
        "\n"
      ]
    },
    {
      "cell_type": "code",
      "metadata": {
        "id": "hyxZxsES3fDM",
        "colab_type": "code",
        "colab": {},
        "outputId": "270dfe62-e521-4a7e-d466-b7e11fb3564e"
      },
      "source": [
        "X[0]"
      ],
      "execution_count": 0,
      "outputs": [
        {
          "output_type": "error",
          "ename": "TypeError",
          "evalue": "'set' object does not support indexing",
          "traceback": [
            "\u001b[0;31m---------------------------------------------------------------------------\u001b[0m",
            "\u001b[0;31mTypeError\u001b[0m                                 Traceback (most recent call last)",
            "\u001b[0;32m<ipython-input-30-19c40ecbd036>\u001b[0m in \u001b[0;36m<module>\u001b[0;34m()\u001b[0m\n\u001b[0;32m----> 1\u001b[0;31m \u001b[0mX\u001b[0m\u001b[0;34m[\u001b[0m\u001b[0;36m0\u001b[0m\u001b[0;34m]\u001b[0m\u001b[0;34m\u001b[0m\u001b[0m\n\u001b[0m",
            "\u001b[0;31mTypeError\u001b[0m: 'set' object does not support indexing"
          ]
        }
      ]
    },
    {
      "cell_type": "markdown",
      "metadata": {
        "id": "swI6YcM83fDN",
        "colab_type": "text"
      },
      "source": [
        "## Operations on Sets\n",
        "\n",
        "- Union: $X \\cup Y$ combines two sets\n"
      ]
    },
    {
      "cell_type": "code",
      "metadata": {
        "id": "5vp0s3RA3fDN",
        "colab_type": "code",
        "colab": {},
        "outputId": "49c2e545-6c60-4d25-d995-a0c124e71390"
      },
      "source": [
        "X = {1, 2, 3, 4}\n",
        "Y = {4, 5, 6}\n",
        "X.union(Y)"
      ],
      "execution_count": 0,
      "outputs": [
        {
          "output_type": "execute_result",
          "data": {
            "text/plain": [
              "{1, 2, 3, 4, 5, 6}"
            ]
          },
          "metadata": {
            "tags": []
          },
          "execution_count": 31
        }
      ]
    },
    {
      "cell_type": "markdown",
      "metadata": {
        "id": "0u6Z0fZE3fDQ",
        "colab_type": "text"
      },
      "source": [
        "## Operations on Sets\n",
        "- Intersection: $X \\cap Y$:"
      ]
    },
    {
      "cell_type": "code",
      "metadata": {
        "id": "ID8HNnDm3fDR",
        "colab_type": "code",
        "colab": {},
        "outputId": "b7edbed1-20a2-43cc-a4de-f44d7103d339"
      },
      "source": [
        "X = {1, 2, 3, 4}\n",
        "Y = {3, 4, 5}\n",
        "X.intersection(Y)"
      ],
      "execution_count": 0,
      "outputs": [
        {
          "output_type": "execute_result",
          "data": {
            "text/plain": [
              "{3, 4}"
            ]
          },
          "metadata": {
            "tags": []
          },
          "execution_count": 32
        }
      ]
    },
    {
      "cell_type": "markdown",
      "metadata": {
        "id": "jKnwMrUW3fDT",
        "colab_type": "text"
      },
      "source": [
        "## Operations on Sets\n",
        "- Difference $X - Y$:\n"
      ]
    },
    {
      "cell_type": "code",
      "metadata": {
        "id": "Pp__vTs23fDV",
        "colab_type": "code",
        "colab": {},
        "outputId": "c5c56ae1-daeb-4a44-910f-4243e2ef6b88"
      },
      "source": [
        "X = {1, 2, 3, 4}\n",
        "Y = {3, 4, 5}\n",
        "X - Y"
      ],
      "execution_count": 0,
      "outputs": [
        {
          "output_type": "execute_result",
          "data": {
            "text/plain": [
              "{1, 2}"
            ]
          },
          "metadata": {
            "tags": []
          },
          "execution_count": 33
        }
      ]
    },
    {
      "cell_type": "markdown",
      "metadata": {
        "id": "BQbYdD053fDW",
        "colab_type": "text"
      },
      "source": [
        "## Dictionaries\n",
        "- You can think of dictionaries as arrays that help you assocaite a `key` with a `value`.\n",
        "- Dictionaries can be specified with `{key: value, key: value}`\n",
        "- Dictionaries can be specified with dict([('key', value), ('key', value)])\n",
        "- Key's and values can be either string or numeric. \n",
        "- Dictionaries are mutable, (can be changed) `adict['g'] = 41`"
      ]
    },
    {
      "cell_type": "code",
      "metadata": {
        "id": "1zaMdS-X3fDX",
        "colab_type": "code",
        "colab": {},
        "outputId": "e81fb2cc-b822-4a1c-8443-5a38118f8f88"
      },
      "source": [
        "adict1 = {'a' : 0, 'b' : 1, 'c' : 2}\n",
        "adict2 = dict([(1, 'a'), (2, 'b'), (3, 'c')])\n",
        "print(adict1,adict2, '\\n', type(adict1),type(adict2), '\\n',adict1['b'],adict2[2])"
      ],
      "execution_count": 0,
      "outputs": [
        {
          "output_type": "stream",
          "text": [
            "{'c': 2, 'b': 1, 'a': 0} {1: 'a', 2: 'b', 3: 'c'} \n",
            " <class 'dict'> <class 'dict'> \n",
            " 1 b\n"
          ],
          "name": "stdout"
        }
      ]
    },
    {
      "cell_type": "code",
      "metadata": {
        "id": "TP1WndSl3fDa",
        "colab_type": "code",
        "colab": {}
      },
      "source": [
        "adict2['g']=1234"
      ],
      "execution_count": 0,
      "outputs": []
    },
    {
      "cell_type": "code",
      "metadata": {
        "id": "PqiDY4aE3fDb",
        "colab_type": "code",
        "colab": {},
        "outputId": "acb03814-d85b-4bcd-ab98-c93fd38cac11"
      },
      "source": [
        "adict2['g']"
      ],
      "execution_count": 0,
      "outputs": [
        {
          "output_type": "execute_result",
          "data": {
            "text/plain": [
              "1234"
            ]
          },
          "metadata": {
            "tags": []
          },
          "execution_count": 37
        }
      ]
    },
    {
      "cell_type": "markdown",
      "metadata": {
        "id": "SeTybJRX3fDc",
        "colab_type": "text"
      },
      "source": [
        "## Exercise-Sets/Dictionary\n",
        "\n",
        "1. Create a set `eset1` with the following values (1,2,3,4,5).\n",
        "2. Create a new set `eset2` the following values (1,3,6).\n",
        "3. Create a new set `eset3` that is `eset1-eset2`.\n",
        "4. Create a new set `eset4` that is the union of `eset1+eset2`.\n",
        "5. Create a new set `eset5` that includes values that are in both `eset1` and `eset2` (intersection).\n",
        "6. Create a new dict `edict1` with the following keys and associated values: st1=45; st2=32; st3=40; st4=31.\n",
        "7. Create a new variable edict2 from edict 1 where the key is st3.\n",
        " \n",
        "\n",
        "\n"
      ]
    },
    {
      "cell_type": "code",
      "metadata": {
        "id": "ZhPCW6cd9WcR",
        "colab_type": "code",
        "colab": {
          "base_uri": "https://localhost:8080/",
          "height": 136
        },
        "outputId": "2fc870f0-ceb3-4f01-d753-a5dbbaee94bc"
      },
      "source": [
        "#1.Create a set eset1 with the following values (1,2,3,4,5).\n",
        "eset1 = {1,2,3,4,5}\n",
        "print(eset1)\n",
        "\n",
        "#2.Create a new set eset2 the following values (1,3,6).\n",
        "eset2 = set([1,3,6])\n",
        "print(eset2)\n",
        "\n",
        "#3.Create a new set eset3 that is eset1-eset2.\n",
        "eset3 = eset1 -  eset2\n",
        "print(eset3)\n",
        "\n",
        "#4.Create a new set eset4 that is the union of eset1+eset2.\n",
        "print(eset1.union(eset2))\n",
        "\n",
        "#5.Create a new set eset5 that includes values that are in both eset1 and eset2 (intersection).\n",
        "print(eset1.intersection(eset2))\n",
        "\n",
        "#6.Create a new dict edict1 with the following keys and associated values: st1=45; st2=32; st3=40; st4=31.\n",
        "edict1 = {'st1':45, 'st2':32, 'st3':40, 'st4':31}\n",
        "print(edict1)\n",
        "\n",
        "#7.Create a new variable edict2 from edict 1 where the key is st3.\n",
        "edict2 = edict1['st3']\n",
        "print(edict2)\n"
      ],
      "execution_count": 16,
      "outputs": [
        {
          "output_type": "stream",
          "text": [
            "{1, 2, 3, 4, 5}\n",
            "{1, 3, 6}\n",
            "{2, 4, 5}\n",
            "{1, 2, 3, 4, 5, 6}\n",
            "{1, 3}\n",
            "{'st1': 45, 'st2': 32, 'st3': 40, 'st4': 31}\n",
            "40\n"
          ],
          "name": "stdout"
        }
      ]
    },
    {
      "cell_type": "markdown",
      "metadata": {
        "id": "iwIaIwWs3fDd",
        "colab_type": "text"
      },
      "source": [
        "## CREDITS\n",
        "\n",
        "\n",
        "Copyright [AnalyticsDojo](http://rpi.analyticsdojo.com) 2016\n",
        "This work is licensed under the [Creative Commons Attribution 4.0 International](https://creativecommons.org/licenses/by/4.0/) license agreement.\n",
        "\n",
        "This work has been adopted from the [origional version](https://github.com/phelps-sg/python-bigdata):\n",
        "Copyright [Steve Phelps](http://sphelps.net) 2014\n",
        "\n"
      ]
    }
  ]
}