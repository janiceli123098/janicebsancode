{
  "nbformat": 4,
  "nbformat_minor": 0,
  "metadata": {
    "anaconda-cloud": {},
    "celltoolbar": "Slideshow",
    "kernelspec": {
      "display_name": "Python 3",
      "language": "python",
      "name": "python3"
    },
    "language_info": {
      "codemirror_mode": {
        "name": "ipython",
        "version": 3
      },
      "file_extension": ".py",
      "mimetype": "text/x-python",
      "name": "python",
      "nbconvert_exporter": "python",
      "pygments_lexer": "ipython3",
      "version": "3.6.3"
    },
    "colab": {
      "name": "02-intro-python-datastructures.ipynb",
      "provenance": []
    }
  },
  "cells": [
    {
      "cell_type": "markdown",
      "metadata": {
        "id": "fVbrIuT4z78I",
        "colab_type": "text"
      },
      "source": [
        "[![AnalyticsDojo](https://github.com/rpi-techfundamentals/spring2019-materials/blob/master/fig/final-logo.png?raw=1)](http://rpi.analyticsdojo.com)\n",
        "<center><h1>Introduction to Python - Datastructures</h1></center>\n",
        "<center><h3><a href = 'http://rpi.analyticsdojo.com'>rpi.analyticsdojo.com</a></h3></center>\n",
        "\n"
      ]
    },
    {
      "cell_type": "markdown",
      "metadata": {
        "id": "jRMZKkyXz78K",
        "colab_type": "text"
      },
      "source": [
        "# Overview\n",
        "Common to R and Python\n",
        "- Variables\n",
        "- Opearations on Numeric and String Variables\n",
        "- Lists\n",
        "\n",
        "Python Only\n",
        "- Dictionaries\n",
        "- Sets\n",
        "\n"
      ]
    },
    {
      "cell_type": "markdown",
      "metadata": {
        "id": "e7LGpavcz78L",
        "colab_type": "text"
      },
      "source": [
        "## Variables\n",
        "- Single value\n",
        "- Strings, Integer, Floats and boolean are the most common types of variables.\n",
        "- Remember, under the covers they are all objects.\n",
        "- Multiple variables can be output with the `print()` statement. \n",
        "- `\\t` can be used to add a tab while `\\n` can input a new line."
      ]
    },
    {
      "cell_type": "code",
      "metadata": {
        "id": "8f8Gzliqz78M",
        "colab_type": "code",
        "colab": {},
        "outputId": "fdb430f5-f565-4a78-c91e-27a26cf47b0b"
      },
      "source": [
        "a = '#pythonrules' # string\n",
        "b = 30              # integer\n",
        "c = True            # boolean\n",
        "\n",
        "#This prints (1) only the variables, (2) with labels, (3) including tabs, and (4) with new lines.\n",
        "print('1:', a,  b, c)\n",
        "print('2:','String:', a, 'Integer:', b, 'Boolean:', c)\n",
        "print('3:','String:', a, '\\tInteger:', b, '\\tBoolean:', c)\n",
        "print('4a:','String:', a, '\\n4b: Integer:', b, '\\n4c: Boolean:', c)\n",
        "print(a+str(b))"
      ],
      "execution_count": 0,
      "outputs": [
        {
          "output_type": "stream",
          "text": [
            "1: #pythonrules 30 True\n",
            "2: String: #pythonrules Integer: 30 Boolean: True\n",
            "3: String: #pythonrules \tInteger: 30 \tBoolean: True\n",
            "4a: String: #pythonrules \n",
            "4b: Integer: 30 \n",
            "4c: Boolean: True\n",
            "#pythonrules30\n"
          ],
          "name": "stdout"
        }
      ]
    },
    {
      "cell_type": "markdown",
      "metadata": {
        "id": "KzmffjDnz78P",
        "colab_type": "text"
      },
      "source": [
        "## Variable Type (continued)\n",
        "- In Python when we write `b = 30` this means the value of `30` is assigned to the `b` object. \n",
        "- Python is a [dynamically typed](https://pythonconquerstheuniverse.wordpress.com/2009/10/03/static-vs-dynamic-typing-of-programming-languages/).\n",
        "- Unlike some languages, we don't have to declare the type of a variable before using it. \n",
        "- Variable type can also change with the reassignment of a variable. \n",
        "\n"
      ]
    },
    {
      "cell_type": "code",
      "metadata": {
        "id": "6m2C2wTUz78Q",
        "colab_type": "code",
        "colab": {},
        "outputId": "7a28c973-b931-494f-f36c-7d5695d2e44e"
      },
      "source": [
        "a = 1\n",
        "print ('The value of a is ', a,  'and type ', type(a) )\n",
        "\n",
        "a = 2.5\n",
        "print ('Now the value of a is ', a,  'and type ', type(a) )\n",
        "\n",
        "a = 'hello there'\n",
        "print ('Now the value of a is ', a,  'and of type ', type(a) )"
      ],
      "execution_count": 0,
      "outputs": [
        {
          "output_type": "stream",
          "text": [
            "The value of a is  1 and type  <class 'int'>\n",
            "Now the value of a is  2.5 and type  <class 'float'>\n",
            "Now the value of a is  hello there and of type  <class 'str'>\n"
          ],
          "name": "stdout"
        }
      ]
    },
    {
      "cell_type": "markdown",
      "metadata": {
        "id": "HDxEw67Iz78T",
        "colab_type": "text"
      },
      "source": [
        "## Variable Type (continued)\n",
        "\n",
        "- _Variables_ themselves do not have a fixed type.\n",
        "- It is only the values that they refer to that have an associated _type_.\n",
        "- This means that the type referred to by a variable can change as more statements are interpreted.\n",
        "- If we combine types incorrectly we get an error. "
      ]
    },
    {
      "cell_type": "code",
      "metadata": {
        "id": "m_m8tutNz78U",
        "colab_type": "code",
        "colab": {},
        "outputId": "74b93e17-59f5-43d9-bb63-5fec193d7bfa"
      },
      "source": [
        "#We can't add 5 to a \n",
        "b = 'string variable'\n",
        "c=b+5\n",
        "c"
      ],
      "execution_count": 0,
      "outputs": [
        {
          "output_type": "execute_result",
          "data": {
            "text/plain": [
              "'string variable5'"
            ]
          },
          "metadata": {
            "tags": []
          },
          "execution_count": 7
        }
      ]
    },
    {
      "cell_type": "markdown",
      "metadata": {
        "id": "yWpd192vz78X",
        "colab_type": "text"
      },
      "source": [
        "# The `type` Function\n",
        "\n",
        "- We can query the type of a value using the `type` function.\n",
        "- Variables can be reassigned to a different type. \n",
        "- There are integer, floating point, and complex number [numeric types](https://docs.python.org/3/library/stdtypes.html#numeric-types-int-float-complex).\n",
        "- Boolean is a special type of integer."
      ]
    },
    {
      "cell_type": "code",
      "metadata": {
        "id": "E3cJ0siMz78X",
        "colab_type": "code",
        "colab": {},
        "outputId": "3bb6d48e-1eed-419d-c1e2-08ee86ba8896"
      },
      "source": [
        "a = 1\n",
        "type(a)"
      ],
      "execution_count": 0,
      "outputs": [
        {
          "output_type": "execute_result",
          "data": {
            "text/plain": [
              "int"
            ]
          },
          "metadata": {
            "tags": []
          },
          "execution_count": 8
        }
      ]
    },
    {
      "cell_type": "code",
      "metadata": {
        "id": "outzW8GJz78a",
        "colab_type": "code",
        "colab": {},
        "outputId": "c13734e2-40bd-4242-d79e-5b054e93fdb5"
      },
      "source": [
        "a = 'hello'\n",
        "type(a)"
      ],
      "execution_count": 0,
      "outputs": [
        {
          "output_type": "execute_result",
          "data": {
            "text/plain": [
              "str"
            ]
          },
          "metadata": {
            "tags": []
          },
          "execution_count": 9
        }
      ]
    },
    {
      "cell_type": "code",
      "metadata": {
        "id": "RCHzsx6jz78c",
        "colab_type": "code",
        "colab": {},
        "outputId": "ebcbdc87-364b-45ea-ba2c-95216053eae4"
      },
      "source": [
        "a=2.5\n",
        "type(a)"
      ],
      "execution_count": 0,
      "outputs": [
        {
          "output_type": "execute_result",
          "data": {
            "text/plain": [
              "float"
            ]
          },
          "metadata": {
            "tags": []
          },
          "execution_count": 10
        }
      ]
    },
    {
      "cell_type": "code",
      "metadata": {
        "id": "oRyKfhp3z78e",
        "colab_type": "code",
        "colab": {},
        "outputId": "ba5512b3-3929-4863-a209-617f68ee6bff"
      },
      "source": [
        "a=True\n",
        "type(a)"
      ],
      "execution_count": 0,
      "outputs": [
        {
          "output_type": "execute_result",
          "data": {
            "text/plain": [
              "bool"
            ]
          },
          "metadata": {
            "tags": []
          },
          "execution_count": 11
        }
      ]
    },
    {
      "cell_type": "markdown",
      "metadata": {
        "id": "i2pHgL7Xz78l",
        "colab_type": "text"
      },
      "source": [
        "# Converting Values Between Types\n",
        "\n",
        "- We can convert values between different types.\n",
        "- To convert to string use the `str()` function.\n",
        "- To convert to floating-point use the `float()` function.\n",
        "- To convert to an integer use the `int()` function.\n",
        "- To convert to a boolean use the `bool()` function.\n"
      ]
    },
    {
      "cell_type": "code",
      "metadata": {
        "id": "09Sz12q2z78l",
        "colab_type": "code",
        "colab": {},
        "outputId": "d05f2148-4f4d-458e-f608-bb2ce8f5909f"
      },
      "source": [
        "a = 1\n",
        "print(a, type(a))\n",
        "\n",
        "a = str(a)\n",
        "print (a, type(a))\n",
        "\n",
        "a = float(a)\n",
        "print (a, type(a))\n",
        "\n",
        "a = int(a)\n",
        "print (a, type(a))"
      ],
      "execution_count": 0,
      "outputs": [
        {
          "output_type": "stream",
          "text": [
            "1 <class 'int'>\n",
            "1 <class 'str'>\n",
            "1.0 <class 'float'>\n",
            "1 <class 'int'>\n"
          ],
          "name": "stdout"
        }
      ]
    },
    {
      "cell_type": "markdown",
      "metadata": {
        "id": "wEUgbil4z78n",
        "colab_type": "text"
      },
      "source": [
        "# Converting Values Between Types (Continued)\n",
        "- To convert to a boolean use the `bool()` function.\n",
        "- `bool` can work with a String type that is `True` or `False`\n",
        "- `bool` can work with an integer type that is `1` for `True` or `0` for `False`"
      ]
    },
    {
      "cell_type": "code",
      "metadata": {
        "id": "clM3xAVPz78o",
        "colab_type": "code",
        "colab": {},
        "outputId": "25adfabc-7e7c-4e2a-ac39-8b0bfc3175ee"
      },
      "source": [
        "b = 'True'\n",
        "print (b, type(b))\n",
        "\n",
        "b = bool(b)\n",
        "print (b, type(b))\n",
        "\n",
        "c = 1\n",
        "c= bool(c)\n",
        "print (c, type(c))\n",
        "\n",
        "d = 0\n",
        "d= bool(d)\n",
        "print (d, type(d))"
      ],
      "execution_count": 0,
      "outputs": [
        {
          "output_type": "stream",
          "text": [
            "True <class 'str'>\n",
            "True <class 'bool'>\n",
            "True <class 'bool'>\n",
            "False <class 'bool'>\n"
          ],
          "name": "stdout"
        }
      ]
    },
    {
      "cell_type": "markdown",
      "metadata": {
        "id": "Tn_Y632pz78r",
        "colab_type": "text"
      },
      "source": [
        "# Null Values\n",
        "\n",
        "- Sometimes we represent \"no data\" or \"not applicable\".  \n",
        "- In Python we use the special value `None`.\n",
        "- This corresponds to `NA` in R of `Null` in Java/SQL.\n",
        "- When we print the value `None` is printed. \n",
        "- If we enter the variable, no result is printed out.\n"
      ]
    },
    {
      "cell_type": "code",
      "metadata": {
        "id": "3xJuAYEtz78r",
        "colab_type": "code",
        "colab": {},
        "outputId": "d466c02e-a4ae-4a77-86aa-100081400db7"
      },
      "source": [
        "a = None\n",
        "print(a)\n"
      ],
      "execution_count": 0,
      "outputs": [
        {
          "output_type": "stream",
          "text": [
            "None\n"
          ],
          "name": "stdout"
        }
      ]
    },
    {
      "cell_type": "code",
      "metadata": {
        "id": "Uz8vZOFxz78t",
        "colab_type": "code",
        "colab": {}
      },
      "source": [
        "#Notice nothing is printed.\n",
        "a"
      ],
      "execution_count": 0,
      "outputs": []
    },
    {
      "cell_type": "markdown",
      "metadata": {
        "id": "FO-uI5Vjz78v",
        "colab_type": "text"
      },
      "source": [
        "## Operations on Numeric Variables\n",
        "- Python can be used as a basic calculator.\n",
        "- Check out this associated [tutorial](https://docs.python.org/3/tutorial/introduction.html#using-python-as-a-calculator)."
      ]
    },
    {
      "cell_type": "code",
      "metadata": {
        "id": "HiPBQBkVz78v",
        "colab_type": "code",
        "colab": {},
        "outputId": "9224b47d-7b81-41a0-d611-6be42aeec79f"
      },
      "source": [
        "print('Addition:', 53 + 5)\n",
        "print('Multiplication:', 53 * 5)\n",
        "print('Subtraction:', 53 - 5)\n",
        "print('Division', 53 / 5 )\n",
        "print('Floor Division (discards the fractional part)', 53 // 5 )\n",
        "print('Floor Division (returns the remainder)', 53 % 5 )\n",
        "print('Exponents:', 5 ** 2 )"
      ],
      "execution_count": 0,
      "outputs": [
        {
          "output_type": "stream",
          "text": [
            "Addition: 58\n",
            "Multiplication: 265\n",
            "Subtraction: 48\n",
            "Division 10.6\n",
            "Floor Division (discards the fractional part) 10\n",
            "Floor Division (returns the remainder) 3\n",
            "Exponents: 25\n"
          ],
          "name": "stdout"
        }
      ]
    },
    {
      "cell_type": "markdown",
      "metadata": {
        "id": "WBAaNWSRz78z",
        "colab_type": "text"
      },
      "source": [
        "## Operations on String Variables\n",
        "- Just as we can do numeric operations, we can also do operations on strings.\n",
        "- Concatentate Strings \n",
        "- A *backslash* is used as an escape variable.\n",
        "- More info on this [tutorial](https://docs.python.org/3/tutorial/introduction.html#using-python-as-a-calculator)."
      ]
    },
    {
      "cell_type": "code",
      "metadata": {
        "id": "tmAiX8Pzz780",
        "colab_type": "code",
        "colab": {},
        "outputId": "2977b511-88f4-4eec-ac07-d63d8e877faf"
      },
      "source": [
        "a='Start'\n",
        "b='End'\n",
        "tab='\\t'\n",
        "newline='\\n'\n",
        "c='can\\'t'  #Note that we have to use the Escape character '\\' to inclue a apostrophe '  in the key.\n",
        "cb=\"can't\"\n",
        "continueline = 'This is the first line. \\\n",
        "This is the second line, but we have included a line continuation character: \\\\'\n",
        "#Note that to print the continueline character we have to list 2 (\\\\)\n",
        "#Note that to print the continueline character we have to list 2 (\\\\)\n",
        "\n",
        "contin2= \"\"\"\n",
        "This is the second line, but we have included a line continuation character: \n",
        "#Note that to print the continueline character we have to list 2 \n",
        "#Note that to print the continueline character we have to list 2\n",
        "\n",
        "\n",
        "\"\"\"\n",
        "\n",
        "\n",
        "\n",
        "print('Concatenation:', a+b )\n",
        "print('Tab:', a+tab+b )\n",
        "print('Newline:', a+newline+b )\n",
        "print('Apostrophe:', c )\n",
        "print('Apostrophe:', cb )\n",
        "print('Continue line:', continueline )\n",
        "print(contin2)"
      ],
      "execution_count": 0,
      "outputs": [
        {
          "output_type": "stream",
          "text": [
            "Concatenation: StartEnd\n",
            "Tab: Start\tEnd\n",
            "Newline: Start\n",
            "End\n",
            "Apostrophe: can't\n",
            "Apostrophe: can't\n",
            "Continue line: This is the first line. This is the second line, but we have included a line continuation character: \\\n",
            "\n",
            "This is the second line, but we have included a line continuation character: \n",
            "#Note that to print the continueline character we have to list 2 \n",
            "#Note that to print the continueline character we have to list 2\n",
            "\n",
            "\n",
            "\n"
          ],
          "name": "stdout"
        }
      ]
    },
    {
      "cell_type": "markdown",
      "metadata": {
        "id": "8Wp6MOt7z781",
        "colab_type": "text"
      },
      "source": [
        "# Calling Functions on Variables\n",
        "\n",
        "- We can call functions in a conventional way using round brackets\n",
        "- Python has a wide variety of [built in functions](https://docs.python.org/3/library/functions.html),"
      ]
    },
    {
      "cell_type": "code",
      "metadata": {
        "id": "NkkEWoMUz782",
        "colab_type": "code",
        "colab": {}
      },
      "source": [
        "a=abs(-98.45)\n",
        "print('abs() takes the absolute value:', a )\n",
        "a=round(a)\n",
        "print('round() rounds to nearest integer:', a )\n",
        "character=chr(a)\n",
        "print('chr(98) returns the string representing a character whose Unicode code point is associated with the integer:',character) "
      ],
      "execution_count": 0,
      "outputs": []
    },
    {
      "cell_type": "markdown",
      "metadata": {
        "id": "iwuZzb71z785",
        "colab_type": "text"
      },
      "source": [
        "## Exercise - Operations on Variables\n",
        "\n",
        "1. What happens when you multiply a number times a boolean? What is the resulting type? \n",
        "2. What happens when you try to multiply an integer value times a null?\n",
        "3. Take 5 to the power of 4. \n",
        "\n"
      ]
    },
    {
      "cell_type": "markdown",
      "metadata": {
        "id": "78yZ_I-Jz786",
        "colab_type": "text"
      },
      "source": [
        "## Lists\n",
        "- Lists can be used to contain a sequence of values of any type. \n",
        "- You can do operations on lists.\n",
        "- The list values start at 0 and that the first value of a list can be printed using `a[0]`\n",
        "- Lists can be *sliced* or *indexed* using the start and end value `a[start:end]`\n",
        "- Lists are *mutable datastructures*, meaning that they can be changed (added to)."
      ]
    },
    {
      "cell_type": "code",
      "metadata": {
        "id": "hDzQvkX5z786",
        "colab_type": "code",
        "colab": {},
        "outputId": "ffd4ef7d-98ea-485b-af6e-4627ea7cd867"
      },
      "source": [
        "#Set the value of the list\n",
        "a = [1, 2, 'three', 'four', 5.0]\n",
        "\n",
        "print('Print the entire array:', a)\n",
        "print('Print the first value:', a[0])\n",
        "print('Print the first three value:', a[0:3])\n",
        "print('Print from second value till end  of list:', a[2:])\n",
        "print('Print the last value of a list:', a[-1])\n",
        "print('Print up till the 2nd to last value:', a[:-2]) \n",
        "type(a)"
      ],
      "execution_count": 0,
      "outputs": [
        {
          "output_type": "stream",
          "text": [
            "Print the entire array: [1, 2, 'three', 'four', 5.0]\n",
            "Print the first value: 1\n",
            "Print the first three value: [1, 2, 'three']\n",
            "Print from second value till end  of list: ['three', 'four', 5.0]\n",
            "Print the last value of a list: 5.0\n",
            "Print up till the 2nd to last value: [1, 2, 'three']\n"
          ],
          "name": "stdout"
        },
        {
          "output_type": "execute_result",
          "data": {
            "text/plain": [
              "list"
            ]
          },
          "metadata": {
            "tags": []
          },
          "execution_count": 20
        }
      ]
    },
    {
      "cell_type": "markdown",
      "metadata": {
        "id": "fwio022Iz788",
        "colab_type": "text"
      },
      "source": [
        "## Lists\n",
        "- Lists can be nested, where there are lists of lists.\n",
        "- The elements of a nested list is specified after the first list when slicing `c[0][0]`"
      ]
    },
    {
      "cell_type": "code",
      "metadata": {
        "id": "ZhcYP6nHz789",
        "colab_type": "code",
        "colab": {},
        "outputId": "be038fbc-9856-4346-831b-52d42d2b235c"
      },
      "source": [
        "a = [1, 2, 'three', 'four', 5.0]\n",
        "b = [6, 'seven', 8, 'nine']\n",
        "c = [a, b]\n",
        "\n",
        "print('This is a list with 2 lists in it:', c)\n",
        "print('This is the first list:', c[0])\n",
        "print('This is the first element of the second list:', c[1][0])"
      ],
      "execution_count": 0,
      "outputs": [
        {
          "output_type": "stream",
          "text": [
            "This is a list with 2 lists in it: [[1, 2, 'three', 'four', 5.0], [6, 'seven', 8, 'nine']]\n",
            "This is the first list: [1, 2, 'three', 'four', 5.0]\n",
            "This is the first element of the second list: 6\n"
          ],
          "name": "stdout"
        }
      ]
    },
    {
      "cell_type": "markdown",
      "metadata": {
        "id": "LmM0XyWZz79A",
        "colab_type": "text"
      },
      "source": [
        "## Lists\n",
        "- Lists can added to with the `append` method or your can directly assign location in list.\n",
        "- You can identify the length of a list with `len(a)`\n",
        "- [More fuctions on lists](https://docs.python.org/3/tutorial/datastructures.html) include `pop()` `insert()` etc.\n",
        "- If you set a `lista = listb` this list will not be a copy but instead be the same list, where if you modify one it will modify both.\n",
        "- To create a copy of a list, you can use `lista=listb[:]`"
      ]
    },
    {
      "cell_type": "code",
      "metadata": {
        "id": "5ATT46fzz79E",
        "colab_type": "code",
        "colab": {},
        "outputId": "764c49ba-a889-42f2-edeb-187594e4fd7f"
      },
      "source": [
        "b = [6, 'seven', 8, 'nine']\n",
        "b.append(10)\n",
        "print('We added 10 to b:', b)\n",
        "print('the length of b is now:', len(b))\n",
        "\n",
        "b[len(b):] = ['Eleven',12]\n",
        "print('We added 11 to b:', b)\n",
        "\n"
      ],
      "execution_count": 0,
      "outputs": [
        {
          "output_type": "stream",
          "text": [
            "We added 10 to b: [6, 'seven', 8, 'nine', 10]\n",
            "the length of b is now: 5\n",
            "We added 11 to b: [6, 'seven', 8, 'nine', 10, 'Eleven', 12]\n"
          ],
          "name": "stdout"
        }
      ]
    },
    {
      "cell_type": "markdown",
      "metadata": {
        "id": "xFk6Hgiwz79J",
        "colab_type": "text"
      },
      "source": [
        "## List\n",
        "\n",
        "- If you set a lista = listb this list will not be a copy but instead be the same list, where if you modify one it will modify both.\n",
        "- To create a copy of a list, you can use `lista=listb[:]` or `lista=listb.copy()`"
      ]
    },
    {
      "cell_type": "code",
      "metadata": {
        "id": "Rp5W2r6Gz79K",
        "colab_type": "code",
        "colab": {},
        "outputId": "489af195-283d-456e-f1b2-a374b46e37fb"
      },
      "source": [
        "listb=[1,2,3,4]\n",
        "listb1=[1,2,3,4]\n",
        "listb2=[1,2,3,4]\n",
        "#This assigns one variable to another, linking them\n",
        "lista=listb\n",
        "#This creates a copy\n",
        "lista1=listb1[:]\n",
        "lista2=listb2.copy() # This does the same thing.\n",
        "#This deletes the third item in the array.\n",
        "lista.pop(3)\n",
        "lista1.pop(3)\n",
        "lista2.pop(3)\n",
        "#Notice how when we pop lista, listb is also impacted.\n",
        "print(lista, listb)\n",
        "#Notice how when we use a copy, listb1 is not impacted. \n",
        "print(lista1, listb1)\n",
        "print(lista2, listb2)"
      ],
      "execution_count": 0,
      "outputs": [
        {
          "output_type": "stream",
          "text": [
            "[1, 2, 3] [1, 2, 3]\n",
            "[1, 2, 3] [1, 2, 3, 4]\n",
            "[1, 2, 3] [1, 2, 3, 4]\n"
          ],
          "name": "stdout"
        }
      ]
    },
    {
      "cell_type": "markdown",
      "metadata": {
        "id": "vv2oY26hz79M",
        "colab_type": "text"
      },
      "source": [
        "## Exercise-Lists\n",
        "Hint: [This list of functions on lists is useful.](https://docs.python.org/3/tutorial/datastructures.html)\n",
        "\n",
        "1. Create a list `elists1` with the following values (1,2,3,4,5).\n",
        "2. Create a new list `elists2` by first creating a copy of `elist1` and then reversing the order.\n",
        "3. Create a new list `elists3` by first creating a copy of `elist1` and then adding 7 8 9 to the end. *(Hint: Search for a different function if appending doesn't work.)*\n",
        "4. Create a new list `elists4` by first creating a copy of `elist3` and then insert 6 between 5 and 7. \n",
        "\n",
        "\n"
      ]
    },
    {
      "cell_type": "markdown",
      "metadata": {
        "id": "LabxtwoXz79N",
        "colab_type": "text"
      },
      "source": [
        "# Sets\n",
        "\n",
        "- Lists can contain duplicate values.\n",
        "- A set, in contrast, contains no duplicates.\n",
        "- Sets can be created from lists using the `set()` function.\n",
        "- Alternatively we can write a set literal using the `{` and `}` brackets.\n",
        "\n",
        "\n"
      ]
    },
    {
      "cell_type": "code",
      "metadata": {
        "id": "lK__qsOTz79N",
        "colab_type": "code",
        "colab": {},
        "outputId": "454458b1-4a39-49da-9c00-bafd31f80636"
      },
      "source": [
        "#This creates a set from a list. \n",
        "X = set([1, 2, 3, 3, 4])\n",
        "\n",
        "print(X, type(X))"
      ],
      "execution_count": 0,
      "outputs": [
        {
          "output_type": "stream",
          "text": [
            "{1, 2, 3, 4} <class 'set'>\n"
          ],
          "name": "stdout"
        }
      ]
    },
    {
      "cell_type": "code",
      "metadata": {
        "id": "usG2zFVOz79P",
        "colab_type": "code",
        "colab": {},
        "outputId": "7d8a2542-e8c0-4e82-98fa-0bdfaa40077f"
      },
      "source": [
        "X = {1, 2, 3, 4, 4}\n",
        "print(X, type(X))"
      ],
      "execution_count": 0,
      "outputs": [
        {
          "output_type": "stream",
          "text": [
            "{1, 2, 3, 4} <class 'set'>\n"
          ],
          "name": "stdout"
        }
      ]
    },
    {
      "cell_type": "markdown",
      "metadata": {
        "id": "EB_JpK5cz79T",
        "colab_type": "text"
      },
      "source": [
        "# Sets are Mutable\n",
        "\n",
        "- Sets are mutable like lists (meaning we can change them)\n",
        "- Duplicates are automatically removed"
      ]
    },
    {
      "cell_type": "code",
      "metadata": {
        "id": "Y7oVkrhxz79U",
        "colab_type": "code",
        "colab": {},
        "outputId": "9a7f1a2b-902c-422a-d674-df7bb930db3f"
      },
      "source": [
        "X = {1, 2, 3, 4}\n",
        "X.add(0)\n",
        "X.add(5)\n",
        "print(X)\n",
        "X.add(5)\n",
        "print(X)"
      ],
      "execution_count": 0,
      "outputs": [
        {
          "output_type": "stream",
          "text": [
            "{0, 1, 2, 3, 4, 5}\n",
            "{0, 1, 2, 3, 4, 5}\n"
          ],
          "name": "stdout"
        }
      ]
    },
    {
      "cell_type": "markdown",
      "metadata": {
        "id": "M74Vczeqz79Y",
        "colab_type": "text"
      },
      "source": [
        "# Sets are Unordered\n",
        "\n",
        "- Sets do not have an order.\n",
        "- Therefore we cannot index or slice them.\n",
        "\n"
      ]
    },
    {
      "cell_type": "code",
      "metadata": {
        "id": "HzhXyl-8z79Z",
        "colab_type": "code",
        "colab": {},
        "outputId": "a973a3f4-d427-4cd4-9f7e-0734574c671c"
      },
      "source": [
        "X[0]"
      ],
      "execution_count": 0,
      "outputs": [
        {
          "output_type": "error",
          "ename": "TypeError",
          "evalue": "'set' object does not support indexing",
          "traceback": [
            "\u001b[0;31m---------------------------------------------------------------------------\u001b[0m",
            "\u001b[0;31mTypeError\u001b[0m                                 Traceback (most recent call last)",
            "\u001b[0;32m<ipython-input-30-19c40ecbd036>\u001b[0m in \u001b[0;36m<module>\u001b[0;34m()\u001b[0m\n\u001b[0;32m----> 1\u001b[0;31m \u001b[0mX\u001b[0m\u001b[0;34m[\u001b[0m\u001b[0;36m0\u001b[0m\u001b[0;34m]\u001b[0m\u001b[0;34m\u001b[0m\u001b[0m\n\u001b[0m",
            "\u001b[0;31mTypeError\u001b[0m: 'set' object does not support indexing"
          ]
        }
      ]
    },
    {
      "cell_type": "markdown",
      "metadata": {
        "id": "reN3qtsyz79c",
        "colab_type": "text"
      },
      "source": [
        "## Operations on Sets\n",
        "\n",
        "- Union: $X \\cup Y$ combines two sets\n"
      ]
    },
    {
      "cell_type": "code",
      "metadata": {
        "id": "tM1jeE1gz79c",
        "colab_type": "code",
        "colab": {},
        "outputId": "b8ecd1ae-7792-41bd-8e3e-7b08d7aba64a"
      },
      "source": [
        "X = {1, 2, 3, 4}\n",
        "Y = {4, 5, 6}\n",
        "X.union(Y)"
      ],
      "execution_count": 0,
      "outputs": [
        {
          "output_type": "execute_result",
          "data": {
            "text/plain": [
              "{1, 2, 3, 4, 5, 6}"
            ]
          },
          "metadata": {
            "tags": []
          },
          "execution_count": 31
        }
      ]
    },
    {
      "cell_type": "markdown",
      "metadata": {
        "id": "mBDU-fkPz79e",
        "colab_type": "text"
      },
      "source": [
        "## Operations on Sets\n",
        "- Intersection: $X \\cap Y$:"
      ]
    },
    {
      "cell_type": "code",
      "metadata": {
        "id": "8JEoBYGEz79e",
        "colab_type": "code",
        "colab": {},
        "outputId": "86bc97b3-3d7d-43b8-c3ba-e8193ae87eaa"
      },
      "source": [
        "X = {1, 2, 3, 4}\n",
        "Y = {3, 4, 5}\n",
        "X.intersection(Y)"
      ],
      "execution_count": 0,
      "outputs": [
        {
          "output_type": "execute_result",
          "data": {
            "text/plain": [
              "{3, 4}"
            ]
          },
          "metadata": {
            "tags": []
          },
          "execution_count": 32
        }
      ]
    },
    {
      "cell_type": "markdown",
      "metadata": {
        "id": "uc_MQ5MDz79g",
        "colab_type": "text"
      },
      "source": [
        "## Operations on Sets\n",
        "- Difference $X - Y$:\n"
      ]
    },
    {
      "cell_type": "code",
      "metadata": {
        "id": "WqK-Q7F3z79j",
        "colab_type": "code",
        "colab": {},
        "outputId": "8bb8d2ba-1d9e-4850-d2fe-3c4c33eed784"
      },
      "source": [
        "X = {1, 2, 3, 4}\n",
        "Y = {3, 4, 5}\n",
        "X - Y"
      ],
      "execution_count": 0,
      "outputs": [
        {
          "output_type": "execute_result",
          "data": {
            "text/plain": [
              "{1, 2}"
            ]
          },
          "metadata": {
            "tags": []
          },
          "execution_count": 33
        }
      ]
    },
    {
      "cell_type": "markdown",
      "metadata": {
        "id": "WbM472l2z79o",
        "colab_type": "text"
      },
      "source": [
        "## Dictionaries\n",
        "- You can think of dictionaries as arrays that help you assocaite a `key` with a `value`.\n",
        "- Dictionaries can be specified with `{key: value, key: value}`\n",
        "- Dictionaries can be specified with dict([('key', value), ('key', value)])\n",
        "- Key's and values can be either string or numeric. \n",
        "- Dictionaries are mutable, (can be changed) `adict['g'] = 41`"
      ]
    },
    {
      "cell_type": "code",
      "metadata": {
        "id": "_JWxoxObz79o",
        "colab_type": "code",
        "colab": {},
        "outputId": "77f11e5f-dda1-4bf8-a32a-bef282c27714"
      },
      "source": [
        "adict1 = {'a' : 0, 'b' : 1, 'c' : 2}\n",
        "adict2 = dict([(1, 'a'), (2, 'b'), (3, 'c')])\n",
        "print(adict1,adict2, '\\n', type(adict1),type(adict2), '\\n',adict1['b'],adict2[2])"
      ],
      "execution_count": 0,
      "outputs": [
        {
          "output_type": "stream",
          "text": [
            "{'c': 2, 'b': 1, 'a': 0} {1: 'a', 2: 'b', 3: 'c'} \n",
            " <class 'dict'> <class 'dict'> \n",
            " 1 b\n"
          ],
          "name": "stdout"
        }
      ]
    },
    {
      "cell_type": "code",
      "metadata": {
        "id": "miDEa1COz79r",
        "colab_type": "code",
        "colab": {}
      },
      "source": [
        "adict2['g']=1234"
      ],
      "execution_count": 0,
      "outputs": []
    },
    {
      "cell_type": "code",
      "metadata": {
        "id": "Uqj50tugz79u",
        "colab_type": "code",
        "colab": {},
        "outputId": "caf31026-fbfc-42d0-c059-f6c4abb1c0ce"
      },
      "source": [
        "adict2['g']"
      ],
      "execution_count": 0,
      "outputs": [
        {
          "output_type": "execute_result",
          "data": {
            "text/plain": [
              "1234"
            ]
          },
          "metadata": {
            "tags": []
          },
          "execution_count": 37
        }
      ]
    },
    {
      "cell_type": "markdown",
      "metadata": {
        "id": "H5xC_Nd7z79w",
        "colab_type": "text"
      },
      "source": [
        "## Exercise-Sets/Dictionary\n",
        "\n",
        "1. Create a set `eset1` with the following values (1,2,3,4,5).\n",
        "2. Create a new set `eset2` the following values (1,3,6).\n",
        "3. Create a new set `eset3` that is `eset1-eset2`.\n",
        "4. Create a new set `eset4` that is the union of `eset1+eset2`.\n",
        "5. Create a new set `eset5` that includes values that are in both `eset1` and `eset2` (intersection).\n",
        "6. Create a new dict `edict1` with the following keys and associated values: st1=45; st2=32; st3=40; st4=31.\n",
        "7. Create a new variable edict2 from edict 1 where the key is st3.\n",
        " \n",
        "\n",
        "\n"
      ]
    },
    {
      "cell_type": "markdown",
      "metadata": {
        "id": "Ai7YvaMRz79w",
        "colab_type": "text"
      },
      "source": [
        "## CREDITS\n",
        "\n",
        "\n",
        "Copyright [AnalyticsDojo](http://rpi.analyticsdojo.com) 2016\n",
        "This work is licensed under the [Creative Commons Attribution 4.0 International](https://creativecommons.org/licenses/by/4.0/) license agreement.\n",
        "\n",
        "This work has been adopted from the [origional version](https://github.com/phelps-sg/python-bigdata):\n",
        "Copyright [Steve Phelps](http://sphelps.net) 2014\n",
        "\n"
      ]
    }
  ]
}