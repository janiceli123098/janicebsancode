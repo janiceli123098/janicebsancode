{
  "nbformat": 4,
  "nbformat_minor": 0,
  "metadata": {
    "colab": {
      "name": "Copy of class student.ipynb",
      "provenance": [],
      "collapsed_sections": []
    },
    "kernelspec": {
      "name": "python3",
      "display_name": "Python 3"
    }
  },
  "cells": [
    {
      "cell_type": "markdown",
      "metadata": {
        "id": "IL8hXymA3y99",
        "colab_type": "text"
      },
      "source": [
        "## In class worksheet. "
      ]
    },
    {
      "cell_type": "code",
      "metadata": {
        "id": "DWXSwtVe4HER",
        "colab_type": "code",
        "colab": {}
      },
      "source": [
        "email=\"lij44@rpi.edu\""
      ],
      "execution_count": 0,
      "outputs": []
    },
    {
      "cell_type": "markdown",
      "metadata": {
        "id": "313-QBq49TUK",
        "colab_type": "text"
      },
      "source": [
        "## IRIS\n",
        "Review our iris analysis. "
      ]
    },
    {
      "cell_type": "code",
      "metadata": {
        "id": "_hWtFbE6qEIu",
        "colab_type": "code",
        "colab": {}
      },
      "source": [
        "import pandas as pd\n",
        "import seaborn as sns\n",
        "from sklearn import datasets\n",
        "from sklearn.tree import DecisionTreeClassifier\n",
        "from sklearn.model_selection import train_test_split\n",
        "from sklearn import metrics\n",
        "from sklearn.neighbors import KNeighborsClassifier\n",
        "\n",
        "iris = datasets.load_iris()\n",
        "\n",
        "X = iris.data[:, :]  \n",
        "y = iris.target\n",
        "\n",
        "X_train, X_test, y_train, y_test = train_test_split(X, y, test_size=0.3, random_state=1)"
      ],
      "execution_count": 0,
      "outputs": []
    },
    {
      "cell_type": "code",
      "metadata": {
        "id": "kgz81Vu1NXRL",
        "colab_type": "code",
        "colab": {
          "base_uri": "https://localhost:8080/",
          "height": 136
        },
        "outputId": "f19af033-1a22-4b2e-e785-a6333c897d80"
      },
      "source": [
        ""
      ],
      "execution_count": 17,
      "outputs": [
        {
          "output_type": "execute_result",
          "data": {
            "text/plain": [
              "array([0, 0, 0, 0, 0, 0, 0, 0, 0, 0, 0, 0, 0, 0, 0, 0, 0, 0, 0, 0, 0, 0,\n",
              "       0, 0, 0, 0, 0, 0, 0, 0, 0, 0, 0, 0, 0, 0, 0, 0, 0, 0, 0, 0, 0, 0,\n",
              "       0, 0, 0, 0, 0, 0, 1, 1, 1, 1, 1, 1, 1, 1, 1, 1, 1, 1, 1, 1, 1, 1,\n",
              "       1, 1, 1, 1, 1, 1, 1, 1, 1, 1, 1, 1, 1, 1, 1, 1, 1, 1, 1, 1, 1, 1,\n",
              "       1, 1, 1, 1, 1, 1, 1, 1, 1, 1, 1, 1, 2, 2, 2, 2, 2, 2, 2, 2, 2, 2,\n",
              "       2, 2, 2, 2, 2, 2, 2, 2, 2, 2, 2, 2, 2, 2, 2, 2, 2, 2, 2, 2, 2, 2,\n",
              "       2, 2, 2, 2, 2, 2, 2, 2, 2, 2, 2, 2, 2, 2, 2, 2, 2, 2])"
            ]
          },
          "metadata": {
            "tags": []
          },
          "execution_count": 17
        }
      ]
    },
    {
      "cell_type": "code",
      "metadata": {
        "id": "esj0QS6kvr10",
        "colab_type": "code",
        "outputId": "64a738bc-3548-4996-88a7-095c831d769b",
        "colab": {
          "base_uri": "https://localhost:8080/",
          "height": 34
        }
      },
      "source": [
        "# fit a KNN model\n",
        "model = KNeighborsClassifier(n_neighbors=3)\n",
        "model.fit(X_train, y_train)\n",
        "\n",
        "# predict probabilities\n",
        "y_pred = model.predict(X_test)\n",
        "  \n",
        "#print(y_pred)\n",
        "\n",
        "print(\"Accuracy:\",round(metrics.accuracy_score(y_test, y_pred), 2))\n",
        "#metrics.accuracy_score(y_test, y_pred)"
      ],
      "execution_count": 3,
      "outputs": [
        {
          "output_type": "stream",
          "text": [
            "Accuracy: 0.98\n"
          ],
          "name": "stdout"
        }
      ]
    },
    {
      "cell_type": "markdown",
      "metadata": {
        "id": "7RZh5gzi3_NS",
        "colab_type": "text"
      },
      "source": [
        "Transform the 4 dimensions of the IRIS data to 2 principal components and then 1 principal component. Repeat the accuracy assessment and set `test_1_pc` and `test_2_pc`.  "
      ]
    },
    {
      "cell_type": "code",
      "metadata": {
        "id": "9_sfcqI6wF9J",
        "colab_type": "code",
        "outputId": "171b44ad-661f-4284-c698-83e14f243efd",
        "colab": {
          "base_uri": "https://localhost:8080/",
          "height": 51
        }
      },
      "source": [
        "from sklearn.decomposition import PCA\n",
        "import numpy as np\n",
        "\n",
        "# 2 component2\n",
        "pca = PCA(n_components=2)\n",
        "X_pca2 = pca.fit_transform(X)\n",
        "\n",
        "X_train_pca2, X_test_pca2, y_train_pca2, y_test_pca2 = train_test_split(X_pca2, y, test_size=0.3, random_state=1)\n",
        "\n",
        "# fit a KNN model\n",
        "model2 = KNeighborsClassifier(n_neighbors=3)\n",
        "model2.fit(X_train_pca2, y_train_pca2)\n",
        "\n",
        "# predict probabilities\n",
        "y_pred_pca2 = model2.predict(X_test_pca2)\n",
        "  \n",
        "#print(y_pred)\n",
        "\n",
        "test_2_pc = round(metrics.accuracy_score(y_test_pca2, y_pred_pca2), 2)\n",
        "\n",
        "print(\"Accuracy:\",round(metrics.accuracy_score(y_test_pca2, y_pred_pca2), 2))\n",
        "\n",
        "# 1 component\n",
        "pca = PCA(n_components=1)\n",
        "X_pca1 = pca.fit_transform(X)\n",
        "\n",
        "X_train_pca1, X_test_pca1, y_train_pca1, y_test_pca1 = train_test_split(X_pca1, y, test_size=0.3, random_state=1)\n",
        "\n",
        "# fit a KNN model\n",
        "model1 = KNeighborsClassifier(n_neighbors=3)\n",
        "model1.fit(X_train_pca1, y_train_pca1)\n",
        "\n",
        "# predict probabilities\n",
        "y_pred_pca1 = model1.predict(X_test_pca1)\n",
        "  \n",
        "#print(y_pred)\n",
        "\n",
        "test_1_pc = round(metrics.accuracy_score(y_test_pca1, y_pred_pca1), 2)\n",
        "\n",
        "print(\"Accuracy:\",round(metrics.accuracy_score(y_test_pca1, y_pred_pca1), 2))\n"
      ],
      "execution_count": 9,
      "outputs": [
        {
          "output_type": "stream",
          "text": [
            "Accuracy: 1.0\n",
            "Accuracy: 0.93\n"
          ],
          "name": "stdout"
        }
      ]
    },
    {
      "cell_type": "markdown",
      "metadata": {
        "id": "Ta78cM8c9biF",
        "colab_type": "text"
      },
      "source": [
        "K-means: Perform cluster analysis with 4 clusters. Assess how well the clusters match the classes. \n"
      ]
    },
    {
      "cell_type": "code",
      "metadata": {
        "id": "jOtZTYZF9gVr",
        "colab_type": "code",
        "colab": {
          "base_uri": "https://localhost:8080/",
          "height": 266
        },
        "outputId": "2aad3b6b-868c-4ccb-b322-574ca5fc71ec"
      },
      "source": [
        "from sklearn.cluster import KMeans\n",
        "%matplotlib inline\n",
        "import matplotlib.pyplot as plt\n",
        "\n",
        "kmeans = KMeans(n_clusters=4)\n",
        "kmeans.fit(X)\n",
        "y_kmeans = kmeans.predict(X)\n",
        "\n",
        "plt.scatter(X[:, 0], X[:, 1], c=y_kmeans, s=50, cmap='viridis')\n",
        "\n",
        "centers = kmeans.cluster_centers_\n",
        "plt.scatter(centers[:, 0], centers[:, 1], c='black', s=200, alpha=0.5);\n",
        "\n",
        "from sklearn import metrics\n",
        "\n",
        "#accuracy_cluster = metrics.silhouette_score(y, y_kmeans)\n",
        "#print(accuracy_cluster)\n"
      ],
      "execution_count": 36,
      "outputs": [
        {
          "output_type": "display_data",
          "data": {
            "image/png": "[encoded data removed]",
            "text/plain": [
              "<Figure size 432x288 with 1 Axes>"
            ]
          },
          "metadata": {
            "tags": []
          }
        }
      ]
    },
    {
      "cell_type": "markdown",
      "metadata": {
        "id": "EdWwa_9VxXZr",
        "colab_type": "text"
      },
      "source": [
        "### Extra Exercises. \n",
        "\n",
        "\n",
        "\n",
        "#### 1. Lets consider the 'zoo' dataset. Its available to download from here: https://www.dropbox.com/s/sq50fq4vkdg52le/zoo_data.csv?dl=0\n",
        "\n",
        "#### 2. Print the first 5 rows of zoo data \n",
        "\n",
        "#### 3. Lets perform correlation analysis (zoo_data.corr()) and visualize through a heatmap\n",
        "\n",
        "#### 4. Obtain an overall description of the dataset along with the info\n",
        "\n",
        "#### 5. Describe only a given attribute of this dataset. For example, describe the attribute hair.\n",
        "\n",
        "#### 6. Lets plot a violin plot to analyze the distribution of the data for variables -- 'hair', 'legs' and attributes with indices -- 11 and 12.\n",
        "\n",
        "#### 7. Perform k-Means algorithm on the 'zoo_data' using 'clusters=7' and measure the silhouette_score (sklearn.metrics.silhouette_score). The best value is 1 and the worst value is -1. Values near 0 indicate overlapping clusters. Negative values generally indicate that a sample has been assigned to the wrong cluster, as a different cluster is more similar.\n",
        "\n",
        "#### 8. Lets consider top-3 principal components from this dataset and check the head data. \n",
        "\n",
        "#### 9. Now repeat the K-Means algorithm on the 'pca_data' using 'clusters=7' and measure the silhouette score. Can you notice the score change and is it better or worse? \n",
        "\n",
        "\n",
        "\n",
        "\n"
      ]
    },
    {
      "cell_type": "code",
      "metadata": {
        "id": "hKsmN0816GyB",
        "colab_type": "code",
        "outputId": "9f11bc89-15c7-4e95-8903-7122f83d5a75",
        "colab": {
          "base_uri": "https://localhost:8080/",
          "height": 377
        }
      },
      "source": [
        "!wget https://www.dropbox.com/s/sq50fq4vkdg52le/zoo_data.csv"
      ],
      "execution_count": 18,
      "outputs": [
        {
          "output_type": "stream",
          "text": [
            "--2019-10-28 21:17:05--  https://www.dropbox.com/s/sq50fq4vkdg52le/zoo_data.csv\n",
            "Resolving www.dropbox.com (www.dropbox.com)... 162.125.82.1, 2620:100:6032:1::a27d:5201\n",
            "Connecting to www.dropbox.com (www.dropbox.com)|162.125.82.1|:443... connected.\n",
            "HTTP request sent, awaiting response... 301 Moved Permanently\n",
            "Location: /s/raw/sq50fq4vkdg52le/zoo_data.csv [following]\n",
            "--2019-10-28 21:17:06--  https://www.dropbox.com/s/raw/sq50fq4vkdg52le/zoo_data.csv\n",
            "Reusing existing connection to www.dropbox.com:443.\n",
            "HTTP request sent, awaiting response... 302 Found\n",
            "Location: https://ucb667f499b4ca4ae8a345f8440c.dl.dropboxusercontent.com/cd/0/inline/ArUPQ7_17HHRxFQ5sbXmg4iSY2Hia376D0M7Zx0BQF4PCo13z8zfGn3jAiOnb1k6GVJo5zxcT5MjRF2esLWdyZqQFzUzjADn95J7CRaDcMOlXY6MfhtfIPrqo-zvKesV9Bc/file# [following]\n",
            "--2019-10-28 21:17:06--  https://ucb667f499b4ca4ae8a345f8440c.dl.dropboxusercontent.com/cd/0/inline/ArUPQ7_17HHRxFQ5sbXmg4iSY2Hia376D0M7Zx0BQF4PCo13z8zfGn3jAiOnb1k6GVJo5zxcT5MjRF2esLWdyZqQFzUzjADn95J7CRaDcMOlXY6MfhtfIPrqo-zvKesV9Bc/file\n",
            "Resolving ucb667f499b4ca4ae8a345f8440c.dl.dropboxusercontent.com (ucb667f499b4ca4ae8a345f8440c.dl.dropboxusercontent.com)... 162.125.82.6, 2620:100:6032:6::a27d:5206\n",
            "Connecting to ucb667f499b4ca4ae8a345f8440c.dl.dropboxusercontent.com (ucb667f499b4ca4ae8a345f8440c.dl.dropboxusercontent.com)|162.125.82.6|:443... connected.\n",
            "HTTP request sent, awaiting response... 200 OK\n",
            "Length: 4053 (4.0K) [text/plain]\n",
            "Saving to: ‘zoo_data.csv’\n",
            "\n",
            "zoo_data.csv        100%[===================>]   3.96K  --.-KB/s    in 0s      \n",
            "\n",
            "2019-10-28 21:17:07 (494 MB/s) - ‘zoo_data.csv’ saved [4053/4053]\n",
            "\n"
          ],
          "name": "stdout"
        }
      ]
    },
    {
      "cell_type": "code",
      "metadata": {
        "id": "3beT7T3k17xQ",
        "colab_type": "code",
        "outputId": "287abf30-32be-4a6e-abe2-32f9f307f091",
        "colab": {
          "base_uri": "https://localhost:8080/",
          "height": 170
        }
      },
      "source": [
        "import pandas as pd \n",
        "  \n",
        "zoo_data = pd.read_csv(\"zoo_data.csv\", encoding = 'utf-8', index_col = [\"animal_name\"]) \n",
        "   \n",
        "print(zoo_data.head())"
      ],
      "execution_count": 19,
      "outputs": [
        {
          "output_type": "stream",
          "text": [
            "             hair  feathers  eggs  milk  ...  legs  tail  domestic  catsize\n",
            "animal_name                              ...                               \n",
            "aardvark        1         0     0     1  ...     4     0         0        1\n",
            "antelope        1         0     0     1  ...     4     1         0        1\n",
            "bass            0         0     1     0  ...     0     1         0        0\n",
            "bear            1         0     0     1  ...     4     0         0        1\n",
            "boar            1         0     0     1  ...     4     1         0        1\n",
            "\n",
            "[5 rows x 16 columns]\n"
          ],
          "name": "stdout"
        }
      ]
    },
    {
      "cell_type": "code",
      "metadata": {
        "id": "B7s_gjvLOuOv",
        "colab_type": "code",
        "colab": {
          "base_uri": "https://localhost:8080/",
          "height": 634
        },
        "outputId": "d8dda477-7c96-4cd5-c2a8-ad843adb046d"
      },
      "source": [
        "# Lets perform correlation analysis (zoo_data.corr()) and visualize through a heatmap\n",
        "\n",
        "import numpy as np\n",
        "import seaborn as sns\n",
        "\n",
        "zoo_data_corr = zoo_data.corr()\n",
        "print(zoo_data_corr)\n",
        "\n",
        "ax = sns.heatmap(zoo_data)"
      ],
      "execution_count": 24,
      "outputs": [
        {
          "output_type": "stream",
          "text": [
            "              hair  feathers      eggs  ...      tail  domestic   catsize\n",
            "hair      1.000000 -0.427851 -0.817382  ...  0.048973  0.207208  0.455020\n",
            "feathers -0.427851  1.000000  0.419248  ...  0.292569  0.031586 -0.135934\n",
            "eggs     -0.817382  0.419248  1.000000  ... -0.221090 -0.155610 -0.514650\n",
            "milk      0.878503 -0.410761 -0.938848  ...  0.210026  0.163928  0.574906\n",
            "airborne -0.198431  0.656553  0.376646  ...  0.009482  0.063274 -0.349768\n",
            "aquatic  -0.473554 -0.058552  0.376244  ... -0.034642 -0.224308 -0.111866\n",
            "predator -0.154769 -0.104430  0.011605  ...  0.018947 -0.309794  0.144790\n",
            "toothed   0.492531 -0.613631 -0.642150  ...  0.310368  0.069430  0.344010\n",
            "backbone  0.191681  0.231403 -0.340420  ...  0.731762  0.101733  0.356976\n",
            "breathes  0.441149  0.254588 -0.382777  ...  0.088952  0.124068  0.204125\n",
            "venomous -0.104245 -0.145739  0.098689  ... -0.162724 -0.003252 -0.183748\n",
            "fins     -0.280313 -0.223541  0.164796  ...  0.204349 -0.093887  0.031705\n",
            "legs      0.394009 -0.206686 -0.224918  ... -0.348295  0.073931  0.068791\n",
            "tail      0.048973  0.292569 -0.221090  ...  1.000000  0.023434  0.243277\n",
            "domestic  0.207208  0.031586 -0.155610  ...  0.023434  1.000000  0.020073\n",
            "catsize   0.455020 -0.135934 -0.514650  ...  0.243277  0.020073  1.000000\n",
            "\n",
            "[16 rows x 16 columns]\n"
          ],
          "name": "stdout"
        },
        {
          "output_type": "display_data",
          "data": {
            "image/png": "[encoded data removed]",
            "text/plain": [
              "<Figure size 432x288 with 2 Axes>"
            ]
          },
          "metadata": {
            "tags": []
          }
        }
      ]
    },
    {
      "cell_type": "code",
      "metadata": {
        "id": "TDlBvVwxQEC1",
        "colab_type": "code",
        "colab": {
          "base_uri": "https://localhost:8080/",
          "height": 317
        },
        "outputId": "1a695884-2623-4e25-e804-9a6a37c85c8d"
      },
      "source": [
        "# Obtain an overall description of the dataset along with the info\n",
        "\n",
        "desc_all = zoo_data.describe()\n",
        "desc_all"
      ],
      "execution_count": 31,
      "outputs": [
        {
          "output_type": "execute_result",
          "data": {
            "text/html": [
              "<div>\n",
              "<style scoped>\n",
              "    .dataframe tbody tr th:only-of-type {\n",
              "        vertical-align: middle;\n",
              "    }\n",
              "\n",
              "    .dataframe tbody tr th {\n",
              "        vertical-align: top;\n",
              "    }\n",
              "\n",
              "    .dataframe thead th {\n",
              "        text-align: right;\n",
              "    }\n",
              "</style>\n",
              "<table border=\"1\" class=\"dataframe\">\n",
              "  <thead>\n",
              "    <tr style=\"text-align: right;\">\n",
              "      <th></th>\n",
              "      <th>hair</th>\n",
              "      <th>feathers</th>\n",
              "      <th>eggs</th>\n",
              "      <th>milk</th>\n",
              "      <th>airborne</th>\n",
              "      <th>aquatic</th>\n",
              "      <th>predator</th>\n",
              "      <th>toothed</th>\n",
              "      <th>backbone</th>\n",
              "      <th>breathes</th>\n",
              "      <th>venomous</th>\n",
              "      <th>fins</th>\n",
              "      <th>legs</th>\n",
              "      <th>tail</th>\n",
              "      <th>domestic</th>\n",
              "      <th>catsize</th>\n",
              "    </tr>\n",
              "  </thead>\n",
              "  <tbody>\n",
              "    <tr>\n",
              "      <th>count</th>\n",
              "      <td>101.000000</td>\n",
              "      <td>101.000000</td>\n",
              "      <td>101.000000</td>\n",
              "      <td>101.000000</td>\n",
              "      <td>101.000000</td>\n",
              "      <td>101.000000</td>\n",
              "      <td>101.000000</td>\n",
              "      <td>101.000000</td>\n",
              "      <td>101.000000</td>\n",
              "      <td>101.000000</td>\n",
              "      <td>101.000000</td>\n",
              "      <td>101.000000</td>\n",
              "      <td>101.000000</td>\n",
              "      <td>101.000000</td>\n",
              "      <td>101.000000</td>\n",
              "      <td>101.000000</td>\n",
              "    </tr>\n",
              "    <tr>\n",
              "      <th>mean</th>\n",
              "      <td>0.425743</td>\n",
              "      <td>0.198020</td>\n",
              "      <td>0.584158</td>\n",
              "      <td>0.405941</td>\n",
              "      <td>0.237624</td>\n",
              "      <td>0.356436</td>\n",
              "      <td>0.554455</td>\n",
              "      <td>0.603960</td>\n",
              "      <td>0.821782</td>\n",
              "      <td>0.792079</td>\n",
              "      <td>0.079208</td>\n",
              "      <td>0.168317</td>\n",
              "      <td>2.841584</td>\n",
              "      <td>0.742574</td>\n",
              "      <td>0.128713</td>\n",
              "      <td>0.435644</td>\n",
              "    </tr>\n",
              "    <tr>\n",
              "      <th>std</th>\n",
              "      <td>0.496921</td>\n",
              "      <td>0.400495</td>\n",
              "      <td>0.495325</td>\n",
              "      <td>0.493522</td>\n",
              "      <td>0.427750</td>\n",
              "      <td>0.481335</td>\n",
              "      <td>0.499505</td>\n",
              "      <td>0.491512</td>\n",
              "      <td>0.384605</td>\n",
              "      <td>0.407844</td>\n",
              "      <td>0.271410</td>\n",
              "      <td>0.376013</td>\n",
              "      <td>2.033385</td>\n",
              "      <td>0.439397</td>\n",
              "      <td>0.336552</td>\n",
              "      <td>0.498314</td>\n",
              "    </tr>\n",
              "    <tr>\n",
              "      <th>min</th>\n",
              "      <td>0.000000</td>\n",
              "      <td>0.000000</td>\n",
              "      <td>0.000000</td>\n",
              "      <td>0.000000</td>\n",
              "      <td>0.000000</td>\n",
              "      <td>0.000000</td>\n",
              "      <td>0.000000</td>\n",
              "      <td>0.000000</td>\n",
              "      <td>0.000000</td>\n",
              "      <td>0.000000</td>\n",
              "      <td>0.000000</td>\n",
              "      <td>0.000000</td>\n",
              "      <td>0.000000</td>\n",
              "      <td>0.000000</td>\n",
              "      <td>0.000000</td>\n",
              "      <td>0.000000</td>\n",
              "    </tr>\n",
              "    <tr>\n",
              "      <th>25%</th>\n",
              "      <td>0.000000</td>\n",
              "      <td>0.000000</td>\n",
              "      <td>0.000000</td>\n",
              "      <td>0.000000</td>\n",
              "      <td>0.000000</td>\n",
              "      <td>0.000000</td>\n",
              "      <td>0.000000</td>\n",
              "      <td>0.000000</td>\n",
              "      <td>1.000000</td>\n",
              "      <td>1.000000</td>\n",
              "      <td>0.000000</td>\n",
              "      <td>0.000000</td>\n",
              "      <td>2.000000</td>\n",
              "      <td>0.000000</td>\n",
              "      <td>0.000000</td>\n",
              "      <td>0.000000</td>\n",
              "    </tr>\n",
              "    <tr>\n",
              "      <th>50%</th>\n",
              "      <td>0.000000</td>\n",
              "      <td>0.000000</td>\n",
              "      <td>1.000000</td>\n",
              "      <td>0.000000</td>\n",
              "      <td>0.000000</td>\n",
              "      <td>0.000000</td>\n",
              "      <td>1.000000</td>\n",
              "      <td>1.000000</td>\n",
              "      <td>1.000000</td>\n",
              "      <td>1.000000</td>\n",
              "      <td>0.000000</td>\n",
              "      <td>0.000000</td>\n",
              "      <td>4.000000</td>\n",
              "      <td>1.000000</td>\n",
              "      <td>0.000000</td>\n",
              "      <td>0.000000</td>\n",
              "    </tr>\n",
              "    <tr>\n",
              "      <th>75%</th>\n",
              "      <td>1.000000</td>\n",
              "      <td>0.000000</td>\n",
              "      <td>1.000000</td>\n",
              "      <td>1.000000</td>\n",
              "      <td>0.000000</td>\n",
              "      <td>1.000000</td>\n",
              "      <td>1.000000</td>\n",
              "      <td>1.000000</td>\n",
              "      <td>1.000000</td>\n",
              "      <td>1.000000</td>\n",
              "      <td>0.000000</td>\n",
              "      <td>0.000000</td>\n",
              "      <td>4.000000</td>\n",
              "      <td>1.000000</td>\n",
              "      <td>0.000000</td>\n",
              "      <td>1.000000</td>\n",
              "    </tr>\n",
              "    <tr>\n",
              "      <th>max</th>\n",
              "      <td>1.000000</td>\n",
              "      <td>1.000000</td>\n",
              "      <td>1.000000</td>\n",
              "      <td>1.000000</td>\n",
              "      <td>1.000000</td>\n",
              "      <td>1.000000</td>\n",
              "      <td>1.000000</td>\n",
              "      <td>1.000000</td>\n",
              "      <td>1.000000</td>\n",
              "      <td>1.000000</td>\n",
              "      <td>1.000000</td>\n",
              "      <td>1.000000</td>\n",
              "      <td>8.000000</td>\n",
              "      <td>1.000000</td>\n",
              "      <td>1.000000</td>\n",
              "      <td>1.000000</td>\n",
              "    </tr>\n",
              "  </tbody>\n",
              "</table>\n",
              "</div>"
            ],
            "text/plain": [
              "             hair    feathers        eggs  ...        tail    domestic     catsize\n",
              "count  101.000000  101.000000  101.000000  ...  101.000000  101.000000  101.000000\n",
              "mean     0.425743    0.198020    0.584158  ...    0.742574    0.128713    0.435644\n",
              "std      0.496921    0.400495    0.495325  ...    0.439397    0.336552    0.498314\n",
              "min      0.000000    0.000000    0.000000  ...    0.000000    0.000000    0.000000\n",
              "25%      0.000000    0.000000    0.000000  ...    0.000000    0.000000    0.000000\n",
              "50%      0.000000    0.000000    1.000000  ...    1.000000    0.000000    0.000000\n",
              "75%      1.000000    0.000000    1.000000  ...    1.000000    0.000000    1.000000\n",
              "max      1.000000    1.000000    1.000000  ...    1.000000    1.000000    1.000000\n",
              "\n",
              "[8 rows x 16 columns]"
            ]
          },
          "metadata": {
            "tags": []
          },
          "execution_count": 31
        }
      ]
    },
    {
      "cell_type": "code",
      "metadata": {
        "id": "8jPSjSwaQVDc",
        "colab_type": "code",
        "colab": {
          "base_uri": "https://localhost:8080/",
          "height": 170
        },
        "outputId": "bca5147c-77fa-4824-9977-cae4fac003ef"
      },
      "source": [
        "# Describe only a given attribute of this dataset. For example, describe the attribute hair.\n",
        "\n",
        "desc_predator = zoo_data.describe()['predator']\n",
        "desc_predator"
      ],
      "execution_count": 32,
      "outputs": [
        {
          "output_type": "execute_result",
          "data": {
            "text/plain": [
              "count    101.000000\n",
              "mean       0.554455\n",
              "std        0.499505\n",
              "min        0.000000\n",
              "25%        0.000000\n",
              "50%        1.000000\n",
              "75%        1.000000\n",
              "max        1.000000\n",
              "Name: predator, dtype: float64"
            ]
          },
          "metadata": {
            "tags": []
          },
          "execution_count": 32
        }
      ]
    }
  ]
}